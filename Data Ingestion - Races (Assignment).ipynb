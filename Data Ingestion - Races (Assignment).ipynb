{
 "cells": [
  {
   "cell_type": "code",
   "execution_count": 0,
   "metadata": {
    "application/vnd.databricks.v1+cell": {
     "cellMetadata": {
      "byteLimit": 2048000,
      "rowLimit": 10000
     },
     "inputWidgets": {},
     "nuid": "8155354b-835e-400f-9ecd-69a90c6d3a93",
     "showTitle": false,
     "title": ""
    }
   },
   "outputs": [],
   "source": [
    "from pyspark.sql.types import StructType, StructField, IntegerType, StringType, DoubleType, TimestampType, DateType\n",
    "from pyspark.sql.functions import col, concat\n",
    "from pyspark.sql.functions import to_timestamp, lit, current_timestamp"
   ]
  },
  {
   "cell_type": "code",
   "execution_count": 0,
   "metadata": {
    "application/vnd.databricks.v1+cell": {
     "cellMetadata": {
      "byteLimit": 2048000,
      "rowLimit": 10000
     },
     "inputWidgets": {},
     "nuid": "0642e2c6-c3a0-4e37-bc96-a99adf2b9650",
     "showTitle": false,
     "title": ""
    }
   },
   "outputs": [],
   "source": [
    "# CircuitId is a primary key\n",
    "races_schema = StructType(fields=[StructField(\"raceId\", IntegerType(), False),\n",
    "                                     StructField(\"year\", IntegerType(), True),\n",
    "                                     StructField(\"round\", IntegerType(), True),\n",
    "                                     StructField(\"circuitId\", IntegerType(), True),\n",
    "                                     StructField(\"name\", StringType(), True),\n",
    "                                     StructField(\"date\", DateType(), True),\n",
    "                                     StructField(\"time\", StringType(), True),\n",
    "                                     StructField(\"url\", StringType(), True)\n",
    "])"
   ]
  },
  {
   "cell_type": "code",
   "execution_count": 0,
   "metadata": {
    "application/vnd.databricks.v1+cell": {
     "cellMetadata": {
      "byteLimit": 2048000,
      "rowLimit": 10000
     },
     "inputWidgets": {},
     "nuid": "38b68cda-59b2-438c-8531-abd068942ea9",
     "showTitle": false,
     "title": ""
    }
   },
   "outputs": [
    {
     "output_type": "display_data",
     "data": {
      "text/html": [
       "<style scoped>\n",
       "  .table-result-container {\n",
       "    max-height: 300px;\n",
       "    overflow: auto;\n",
       "  }\n",
       "  table, th, td {\n",
       "    border: 1px solid black;\n",
       "    border-collapse: collapse;\n",
       "  }\n",
       "  th, td {\n",
       "    padding: 5px;\n",
       "  }\n",
       "  th {\n",
       "    text-align: left;\n",
       "  }\n",
       "</style><div class='table-result-container'><table class='table-result'><thead style='background-color: white'><tr><th>raceId</th><th>year</th><th>round</th><th>circuitId</th><th>name</th><th>date</th><th>time</th><th>url</th></tr></thead><tbody><tr><td>1</td><td>2009</td><td>1</td><td>1</td><td>Australian Grand Prix</td><td>2009-03-29</td><td>06:00:00</td><td>http://en.wikipedia.org/wiki/2009_Australian_Grand_Prix</td></tr><tr><td>2</td><td>2009</td><td>2</td><td>2</td><td>Malaysian Grand Prix</td><td>2009-04-05</td><td>09:00:00</td><td>http://en.wikipedia.org/wiki/2009_Malaysian_Grand_Prix</td></tr><tr><td>3</td><td>2009</td><td>3</td><td>17</td><td>Chinese Grand Prix</td><td>2009-04-19</td><td>07:00:00</td><td>http://en.wikipedia.org/wiki/2009_Chinese_Grand_Prix</td></tr><tr><td>4</td><td>2009</td><td>4</td><td>3</td><td>Bahrain Grand Prix</td><td>2009-04-26</td><td>12:00:00</td><td>http://en.wikipedia.org/wiki/2009_Bahrain_Grand_Prix</td></tr><tr><td>5</td><td>2009</td><td>5</td><td>4</td><td>Spanish Grand Prix</td><td>2009-05-10</td><td>12:00:00</td><td>http://en.wikipedia.org/wiki/2009_Spanish_Grand_Prix</td></tr></tbody></table></div>"
      ]
     },
     "metadata": {
      "application/vnd.databricks.v1+output": {
       "addedWidgets": {},
       "aggData": [],
       "aggError": "",
       "aggOverflow": false,
       "aggSchema": [],
       "aggSeriesLimitReached": false,
       "aggType": "",
       "arguments": {},
       "columnCustomDisplayInfos": {},
       "data": [
        [
         1,
         2009,
         1,
         1,
         "Australian Grand Prix",
         "2009-03-29",
         "06:00:00",
         "http://en.wikipedia.org/wiki/2009_Australian_Grand_Prix"
        ],
        [
         2,
         2009,
         2,
         2,
         "Malaysian Grand Prix",
         "2009-04-05",
         "09:00:00",
         "http://en.wikipedia.org/wiki/2009_Malaysian_Grand_Prix"
        ],
        [
         3,
         2009,
         3,
         17,
         "Chinese Grand Prix",
         "2009-04-19",
         "07:00:00",
         "http://en.wikipedia.org/wiki/2009_Chinese_Grand_Prix"
        ],
        [
         4,
         2009,
         4,
         3,
         "Bahrain Grand Prix",
         "2009-04-26",
         "12:00:00",
         "http://en.wikipedia.org/wiki/2009_Bahrain_Grand_Prix"
        ],
        [
         5,
         2009,
         5,
         4,
         "Spanish Grand Prix",
         "2009-05-10",
         "12:00:00",
         "http://en.wikipedia.org/wiki/2009_Spanish_Grand_Prix"
        ]
       ],
       "datasetInfos": [],
       "dbfsResultPath": null,
       "isJsonSchema": true,
       "metadata": {},
       "overflow": false,
       "plotOptions": {
        "customPlotOptions": {},
        "displayType": "table",
        "pivotAggregation": null,
        "pivotColumns": null,
        "xColumns": null,
        "yColumns": null
       },
       "removedWidgets": [],
       "schema": [
        {
         "metadata": "{}",
         "name": "raceId",
         "type": "\"long\""
        },
        {
         "metadata": "{}",
         "name": "year",
         "type": "\"long\""
        },
        {
         "metadata": "{}",
         "name": "round",
         "type": "\"long\""
        },
        {
         "metadata": "{}",
         "name": "circuitId",
         "type": "\"long\""
        },
        {
         "metadata": "{}",
         "name": "name",
         "type": "\"string\""
        },
        {
         "metadata": "{}",
         "name": "date",
         "type": "\"date\""
        },
        {
         "metadata": "{}",
         "name": "time",
         "type": "\"string\""
        },
        {
         "metadata": "{}",
         "name": "url",
         "type": "\"string\""
        }
       ],
       "type": "table"
      }
     },
     "output_type": "display_data"
    }
   ],
   "source": [
    "races_df = spark.read \\\n",
    ".option(\"header\", True) \\\n",
    ".schema(races_schema) \\\n",
    ".csv(\"dbfs:/mnt/formula1dl612/raw/races.csv\")\n",
    "display(races_df.head(5))"
   ]
  },
  {
   "cell_type": "code",
   "execution_count": 0,
   "metadata": {
    "application/vnd.databricks.v1+cell": {
     "cellMetadata": {
      "byteLimit": 2048000,
      "rowLimit": 10000
     },
     "inputWidgets": {},
     "nuid": "4ce13ad5-25da-46c8-9c1e-df5ccf9ef754",
     "showTitle": false,
     "title": ""
    }
   },
   "outputs": [
    {
     "output_type": "display_data",
     "data": {
      "text/html": [
       "<style scoped>\n",
       "  .table-result-container {\n",
       "    max-height: 300px;\n",
       "    overflow: auto;\n",
       "  }\n",
       "  table, th, td {\n",
       "    border: 1px solid black;\n",
       "    border-collapse: collapse;\n",
       "  }\n",
       "  th, td {\n",
       "    padding: 5px;\n",
       "  }\n",
       "  th {\n",
       "    text-align: left;\n",
       "  }\n",
       "</style><div class='table-result-container'><table class='table-result'><thead style='background-color: white'><tr><th>raceId</th><th>year</th><th>round</th><th>circuitId</th><th>name</th><th>time</th><th>date</th></tr></thead><tbody><tr><td>1</td><td>2009</td><td>1</td><td>1</td><td>Australian Grand Prix</td><td>06:00:00</td><td>2009-03-29</td></tr><tr><td>2</td><td>2009</td><td>2</td><td>2</td><td>Malaysian Grand Prix</td><td>09:00:00</td><td>2009-04-05</td></tr><tr><td>3</td><td>2009</td><td>3</td><td>17</td><td>Chinese Grand Prix</td><td>07:00:00</td><td>2009-04-19</td></tr><tr><td>4</td><td>2009</td><td>4</td><td>3</td><td>Bahrain Grand Prix</td><td>12:00:00</td><td>2009-04-26</td></tr><tr><td>5</td><td>2009</td><td>5</td><td>4</td><td>Spanish Grand Prix</td><td>12:00:00</td><td>2009-05-10</td></tr></tbody></table></div>"
      ]
     },
     "metadata": {
      "application/vnd.databricks.v1+output": {
       "addedWidgets": {},
       "aggData": [],
       "aggError": "",
       "aggOverflow": false,
       "aggSchema": [],
       "aggSeriesLimitReached": false,
       "aggType": "",
       "arguments": {},
       "columnCustomDisplayInfos": {},
       "data": [
        [
         1,
         2009,
         1,
         1,
         "Australian Grand Prix",
         "06:00:00",
         "2009-03-29"
        ],
        [
         2,
         2009,
         2,
         2,
         "Malaysian Grand Prix",
         "09:00:00",
         "2009-04-05"
        ],
        [
         3,
         2009,
         3,
         17,
         "Chinese Grand Prix",
         "07:00:00",
         "2009-04-19"
        ],
        [
         4,
         2009,
         4,
         3,
         "Bahrain Grand Prix",
         "12:00:00",
         "2009-04-26"
        ],
        [
         5,
         2009,
         5,
         4,
         "Spanish Grand Prix",
         "12:00:00",
         "2009-05-10"
        ]
       ],
       "datasetInfos": [],
       "dbfsResultPath": null,
       "isJsonSchema": true,
       "metadata": {},
       "overflow": false,
       "plotOptions": {
        "customPlotOptions": {},
        "displayType": "table",
        "pivotAggregation": null,
        "pivotColumns": null,
        "xColumns": null,
        "yColumns": null
       },
       "removedWidgets": [],
       "schema": [
        {
         "metadata": "{}",
         "name": "raceId",
         "type": "\"long\""
        },
        {
         "metadata": "{}",
         "name": "year",
         "type": "\"long\""
        },
        {
         "metadata": "{}",
         "name": "round",
         "type": "\"long\""
        },
        {
         "metadata": "{}",
         "name": "circuitId",
         "type": "\"long\""
        },
        {
         "metadata": "{}",
         "name": "name",
         "type": "\"string\""
        },
        {
         "metadata": "{}",
         "name": "time",
         "type": "\"string\""
        },
        {
         "metadata": "{}",
         "name": "date",
         "type": "\"date\""
        }
       ],
       "type": "table"
      }
     },
     "output_type": "display_data"
    }
   ],
   "source": [
    "races_selected_df = races_df.select(\"raceId\", \"year\", \"round\", \"circuitId\", \"name\", \"time\", \"date\")\n",
    "display(races_selected_df.head(5))"
   ]
  },
  {
   "cell_type": "code",
   "execution_count": 0,
   "metadata": {
    "application/vnd.databricks.v1+cell": {
     "cellMetadata": {
      "byteLimit": 2048000,
      "rowLimit": 10000
     },
     "inputWidgets": {},
     "nuid": "fedabfd2-48d6-4544-9813-46a666afb021",
     "showTitle": false,
     "title": ""
    }
   },
   "outputs": [
    {
     "output_type": "display_data",
     "data": {
      "text/html": [
       "<style scoped>\n",
       "  .table-result-container {\n",
       "    max-height: 300px;\n",
       "    overflow: auto;\n",
       "  }\n",
       "  table, th, td {\n",
       "    border: 1px solid black;\n",
       "    border-collapse: collapse;\n",
       "  }\n",
       "  th, td {\n",
       "    padding: 5px;\n",
       "  }\n",
       "  th {\n",
       "    text-align: left;\n",
       "  }\n",
       "</style><div class='table-result-container'><table class='table-result'><thead style='background-color: white'><tr><th>raceId</th><th>year</th><th>round</th><th>circuitId</th><th>name</th><th>time</th><th>date</th><th>ingestion_date</th><th>race_timestamp</th></tr></thead><tbody><tr><td>1</td><td>2009</td><td>1</td><td>1</td><td>Australian Grand Prix</td><td>06:00:00</td><td>2009-03-29</td><td>2024-02-23T14:44:58.891+0000</td><td>2009-03-29T06:00:00.000+0000</td></tr><tr><td>2</td><td>2009</td><td>2</td><td>2</td><td>Malaysian Grand Prix</td><td>09:00:00</td><td>2009-04-05</td><td>2024-02-23T14:44:58.891+0000</td><td>2009-04-05T09:00:00.000+0000</td></tr><tr><td>3</td><td>2009</td><td>3</td><td>17</td><td>Chinese Grand Prix</td><td>07:00:00</td><td>2009-04-19</td><td>2024-02-23T14:44:58.891+0000</td><td>2009-04-19T07:00:00.000+0000</td></tr><tr><td>4</td><td>2009</td><td>4</td><td>3</td><td>Bahrain Grand Prix</td><td>12:00:00</td><td>2009-04-26</td><td>2024-02-23T14:44:58.891+0000</td><td>2009-04-26T12:00:00.000+0000</td></tr><tr><td>5</td><td>2009</td><td>5</td><td>4</td><td>Spanish Grand Prix</td><td>12:00:00</td><td>2009-05-10</td><td>2024-02-23T14:44:58.891+0000</td><td>2009-05-10T12:00:00.000+0000</td></tr></tbody></table></div>"
      ]
     },
     "metadata": {
      "application/vnd.databricks.v1+output": {
       "addedWidgets": {},
       "aggData": [],
       "aggError": "",
       "aggOverflow": false,
       "aggSchema": [],
       "aggSeriesLimitReached": false,
       "aggType": "",
       "arguments": {},
       "columnCustomDisplayInfos": {},
       "data": [
        [
         1,
         2009,
         1,
         1,
         "Australian Grand Prix",
         "06:00:00",
         "2009-03-29",
         "2024-02-23T14:44:58.891+0000",
         "2009-03-29T06:00:00.000+0000"
        ],
        [
         2,
         2009,
         2,
         2,
         "Malaysian Grand Prix",
         "09:00:00",
         "2009-04-05",
         "2024-02-23T14:44:58.891+0000",
         "2009-04-05T09:00:00.000+0000"
        ],
        [
         3,
         2009,
         3,
         17,
         "Chinese Grand Prix",
         "07:00:00",
         "2009-04-19",
         "2024-02-23T14:44:58.891+0000",
         "2009-04-19T07:00:00.000+0000"
        ],
        [
         4,
         2009,
         4,
         3,
         "Bahrain Grand Prix",
         "12:00:00",
         "2009-04-26",
         "2024-02-23T14:44:58.891+0000",
         "2009-04-26T12:00:00.000+0000"
        ],
        [
         5,
         2009,
         5,
         4,
         "Spanish Grand Prix",
         "12:00:00",
         "2009-05-10",
         "2024-02-23T14:44:58.891+0000",
         "2009-05-10T12:00:00.000+0000"
        ]
       ],
       "datasetInfos": [],
       "dbfsResultPath": null,
       "isJsonSchema": true,
       "metadata": {},
       "overflow": false,
       "plotOptions": {
        "customPlotOptions": {},
        "displayType": "table",
        "pivotAggregation": null,
        "pivotColumns": null,
        "xColumns": null,
        "yColumns": null
       },
       "removedWidgets": [],
       "schema": [
        {
         "metadata": "{}",
         "name": "raceId",
         "type": "\"long\""
        },
        {
         "metadata": "{}",
         "name": "year",
         "type": "\"long\""
        },
        {
         "metadata": "{}",
         "name": "round",
         "type": "\"long\""
        },
        {
         "metadata": "{}",
         "name": "circuitId",
         "type": "\"long\""
        },
        {
         "metadata": "{}",
         "name": "name",
         "type": "\"string\""
        },
        {
         "metadata": "{}",
         "name": "time",
         "type": "\"string\""
        },
        {
         "metadata": "{}",
         "name": "date",
         "type": "\"date\""
        },
        {
         "metadata": "{}",
         "name": "ingestion_date",
         "type": "\"timestamp\""
        },
        {
         "metadata": "{}",
         "name": "race_timestamp",
         "type": "\"timestamp\""
        }
       ],
       "type": "table"
      }
     },
     "output_type": "display_data"
    }
   ],
   "source": [
    "# lit(' ')\n",
    "races_final_df = races_selected_df.withColumn(\"ingestion_date\", current_timestamp()) \\\n",
    ".withColumn(\"race_timestamp\", to_timestamp(concat(col('date'), lit(' '), col('time')), 'yyyy-MM-dd HH:mm:ss'))\n",
    "display(races_final_df.head(5))"
   ]
  },
  {
   "cell_type": "code",
   "execution_count": 0,
   "metadata": {
    "application/vnd.databricks.v1+cell": {
     "cellMetadata": {
      "byteLimit": 2048000,
      "rowLimit": 10000
     },
     "inputWidgets": {},
     "nuid": "68372fc4-fc49-4e67-a3a3-3e7059e2d68a",
     "showTitle": false,
     "title": ""
    }
   },
   "outputs": [],
   "source": []
  },
  {
   "cell_type": "code",
   "execution_count": 0,
   "metadata": {
    "application/vnd.databricks.v1+cell": {
     "cellMetadata": {
      "byteLimit": 2048000,
      "rowLimit": 10000
     },
     "inputWidgets": {},
     "nuid": "bac129f9-543d-419e-897f-5154145f2565",
     "showTitle": false,
     "title": ""
    }
   },
   "outputs": [
    {
     "output_type": "display_data",
     "data": {
      "text/html": [
       "<style scoped>\n",
       "  .table-result-container {\n",
       "    max-height: 300px;\n",
       "    overflow: auto;\n",
       "  }\n",
       "  table, th, td {\n",
       "    border: 1px solid black;\n",
       "    border-collapse: collapse;\n",
       "  }\n",
       "  th, td {\n",
       "    padding: 5px;\n",
       "  }\n",
       "  th {\n",
       "    text-align: left;\n",
       "  }\n",
       "</style><div class='table-result-container'><table class='table-result'><thead style='background-color: white'><tr><th>race_id</th><th>race_year</th><th>round</th><th>circuit_id</th><th>name</th><th>ingestion_date</th><th>race_timestamp</th></tr></thead><tbody><tr><td>1</td><td>2009</td><td>1</td><td>1</td><td>Australian Grand Prix</td><td>2024-02-23T14:44:59.542+0000</td><td>2009-03-29T06:00:00.000+0000</td></tr><tr><td>2</td><td>2009</td><td>2</td><td>2</td><td>Malaysian Grand Prix</td><td>2024-02-23T14:44:59.542+0000</td><td>2009-04-05T09:00:00.000+0000</td></tr><tr><td>3</td><td>2009</td><td>3</td><td>17</td><td>Chinese Grand Prix</td><td>2024-02-23T14:44:59.542+0000</td><td>2009-04-19T07:00:00.000+0000</td></tr><tr><td>4</td><td>2009</td><td>4</td><td>3</td><td>Bahrain Grand Prix</td><td>2024-02-23T14:44:59.542+0000</td><td>2009-04-26T12:00:00.000+0000</td></tr><tr><td>5</td><td>2009</td><td>5</td><td>4</td><td>Spanish Grand Prix</td><td>2024-02-23T14:44:59.542+0000</td><td>2009-05-10T12:00:00.000+0000</td></tr></tbody></table></div>"
      ]
     },
     "metadata": {
      "application/vnd.databricks.v1+output": {
       "addedWidgets": {},
       "aggData": [],
       "aggError": "",
       "aggOverflow": false,
       "aggSchema": [],
       "aggSeriesLimitReached": false,
       "aggType": "",
       "arguments": {},
       "columnCustomDisplayInfos": {},
       "data": [
        [
         1,
         2009,
         1,
         1,
         "Australian Grand Prix",
         "2024-02-23T14:44:59.542+0000",
         "2009-03-29T06:00:00.000+0000"
        ],
        [
         2,
         2009,
         2,
         2,
         "Malaysian Grand Prix",
         "2024-02-23T14:44:59.542+0000",
         "2009-04-05T09:00:00.000+0000"
        ],
        [
         3,
         2009,
         3,
         17,
         "Chinese Grand Prix",
         "2024-02-23T14:44:59.542+0000",
         "2009-04-19T07:00:00.000+0000"
        ],
        [
         4,
         2009,
         4,
         3,
         "Bahrain Grand Prix",
         "2024-02-23T14:44:59.542+0000",
         "2009-04-26T12:00:00.000+0000"
        ],
        [
         5,
         2009,
         5,
         4,
         "Spanish Grand Prix",
         "2024-02-23T14:44:59.542+0000",
         "2009-05-10T12:00:00.000+0000"
        ]
       ],
       "datasetInfos": [],
       "dbfsResultPath": null,
       "isJsonSchema": true,
       "metadata": {},
       "overflow": false,
       "plotOptions": {
        "customPlotOptions": {},
        "displayType": "table",
        "pivotAggregation": null,
        "pivotColumns": null,
        "xColumns": null,
        "yColumns": null
       },
       "removedWidgets": [],
       "schema": [
        {
         "metadata": "{}",
         "name": "race_id",
         "type": "\"long\""
        },
        {
         "metadata": "{}",
         "name": "race_year",
         "type": "\"long\""
        },
        {
         "metadata": "{}",
         "name": "round",
         "type": "\"long\""
        },
        {
         "metadata": "{}",
         "name": "circuit_id",
         "type": "\"long\""
        },
        {
         "metadata": "{}",
         "name": "name",
         "type": "\"string\""
        },
        {
         "metadata": "{}",
         "name": "ingestion_date",
         "type": "\"timestamp\""
        },
        {
         "metadata": "{}",
         "name": "race_timestamp",
         "type": "\"timestamp\""
        }
       ],
       "type": "table"
      }
     },
     "output_type": "display_data"
    }
   ],
   "source": [
    "races_selected_df = races_final_df.select(col(\"raceId\").alias('race_id'),\n",
    "                                          col(\"year\").alias('race_year'),\n",
    "                                          col(\"round\"),\n",
    "                                          col(\"circuitId\").alias(\"circuit_id\"),\n",
    "                                          col(\"name\"),\n",
    "                                          col(\"ingestion_date\"),\n",
    "                                          col(\"race_timestamp\"))\n",
    "display(races_selected_df.head(5))"
   ]
  },
  {
   "cell_type": "markdown",
   "metadata": {
    "application/vnd.databricks.v1+cell": {
     "cellMetadata": {
      "byteLimit": 2048000,
      "rowLimit": 10000
     },
     "inputWidgets": {},
     "nuid": "71307922-3690-43fa-acae-37b8a3cb5194",
     "showTitle": false,
     "title": ""
    }
   },
   "source": [
    "##### Partitioning"
   ]
  },
  {
   "cell_type": "code",
   "execution_count": 0,
   "metadata": {
    "application/vnd.databricks.v1+cell": {
     "cellMetadata": {
      "byteLimit": 2048000,
      "rowLimit": 10000
     },
     "inputWidgets": {},
     "nuid": "077562f6-c0f0-48a2-b3ae-19186372c421",
     "showTitle": false,
     "title": ""
    }
   },
   "outputs": [],
   "source": [
    "# races_selected_df.write.mode(\"overwrite\").parquet(\"/mnt/formula1dl612/processed/races\")\n",
    "races_selected_df.write.mode(\"overwrite\").partitionBy('race_year').parquet(\"/mnt/formula1dl612/processed/races\")"
   ]
  },
  {
   "cell_type": "code",
   "execution_count": 0,
   "metadata": {
    "application/vnd.databricks.v1+cell": {
     "cellMetadata": {
      "byteLimit": 2048000,
      "rowLimit": 10000
     },
     "inputWidgets": {},
     "nuid": "74fb70c2-0cc4-4d4e-89ac-3d8aecf42d76",
     "showTitle": false,
     "title": ""
    }
   },
   "outputs": [
    {
     "output_type": "display_data",
     "data": {
      "text/html": [
       "<style scoped>\n",
       "  .table-result-container {\n",
       "    max-height: 300px;\n",
       "    overflow: auto;\n",
       "  }\n",
       "  table, th, td {\n",
       "    border: 1px solid black;\n",
       "    border-collapse: collapse;\n",
       "  }\n",
       "  th, td {\n",
       "    padding: 5px;\n",
       "  }\n",
       "  th {\n",
       "    text-align: left;\n",
       "  }\n",
       "</style><div class='table-result-container'><table class='table-result'><thead style='background-color: white'><tr><th>path</th><th>name</th><th>size</th><th>modificationTime</th></tr></thead><tbody><tr><td>dbfs:/mnt/formula1dl612/processed/races/_SUCCESS</td><td>_SUCCESS</td><td>0</td><td>1708699518000</td></tr><tr><td>dbfs:/mnt/formula1dl612/processed/races/_committed_2088282650369492340</td><td>_committed_2088282650369492340</td><td>123</td><td>1708645916000</td></tr><tr><td>dbfs:/mnt/formula1dl612/processed/races/_committed_2525315113697676533</td><td>_committed_2525315113697676533</td><td>122</td><td>1708698589000</td></tr><tr><td>dbfs:/mnt/formula1dl612/processed/races/_committed_6875742868824890401</td><td>_committed_6875742868824890401</td><td>220</td><td>1708698518000</td></tr><tr><td>dbfs:/mnt/formula1dl612/processed/races/_committed_8683413416780842440</td><td>_committed_8683413416780842440</td><td>232</td><td>1708645996000</td></tr><tr><td>dbfs:/mnt/formula1dl612/processed/races/_committed_vacuum4214368763001182036</td><td>_committed_vacuum4214368763001182036</td><td>96</td><td>1708698518000</td></tr><tr><td>dbfs:/mnt/formula1dl612/processed/races/_started_6875742868824890401</td><td>_started_6875742868824890401</td><td>0</td><td>1708698516000</td></tr><tr><td>dbfs:/mnt/formula1dl612/processed/races/race_year=1950/</td><td>race_year=1950/</td><td>0</td><td>1708698572000</td></tr><tr><td>dbfs:/mnt/formula1dl612/processed/races/race_year=1951/</td><td>race_year=1951/</td><td>0</td><td>1708698572000</td></tr><tr><td>dbfs:/mnt/formula1dl612/processed/races/race_year=1952/</td><td>race_year=1952/</td><td>0</td><td>1708698572000</td></tr><tr><td>dbfs:/mnt/formula1dl612/processed/races/race_year=1953/</td><td>race_year=1953/</td><td>0</td><td>1708698573000</td></tr><tr><td>dbfs:/mnt/formula1dl612/processed/races/race_year=1954/</td><td>race_year=1954/</td><td>0</td><td>1708698573000</td></tr><tr><td>dbfs:/mnt/formula1dl612/processed/races/race_year=1955/</td><td>race_year=1955/</td><td>0</td><td>1708698573000</td></tr><tr><td>dbfs:/mnt/formula1dl612/processed/races/race_year=1956/</td><td>race_year=1956/</td><td>0</td><td>1708698574000</td></tr><tr><td>dbfs:/mnt/formula1dl612/processed/races/race_year=1957/</td><td>race_year=1957/</td><td>0</td><td>1708698574000</td></tr><tr><td>dbfs:/mnt/formula1dl612/processed/races/race_year=1958/</td><td>race_year=1958/</td><td>0</td><td>1708698574000</td></tr><tr><td>dbfs:/mnt/formula1dl612/processed/races/race_year=1959/</td><td>race_year=1959/</td><td>0</td><td>1708698574000</td></tr><tr><td>dbfs:/mnt/formula1dl612/processed/races/race_year=1960/</td><td>race_year=1960/</td><td>0</td><td>1708698575000</td></tr><tr><td>dbfs:/mnt/formula1dl612/processed/races/race_year=1961/</td><td>race_year=1961/</td><td>0</td><td>1708698575000</td></tr><tr><td>dbfs:/mnt/formula1dl612/processed/races/race_year=1962/</td><td>race_year=1962/</td><td>0</td><td>1708698575000</td></tr><tr><td>dbfs:/mnt/formula1dl612/processed/races/race_year=1963/</td><td>race_year=1963/</td><td>0</td><td>1708698575000</td></tr><tr><td>dbfs:/mnt/formula1dl612/processed/races/race_year=1964/</td><td>race_year=1964/</td><td>0</td><td>1708698575000</td></tr><tr><td>dbfs:/mnt/formula1dl612/processed/races/race_year=1965/</td><td>race_year=1965/</td><td>0</td><td>1708698576000</td></tr><tr><td>dbfs:/mnt/formula1dl612/processed/races/race_year=1966/</td><td>race_year=1966/</td><td>0</td><td>1708698576000</td></tr><tr><td>dbfs:/mnt/formula1dl612/processed/races/race_year=1967/</td><td>race_year=1967/</td><td>0</td><td>1708698576000</td></tr><tr><td>dbfs:/mnt/formula1dl612/processed/races/race_year=1968/</td><td>race_year=1968/</td><td>0</td><td>1708698576000</td></tr><tr><td>dbfs:/mnt/formula1dl612/processed/races/race_year=1969/</td><td>race_year=1969/</td><td>0</td><td>1708698577000</td></tr><tr><td>dbfs:/mnt/formula1dl612/processed/races/race_year=1970/</td><td>race_year=1970/</td><td>0</td><td>1708698577000</td></tr><tr><td>dbfs:/mnt/formula1dl612/processed/races/race_year=1971/</td><td>race_year=1971/</td><td>0</td><td>1708698577000</td></tr><tr><td>dbfs:/mnt/formula1dl612/processed/races/race_year=1972/</td><td>race_year=1972/</td><td>0</td><td>1708698577000</td></tr><tr><td>dbfs:/mnt/formula1dl612/processed/races/race_year=1973/</td><td>race_year=1973/</td><td>0</td><td>1708698578000</td></tr><tr><td>dbfs:/mnt/formula1dl612/processed/races/race_year=1974/</td><td>race_year=1974/</td><td>0</td><td>1708698578000</td></tr><tr><td>dbfs:/mnt/formula1dl612/processed/races/race_year=1975/</td><td>race_year=1975/</td><td>0</td><td>1708698578000</td></tr><tr><td>dbfs:/mnt/formula1dl612/processed/races/race_year=1976/</td><td>race_year=1976/</td><td>0</td><td>1708698578000</td></tr><tr><td>dbfs:/mnt/formula1dl612/processed/races/race_year=1977/</td><td>race_year=1977/</td><td>0</td><td>1708698578000</td></tr><tr><td>dbfs:/mnt/formula1dl612/processed/races/race_year=1978/</td><td>race_year=1978/</td><td>0</td><td>1708698579000</td></tr><tr><td>dbfs:/mnt/formula1dl612/processed/races/race_year=1979/</td><td>race_year=1979/</td><td>0</td><td>1708698579000</td></tr><tr><td>dbfs:/mnt/formula1dl612/processed/races/race_year=1980/</td><td>race_year=1980/</td><td>0</td><td>1708698579000</td></tr><tr><td>dbfs:/mnt/formula1dl612/processed/races/race_year=1981/</td><td>race_year=1981/</td><td>0</td><td>1708698579000</td></tr><tr><td>dbfs:/mnt/formula1dl612/processed/races/race_year=1982/</td><td>race_year=1982/</td><td>0</td><td>1708698580000</td></tr><tr><td>dbfs:/mnt/formula1dl612/processed/races/race_year=1983/</td><td>race_year=1983/</td><td>0</td><td>1708698580000</td></tr><tr><td>dbfs:/mnt/formula1dl612/processed/races/race_year=1984/</td><td>race_year=1984/</td><td>0</td><td>1708698580000</td></tr><tr><td>dbfs:/mnt/formula1dl612/processed/races/race_year=1985/</td><td>race_year=1985/</td><td>0</td><td>1708698580000</td></tr><tr><td>dbfs:/mnt/formula1dl612/processed/races/race_year=1986/</td><td>race_year=1986/</td><td>0</td><td>1708698581000</td></tr><tr><td>dbfs:/mnt/formula1dl612/processed/races/race_year=1987/</td><td>race_year=1987/</td><td>0</td><td>1708698581000</td></tr><tr><td>dbfs:/mnt/formula1dl612/processed/races/race_year=1988/</td><td>race_year=1988/</td><td>0</td><td>1708698581000</td></tr><tr><td>dbfs:/mnt/formula1dl612/processed/races/race_year=1989/</td><td>race_year=1989/</td><td>0</td><td>1708698581000</td></tr><tr><td>dbfs:/mnt/formula1dl612/processed/races/race_year=1990/</td><td>race_year=1990/</td><td>0</td><td>1708698581000</td></tr><tr><td>dbfs:/mnt/formula1dl612/processed/races/race_year=1991/</td><td>race_year=1991/</td><td>0</td><td>1708698582000</td></tr><tr><td>dbfs:/mnt/formula1dl612/processed/races/race_year=1992/</td><td>race_year=1992/</td><td>0</td><td>1708698582000</td></tr><tr><td>dbfs:/mnt/formula1dl612/processed/races/race_year=1993/</td><td>race_year=1993/</td><td>0</td><td>1708698582000</td></tr><tr><td>dbfs:/mnt/formula1dl612/processed/races/race_year=1994/</td><td>race_year=1994/</td><td>0</td><td>1708698582000</td></tr><tr><td>dbfs:/mnt/formula1dl612/processed/races/race_year=1995/</td><td>race_year=1995/</td><td>0</td><td>1708698583000</td></tr><tr><td>dbfs:/mnt/formula1dl612/processed/races/race_year=1996/</td><td>race_year=1996/</td><td>0</td><td>1708698583000</td></tr><tr><td>dbfs:/mnt/formula1dl612/processed/races/race_year=1997/</td><td>race_year=1997/</td><td>0</td><td>1708698583000</td></tr><tr><td>dbfs:/mnt/formula1dl612/processed/races/race_year=1998/</td><td>race_year=1998/</td><td>0</td><td>1708698583000</td></tr><tr><td>dbfs:/mnt/formula1dl612/processed/races/race_year=1999/</td><td>race_year=1999/</td><td>0</td><td>1708698584000</td></tr><tr><td>dbfs:/mnt/formula1dl612/processed/races/race_year=2000/</td><td>race_year=2000/</td><td>0</td><td>1708698584000</td></tr><tr><td>dbfs:/mnt/formula1dl612/processed/races/race_year=2001/</td><td>race_year=2001/</td><td>0</td><td>1708698584000</td></tr><tr><td>dbfs:/mnt/formula1dl612/processed/races/race_year=2002/</td><td>race_year=2002/</td><td>0</td><td>1708698584000</td></tr><tr><td>dbfs:/mnt/formula1dl612/processed/races/race_year=2003/</td><td>race_year=2003/</td><td>0</td><td>1708698584000</td></tr><tr><td>dbfs:/mnt/formula1dl612/processed/races/race_year=2004/</td><td>race_year=2004/</td><td>0</td><td>1708698585000</td></tr><tr><td>dbfs:/mnt/formula1dl612/processed/races/race_year=2005/</td><td>race_year=2005/</td><td>0</td><td>1708698585000</td></tr><tr><td>dbfs:/mnt/formula1dl612/processed/races/race_year=2006/</td><td>race_year=2006/</td><td>0</td><td>1708698585000</td></tr><tr><td>dbfs:/mnt/formula1dl612/processed/races/race_year=2007/</td><td>race_year=2007/</td><td>0</td><td>1708698585000</td></tr><tr><td>dbfs:/mnt/formula1dl612/processed/races/race_year=2008/</td><td>race_year=2008/</td><td>0</td><td>1708698586000</td></tr><tr><td>dbfs:/mnt/formula1dl612/processed/races/race_year=2009/</td><td>race_year=2009/</td><td>0</td><td>1708698586000</td></tr><tr><td>dbfs:/mnt/formula1dl612/processed/races/race_year=2010/</td><td>race_year=2010/</td><td>0</td><td>1708698586000</td></tr><tr><td>dbfs:/mnt/formula1dl612/processed/races/race_year=2011/</td><td>race_year=2011/</td><td>0</td><td>1708698586000</td></tr><tr><td>dbfs:/mnt/formula1dl612/processed/races/race_year=2012/</td><td>race_year=2012/</td><td>0</td><td>1708698586000</td></tr><tr><td>dbfs:/mnt/formula1dl612/processed/races/race_year=2013/</td><td>race_year=2013/</td><td>0</td><td>1708698587000</td></tr><tr><td>dbfs:/mnt/formula1dl612/processed/races/race_year=2014/</td><td>race_year=2014/</td><td>0</td><td>1708698587000</td></tr><tr><td>dbfs:/mnt/formula1dl612/processed/races/race_year=2015/</td><td>race_year=2015/</td><td>0</td><td>1708698587000</td></tr><tr><td>dbfs:/mnt/formula1dl612/processed/races/race_year=2016/</td><td>race_year=2016/</td><td>0</td><td>1708698587000</td></tr><tr><td>dbfs:/mnt/formula1dl612/processed/races/race_year=2017/</td><td>race_year=2017/</td><td>0</td><td>1708698588000</td></tr><tr><td>dbfs:/mnt/formula1dl612/processed/races/race_year=2018/</td><td>race_year=2018/</td><td>0</td><td>1708698588000</td></tr><tr><td>dbfs:/mnt/formula1dl612/processed/races/race_year=2019/</td><td>race_year=2019/</td><td>0</td><td>1708698588000</td></tr><tr><td>dbfs:/mnt/formula1dl612/processed/races/race_year=2020/</td><td>race_year=2020/</td><td>0</td><td>1708698588000</td></tr><tr><td>dbfs:/mnt/formula1dl612/processed/races/race_year=2021/</td><td>race_year=2021/</td><td>0</td><td>1708698589000</td></tr></tbody></table></div>"
      ]
     },
     "metadata": {
      "application/vnd.databricks.v1+output": {
       "addedWidgets": {},
       "aggData": [],
       "aggError": "",
       "aggOverflow": false,
       "aggSchema": [],
       "aggSeriesLimitReached": false,
       "aggType": "",
       "arguments": {},
       "columnCustomDisplayInfos": {},
       "data": [
        [
         "dbfs:/mnt/formula1dl612/processed/races/_SUCCESS",
         "_SUCCESS",
         0,
         1708699518000
        ],
        [
         "dbfs:/mnt/formula1dl612/processed/races/_committed_2088282650369492340",
         "_committed_2088282650369492340",
         123,
         1708645916000
        ],
        [
         "dbfs:/mnt/formula1dl612/processed/races/_committed_2525315113697676533",
         "_committed_2525315113697676533",
         122,
         1708698589000
        ],
        [
         "dbfs:/mnt/formula1dl612/processed/races/_committed_6875742868824890401",
         "_committed_6875742868824890401",
         220,
         1708698518000
        ],
        [
         "dbfs:/mnt/formula1dl612/processed/races/_committed_8683413416780842440",
         "_committed_8683413416780842440",
         232,
         1708645996000
        ],
        [
         "dbfs:/mnt/formula1dl612/processed/races/_committed_vacuum4214368763001182036",
         "_committed_vacuum4214368763001182036",
         96,
         1708698518000
        ],
        [
         "dbfs:/mnt/formula1dl612/processed/races/_started_6875742868824890401",
         "_started_6875742868824890401",
         0,
         1708698516000
        ],
        [
         "dbfs:/mnt/formula1dl612/processed/races/race_year=1950/",
         "race_year=1950/",
         0,
         1708698572000
        ],
        [
         "dbfs:/mnt/formula1dl612/processed/races/race_year=1951/",
         "race_year=1951/",
         0,
         1708698572000
        ],
        [
         "dbfs:/mnt/formula1dl612/processed/races/race_year=1952/",
         "race_year=1952/",
         0,
         1708698572000
        ],
        [
         "dbfs:/mnt/formula1dl612/processed/races/race_year=1953/",
         "race_year=1953/",
         0,
         1708698573000
        ],
        [
         "dbfs:/mnt/formula1dl612/processed/races/race_year=1954/",
         "race_year=1954/",
         0,
         1708698573000
        ],
        [
         "dbfs:/mnt/formula1dl612/processed/races/race_year=1955/",
         "race_year=1955/",
         0,
         1708698573000
        ],
        [
         "dbfs:/mnt/formula1dl612/processed/races/race_year=1956/",
         "race_year=1956/",
         0,
         1708698574000
        ],
        [
         "dbfs:/mnt/formula1dl612/processed/races/race_year=1957/",
         "race_year=1957/",
         0,
         1708698574000
        ],
        [
         "dbfs:/mnt/formula1dl612/processed/races/race_year=1958/",
         "race_year=1958/",
         0,
         1708698574000
        ],
        [
         "dbfs:/mnt/formula1dl612/processed/races/race_year=1959/",
         "race_year=1959/",
         0,
         1708698574000
        ],
        [
         "dbfs:/mnt/formula1dl612/processed/races/race_year=1960/",
         "race_year=1960/",
         0,
         1708698575000
        ],
        [
         "dbfs:/mnt/formula1dl612/processed/races/race_year=1961/",
         "race_year=1961/",
         0,
         1708698575000
        ],
        [
         "dbfs:/mnt/formula1dl612/processed/races/race_year=1962/",
         "race_year=1962/",
         0,
         1708698575000
        ],
        [
         "dbfs:/mnt/formula1dl612/processed/races/race_year=1963/",
         "race_year=1963/",
         0,
         1708698575000
        ],
        [
         "dbfs:/mnt/formula1dl612/processed/races/race_year=1964/",
         "race_year=1964/",
         0,
         1708698575000
        ],
        [
         "dbfs:/mnt/formula1dl612/processed/races/race_year=1965/",
         "race_year=1965/",
         0,
         1708698576000
        ],
        [
         "dbfs:/mnt/formula1dl612/processed/races/race_year=1966/",
         "race_year=1966/",
         0,
         1708698576000
        ],
        [
         "dbfs:/mnt/formula1dl612/processed/races/race_year=1967/",
         "race_year=1967/",
         0,
         1708698576000
        ],
        [
         "dbfs:/mnt/formula1dl612/processed/races/race_year=1968/",
         "race_year=1968/",
         0,
         1708698576000
        ],
        [
         "dbfs:/mnt/formula1dl612/processed/races/race_year=1969/",
         "race_year=1969/",
         0,
         1708698577000
        ],
        [
         "dbfs:/mnt/formula1dl612/processed/races/race_year=1970/",
         "race_year=1970/",
         0,
         1708698577000
        ],
        [
         "dbfs:/mnt/formula1dl612/processed/races/race_year=1971/",
         "race_year=1971/",
         0,
         1708698577000
        ],
        [
         "dbfs:/mnt/formula1dl612/processed/races/race_year=1972/",
         "race_year=1972/",
         0,
         1708698577000
        ],
        [
         "dbfs:/mnt/formula1dl612/processed/races/race_year=1973/",
         "race_year=1973/",
         0,
         1708698578000
        ],
        [
         "dbfs:/mnt/formula1dl612/processed/races/race_year=1974/",
         "race_year=1974/",
         0,
         1708698578000
        ],
        [
         "dbfs:/mnt/formula1dl612/processed/races/race_year=1975/",
         "race_year=1975/",
         0,
         1708698578000
        ],
        [
         "dbfs:/mnt/formula1dl612/processed/races/race_year=1976/",
         "race_year=1976/",
         0,
         1708698578000
        ],
        [
         "dbfs:/mnt/formula1dl612/processed/races/race_year=1977/",
         "race_year=1977/",
         0,
         1708698578000
        ],
        [
         "dbfs:/mnt/formula1dl612/processed/races/race_year=1978/",
         "race_year=1978/",
         0,
         1708698579000
        ],
        [
         "dbfs:/mnt/formula1dl612/processed/races/race_year=1979/",
         "race_year=1979/",
         0,
         1708698579000
        ],
        [
         "dbfs:/mnt/formula1dl612/processed/races/race_year=1980/",
         "race_year=1980/",
         0,
         1708698579000
        ],
        [
         "dbfs:/mnt/formula1dl612/processed/races/race_year=1981/",
         "race_year=1981/",
         0,
         1708698579000
        ],
        [
         "dbfs:/mnt/formula1dl612/processed/races/race_year=1982/",
         "race_year=1982/",
         0,
         1708698580000
        ],
        [
         "dbfs:/mnt/formula1dl612/processed/races/race_year=1983/",
         "race_year=1983/",
         0,
         1708698580000
        ],
        [
         "dbfs:/mnt/formula1dl612/processed/races/race_year=1984/",
         "race_year=1984/",
         0,
         1708698580000
        ],
        [
         "dbfs:/mnt/formula1dl612/processed/races/race_year=1985/",
         "race_year=1985/",
         0,
         1708698580000
        ],
        [
         "dbfs:/mnt/formula1dl612/processed/races/race_year=1986/",
         "race_year=1986/",
         0,
         1708698581000
        ],
        [
         "dbfs:/mnt/formula1dl612/processed/races/race_year=1987/",
         "race_year=1987/",
         0,
         1708698581000
        ],
        [
         "dbfs:/mnt/formula1dl612/processed/races/race_year=1988/",
         "race_year=1988/",
         0,
         1708698581000
        ],
        [
         "dbfs:/mnt/formula1dl612/processed/races/race_year=1989/",
         "race_year=1989/",
         0,
         1708698581000
        ],
        [
         "dbfs:/mnt/formula1dl612/processed/races/race_year=1990/",
         "race_year=1990/",
         0,
         1708698581000
        ],
        [
         "dbfs:/mnt/formula1dl612/processed/races/race_year=1991/",
         "race_year=1991/",
         0,
         1708698582000
        ],
        [
         "dbfs:/mnt/formula1dl612/processed/races/race_year=1992/",
         "race_year=1992/",
         0,
         1708698582000
        ],
        [
         "dbfs:/mnt/formula1dl612/processed/races/race_year=1993/",
         "race_year=1993/",
         0,
         1708698582000
        ],
        [
         "dbfs:/mnt/formula1dl612/processed/races/race_year=1994/",
         "race_year=1994/",
         0,
         1708698582000
        ],
        [
         "dbfs:/mnt/formula1dl612/processed/races/race_year=1995/",
         "race_year=1995/",
         0,
         1708698583000
        ],
        [
         "dbfs:/mnt/formula1dl612/processed/races/race_year=1996/",
         "race_year=1996/",
         0,
         1708698583000
        ],
        [
         "dbfs:/mnt/formula1dl612/processed/races/race_year=1997/",
         "race_year=1997/",
         0,
         1708698583000
        ],
        [
         "dbfs:/mnt/formula1dl612/processed/races/race_year=1998/",
         "race_year=1998/",
         0,
         1708698583000
        ],
        [
         "dbfs:/mnt/formula1dl612/processed/races/race_year=1999/",
         "race_year=1999/",
         0,
         1708698584000
        ],
        [
         "dbfs:/mnt/formula1dl612/processed/races/race_year=2000/",
         "race_year=2000/",
         0,
         1708698584000
        ],
        [
         "dbfs:/mnt/formula1dl612/processed/races/race_year=2001/",
         "race_year=2001/",
         0,
         1708698584000
        ],
        [
         "dbfs:/mnt/formula1dl612/processed/races/race_year=2002/",
         "race_year=2002/",
         0,
         1708698584000
        ],
        [
         "dbfs:/mnt/formula1dl612/processed/races/race_year=2003/",
         "race_year=2003/",
         0,
         1708698584000
        ],
        [
         "dbfs:/mnt/formula1dl612/processed/races/race_year=2004/",
         "race_year=2004/",
         0,
         1708698585000
        ],
        [
         "dbfs:/mnt/formula1dl612/processed/races/race_year=2005/",
         "race_year=2005/",
         0,
         1708698585000
        ],
        [
         "dbfs:/mnt/formula1dl612/processed/races/race_year=2006/",
         "race_year=2006/",
         0,
         1708698585000
        ],
        [
         "dbfs:/mnt/formula1dl612/processed/races/race_year=2007/",
         "race_year=2007/",
         0,
         1708698585000
        ],
        [
         "dbfs:/mnt/formula1dl612/processed/races/race_year=2008/",
         "race_year=2008/",
         0,
         1708698586000
        ],
        [
         "dbfs:/mnt/formula1dl612/processed/races/race_year=2009/",
         "race_year=2009/",
         0,
         1708698586000
        ],
        [
         "dbfs:/mnt/formula1dl612/processed/races/race_year=2010/",
         "race_year=2010/",
         0,
         1708698586000
        ],
        [
         "dbfs:/mnt/formula1dl612/processed/races/race_year=2011/",
         "race_year=2011/",
         0,
         1708698586000
        ],
        [
         "dbfs:/mnt/formula1dl612/processed/races/race_year=2012/",
         "race_year=2012/",
         0,
         1708698586000
        ],
        [
         "dbfs:/mnt/formula1dl612/processed/races/race_year=2013/",
         "race_year=2013/",
         0,
         1708698587000
        ],
        [
         "dbfs:/mnt/formula1dl612/processed/races/race_year=2014/",
         "race_year=2014/",
         0,
         1708698587000
        ],
        [
         "dbfs:/mnt/formula1dl612/processed/races/race_year=2015/",
         "race_year=2015/",
         0,
         1708698587000
        ],
        [
         "dbfs:/mnt/formula1dl612/processed/races/race_year=2016/",
         "race_year=2016/",
         0,
         1708698587000
        ],
        [
         "dbfs:/mnt/formula1dl612/processed/races/race_year=2017/",
         "race_year=2017/",
         0,
         1708698588000
        ],
        [
         "dbfs:/mnt/formula1dl612/processed/races/race_year=2018/",
         "race_year=2018/",
         0,
         1708698588000
        ],
        [
         "dbfs:/mnt/formula1dl612/processed/races/race_year=2019/",
         "race_year=2019/",
         0,
         1708698588000
        ],
        [
         "dbfs:/mnt/formula1dl612/processed/races/race_year=2020/",
         "race_year=2020/",
         0,
         1708698588000
        ],
        [
         "dbfs:/mnt/formula1dl612/processed/races/race_year=2021/",
         "race_year=2021/",
         0,
         1708698589000
        ]
       ],
       "datasetInfos": [],
       "dbfsResultPath": null,
       "isJsonSchema": true,
       "metadata": {
        "isDbfsCommandResult": false
       },
       "overflow": false,
       "plotOptions": {
        "customPlotOptions": {},
        "displayType": "table",
        "pivotAggregation": null,
        "pivotColumns": null,
        "xColumns": null,
        "yColumns": null
       },
       "removedWidgets": [],
       "schema": [
        {
         "metadata": "{}",
         "name": "path",
         "type": "\"string\""
        },
        {
         "metadata": "{}",
         "name": "name",
         "type": "\"string\""
        },
        {
         "metadata": "{}",
         "name": "size",
         "type": "\"long\""
        },
        {
         "metadata": "{}",
         "name": "modificationTime",
         "type": "\"long\""
        }
       ],
       "type": "table"
      }
     },
     "output_type": "display_data"
    }
   ],
   "source": [
    "%fs\n",
    "ls /mnt/formula1dl612/processed/races"
   ]
  },
  {
   "cell_type": "code",
   "execution_count": 0,
   "metadata": {
    "application/vnd.databricks.v1+cell": {
     "cellMetadata": {
      "byteLimit": 2048000,
      "rowLimit": 10000
     },
     "inputWidgets": {},
     "nuid": "9c80e7dd-be16-434a-95f6-76df60300391",
     "showTitle": false,
     "title": ""
    }
   },
   "outputs": [
    {
     "output_type": "display_data",
     "data": {
      "text/html": [
       "<style scoped>\n",
       "  .table-result-container {\n",
       "    max-height: 300px;\n",
       "    overflow: auto;\n",
       "  }\n",
       "  table, th, td {\n",
       "    border: 1px solid black;\n",
       "    border-collapse: collapse;\n",
       "  }\n",
       "  th, td {\n",
       "    padding: 5px;\n",
       "  }\n",
       "  th {\n",
       "    text-align: left;\n",
       "  }\n",
       "</style><div class='table-result-container'><table class='table-result'><thead style='background-color: white'><tr><th>race_id</th><th>round</th><th>circuit_id</th><th>name</th><th>ingestion_date</th><th>race_timestamp</th><th>race_year</th></tr></thead><tbody><tr><td>1053</td><td>2</td><td>21</td><td>Emilia Romagna Grand Prix</td><td>2024-02-23T14:45:00.198+0000</td><td>2021-04-18T13:00:00.000+0000</td><td>2021</td></tr><tr><td>1052</td><td>1</td><td>3</td><td>Bahrain Grand Prix</td><td>2024-02-23T14:45:00.198+0000</td><td>2021-03-28T15:00:00.000+0000</td><td>2021</td></tr><tr><td>1051</td><td>21</td><td>1</td><td>Australian Grand Prix</td><td>2024-02-23T14:45:00.198+0000</td><td>2021-11-21T06:00:00.000+0000</td><td>2021</td></tr><tr><td>1054</td><td>3</td><td>20</td><td>TBC</td><td>2024-02-23T14:45:00.198+0000</td><td>null</td><td>2021</td></tr><tr><td>1055</td><td>4</td><td>4</td><td>Spanish Grand Prix</td><td>2024-02-23T14:45:00.198+0000</td><td>2021-05-09T13:00:00.000+0000</td><td>2021</td></tr></tbody></table></div>"
      ]
     },
     "metadata": {
      "application/vnd.databricks.v1+output": {
       "addedWidgets": {},
       "aggData": [],
       "aggError": "",
       "aggOverflow": false,
       "aggSchema": [],
       "aggSeriesLimitReached": false,
       "aggType": "",
       "arguments": {},
       "columnCustomDisplayInfos": {},
       "data": [
        [
         1053,
         2,
         21,
         "Emilia Romagna Grand Prix",
         "2024-02-23T14:45:00.198+0000",
         "2021-04-18T13:00:00.000+0000",
         2021
        ],
        [
         1052,
         1,
         3,
         "Bahrain Grand Prix",
         "2024-02-23T14:45:00.198+0000",
         "2021-03-28T15:00:00.000+0000",
         2021
        ],
        [
         1051,
         21,
         1,
         "Australian Grand Prix",
         "2024-02-23T14:45:00.198+0000",
         "2021-11-21T06:00:00.000+0000",
         2021
        ],
        [
         1054,
         3,
         20,
         "TBC",
         "2024-02-23T14:45:00.198+0000",
         null,
         2021
        ],
        [
         1055,
         4,
         4,
         "Spanish Grand Prix",
         "2024-02-23T14:45:00.198+0000",
         "2021-05-09T13:00:00.000+0000",
         2021
        ]
       ],
       "datasetInfos": [],
       "dbfsResultPath": null,
       "isJsonSchema": true,
       "metadata": {},
       "overflow": false,
       "plotOptions": {
        "customPlotOptions": {},
        "displayType": "table",
        "pivotAggregation": null,
        "pivotColumns": null,
        "xColumns": null,
        "yColumns": null
       },
       "removedWidgets": [],
       "schema": [
        {
         "metadata": "{}",
         "name": "race_id",
         "type": "\"long\""
        },
        {
         "metadata": "{}",
         "name": "round",
         "type": "\"long\""
        },
        {
         "metadata": "{}",
         "name": "circuit_id",
         "type": "\"long\""
        },
        {
         "metadata": "{}",
         "name": "name",
         "type": "\"string\""
        },
        {
         "metadata": "{}",
         "name": "ingestion_date",
         "type": "\"timestamp\""
        },
        {
         "metadata": "{}",
         "name": "race_timestamp",
         "type": "\"timestamp\""
        },
        {
         "metadata": "{}",
         "name": "race_year",
         "type": "\"long\""
        }
       ],
       "type": "table"
      }
     },
     "output_type": "display_data"
    }
   ],
   "source": [
    "display(spark.read.parquet('/mnt/formula1dl612/processed/races').head(5))"
   ]
  },
  {
   "cell_type": "code",
   "execution_count": 0,
   "metadata": {
    "application/vnd.databricks.v1+cell": {
     "cellMetadata": {
      "byteLimit": 2048000,
      "rowLimit": 10000
     },
     "inputWidgets": {},
     "nuid": "6a2c7a59-9234-472d-acd4-5de557a80171",
     "showTitle": false,
     "title": ""
    }
   },
   "outputs": [],
   "source": []
  }
 ],
 "metadata": {
  "application/vnd.databricks.v1+notebook": {
   "dashboards": [],
   "language": "python",
   "notebookMetadata": {
    "mostRecentlyExecutedCommandWithImplicitDF": {
     "commandId": 1532965429971701,
     "dataframes": [
      "_sqldf"
     ]
    },
    "pythonIndentUnit": 4
   },
   "notebookName": "Data Ingestion - Races (Assignment)",
   "widgets": {}
  }
 },
 "nbformat": 4,
 "nbformat_minor": 0
}
