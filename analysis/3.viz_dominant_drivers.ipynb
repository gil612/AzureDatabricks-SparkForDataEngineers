{
 "cells": [
  {
   "cell_type": "code",
   "execution_count": 0,
   "metadata": {
    "application/vnd.databricks.v1+cell": {
     "cellMetadata": {
      "byteLimit": 2048000,
      "rowLimit": 10000
     },
     "inputWidgets": {},
     "nuid": "2a4c78af-75ea-47a4-87d4-9756caabd684",
     "showTitle": false,
     "title": ""
    }
   },
   "outputs": [
    {
     "output_type": "display_data",
     "data": {
      "text/html": [
       "<style scoped>\n",
       "  .table-result-container {\n",
       "    max-height: 300px;\n",
       "    overflow: auto;\n",
       "  }\n",
       "  table, th, td {\n",
       "    border: 1px solid black;\n",
       "    border-collapse: collapse;\n",
       "  }\n",
       "  th, td {\n",
       "    padding: 5px;\n",
       "  }\n",
       "  th {\n",
       "    text-align: left;\n",
       "  }\n",
       "</style><div class='table-result-container'><table class='table-result'><thead style='background-color: white'><tr></tr></thead><tbody></tbody></table></div>"
      ]
     },
     "metadata": {
      "application/vnd.databricks.v1+output": {
       "addedWidgets": {},
       "aggData": [],
       "aggError": "",
       "aggOverflow": false,
       "aggSchema": [],
       "aggSeriesLimitReached": false,
       "aggType": "",
       "arguments": {},
       "columnCustomDisplayInfos": {},
       "data": [],
       "datasetInfos": [],
       "dbfsResultPath": null,
       "isJsonSchema": true,
       "metadata": {
        "isDbfsCommandResult": false
       },
       "overflow": false,
       "plotOptions": {
        "customPlotOptions": {},
        "displayType": "table",
        "pivotAggregation": null,
        "pivotColumns": null,
        "xColumns": null,
        "yColumns": null
       },
       "removedWidgets": [],
       "schema": [],
       "type": "table"
      }
     },
     "output_type": "display_data"
    }
   ],
   "source": [
    "CREATE OR REPLACE TEMP VIEW v_dominant_drivers\n",
    "AS\n",
    "SELECT  driver_name,\n",
    "        COUNT(1) AS total_races,\n",
    "        SUM(calculated_points) AS total_points,\n",
    "        AVG(calculated_points) AS avg_points,\n",
    "        RANK() OVER(ORDER BY AVG(calculated_points) DESC) driver_rank\n",
    "  FROM f1_presentation.calculated_race_results\n",
    "  GROUP BY driver_name\n",
    "  HAVING count(1) >= 50\n",
    "  ORDER BY avg_points DESC"
   ]
  },
  {
   "cell_type": "code",
   "execution_count": 0,
   "metadata": {
    "application/vnd.databricks.v1+cell": {
     "cellMetadata": {
      "byteLimit": 2048000,
      "rowLimit": 10000
     },
     "inputWidgets": {},
     "nuid": "c6500807-2cb5-4572-a832-7bc170ddbf5c",
     "showTitle": false,
     "title": ""
    }
   },
   "outputs": [
    {
     "output_type": "display_data",
     "data": {
      "text/html": [
       "<style scoped>\n",
       "  .table-result-container {\n",
       "    max-height: 300px;\n",
       "    overflow: auto;\n",
       "  }\n",
       "  table, th, td {\n",
       "    border: 1px solid black;\n",
       "    border-collapse: collapse;\n",
       "  }\n",
       "  th, td {\n",
       "    padding: 5px;\n",
       "  }\n",
       "  th {\n",
       "    text-align: left;\n",
       "  }\n",
       "</style><div class='table-result-container'><table class='table-result'><thead style='background-color: white'><tr><th>race_year</th><th>driver_name</th><th>total_races</th><th>total_points</th><th>avg_points</th></tr></thead><tbody><tr><td>1960</td><td>Jim Clark</td><td>5</td><td>10</td><td>2.0</td></tr><tr><td>1961</td><td>Jim Clark</td><td>6</td><td>27</td><td>4.5</td></tr><tr><td>1962</td><td>Jim Clark</td><td>5</td><td>39</td><td>7.8</td></tr><tr><td>1963</td><td>Jim Clark</td><td>10</td><td>90</td><td>9.0</td></tr><tr><td>1964</td><td>Jim Clark</td><td>7</td><td>43</td><td>6.142857142857143</td></tr><tr><td>1965</td><td>Jim Clark</td><td>7</td><td>61</td><td>8.714285714285714</td></tr><tr><td>1965</td><td>Jackie Stewart</td><td>7</td><td>56</td><td>8.0</td></tr><tr><td>1966</td><td>Jim Clark</td><td>3</td><td>25</td><td>8.333333333333334</td></tr><tr><td>1966</td><td>Jackie Stewart</td><td>3</td><td>23</td><td>7.666666666666667</td></tr><tr><td>1967</td><td>Jim Clark</td><td>6</td><td>53</td><td>8.833333333333334</td></tr><tr><td>1967</td><td>Jackie Stewart</td><td>2</td><td>17</td><td>8.5</td></tr><tr><td>1968</td><td>Jim Clark</td><td>1</td><td>10</td><td>10.0</td></tr><tr><td>1968</td><td>Jackie Stewart</td><td>8</td><td>59</td><td>7.375</td></tr><tr><td>1969</td><td>Jackie Stewart</td><td>8</td><td>76</td><td>9.5</td></tr><tr><td>1970</td><td>Jackie Stewart</td><td>5</td><td>38</td><td>7.6</td></tr><tr><td>1971</td><td>Jackie Stewart</td><td>9</td><td>75</td><td>8.333333333333334</td></tr><tr><td>1972</td><td>Jackie Stewart</td><td>8</td><td>60</td><td>7.5</td></tr><tr><td>1972</td><td>Niki Lauda</td><td>7</td><td>-1</td><td>-0.14285714285714285</td></tr><tr><td>1973</td><td>Jackie Stewart</td><td>13</td><td>103</td><td>7.923076923076923</td></tr><tr><td>1973</td><td>Niki Lauda</td><td>5</td><td>8</td><td>1.6</td></tr><tr><td>1974</td><td>Niki Lauda</td><td>7</td><td>48</td><td>6.857142857142857</td></tr><tr><td>1975</td><td>Niki Lauda</td><td>13</td><td>100</td><td>7.6923076923076925</td></tr><tr><td>1976</td><td>Niki Lauda</td><td>11</td><td>94</td><td>8.545454545454545</td></tr><tr><td>1977</td><td>Niki Lauda</td><td>12</td><td>105</td><td>8.75</td></tr><tr><td>1978</td><td>Niki Lauda</td><td>7</td><td>63</td><td>9.0</td></tr><tr><td>1978</td><td>Nelson Piquet</td><td>2</td><td>2</td><td>1.0</td></tr><tr><td>1979</td><td>Niki Lauda</td><td>2</td><td>12</td><td>6.0</td></tr><tr><td>1979</td><td>Nelson Piquet</td><td>4</td><td>13</td><td>3.25</td></tr><tr><td>1980</td><td>Nelson Piquet</td><td>10</td><td>83</td><td>8.3</td></tr><tr><td>1980</td><td>Alain Prost</td><td>7</td><td>29</td><td>4.142857142857143</td></tr><tr><td>1981</td><td>Alain Prost</td><td>6</td><td>56</td><td>9.333333333333334</td></tr><tr><td>1981</td><td>Nelson Piquet</td><td>11</td><td>79</td><td>7.181818181818182</td></tr><tr><td>1981</td><td>Nigel Mansell</td><td>5</td><td>24</td><td>4.8</td></tr><tr><td>1982</td><td>Nelson Piquet</td><td>4</td><td>32</td><td>8.0</td></tr><tr><td>1982</td><td>Niki Lauda</td><td>7</td><td>51</td><td>7.285714285714286</td></tr><tr><td>1982</td><td>Alain Prost</td><td>8</td><td>57</td><td>7.125</td></tr><tr><td>1982</td><td>Nigel Mansell</td><td>6</td><td>28</td><td>4.666666666666667</td></tr><tr><td>1983</td><td>Nelson Piquet</td><td>11</td><td>85</td><td>7.7272727272727275</td></tr><tr><td>1983</td><td>Alain Prost</td><td>12</td><td>86</td><td>7.166666666666667</td></tr><tr><td>1983</td><td>Niki Lauda</td><td>6</td><td>25</td><td>4.166666666666667</td></tr><tr><td>1983</td><td>Nigel Mansell</td><td>8</td><td>26</td><td>3.25</td></tr><tr><td>1984</td><td>Niki Lauda</td><td>10</td><td>93</td><td>9.3</td></tr><tr><td>1984</td><td>Alain Prost</td><td>11</td><td>98</td><td>8.909090909090908</td></tr><tr><td>1984</td><td>Nelson Piquet</td><td>7</td><td>48</td><td>6.857142857142857</td></tr><tr><td>1984</td><td>Nigel Mansell</td><td>5</td><td>33</td><td>6.6</td></tr><tr><td>1984</td><td>Ayrton Senna</td><td>6</td><td>39</td><td>6.5</td></tr><tr><td>1985</td><td>Alain Prost</td><td>12</td><td>107</td><td>8.916666666666666</td></tr><tr><td>1985</td><td>Niki Lauda</td><td>3</td><td>23</td><td>7.666666666666667</td></tr><tr><td>1985</td><td>Nelson Piquet</td><td>7</td><td>43</td><td>6.142857142857143</td></tr><tr><td>1985</td><td>Ayrton Senna</td><td>9</td><td>54</td><td>6.0</td></tr><tr><td>1985</td><td>Nigel Mansell</td><td>10</td><td>60</td><td>6.0</td></tr><tr><td>1986</td><td>Nigel Mansell</td><td>12</td><td>103</td><td>8.583333333333334</td></tr><tr><td>1986</td><td>Nelson Piquet</td><td>12</td><td>102</td><td>8.5</td></tr><tr><td>1986</td><td>Ayrton Senna</td><td>10</td><td>85</td><td>8.5</td></tr><tr><td>1986</td><td>Alain Prost</td><td>13</td><td>110</td><td>8.461538461538462</td></tr><tr><td>1987</td><td>Nelson Piquet</td><td>13</td><td>104</td><td>8.0</td></tr><tr><td>1987</td><td>Ayrton Senna</td><td>12</td><td>95</td><td>7.916666666666667</td></tr><tr><td>1987</td><td>Nigel Mansell</td><td>10</td><td>76</td><td>7.6</td></tr><tr><td>1987</td><td>Alain Prost</td><td>12</td><td>74</td><td>6.166666666666667</td></tr><tr><td>1988</td><td>Alain Prost</td><td>14</td><td>133</td><td>9.5</td></tr><tr><td>1988</td><td>Nigel Mansell</td><td>2</td><td>18</td><td>9.0</td></tr><tr><td>1988</td><td>Ayrton Senna</td><td>14</td><td>120</td><td>8.571428571428571</td></tr><tr><td>1988</td><td>Nelson Piquet</td><td>9</td><td>56</td><td>6.222222222222222</td></tr><tr><td>1989</td><td>Nigel Mansell</td><td>6</td><td>54</td><td>9.0</td></tr><tr><td>1989</td><td>Alain Prost</td><td>13</td><td>115</td><td>8.846153846153847</td></tr><tr><td>1989</td><td>Ayrton Senna</td><td>9</td><td>73</td><td>8.11111111111111</td></tr><tr><td>1989</td><td>Nelson Piquet</td><td>8</td><td>38</td><td>4.75</td></tr><tr><td>1990</td><td>Ayrton Senna</td><td>11</td><td>102</td><td>9.272727272727273</td></tr><tr><td>1990</td><td>Alain Prost</td><td>12</td><td>104</td><td>8.666666666666666</td></tr><tr><td>1990</td><td>Nelson Piquet</td><td>13</td><td>89</td><td>6.846153846153846</td></tr><tr><td>1990</td><td>Nigel Mansell</td><td>9</td><td>46</td><td>5.111111111111111</td></tr><tr><td>1991</td><td>Nigel Mansell</td><td>10</td><td>91</td><td>9.1</td></tr><tr><td>1991</td><td>Ayrton Senna</td><td>15</td><td>130</td><td>8.666666666666666</td></tr><tr><td>1991</td><td>Alain Prost</td><td>8</td><td>63</td><td>7.875</td></tr><tr><td>1991</td><td>Nelson Piquet</td><td>11</td><td>63</td><td>5.7272727272727275</td></tr><tr><td>1991</td><td>Michael Schumacher</td><td>3</td><td>16</td><td>5.333333333333333</td></tr><tr><td>1992</td><td>Nigel Mansell</td><td>12</td><td>117</td><td>9.75</td></tr><tr><td>1992</td><td>Ayrton Senna</td><td>9</td><td>71</td><td>7.888888888888889</td></tr><tr><td>1992</td><td>Michael Schumacher</td><td>12</td><td>94</td><td>7.833333333333333</td></tr><tr><td>1993</td><td>Michael Schumacher</td><td>9</td><td>79</td><td>8.777777777777779</td></tr><tr><td>1993</td><td>Alain Prost</td><td>15</td><td>118</td><td>7.866666666666666</td></tr><tr><td>1993</td><td>Ayrton Senna</td><td>12</td><td>88</td><td>7.333333333333333</td></tr><tr><td>1994</td><td>Michael Schumacher</td><td>10</td><td>98</td><td>9.8</td></tr><tr><td>1994</td><td>Nigel Mansell</td><td>2</td><td>17</td><td>8.5</td></tr><tr><td>1995</td><td>Michael Schumacher</td><td>13</td><td>113</td><td>8.692307692307692</td></tr><tr><td>1995</td><td>Nigel Mansell</td><td>1</td><td>1</td><td>1.0</td></tr><tr><td>1996</td><td>Michael Schumacher</td><td>10</td><td>82</td><td>8.2</td></tr><tr><td>1997</td><td>Michael Schumacher</td><td>13</td><td>107</td><td>8.23076923076923</td></tr><tr><td>1998</td><td>Michael Schumacher</td><td>13</td><td>109</td><td>8.384615384615385</td></tr><tr><td>1999</td><td>Michael Schumacher</td><td>8</td><td>64</td><td>8.0</td></tr><tr><td>2000</td><td>Michael Schumacher</td><td>13</td><td>122</td><td>9.384615384615385</td></tr><tr><td>2001</td><td>Michael Schumacher</td><td>15</td><td>142</td><td>9.466666666666667</td></tr><tr><td>2001</td><td>Juan Pablo Montoya</td><td>6</td><td>47</td><td>7.833333333333333</td></tr><tr><td>2002</td><td>Michael Schumacher</td><td>17</td><td>163</td><td>9.588235294117647</td></tr><tr><td>2002</td><td>Juan Pablo Montoya</td><td>13</td><td>94</td><td>7.230769230769231</td></tr><tr><td>2003</td><td>Michael Schumacher</td><td>15</td><td>111</td><td>7.4</td></tr><tr><td>2003</td><td>Juan Pablo Montoya</td><td>13</td><td>96</td><td>7.384615384615385</td></tr><tr><td>2004</td><td>Michael Schumacher</td><td>17</td><td>151</td><td>8.882352941176471</td></tr><tr><td>2004</td><td>Juan Pablo Montoya</td><td>14</td><td>79</td><td>5.642857142857143</td></tr><tr><td>2005</td><td>Juan Pablo Montoya</td><td>11</td><td>70</td><td>6.363636363636363</td></tr><tr><td>2005</td><td>Michael Schumacher</td><td>13</td><td>82</td><td>6.3076923076923075</td></tr><tr><td>2006</td><td>Michael Schumacher</td><td>16</td><td>135</td><td>8.4375</td></tr><tr><td>2006</td><td>Juan Pablo Montoya</td><td>5</td><td>35</td><td>7.0</td></tr><tr><td>2007</td><td>Lewis Hamilton</td><td>16</td><td>128</td><td>8.0</td></tr><tr><td>2008</td><td>Lewis Hamilton</td><td>17</td><td>112</td><td>6.588235294117647</td></tr><tr><td>2009</td><td>Lewis Hamilton</td><td>14</td><td>47</td><td>3.357142857142857</td></tr><tr><td>2010</td><td>Lewis Hamilton</td><td>16</td><td>116</td><td>7.25</td></tr><tr><td>2010</td><td>Michael Schumacher</td><td>17</td><td>40</td><td>2.3529411764705883</td></tr><tr><td>2011</td><td>Lewis Hamilton</td><td>16</td><td>116</td><td>7.25</td></tr><tr><td>2011</td><td>Michael Schumacher</td><td>14</td><td>38</td><td>2.7142857142857144</td></tr><tr><td>2012</td><td>Lewis Hamilton</td><td>14</td><td>93</td><td>6.642857142857143</td></tr><tr><td>2012</td><td>Michael Schumacher</td><td>12</td><td>24</td><td>2.0</td></tr><tr><td>2013</td><td>Lewis Hamilton</td><td>18</td><td>105</td><td>5.833333333333333</td></tr><tr><td>2014</td><td>Lewis Hamilton</td><td>16</td><td>153</td><td>9.5625</td></tr><tr><td>2015</td><td>Lewis Hamilton</td><td>18</td><td>167</td><td>9.277777777777779</td></tr><tr><td>2016</td><td>Lewis Hamilton</td><td>19</td><td>169</td><td>8.894736842105264</td></tr><tr><td>2017</td><td>Lewis Hamilton</td><td>20</td><td>166</td><td>8.3</td></tr><tr><td>2018</td><td>Lewis Hamilton</td><td>20</td><td>181</td><td>9.05</td></tr><tr><td>2019</td><td>Lewis Hamilton</td><td>21</td><td>181</td><td>8.619047619047619</td></tr><tr><td>2020</td><td>Lewis Hamilton</td><td>16</td><td>146</td><td>9.125</td></tr></tbody></table></div>"
      ]
     },
     "metadata": {
      "application/vnd.databricks.v1+output": {
       "addedWidgets": {},
       "aggData": [],
       "aggError": "",
       "aggOverflow": false,
       "aggSchema": [],
       "aggSeriesLimitReached": false,
       "aggType": "",
       "arguments": {},
       "columnCustomDisplayInfos": {},
       "data": [
        [
         1960,
         "Jim Clark",
         5,
         10,
         2.0
        ],
        [
         1961,
         "Jim Clark",
         6,
         27,
         4.5
        ],
        [
         1962,
         "Jim Clark",
         5,
         39,
         7.8
        ],
        [
         1963,
         "Jim Clark",
         10,
         90,
         9.0
        ],
        [
         1964,
         "Jim Clark",
         7,
         43,
         6.142857142857143
        ],
        [
         1965,
         "Jim Clark",
         7,
         61,
         8.714285714285714
        ],
        [
         1965,
         "Jackie Stewart",
         7,
         56,
         8.0
        ],
        [
         1966,
         "Jim Clark",
         3,
         25,
         8.333333333333334
        ],
        [
         1966,
         "Jackie Stewart",
         3,
         23,
         7.666666666666667
        ],
        [
         1967,
         "Jim Clark",
         6,
         53,
         8.833333333333334
        ],
        [
         1967,
         "Jackie Stewart",
         2,
         17,
         8.5
        ],
        [
         1968,
         "Jim Clark",
         1,
         10,
         10.0
        ],
        [
         1968,
         "Jackie Stewart",
         8,
         59,
         7.375
        ],
        [
         1969,
         "Jackie Stewart",
         8,
         76,
         9.5
        ],
        [
         1970,
         "Jackie Stewart",
         5,
         38,
         7.6
        ],
        [
         1971,
         "Jackie Stewart",
         9,
         75,
         8.333333333333334
        ],
        [
         1972,
         "Jackie Stewart",
         8,
         60,
         7.5
        ],
        [
         1972,
         "Niki Lauda",
         7,
         -1,
         -0.14285714285714285
        ],
        [
         1973,
         "Jackie Stewart",
         13,
         103,
         7.923076923076923
        ],
        [
         1973,
         "Niki Lauda",
         5,
         8,
         1.6
        ],
        [
         1974,
         "Niki Lauda",
         7,
         48,
         6.857142857142857
        ],
        [
         1975,
         "Niki Lauda",
         13,
         100,
         7.6923076923076925
        ],
        [
         1976,
         "Niki Lauda",
         11,
         94,
         8.545454545454545
        ],
        [
         1977,
         "Niki Lauda",
         12,
         105,
         8.75
        ],
        [
         1978,
         "Niki Lauda",
         7,
         63,
         9.0
        ],
        [
         1978,
         "Nelson Piquet",
         2,
         2,
         1.0
        ],
        [
         1979,
         "Niki Lauda",
         2,
         12,
         6.0
        ],
        [
         1979,
         "Nelson Piquet",
         4,
         13,
         3.25
        ],
        [
         1980,
         "Nelson Piquet",
         10,
         83,
         8.3
        ],
        [
         1980,
         "Alain Prost",
         7,
         29,
         4.142857142857143
        ],
        [
         1981,
         "Alain Prost",
         6,
         56,
         9.333333333333334
        ],
        [
         1981,
         "Nelson Piquet",
         11,
         79,
         7.181818181818182
        ],
        [
         1981,
         "Nigel Mansell",
         5,
         24,
         4.8
        ],
        [
         1982,
         "Nelson Piquet",
         4,
         32,
         8.0
        ],
        [
         1982,
         "Niki Lauda",
         7,
         51,
         7.285714285714286
        ],
        [
         1982,
         "Alain Prost",
         8,
         57,
         7.125
        ],
        [
         1982,
         "Nigel Mansell",
         6,
         28,
         4.666666666666667
        ],
        [
         1983,
         "Nelson Piquet",
         11,
         85,
         7.7272727272727275
        ],
        [
         1983,
         "Alain Prost",
         12,
         86,
         7.166666666666667
        ],
        [
         1983,
         "Niki Lauda",
         6,
         25,
         4.166666666666667
        ],
        [
         1983,
         "Nigel Mansell",
         8,
         26,
         3.25
        ],
        [
         1984,
         "Niki Lauda",
         10,
         93,
         9.3
        ],
        [
         1984,
         "Alain Prost",
         11,
         98,
         8.909090909090908
        ],
        [
         1984,
         "Nelson Piquet",
         7,
         48,
         6.857142857142857
        ],
        [
         1984,
         "Nigel Mansell",
         5,
         33,
         6.6
        ],
        [
         1984,
         "Ayrton Senna",
         6,
         39,
         6.5
        ],
        [
         1985,
         "Alain Prost",
         12,
         107,
         8.916666666666666
        ],
        [
         1985,
         "Niki Lauda",
         3,
         23,
         7.666666666666667
        ],
        [
         1985,
         "Nelson Piquet",
         7,
         43,
         6.142857142857143
        ],
        [
         1985,
         "Ayrton Senna",
         9,
         54,
         6.0
        ],
        [
         1985,
         "Nigel Mansell",
         10,
         60,
         6.0
        ],
        [
         1986,
         "Nigel Mansell",
         12,
         103,
         8.583333333333334
        ],
        [
         1986,
         "Nelson Piquet",
         12,
         102,
         8.5
        ],
        [
         1986,
         "Ayrton Senna",
         10,
         85,
         8.5
        ],
        [
         1986,
         "Alain Prost",
         13,
         110,
         8.461538461538462
        ],
        [
         1987,
         "Nelson Piquet",
         13,
         104,
         8.0
        ],
        [
         1987,
         "Ayrton Senna",
         12,
         95,
         7.916666666666667
        ],
        [
         1987,
         "Nigel Mansell",
         10,
         76,
         7.6
        ],
        [
         1987,
         "Alain Prost",
         12,
         74,
         6.166666666666667
        ],
        [
         1988,
         "Alain Prost",
         14,
         133,
         9.5
        ],
        [
         1988,
         "Nigel Mansell",
         2,
         18,
         9.0
        ],
        [
         1988,
         "Ayrton Senna",
         14,
         120,
         8.571428571428571
        ],
        [
         1988,
         "Nelson Piquet",
         9,
         56,
         6.222222222222222
        ],
        [
         1989,
         "Nigel Mansell",
         6,
         54,
         9.0
        ],
        [
         1989,
         "Alain Prost",
         13,
         115,
         8.846153846153847
        ],
        [
         1989,
         "Ayrton Senna",
         9,
         73,
         8.11111111111111
        ],
        [
         1989,
         "Nelson Piquet",
         8,
         38,
         4.75
        ],
        [
         1990,
         "Ayrton Senna",
         11,
         102,
         9.272727272727273
        ],
        [
         1990,
         "Alain Prost",
         12,
         104,
         8.666666666666666
        ],
        [
         1990,
         "Nelson Piquet",
         13,
         89,
         6.846153846153846
        ],
        [
         1990,
         "Nigel Mansell",
         9,
         46,
         5.111111111111111
        ],
        [
         1991,
         "Nigel Mansell",
         10,
         91,
         9.1
        ],
        [
         1991,
         "Ayrton Senna",
         15,
         130,
         8.666666666666666
        ],
        [
         1991,
         "Alain Prost",
         8,
         63,
         7.875
        ],
        [
         1991,
         "Nelson Piquet",
         11,
         63,
         5.7272727272727275
        ],
        [
         1991,
         "Michael Schumacher",
         3,
         16,
         5.333333333333333
        ],
        [
         1992,
         "Nigel Mansell",
         12,
         117,
         9.75
        ],
        [
         1992,
         "Ayrton Senna",
         9,
         71,
         7.888888888888889
        ],
        [
         1992,
         "Michael Schumacher",
         12,
         94,
         7.833333333333333
        ],
        [
         1993,
         "Michael Schumacher",
         9,
         79,
         8.777777777777779
        ],
        [
         1993,
         "Alain Prost",
         15,
         118,
         7.866666666666666
        ],
        [
         1993,
         "Ayrton Senna",
         12,
         88,
         7.333333333333333
        ],
        [
         1994,
         "Michael Schumacher",
         10,
         98,
         9.8
        ],
        [
         1994,
         "Nigel Mansell",
         2,
         17,
         8.5
        ],
        [
         1995,
         "Michael Schumacher",
         13,
         113,
         8.692307692307692
        ],
        [
         1995,
         "Nigel Mansell",
         1,
         1,
         1.0
        ],
        [
         1996,
         "Michael Schumacher",
         10,
         82,
         8.2
        ],
        [
         1997,
         "Michael Schumacher",
         13,
         107,
         8.23076923076923
        ],
        [
         1998,
         "Michael Schumacher",
         13,
         109,
         8.384615384615385
        ],
        [
         1999,
         "Michael Schumacher",
         8,
         64,
         8.0
        ],
        [
         2000,
         "Michael Schumacher",
         13,
         122,
         9.384615384615385
        ],
        [
         2001,
         "Michael Schumacher",
         15,
         142,
         9.466666666666667
        ],
        [
         2001,
         "Juan Pablo Montoya",
         6,
         47,
         7.833333333333333
        ],
        [
         2002,
         "Michael Schumacher",
         17,
         163,
         9.588235294117647
        ],
        [
         2002,
         "Juan Pablo Montoya",
         13,
         94,
         7.230769230769231
        ],
        [
         2003,
         "Michael Schumacher",
         15,
         111,
         7.4
        ],
        [
         2003,
         "Juan Pablo Montoya",
         13,
         96,
         7.384615384615385
        ],
        [
         2004,
         "Michael Schumacher",
         17,
         151,
         8.882352941176471
        ],
        [
         2004,
         "Juan Pablo Montoya",
         14,
         79,
         5.642857142857143
        ],
        [
         2005,
         "Juan Pablo Montoya",
         11,
         70,
         6.363636363636363
        ],
        [
         2005,
         "Michael Schumacher",
         13,
         82,
         6.3076923076923075
        ],
        [
         2006,
         "Michael Schumacher",
         16,
         135,
         8.4375
        ],
        [
         2006,
         "Juan Pablo Montoya",
         5,
         35,
         7.0
        ],
        [
         2007,
         "Lewis Hamilton",
         16,
         128,
         8.0
        ],
        [
         2008,
         "Lewis Hamilton",
         17,
         112,
         6.588235294117647
        ],
        [
         2009,
         "Lewis Hamilton",
         14,
         47,
         3.357142857142857
        ],
        [
         2010,
         "Lewis Hamilton",
         16,
         116,
         7.25
        ],
        [
         2010,
         "Michael Schumacher",
         17,
         40,
         2.3529411764705883
        ],
        [
         2011,
         "Lewis Hamilton",
         16,
         116,
         7.25
        ],
        [
         2011,
         "Michael Schumacher",
         14,
         38,
         2.7142857142857144
        ],
        [
         2012,
         "Lewis Hamilton",
         14,
         93,
         6.642857142857143
        ],
        [
         2012,
         "Michael Schumacher",
         12,
         24,
         2.0
        ],
        [
         2013,
         "Lewis Hamilton",
         18,
         105,
         5.833333333333333
        ],
        [
         2014,
         "Lewis Hamilton",
         16,
         153,
         9.5625
        ],
        [
         2015,
         "Lewis Hamilton",
         18,
         167,
         9.277777777777779
        ],
        [
         2016,
         "Lewis Hamilton",
         19,
         169,
         8.894736842105264
        ],
        [
         2017,
         "Lewis Hamilton",
         20,
         166,
         8.3
        ],
        [
         2018,
         "Lewis Hamilton",
         20,
         181,
         9.05
        ],
        [
         2019,
         "Lewis Hamilton",
         21,
         181,
         8.619047619047619
        ],
        [
         2020,
         "Lewis Hamilton",
         16,
         146,
         9.125
        ]
       ],
       "datasetInfos": [],
       "dbfsResultPath": null,
       "isJsonSchema": true,
       "metadata": {
        "isDbfsCommandResult": false
       },
       "overflow": false,
       "plotOptions": {
        "customPlotOptions": {},
        "displayType": "table",
        "pivotAggregation": null,
        "pivotColumns": null,
        "xColumns": null,
        "yColumns": null
       },
       "removedWidgets": [],
       "schema": [
        {
         "metadata": "{}",
         "name": "race_year",
         "type": "\"integer\""
        },
        {
         "metadata": "{}",
         "name": "driver_name",
         "type": "\"string\""
        },
        {
         "metadata": "{}",
         "name": "total_races",
         "type": "\"long\""
        },
        {
         "metadata": "{}",
         "name": "total_points",
         "type": "\"long\""
        },
        {
         "metadata": "{}",
         "name": "avg_points",
         "type": "\"double\""
        }
       ],
       "type": "table"
      }
     },
     "output_type": "display_data"
    },
    {
     "output_type": "display_data",
     "data": {
      "text/plain": [
       "Databricks visualization. Run in Databricks to view."
      ]
     },
     "metadata": {
      "application/vnd.databricks.v1.subcommand+json": {
       "baseErrorDetails": null,
       "bindings": {},
       "collapsed": false,
       "command": "%sql WITH q AS (SELECT  race_year,\n        driver_name,\n        COUNT(1) AS total_races,\n        SUM(calculated_points) AS total_points,\n        AVG(calculated_points) AS avg_points\n  FROM f1_presentation.calculated_race_results\n  WHERE driver_name IN (SELECT driver_name FROM v_dominant_drivers WHERE driver_rank <= 10)\n  GROUP BY race_year, driver_name\n  ORDER BY race_year, avg_points DESC) SELECT `driver_name`,COUNT(*) `column_1980e20512` FROM q GROUP BY `driver_name`",
       "commandTitle": "Visualization 1",
       "commandType": "auto",
       "commandVersion": 0,
       "commentThread": [],
       "commentsVisible": false,
       "contentSha256Hex": null,
       "customPlotOptions": {
        "redashChart": [
         {
          "key": "type",
          "value": "CHART"
         },
         {
          "key": "options",
          "value": {
           "alignYAxesAtZero": true,
           "coefficient": 1,
           "columnConfigurationMap": {
            "x": {
             "column": "driver_name",
             "id": "column_1980e2053"
            },
            "y": [
             {
              "column": "total_races",
              "id": "column_1980e20512",
              "transform": "SUM"
             },
             {
              "column": "total_points",
              "id": "column_4880b0d93",
              "transform": "SUM"
             }
            ]
           },
           "dateTimeFormat": "DD/MM/YYYY HH:mm",
           "direction": {
            "type": "counterclockwise"
           },
           "error_y": {
            "type": "data",
            "visible": true
           },
           "globalSeriesType": "column",
           "hideXAxis": false,
           "isAggregationOn": true,
           "legend": {
            "traceorder": "normal"
           },
           "missingValuesAsZero": true,
           "numberFormat": "0,0.[00000]",
           "percentFormat": "0[.]00%",
           "reverseX": false,
           "series": {
            "error_y": {
             "type": "data",
             "visible": true
            },
            "stacking": ""
           },
           "seriesOptions": {
            "column_1980e20512": {
             "type": "column",
             "yAxis": 0
            },
            "column_1980e2055": {
             "type": "column",
             "yAxis": 0
            },
            "column_4880b0d93": {
             "type": "column",
             "yAxis": 0
            }
           },
           "showDataLabels": false,
           "sizemode": "diameter",
           "sortX": true,
           "sortY": true,
           "swappedAxes": false,
           "textFormat": "",
           "useAggregationsUi": true,
           "valuesOptions": {},
           "version": 2,
           "xAxis": {
            "labels": {
             "enabled": true
            },
            "type": "-"
           },
           "yAxis": [
            {
             "type": "-"
            },
            {
             "opposite": true,
             "type": "-"
            }
           ]
          }
         }
        ]
       },
       "datasetPreviewNameToCmdIdMap": {},
       "diffDeletes": [],
       "diffInserts": [],
       "displayType": "redashChart",
       "error": null,
       "errorDetails": null,
       "errorSummary": null,
       "errorTraceType": null,
       "finishTime": 0,
       "globalVars": {},
       "guid": "",
       "height": "auto",
       "hideCommandCode": false,
       "hideCommandResult": false,
       "iPythonMetadata": null,
       "inputWidgets": {},
       "isLockedInExamMode": false,
       "latestUser": "a user",
       "latestUserId": null,
       "listResultMetadata": null,
       "metadata": {},
       "nuid": "d8104af8-7dba-4ded-89dd-1db87ed2a427",
       "origId": 0,
       "parentHierarchy": [],
       "pivotAggregation": null,
       "pivotColumns": null,
       "position": 3.0,
       "resultDbfsErrorMessage": null,
       "resultDbfsStatus": "INLINED_IN_TREE",
       "results": null,
       "showCommandTitle": false,
       "startTime": 0,
       "state": "input",
       "streamStates": {},
       "subcommandOptions": {
        "queryPlan": {
         "groups": [
          {
           "column": "driver_name",
           "type": "column"
          }
         ],
         "selects": [
          {
           "column": "driver_name",
           "type": "column"
          },
          {
           "alias": "column_1980e20512",
           "args": [
            {
             "column": "total_races",
             "type": "column"
            }
           ],
           "function": "SUM",
           "type": "function"
          },
          {
           "alias": "column_4880b0d93",
           "args": [
            {
             "column": "total_points",
             "type": "column"
            }
           ],
           "function": "SUM",
           "type": "function"
          }
         ]
        }
       },
       "submitTime": 0,
       "subtype": "tableResultSubCmd.visualization",
       "tableResultIndex": 0,
       "useConsistentColors": false,
       "version": "CommandV1",
       "width": "auto",
       "workflows": [],
       "xColumns": null,
       "yColumns": null
      }
     },
     "output_type": "display_data"
    },
    {
     "output_type": "display_data",
     "data": {
      "text/plain": [
       "Databricks visualization. Run in Databricks to view."
      ]
     },
     "metadata": {
      "application/vnd.databricks.v1.subcommand+json": {
       "baseErrorDetails": null,
       "bindings": {},
       "collapsed": false,
       "command": "%sql WITH q AS (SELECT  race_year,\n        driver_name,\n        COUNT(1) AS total_races,\n        SUM(calculated_points) AS total_points,\n        AVG(calculated_points) AS avg_points\n  FROM f1_presentation.calculated_race_results\n  WHERE driver_name IN (SELECT driver_name FROM v_dominant_drivers WHERE driver_rank <= 10)\n  GROUP BY race_year, driver_name\n  ORDER BY race_year, avg_points DESC) SELECT `race_year`,SUM(`avg_points`) `column_1980e20516`,`driver_name` FROM q GROUP BY `driver_name`,`race_year`",
       "commandTitle": "Visualization 2",
       "commandType": "auto",
       "commandVersion": 0,
       "commentThread": [],
       "commentsVisible": false,
       "contentSha256Hex": null,
       "customPlotOptions": {
        "redashChart": [
         {
          "key": "type",
          "value": "CHART"
         },
         {
          "key": "options",
          "value": {
           "alignYAxesAtZero": true,
           "coefficient": 1,
           "columnConfigurationMap": {
            "series": {
             "column": "driver_name",
             "id": "column_1980e20519"
            },
            "x": {
             "column": "race_year",
             "id": "column_1980e20518"
            },
            "y": [
             {
              "column": "avg_points",
              "id": "column_1980e20516",
              "transform": "SUM"
             }
            ]
           },
           "dateTimeFormat": "DD/MM/YYYY HH:mm",
           "direction": {
            "type": "counterclockwise"
           },
           "error_y": {
            "type": "data",
            "visible": true
           },
           "globalSeriesType": "line",
           "isAggregationOn": true,
           "legend": {
            "traceorder": "normal"
           },
           "missingValuesAsZero": true,
           "numberFormat": "0,0.[00000]",
           "percentFormat": "0[.]00%",
           "series": {
            "error_y": {
             "type": "data",
             "visible": true
            },
            "stacking": null
           },
           "seriesOptions": {
            "column_1980e20516": {
             "type": "line",
             "yAxis": 0
            }
           },
           "showDataLabels": false,
           "sizemode": "diameter",
           "sortX": true,
           "sortY": true,
           "swappedAxes": false,
           "textFormat": "",
           "useAggregationsUi": true,
           "valuesOptions": {},
           "version": 2,
           "xAxis": {
            "labels": {
             "enabled": true
            },
            "type": "-"
           },
           "yAxis": [
            {
             "type": "-"
            },
            {
             "opposite": true,
             "type": "-"
            }
           ]
          }
         }
        ]
       },
       "datasetPreviewNameToCmdIdMap": {},
       "diffDeletes": [],
       "diffInserts": [],
       "displayType": "redashChart",
       "error": null,
       "errorDetails": null,
       "errorSummary": null,
       "errorTraceType": null,
       "finishTime": 0,
       "globalVars": {},
       "guid": "",
       "height": "auto",
       "hideCommandCode": false,
       "hideCommandResult": false,
       "iPythonMetadata": null,
       "inputWidgets": {},
       "isLockedInExamMode": false,
       "latestUser": "a user",
       "latestUserId": null,
       "listResultMetadata": null,
       "metadata": {},
       "nuid": "a0f02a11-f6e4-4df6-918f-50d9b6f7ef66",
       "origId": 0,
       "parentHierarchy": [],
       "pivotAggregation": null,
       "pivotColumns": null,
       "position": 4.0,
       "resultDbfsErrorMessage": null,
       "resultDbfsStatus": "INLINED_IN_TREE",
       "results": null,
       "showCommandTitle": false,
       "startTime": 0,
       "state": "input",
       "streamStates": {},
       "subcommandOptions": {
        "queryPlan": {
         "groups": [
          {
           "column": "race_year",
           "type": "column"
          },
          {
           "column": "driver_name",
           "type": "column"
          }
         ],
         "selects": [
          {
           "column": "race_year",
           "type": "column"
          },
          {
           "alias": "column_1980e20516",
           "args": [
            {
             "column": "avg_points",
             "type": "column"
            }
           ],
           "function": "SUM",
           "type": "function"
          },
          {
           "column": "driver_name",
           "type": "column"
          }
         ]
        }
       },
       "submitTime": 0,
       "subtype": "tableResultSubCmd.visualization",
       "tableResultIndex": 0,
       "useConsistentColors": false,
       "version": "CommandV1",
       "width": "auto",
       "workflows": [],
       "xColumns": null,
       "yColumns": null
      }
     },
     "output_type": "display_data"
    },
    {
     "output_type": "display_data",
     "data": {
      "text/plain": [
       "Databricks visualization. Run in Databricks to view."
      ]
     },
     "metadata": {
      "application/vnd.databricks.v1.subcommand+json": {
       "baseErrorDetails": null,
       "bindings": {},
       "collapsed": false,
       "command": "%sql WITH q AS (SELECT  race_year,\n        driver_name,\n        COUNT(1) AS total_races,\n        SUM(calculated_points) AS total_points,\n        AVG(calculated_points) AS avg_points\n  FROM f1_presentation.calculated_race_results\n  WHERE driver_name IN (SELECT driver_name FROM v_dominant_drivers WHERE driver_rank <= 10)\n  GROUP BY race_year, driver_name\n  ORDER BY race_year, avg_points DESC) SELECT `driver_name`,COUNT(*) `column_1980e20512` FROM q GROUP BY `driver_name`",
       "commandTitle": "Visualization 1 - Duplicate",
       "commandType": "auto",
       "commandVersion": 0,
       "commentThread": [],
       "commentsVisible": false,
       "contentSha256Hex": null,
       "customPlotOptions": {
        "redashChart": [
         {
          "key": "type",
          "value": "CHART"
         },
         {
          "key": "options",
          "value": {
           "alignYAxesAtZero": true,
           "coefficient": 1,
           "columnConfigurationMap": {
            "series": {
             "column": "driver_name",
             "id": "column_4880b0d915"
            },
            "x": {
             "column": "race_year",
             "id": "column_4880b0d914"
            },
            "y": [
             {
              "column": "avg_points",
              "id": "column_1980e20512",
              "transform": "SUM"
             }
            ]
           },
           "dateTimeFormat": "DD/MM/YYYY HH:mm",
           "direction": {
            "type": "counterclockwise"
           },
           "error_y": {
            "type": "data",
            "visible": true
           },
           "globalSeriesType": "area",
           "hideXAxis": false,
           "isAggregationOn": true,
           "legend": {
            "traceorder": "normal"
           },
           "missingValuesAsZero": true,
           "numberFormat": "0,0.[00000]",
           "percentFormat": "0[.]00%",
           "reverseX": false,
           "series": {
            "error_y": {
             "type": "data",
             "visible": true
            },
            "stacking": ""
           },
           "seriesOptions": {
            "column_1980e20512": {
             "type": "area",
             "yAxis": 0
            },
            "column_1980e2055": {
             "type": "area",
             "yAxis": 0
            },
            "column_4880b0d93": {
             "type": "area",
             "yAxis": 0
            }
           },
           "showDataLabels": false,
           "sizemode": "diameter",
           "sortX": true,
           "sortY": true,
           "swappedAxes": false,
           "textFormat": "",
           "useAggregationsUi": true,
           "valuesOptions": {},
           "version": 2,
           "xAxis": {
            "labels": {
             "enabled": true
            },
            "type": "-"
           },
           "yAxis": [
            {
             "type": "-"
            },
            {
             "opposite": true,
             "type": "-"
            }
           ]
          }
         }
        ]
       },
       "datasetPreviewNameToCmdIdMap": {},
       "diffDeletes": [],
       "diffInserts": [],
       "displayType": "redashChart",
       "error": null,
       "errorDetails": null,
       "errorSummary": null,
       "errorTraceType": null,
       "finishTime": 0,
       "globalVars": {},
       "guid": "",
       "height": "auto",
       "hideCommandCode": false,
       "hideCommandResult": false,
       "iPythonMetadata": null,
       "inputWidgets": {},
       "isLockedInExamMode": false,
       "latestUser": "a user",
       "latestUserId": null,
       "listResultMetadata": null,
       "metadata": {},
       "nuid": "a6df9586-5d0d-427b-85d4-d1c27c32d720",
       "origId": 0,
       "parentHierarchy": [],
       "pivotAggregation": null,
       "pivotColumns": null,
       "position": 5.0,
       "resultDbfsErrorMessage": null,
       "resultDbfsStatus": "INLINED_IN_TREE",
       "results": null,
       "showCommandTitle": false,
       "startTime": 0,
       "state": "input",
       "streamStates": {},
       "subcommandOptions": {
        "queryPlan": {
         "groups": [
          {
           "column": "race_year",
           "type": "column"
          },
          {
           "column": "driver_name",
           "type": "column"
          }
         ],
         "selects": [
          {
           "column": "race_year",
           "type": "column"
          },
          {
           "alias": "column_1980e20512",
           "args": [
            {
             "column": "avg_points",
             "type": "column"
            }
           ],
           "function": "SUM",
           "type": "function"
          },
          {
           "column": "driver_name",
           "type": "column"
          }
         ]
        }
       },
       "submitTime": 0,
       "subtype": "tableResultSubCmd.visualization",
       "tableResultIndex": 0,
       "useConsistentColors": false,
       "version": "CommandV1",
       "width": "auto",
       "workflows": [],
       "xColumns": null,
       "yColumns": null
      }
     },
     "output_type": "display_data"
    }
   ],
   "source": [
    "SELECT  race_year,\n",
    "        driver_name,\n",
    "        COUNT(1) AS total_races,\n",
    "        SUM(calculated_points) AS total_points,\n",
    "        AVG(calculated_points) AS avg_points\n",
    "  FROM f1_presentation.calculated_race_results\n",
    "  WHERE driver_name IN (SELECT driver_name FROM v_dominant_drivers WHERE driver_rank <= 10)\n",
    "  GROUP BY race_year, driver_name\n",
    "  ORDER BY race_year, avg_points DESC"
   ]
  },
  {
   "cell_type": "code",
   "execution_count": 0,
   "metadata": {
    "application/vnd.databricks.v1+cell": {
     "cellMetadata": {
      "byteLimit": 2048000,
      "rowLimit": 10000
     },
     "inputWidgets": {},
     "nuid": "3e097256-6466-472f-aeb9-26f6a5444f53",
     "showTitle": false,
     "title": ""
    }
   },
   "outputs": [
    {
     "output_type": "display_data",
     "data": {
      "text/html": [
       "<style scoped>\n",
       "  .table-result-container {\n",
       "    max-height: 300px;\n",
       "    overflow: auto;\n",
       "  }\n",
       "  table, th, td {\n",
       "    border: 1px solid black;\n",
       "    border-collapse: collapse;\n",
       "  }\n",
       "  th, td {\n",
       "    padding: 5px;\n",
       "  }\n",
       "  th {\n",
       "    text-align: left;\n",
       "  }\n",
       "</style><div class='table-result-container'><table class='table-result'><thead style='background-color: white'><tr></tr></thead><tbody></tbody></table></div>"
      ]
     },
     "metadata": {
      "application/vnd.databricks.v1+output": {
       "addedWidgets": {},
       "aggData": [],
       "aggError": "",
       "aggOverflow": false,
       "aggSchema": [],
       "aggSeriesLimitReached": false,
       "aggType": "",
       "arguments": {},
       "columnCustomDisplayInfos": {},
       "data": [],
       "datasetInfos": [],
       "dbfsResultPath": null,
       "isJsonSchema": true,
       "metadata": {
        "isDbfsCommandResult": false
       },
       "overflow": false,
       "plotOptions": {
        "customPlotOptions": {},
        "displayType": "table",
        "pivotAggregation": null,
        "pivotColumns": null,
        "xColumns": null,
        "yColumns": null
       },
       "removedWidgets": [],
       "schema": [],
       "type": "table"
      }
     },
     "output_type": "display_data"
    }
   ],
   "source": [
    "CREATE OR REPLACE TEMP VIEW v_dominant_teams\n",
    "AS\n",
    "SELECT  team_name,\n",
    "        COUNT(1) AS total_races,\n",
    "        SUM(calculated_points) AS total_points,\n",
    "        AVG(calculated_points) AS avg_points,\n",
    "        RANK() OVER(ORDER BY AVG(calculated_points) DESC) team_rank\n",
    "  FROM f1_presentation.calculated_race_results\n",
    "  GROUP BY team_name\n",
    "  HAVING count(1) >= 100\n",
    "  ORDER BY avg_points DESC"
   ]
  },
  {
   "cell_type": "code",
   "execution_count": 0,
   "metadata": {
    "application/vnd.databricks.v1+cell": {
     "cellMetadata": {
      "byteLimit": 2048000,
      "rowLimit": 10000
     },
     "inputWidgets": {},
     "nuid": "9d65fc01-3aed-4d3e-9ac7-4d02279bf3c0",
     "showTitle": false,
     "title": ""
    }
   },
   "outputs": [
    {
     "output_type": "display_data",
     "data": {
      "text/html": [
       "<style scoped>\n",
       "  .table-result-container {\n",
       "    max-height: 300px;\n",
       "    overflow: auto;\n",
       "  }\n",
       "  table, th, td {\n",
       "    border: 1px solid black;\n",
       "    border-collapse: collapse;\n",
       "  }\n",
       "  th, td {\n",
       "    padding: 5px;\n",
       "  }\n",
       "  th {\n",
       "    text-align: left;\n",
       "  }\n",
       "</style><div class='table-result-container'><table class='table-result'><thead style='background-color: white'><tr><th>team_name</th><th>total_races</th><th>total_points</th><th>avg_points</th><th>team_rank</th></tr></thead><tbody><tr><td>Mercedes</td><td>413</td><td>2877</td><td>6.966101694915254</td><td>1</td></tr><tr><td>Ferrari</td><td>1602</td><td>10211</td><td>6.3739076154806495</td><td>2</td></tr><tr><td>Red Bull</td><td>494</td><td>2731</td><td>5.52834008097166</td><td>3</td></tr><tr><td>McLaren</td><td>1215</td><td>6467</td><td>5.322633744855967</td><td>4</td></tr><tr><td>Benetton</td><td>336</td><td>1726</td><td>5.136904761904762</td><td>5</td></tr><tr><td>Cooper-Climax</td><td>150</td><td>755</td><td>5.033333333333333</td><td>6</td></tr><tr><td>Maserati</td><td>196</td><td>923</td><td>4.709183673469388</td><td>7</td></tr><tr><td>Team Lotus</td><td>430</td><td>1950</td><td>4.534883720930233</td><td>8</td></tr><tr><td>BRM</td><td>261</td><td>1116</td><td>4.275862068965517</td><td>9</td></tr><tr><td>Brabham</td><td>299</td><td>1265</td><td>4.230769230769231</td><td>10</td></tr><tr><td>Lotus-Climax</td><td>115</td><td>465</td><td>4.043478260869565</td><td>11</td></tr><tr><td>Williams</td><td>1062</td><td>3802</td><td>3.5800376647834273</td><td>12</td></tr><tr><td>BMW Sauber</td><td>119</td><td>415</td><td>3.4873949579831933</td><td>13</td></tr><tr><td>Renault</td><td>525</td><td>1787</td><td>3.4038095238095236</td><td>14</td></tr><tr><td>Tyrrell</td><td>456</td><td>1538</td><td>3.3728070175438596</td><td>15</td></tr><tr><td>BAR</td><td>138</td><td>455</td><td>3.2971014492753623</td><td>16</td></tr><tr><td>Ligier</td><td>310</td><td>1012</td><td>3.264516129032258</td><td>17</td></tr><tr><td>Lotus F1</td><td>112</td><td>302</td><td>2.6964285714285716</td><td>18</td></tr><tr><td>Jordan</td><td>274</td><td>680</td><td>2.4817518248175183</td><td>19</td></tr><tr><td>Arrows</td><td>278</td><td>577</td><td>2.0755395683453237</td><td>20</td></tr><tr><td>Toyota</td><td>202</td><td>397</td><td>1.9653465346534653</td><td>21</td></tr><tr><td>Kurtis Kraft</td><td>113</td><td>222</td><td>1.9646017699115044</td><td>22</td></tr><tr><td>March</td><td>206</td><td>402</td><td>1.9514563106796117</td><td>23</td></tr><tr><td>Honda</td><td>102</td><td>185</td><td>1.8137254901960784</td><td>24</td></tr><tr><td>Alfa Romeo</td><td>169</td><td>294</td><td>1.7396449704142012</td><td>25</td></tr><tr><td>Force India</td><td>341</td><td>415</td><td>1.217008797653959</td><td>26</td></tr><tr><td>Surtees</td><td>119</td><td>123</td><td>1.0336134453781514</td><td>27</td></tr><tr><td>Sauber</td><td>523</td><td>511</td><td>0.9770554493307839</td><td>28</td></tr><tr><td>Toro Rosso</td><td>398</td><td>-179</td><td>-0.44974874371859297</td><td>29</td></tr><tr><td>Minardi</td><td>300</td><td>-180</td><td>-0.6</td><td>30</td></tr><tr><td>Haas F1 Team</td><td>148</td><td>-155</td><td>-1.0472972972972974</td><td>31</td></tr></tbody></table></div>"
      ]
     },
     "metadata": {
      "application/vnd.databricks.v1+output": {
       "addedWidgets": {},
       "aggData": [],
       "aggError": "",
       "aggOverflow": false,
       "aggSchema": [],
       "aggSeriesLimitReached": false,
       "aggType": "",
       "arguments": {},
       "columnCustomDisplayInfos": {},
       "data": [
        [
         "Mercedes",
         413,
         2877,
         6.966101694915254,
         1
        ],
        [
         "Ferrari",
         1602,
         10211,
         6.3739076154806495,
         2
        ],
        [
         "Red Bull",
         494,
         2731,
         5.52834008097166,
         3
        ],
        [
         "McLaren",
         1215,
         6467,
         5.322633744855967,
         4
        ],
        [
         "Benetton",
         336,
         1726,
         5.136904761904762,
         5
        ],
        [
         "Cooper-Climax",
         150,
         755,
         5.033333333333333,
         6
        ],
        [
         "Maserati",
         196,
         923,
         4.709183673469388,
         7
        ],
        [
         "Team Lotus",
         430,
         1950,
         4.534883720930233,
         8
        ],
        [
         "BRM",
         261,
         1116,
         4.275862068965517,
         9
        ],
        [
         "Brabham",
         299,
         1265,
         4.230769230769231,
         10
        ],
        [
         "Lotus-Climax",
         115,
         465,
         4.043478260869565,
         11
        ],
        [
         "Williams",
         1062,
         3802,
         3.5800376647834273,
         12
        ],
        [
         "BMW Sauber",
         119,
         415,
         3.4873949579831933,
         13
        ],
        [
         "Renault",
         525,
         1787,
         3.4038095238095236,
         14
        ],
        [
         "Tyrrell",
         456,
         1538,
         3.3728070175438596,
         15
        ],
        [
         "BAR",
         138,
         455,
         3.2971014492753623,
         16
        ],
        [
         "Ligier",
         310,
         1012,
         3.264516129032258,
         17
        ],
        [
         "Lotus F1",
         112,
         302,
         2.6964285714285716,
         18
        ],
        [
         "Jordan",
         274,
         680,
         2.4817518248175183,
         19
        ],
        [
         "Arrows",
         278,
         577,
         2.0755395683453237,
         20
        ],
        [
         "Toyota",
         202,
         397,
         1.9653465346534653,
         21
        ],
        [
         "Kurtis Kraft",
         113,
         222,
         1.9646017699115044,
         22
        ],
        [
         "March",
         206,
         402,
         1.9514563106796117,
         23
        ],
        [
         "Honda",
         102,
         185,
         1.8137254901960784,
         24
        ],
        [
         "Alfa Romeo",
         169,
         294,
         1.7396449704142012,
         25
        ],
        [
         "Force India",
         341,
         415,
         1.217008797653959,
         26
        ],
        [
         "Surtees",
         119,
         123,
         1.0336134453781514,
         27
        ],
        [
         "Sauber",
         523,
         511,
         0.9770554493307839,
         28
        ],
        [
         "Toro Rosso",
         398,
         -179,
         -0.44974874371859297,
         29
        ],
        [
         "Minardi",
         300,
         -180,
         -0.6,
         30
        ],
        [
         "Haas F1 Team",
         148,
         -155,
         -1.0472972972972974,
         31
        ]
       ],
       "datasetInfos": [],
       "dbfsResultPath": null,
       "isJsonSchema": true,
       "metadata": {
        "isDbfsCommandResult": false
       },
       "overflow": false,
       "plotOptions": {
        "customPlotOptions": {},
        "displayType": "table",
        "pivotAggregation": null,
        "pivotColumns": null,
        "xColumns": null,
        "yColumns": null
       },
       "removedWidgets": [],
       "schema": [
        {
         "metadata": "{}",
         "name": "team_name",
         "type": "\"string\""
        },
        {
         "metadata": "{}",
         "name": "total_races",
         "type": "\"long\""
        },
        {
         "metadata": "{}",
         "name": "total_points",
         "type": "\"long\""
        },
        {
         "metadata": "{}",
         "name": "avg_points",
         "type": "\"double\""
        },
        {
         "metadata": "{}",
         "name": "team_rank",
         "type": "\"integer\""
        }
       ],
       "type": "table"
      }
     },
     "output_type": "display_data"
    }
   ],
   "source": [
    "select * FROM v_dominant_teams"
   ]
  },
  {
   "cell_type": "code",
   "execution_count": 0,
   "metadata": {
    "application/vnd.databricks.v1+cell": {
     "cellMetadata": {
      "byteLimit": 2048000,
      "rowLimit": 10000
     },
     "inputWidgets": {},
     "nuid": "9f45bc58-b72c-4630-89a5-51188dd19891",
     "showTitle": false,
     "title": ""
    }
   },
   "outputs": [
    {
     "output_type": "display_data",
     "data": {
      "text/html": [
       "<style scoped>\n",
       "  .table-result-container {\n",
       "    max-height: 300px;\n",
       "    overflow: auto;\n",
       "  }\n",
       "  table, th, td {\n",
       "    border: 1px solid black;\n",
       "    border-collapse: collapse;\n",
       "  }\n",
       "  th, td {\n",
       "    padding: 5px;\n",
       "  }\n",
       "  th {\n",
       "    text-align: left;\n",
       "  }\n",
       "</style><div class='table-result-container'><table class='table-result'><thead style='background-color: white'><tr><th>race_year</th><th>team_name</th><th>total_races</th><th>total_points</th><th>avg_points</th></tr></thead><tbody><tr><td>1950</td><td>Ferrari</td><td>8</td><td>57</td><td>7.125</td></tr><tr><td>1951</td><td>Ferrari</td><td>23</td><td>168</td><td>7.304347826086956</td></tr><tr><td>1952</td><td>Ferrari</td><td>32</td><td>199</td><td>6.21875</td></tr><tr><td>1953</td><td>Ferrari</td><td>36</td><td>225</td><td>6.25</td></tr><tr><td>1954</td><td>Mercedes</td><td>12</td><td>96</td><td>8.0</td></tr><tr><td>1954</td><td>Ferrari</td><td>25</td><td>175</td><td>7.0</td></tr><tr><td>1955</td><td>Mercedes</td><td>15</td><td>124</td><td>8.266666666666667</td></tr><tr><td>1955</td><td>Ferrari</td><td>22</td><td>131</td><td>5.954545454545454</td></tr><tr><td>1956</td><td>Ferrari</td><td>23</td><td>172</td><td>7.478260869565218</td></tr><tr><td>1957</td><td>Ferrari</td><td>20</td><td>130</td><td>6.5</td></tr><tr><td>1958</td><td>Ferrari</td><td>21</td><td>159</td><td>7.571428571428571</td></tr><tr><td>1959</td><td>Ferrari</td><td>19</td><td>132</td><td>6.947368421052632</td></tr><tr><td>1960</td><td>Ferrari</td><td>19</td><td>101</td><td>5.315789473684211</td></tr><tr><td>1961</td><td>Ferrari</td><td>20</td><td>148</td><td>7.4</td></tr><tr><td>1962</td><td>Ferrari</td><td>14</td><td>70</td><td>5.0</td></tr><tr><td>1963</td><td>Ferrari</td><td>8</td><td>53</td><td>6.625</td></tr><tr><td>1964</td><td>Ferrari</td><td>15</td><td>105</td><td>7.0</td></tr><tr><td>1965</td><td>Ferrari</td><td>18</td><td>81</td><td>4.5</td></tr><tr><td>1966</td><td>Ferrari</td><td>8</td><td>65</td><td>8.125</td></tr><tr><td>1967</td><td>Ferrari</td><td>11</td><td>64</td><td>5.818181818181818</td></tr><tr><td>1968</td><td>Ferrari</td><td>10</td><td>70</td><td>7.0</td></tr><tr><td>1968</td><td>McLaren</td><td>1</td><td>-2</td><td>-2.0</td></tr><tr><td>1969</td><td>Ferrari</td><td>4</td><td>23</td><td>5.75</td></tr><tr><td>1970</td><td>Ferrari</td><td>17</td><td>114</td><td>6.705882352941177</td></tr><tr><td>1971</td><td>Ferrari</td><td>12</td><td>77</td><td>6.416666666666667</td></tr><tr><td>1971</td><td>McLaren</td><td>13</td><td>40</td><td>3.076923076923077</td></tr><tr><td>1972</td><td>McLaren</td><td>22</td><td>125</td><td>5.681818181818182</td></tr><tr><td>1972</td><td>Ferrari</td><td>20</td><td>94</td><td>4.7</td></tr><tr><td>1973</td><td>McLaren</td><td>27</td><td>140</td><td>5.185185185185185</td></tr><tr><td>1973</td><td>Ferrari</td><td>14</td><td>44</td><td>3.142857142857143</td></tr><tr><td>1974</td><td>Ferrari</td><td>19</td><td>137</td><td>7.2105263157894735</td></tr><tr><td>1974</td><td>McLaren</td><td>34</td><td>177</td><td>5.205882352941177</td></tr><tr><td>1975</td><td>Ferrari</td><td>22</td><td>143</td><td>6.5</td></tr><tr><td>1975</td><td>McLaren</td><td>20</td><td>121</td><td>6.05</td></tr><tr><td>1976</td><td>McLaren</td><td>22</td><td>143</td><td>6.5</td></tr><tr><td>1976</td><td>Ferrari</td><td>24</td><td>156</td><td>6.5</td></tr><tr><td>1977</td><td>Ferrari</td><td>26</td><td>184</td><td>7.076923076923077</td></tr><tr><td>1977</td><td>McLaren</td><td>27</td><td>113</td><td>4.185185185185185</td></tr><tr><td>1978</td><td>Ferrari</td><td>22</td><td>111</td><td>5.045454545454546</td></tr><tr><td>1978</td><td>McLaren</td><td>25</td><td>80</td><td>3.2</td></tr><tr><td>1979</td><td>Ferrari</td><td>25</td><td>180</td><td>7.2</td></tr><tr><td>1979</td><td>McLaren</td><td>15</td><td>53</td><td>3.533333333333333</td></tr><tr><td>1980</td><td>McLaren</td><td>13</td><td>50</td><td>3.8461538461538463</td></tr><tr><td>1980</td><td>Ferrari</td><td>17</td><td>37</td><td>2.176470588235294</td></tr><tr><td>1981</td><td>Ferrari</td><td>14</td><td>68</td><td>4.857142857142857</td></tr><tr><td>1981</td><td>McLaren</td><td>16</td><td>69</td><td>4.3125</td></tr><tr><td>1982</td><td>Ferrari</td><td>17</td><td>115</td><td>6.764705882352941</td></tr><tr><td>1982</td><td>McLaren</td><td>18</td><td>116</td><td>6.444444444444445</td></tr><tr><td>1983</td><td>Ferrari</td><td>20</td><td>148</td><td>7.4</td></tr><tr><td>1983</td><td>McLaren</td><td>14</td><td>72</td><td>5.142857142857143</td></tr><tr><td>1984</td><td>McLaren</td><td>21</td><td>191</td><td>9.095238095238095</td></tr><tr><td>1984</td><td>Ferrari</td><td>20</td><td>123</td><td>6.15</td></tr><tr><td>1985</td><td>McLaren</td><td>16</td><td>134</td><td>8.375</td></tr><tr><td>1985</td><td>Ferrari</td><td>21</td><td>145</td><td>6.904761904761905</td></tr><tr><td>1986</td><td>McLaren</td><td>21</td><td>161</td><td>7.666666666666667</td></tr><tr><td>1986</td><td>Ferrari</td><td>17</td><td>87</td><td>5.117647058823529</td></tr><tr><td>1986</td><td>Benetton</td><td>13</td><td>55</td><td>4.230769230769231</td></tr><tr><td>1987</td><td>Ferrari</td><td>13</td><td>88</td><td>6.769230769230769</td></tr><tr><td>1987</td><td>McLaren</td><td>23</td><td>145</td><td>6.304347826086956</td></tr><tr><td>1987</td><td>Benetton</td><td>16</td><td>75</td><td>4.6875</td></tr><tr><td>1988</td><td>McLaren</td><td>28</td><td>253</td><td>9.035714285714286</td></tr><tr><td>1988</td><td>Ferrari</td><td>21</td><td>116</td><td>5.523809523809524</td></tr><tr><td>1988</td><td>Benetton</td><td>21</td><td>106</td><td>5.0476190476190474</td></tr><tr><td>1989</td><td>Ferrari</td><td>9</td><td>82</td><td>9.11111111111111</td></tr><tr><td>1989</td><td>McLaren</td><td>22</td><td>188</td><td>8.545454545454545</td></tr><tr><td>1989</td><td>Benetton</td><td>19</td><td>81</td><td>4.2631578947368425</td></tr><tr><td>1990</td><td>McLaren</td><td>24</td><td>179</td><td>7.458333333333333</td></tr><tr><td>1990</td><td>Ferrari</td><td>21</td><td>150</td><td>7.142857142857143</td></tr><tr><td>1990</td><td>Benetton</td><td>25</td><td>145</td><td>5.8</td></tr><tr><td>1991</td><td>McLaren</td><td>24</td><td>204</td><td>8.5</td></tr><tr><td>1991</td><td>Ferrari</td><td>17</td><td>116</td><td>6.823529411764706</td></tr><tr><td>1991</td><td>Benetton</td><td>21</td><td>107</td><td>5.095238095238095</td></tr><tr><td>1992</td><td>McLaren</td><td>19</td><td>150</td><td>7.894736842105263</td></tr><tr><td>1992</td><td>Benetton</td><td>23</td><td>175</td><td>7.608695652173913</td></tr><tr><td>1992</td><td>Ferrari</td><td>12</td><td>55</td><td>4.583333333333333</td></tr><tr><td>1993</td><td>Benetton</td><td>19</td><td>125</td><td>6.578947368421052</td></tr><tr><td>1993</td><td>McLaren</td><td>19</td><td>118</td><td>6.2105263157894735</td></tr><tr><td>1993</td><td>Ferrari</td><td>16</td><td>71</td><td>4.4375</td></tr><tr><td>1994</td><td>Benetton</td><td>17</td><td>134</td><td>7.882352941176471</td></tr><tr><td>1994</td><td>Ferrari</td><td>18</td><td>126</td><td>7.0</td></tr><tr><td>1994</td><td>McLaren</td><td>15</td><td>90</td><td>6.0</td></tr><tr><td>1995</td><td>Benetton</td><td>26</td><td>201</td><td>7.730769230769231</td></tr><tr><td>1995</td><td>Ferrari</td><td>20</td><td>136</td><td>6.8</td></tr><tr><td>1995</td><td>McLaren</td><td>18</td><td>85</td><td>4.722222222222222</td></tr><tr><td>1996</td><td>Ferrari</td><td>16</td><td>117</td><td>7.3125</td></tr><tr><td>1996</td><td>Benetton</td><td>20</td><td>135</td><td>6.75</td></tr><tr><td>1996</td><td>McLaren</td><td>22</td><td>127</td><td>5.7727272727272725</td></tr><tr><td>1997</td><td>Ferrari</td><td>24</td><td>154</td><td>6.416666666666667</td></tr><tr><td>1997</td><td>McLaren</td><td>19</td><td>117</td><td>6.157894736842105</td></tr><tr><td>1997</td><td>Benetton</td><td>28</td><td>149</td><td>5.321428571428571</td></tr><tr><td>1998</td><td>McLaren</td><td>25</td><td>212</td><td>8.48</td></tr><tr><td>1998</td><td>Ferrari</td><td>26</td><td>203</td><td>7.8076923076923075</td></tr><tr><td>1998</td><td>Benetton</td><td>22</td><td>106</td><td>4.818181818181818</td></tr><tr><td>1999</td><td>McLaren</td><td>20</td><td>170</td><td>8.5</td></tr><tr><td>1999</td><td>Ferrari</td><td>28</td><td>202</td><td>7.214285714285714</td></tr><tr><td>1999</td><td>Benetton</td><td>20</td><td>56</td><td>2.8</td></tr><tr><td>2000</td><td>Ferrari</td><td>26</td><td>228</td><td>8.76923076923077</td></tr><tr><td>2000</td><td>McLaren</td><td>28</td><td>236</td><td>8.428571428571429</td></tr><tr><td>2000</td><td>Benetton</td><td>24</td><td>64</td><td>2.6666666666666665</td></tr><tr><td>2001</td><td>Ferrari</td><td>29</td><td>241</td><td>8.310344827586206</td></tr><tr><td>2001</td><td>McLaren</td><td>23</td><td>173</td><td>7.521739130434782</td></tr><tr><td>2001</td><td>Benetton</td><td>22</td><td>12</td><td>0.5454545454545454</td></tr><tr><td>2002</td><td>Ferrari</td><td>29</td><td>267</td><td>9.206896551724139</td></tr><tr><td>2002</td><td>McLaren</td><td>20</td><td>131</td><td>6.55</td></tr><tr><td>2003</td><td>Ferrari</td><td>26</td><td>193</td><td>7.423076923076923</td></tr><tr><td>2003</td><td>McLaren</td><td>24</td><td>172</td><td>7.166666666666667</td></tr><tr><td>2004</td><td>Ferrari</td><td>34</td><td>285</td><td>8.382352941176471</td></tr><tr><td>2004</td><td>McLaren</td><td>24</td><td>105</td><td>4.375</td></tr><tr><td>2005</td><td>McLaren</td><td>29</td><td>209</td><td>7.206896551724138</td></tr><tr><td>2005</td><td>Ferrari</td><td>30</td><td>141</td><td>4.7</td></tr><tr><td>2005</td><td>Red Bull</td><td>27</td><td>65</td><td>2.4074074074074074</td></tr><tr><td>2006</td><td>Ferrari</td><td>32</td><td>240</td><td>7.5</td></tr><tr><td>2006</td><td>McLaren</td><td>23</td><td>150</td><td>6.521739130434782</td></tr><tr><td>2006</td><td>Red Bull</td><td>24</td><td>16</td><td>0.6666666666666666</td></tr><tr><td>2007</td><td>McLaren</td><td>32</td><td>257</td><td>8.03125</td></tr><tr><td>2007</td><td>Ferrari</td><td>30</td><td>236</td><td>7.866666666666666</td></tr><tr><td>2007</td><td>Red Bull</td><td>20</td><td>41</td><td>2.05</td></tr><tr><td>2008</td><td>McLaren</td><td>32</td><td>187</td><td>5.84375</td></tr><tr><td>2008</td><td>Ferrari</td><td>32</td><td>185</td><td>5.78125</td></tr><tr><td>2008</td><td>Red Bull</td><td>28</td><td>37</td><td>1.3214285714285714</td></tr><tr><td>2009</td><td>Red Bull</td><td>29</td><td>172</td><td>5.931034482758621</td></tr><tr><td>2009</td><td>McLaren</td><td>26</td><td>81</td><td>3.1153846153846154</td></tr><tr><td>2009</td><td>Ferrari</td><td>29</td><td>75</td><td>2.586206896551724</td></tr><tr><td>2010</td><td>Red Bull</td><td>33</td><td>237</td><td>7.181818181818182</td></tr><tr><td>2010</td><td>McLaren</td><td>33</td><td>227</td><td>6.878787878787879</td></tr><tr><td>2010</td><td>Ferrari</td><td>36</td><td>186</td><td>5.166666666666667</td></tr><tr><td>2010</td><td>Mercedes</td><td>33</td><td>122</td><td>3.696969696969697</td></tr><tr><td>2011</td><td>Red Bull</td><td>36</td><td>308</td><td>8.555555555555555</td></tr><tr><td>2011</td><td>McLaren</td><td>33</td><td>251</td><td>7.606060606060606</td></tr><tr><td>2011</td><td>Ferrari</td><td>34</td><td>210</td><td>6.176470588235294</td></tr><tr><td>2011</td><td>Mercedes</td><td>31</td><td>95</td><td>3.064516129032258</td></tr><tr><td>2012</td><td>Red Bull</td><td>35</td><td>232</td><td>6.628571428571429</td></tr><tr><td>2012</td><td>Ferrari</td><td>37</td><td>196</td><td>5.297297297297297</td></tr><tr><td>2012</td><td>McLaren</td><td>32</td><td>167</td><td>5.21875</td></tr><tr><td>2012</td><td>Mercedes</td><td>29</td><td>62</td><td>2.1379310344827585</td></tr><tr><td>2013</td><td>Red Bull</td><td>34</td><td>273</td><td>8.029411764705882</td></tr><tr><td>2013</td><td>Mercedes</td><td>34</td><td>198</td><td>5.823529411764706</td></tr><tr><td>2013</td><td>Ferrari</td><td>35</td><td>189</td><td>5.4</td></tr><tr><td>2013</td><td>McLaren</td><td>37</td><td>61</td><td>1.6486486486486487</td></tr><tr><td>2014</td><td>Mercedes</td><td>33</td><td>297</td><td>9.0</td></tr><tr><td>2014</td><td>Red Bull</td><td>32</td><td>211</td><td>6.59375</td></tr><tr><td>2014</td><td>Ferrari</td><td>35</td><td>128</td><td>3.657142857142857</td></tr><tr><td>2014</td><td>McLaren</td><td>36</td><td>92</td><td>2.5555555555555554</td></tr><tr><td>2015</td><td>Mercedes</td><td>36</td><td>310</td><td>8.61111111111111</td></tr><tr><td>2015</td><td>Ferrari</td><td>32</td><td>225</td><td>7.03125</td></tr><tr><td>2015</td><td>Red Bull</td><td>33</td><td>102</td><td>3.090909090909091</td></tr><tr><td>2015</td><td>McLaren</td><td>24</td><td>-27</td><td>-1.125</td></tr><tr><td>2016</td><td>Mercedes</td><td>39</td><td>344</td><td>8.820512820512821</td></tr><tr><td>2016</td><td>Ferrari</td><td>34</td><td>225</td><td>6.617647058823529</td></tr><tr><td>2016</td><td>Red Bull</td><td>39</td><td>248</td><td>6.358974358974359</td></tr><tr><td>2016</td><td>McLaren</td><td>33</td><td>12</td><td>0.36363636363636365</td></tr><tr><td>2017</td><td>Mercedes</td><td>39</td><td>319</td><td>8.179487179487179</td></tr><tr><td>2017</td><td>Ferrari</td><td>35</td><td>263</td><td>7.514285714285714</td></tr><tr><td>2017</td><td>Red Bull</td><td>27</td><td>194</td><td>7.185185185185185</td></tr><tr><td>2017</td><td>McLaren</td><td>25</td><td>-12</td><td>-0.48</td></tr><tr><td>2018</td><td>Mercedes</td><td>39</td><td>316</td><td>8.102564102564102</td></tr><tr><td>2018</td><td>Ferrari</td><td>37</td><td>289</td><td>7.8108108108108105</td></tr><tr><td>2018</td><td>Red Bull</td><td>30</td><td>219</td><td>7.3</td></tr><tr><td>2018</td><td>McLaren</td><td>34</td><td>-17</td><td>-0.5</td></tr><tr><td>2019</td><td>Mercedes</td><td>40</td><td>339</td><td>8.475</td></tr><tr><td>2019</td><td>Ferrari</td><td>38</td><td>241</td><td>6.342105263157895</td></tr><tr><td>2019</td><td>Red Bull</td><td>39</td><td>221</td><td>5.666666666666667</td></tr><tr><td>2019</td><td>McLaren</td><td>34</td><td>81</td><td>2.3823529411764706</td></tr><tr><td>2020</td><td>Mercedes</td><td>33</td><td>255</td><td>7.7272727272727275</td></tr><tr><td>2020</td><td>Red Bull</td><td>28</td><td>155</td><td>5.535714285714286</td></tr><tr><td>2020</td><td>McLaren</td><td>30</td><td>110</td><td>3.6666666666666665</td></tr><tr><td>2020</td><td>Ferrari</td><td>28</td><td>61</td><td>2.1785714285714284</td></tr></tbody></table></div>"
      ]
     },
     "metadata": {
      "application/vnd.databricks.v1+output": {
       "addedWidgets": {},
       "aggData": [],
       "aggError": "",
       "aggOverflow": false,
       "aggSchema": [],
       "aggSeriesLimitReached": false,
       "aggType": "",
       "arguments": {},
       "columnCustomDisplayInfos": {},
       "data": [
        [
         1950,
         "Ferrari",
         8,
         57,
         7.125
        ],
        [
         1951,
         "Ferrari",
         23,
         168,
         7.304347826086956
        ],
        [
         1952,
         "Ferrari",
         32,
         199,
         6.21875
        ],
        [
         1953,
         "Ferrari",
         36,
         225,
         6.25
        ],
        [
         1954,
         "Mercedes",
         12,
         96,
         8.0
        ],
        [
         1954,
         "Ferrari",
         25,
         175,
         7.0
        ],
        [
         1955,
         "Mercedes",
         15,
         124,
         8.266666666666667
        ],
        [
         1955,
         "Ferrari",
         22,
         131,
         5.954545454545454
        ],
        [
         1956,
         "Ferrari",
         23,
         172,
         7.478260869565218
        ],
        [
         1957,
         "Ferrari",
         20,
         130,
         6.5
        ],
        [
         1958,
         "Ferrari",
         21,
         159,
         7.571428571428571
        ],
        [
         1959,
         "Ferrari",
         19,
         132,
         6.947368421052632
        ],
        [
         1960,
         "Ferrari",
         19,
         101,
         5.315789473684211
        ],
        [
         1961,
         "Ferrari",
         20,
         148,
         7.4
        ],
        [
         1962,
         "Ferrari",
         14,
         70,
         5.0
        ],
        [
         1963,
         "Ferrari",
         8,
         53,
         6.625
        ],
        [
         1964,
         "Ferrari",
         15,
         105,
         7.0
        ],
        [
         1965,
         "Ferrari",
         18,
         81,
         4.5
        ],
        [
         1966,
         "Ferrari",
         8,
         65,
         8.125
        ],
        [
         1967,
         "Ferrari",
         11,
         64,
         5.818181818181818
        ],
        [
         1968,
         "Ferrari",
         10,
         70,
         7.0
        ],
        [
         1968,
         "McLaren",
         1,
         -2,
         -2.0
        ],
        [
         1969,
         "Ferrari",
         4,
         23,
         5.75
        ],
        [
         1970,
         "Ferrari",
         17,
         114,
         6.705882352941177
        ],
        [
         1971,
         "Ferrari",
         12,
         77,
         6.416666666666667
        ],
        [
         1971,
         "McLaren",
         13,
         40,
         3.076923076923077
        ],
        [
         1972,
         "McLaren",
         22,
         125,
         5.681818181818182
        ],
        [
         1972,
         "Ferrari",
         20,
         94,
         4.7
        ],
        [
         1973,
         "McLaren",
         27,
         140,
         5.185185185185185
        ],
        [
         1973,
         "Ferrari",
         14,
         44,
         3.142857142857143
        ],
        [
         1974,
         "Ferrari",
         19,
         137,
         7.2105263157894735
        ],
        [
         1974,
         "McLaren",
         34,
         177,
         5.205882352941177
        ],
        [
         1975,
         "Ferrari",
         22,
         143,
         6.5
        ],
        [
         1975,
         "McLaren",
         20,
         121,
         6.05
        ],
        [
         1976,
         "McLaren",
         22,
         143,
         6.5
        ],
        [
         1976,
         "Ferrari",
         24,
         156,
         6.5
        ],
        [
         1977,
         "Ferrari",
         26,
         184,
         7.076923076923077
        ],
        [
         1977,
         "McLaren",
         27,
         113,
         4.185185185185185
        ],
        [
         1978,
         "Ferrari",
         22,
         111,
         5.045454545454546
        ],
        [
         1978,
         "McLaren",
         25,
         80,
         3.2
        ],
        [
         1979,
         "Ferrari",
         25,
         180,
         7.2
        ],
        [
         1979,
         "McLaren",
         15,
         53,
         3.533333333333333
        ],
        [
         1980,
         "McLaren",
         13,
         50,
         3.8461538461538463
        ],
        [
         1980,
         "Ferrari",
         17,
         37,
         2.176470588235294
        ],
        [
         1981,
         "Ferrari",
         14,
         68,
         4.857142857142857
        ],
        [
         1981,
         "McLaren",
         16,
         69,
         4.3125
        ],
        [
         1982,
         "Ferrari",
         17,
         115,
         6.764705882352941
        ],
        [
         1982,
         "McLaren",
         18,
         116,
         6.444444444444445
        ],
        [
         1983,
         "Ferrari",
         20,
         148,
         7.4
        ],
        [
         1983,
         "McLaren",
         14,
         72,
         5.142857142857143
        ],
        [
         1984,
         "McLaren",
         21,
         191,
         9.095238095238095
        ],
        [
         1984,
         "Ferrari",
         20,
         123,
         6.15
        ],
        [
         1985,
         "McLaren",
         16,
         134,
         8.375
        ],
        [
         1985,
         "Ferrari",
         21,
         145,
         6.904761904761905
        ],
        [
         1986,
         "McLaren",
         21,
         161,
         7.666666666666667
        ],
        [
         1986,
         "Ferrari",
         17,
         87,
         5.117647058823529
        ],
        [
         1986,
         "Benetton",
         13,
         55,
         4.230769230769231
        ],
        [
         1987,
         "Ferrari",
         13,
         88,
         6.769230769230769
        ],
        [
         1987,
         "McLaren",
         23,
         145,
         6.304347826086956
        ],
        [
         1987,
         "Benetton",
         16,
         75,
         4.6875
        ],
        [
         1988,
         "McLaren",
         28,
         253,
         9.035714285714286
        ],
        [
         1988,
         "Ferrari",
         21,
         116,
         5.523809523809524
        ],
        [
         1988,
         "Benetton",
         21,
         106,
         5.0476190476190474
        ],
        [
         1989,
         "Ferrari",
         9,
         82,
         9.11111111111111
        ],
        [
         1989,
         "McLaren",
         22,
         188,
         8.545454545454545
        ],
        [
         1989,
         "Benetton",
         19,
         81,
         4.2631578947368425
        ],
        [
         1990,
         "McLaren",
         24,
         179,
         7.458333333333333
        ],
        [
         1990,
         "Ferrari",
         21,
         150,
         7.142857142857143
        ],
        [
         1990,
         "Benetton",
         25,
         145,
         5.8
        ],
        [
         1991,
         "McLaren",
         24,
         204,
         8.5
        ],
        [
         1991,
         "Ferrari",
         17,
         116,
         6.823529411764706
        ],
        [
         1991,
         "Benetton",
         21,
         107,
         5.095238095238095
        ],
        [
         1992,
         "McLaren",
         19,
         150,
         7.894736842105263
        ],
        [
         1992,
         "Benetton",
         23,
         175,
         7.608695652173913
        ],
        [
         1992,
         "Ferrari",
         12,
         55,
         4.583333333333333
        ],
        [
         1993,
         "Benetton",
         19,
         125,
         6.578947368421052
        ],
        [
         1993,
         "McLaren",
         19,
         118,
         6.2105263157894735
        ],
        [
         1993,
         "Ferrari",
         16,
         71,
         4.4375
        ],
        [
         1994,
         "Benetton",
         17,
         134,
         7.882352941176471
        ],
        [
         1994,
         "Ferrari",
         18,
         126,
         7.0
        ],
        [
         1994,
         "McLaren",
         15,
         90,
         6.0
        ],
        [
         1995,
         "Benetton",
         26,
         201,
         7.730769230769231
        ],
        [
         1995,
         "Ferrari",
         20,
         136,
         6.8
        ],
        [
         1995,
         "McLaren",
         18,
         85,
         4.722222222222222
        ],
        [
         1996,
         "Ferrari",
         16,
         117,
         7.3125
        ],
        [
         1996,
         "Benetton",
         20,
         135,
         6.75
        ],
        [
         1996,
         "McLaren",
         22,
         127,
         5.7727272727272725
        ],
        [
         1997,
         "Ferrari",
         24,
         154,
         6.416666666666667
        ],
        [
         1997,
         "McLaren",
         19,
         117,
         6.157894736842105
        ],
        [
         1997,
         "Benetton",
         28,
         149,
         5.321428571428571
        ],
        [
         1998,
         "McLaren",
         25,
         212,
         8.48
        ],
        [
         1998,
         "Ferrari",
         26,
         203,
         7.8076923076923075
        ],
        [
         1998,
         "Benetton",
         22,
         106,
         4.818181818181818
        ],
        [
         1999,
         "McLaren",
         20,
         170,
         8.5
        ],
        [
         1999,
         "Ferrari",
         28,
         202,
         7.214285714285714
        ],
        [
         1999,
         "Benetton",
         20,
         56,
         2.8
        ],
        [
         2000,
         "Ferrari",
         26,
         228,
         8.76923076923077
        ],
        [
         2000,
         "McLaren",
         28,
         236,
         8.428571428571429
        ],
        [
         2000,
         "Benetton",
         24,
         64,
         2.6666666666666665
        ],
        [
         2001,
         "Ferrari",
         29,
         241,
         8.310344827586206
        ],
        [
         2001,
         "McLaren",
         23,
         173,
         7.521739130434782
        ],
        [
         2001,
         "Benetton",
         22,
         12,
         0.5454545454545454
        ],
        [
         2002,
         "Ferrari",
         29,
         267,
         9.206896551724139
        ],
        [
         2002,
         "McLaren",
         20,
         131,
         6.55
        ],
        [
         2003,
         "Ferrari",
         26,
         193,
         7.423076923076923
        ],
        [
         2003,
         "McLaren",
         24,
         172,
         7.166666666666667
        ],
        [
         2004,
         "Ferrari",
         34,
         285,
         8.382352941176471
        ],
        [
         2004,
         "McLaren",
         24,
         105,
         4.375
        ],
        [
         2005,
         "McLaren",
         29,
         209,
         7.206896551724138
        ],
        [
         2005,
         "Ferrari",
         30,
         141,
         4.7
        ],
        [
         2005,
         "Red Bull",
         27,
         65,
         2.4074074074074074
        ],
        [
         2006,
         "Ferrari",
         32,
         240,
         7.5
        ],
        [
         2006,
         "McLaren",
         23,
         150,
         6.521739130434782
        ],
        [
         2006,
         "Red Bull",
         24,
         16,
         0.6666666666666666
        ],
        [
         2007,
         "McLaren",
         32,
         257,
         8.03125
        ],
        [
         2007,
         "Ferrari",
         30,
         236,
         7.866666666666666
        ],
        [
         2007,
         "Red Bull",
         20,
         41,
         2.05
        ],
        [
         2008,
         "McLaren",
         32,
         187,
         5.84375
        ],
        [
         2008,
         "Ferrari",
         32,
         185,
         5.78125
        ],
        [
         2008,
         "Red Bull",
         28,
         37,
         1.3214285714285714
        ],
        [
         2009,
         "Red Bull",
         29,
         172,
         5.931034482758621
        ],
        [
         2009,
         "McLaren",
         26,
         81,
         3.1153846153846154
        ],
        [
         2009,
         "Ferrari",
         29,
         75,
         2.586206896551724
        ],
        [
         2010,
         "Red Bull",
         33,
         237,
         7.181818181818182
        ],
        [
         2010,
         "McLaren",
         33,
         227,
         6.878787878787879
        ],
        [
         2010,
         "Ferrari",
         36,
         186,
         5.166666666666667
        ],
        [
         2010,
         "Mercedes",
         33,
         122,
         3.696969696969697
        ],
        [
         2011,
         "Red Bull",
         36,
         308,
         8.555555555555555
        ],
        [
         2011,
         "McLaren",
         33,
         251,
         7.606060606060606
        ],
        [
         2011,
         "Ferrari",
         34,
         210,
         6.176470588235294
        ],
        [
         2011,
         "Mercedes",
         31,
         95,
         3.064516129032258
        ],
        [
         2012,
         "Red Bull",
         35,
         232,
         6.628571428571429
        ],
        [
         2012,
         "Ferrari",
         37,
         196,
         5.297297297297297
        ],
        [
         2012,
         "McLaren",
         32,
         167,
         5.21875
        ],
        [
         2012,
         "Mercedes",
         29,
         62,
         2.1379310344827585
        ],
        [
         2013,
         "Red Bull",
         34,
         273,
         8.029411764705882
        ],
        [
         2013,
         "Mercedes",
         34,
         198,
         5.823529411764706
        ],
        [
         2013,
         "Ferrari",
         35,
         189,
         5.4
        ],
        [
         2013,
         "McLaren",
         37,
         61,
         1.6486486486486487
        ],
        [
         2014,
         "Mercedes",
         33,
         297,
         9.0
        ],
        [
         2014,
         "Red Bull",
         32,
         211,
         6.59375
        ],
        [
         2014,
         "Ferrari",
         35,
         128,
         3.657142857142857
        ],
        [
         2014,
         "McLaren",
         36,
         92,
         2.5555555555555554
        ],
        [
         2015,
         "Mercedes",
         36,
         310,
         8.61111111111111
        ],
        [
         2015,
         "Ferrari",
         32,
         225,
         7.03125
        ],
        [
         2015,
         "Red Bull",
         33,
         102,
         3.090909090909091
        ],
        [
         2015,
         "McLaren",
         24,
         -27,
         -1.125
        ],
        [
         2016,
         "Mercedes",
         39,
         344,
         8.820512820512821
        ],
        [
         2016,
         "Ferrari",
         34,
         225,
         6.617647058823529
        ],
        [
         2016,
         "Red Bull",
         39,
         248,
         6.358974358974359
        ],
        [
         2016,
         "McLaren",
         33,
         12,
         0.36363636363636365
        ],
        [
         2017,
         "Mercedes",
         39,
         319,
         8.179487179487179
        ],
        [
         2017,
         "Ferrari",
         35,
         263,
         7.514285714285714
        ],
        [
         2017,
         "Red Bull",
         27,
         194,
         7.185185185185185
        ],
        [
         2017,
         "McLaren",
         25,
         -12,
         -0.48
        ],
        [
         2018,
         "Mercedes",
         39,
         316,
         8.102564102564102
        ],
        [
         2018,
         "Ferrari",
         37,
         289,
         7.8108108108108105
        ],
        [
         2018,
         "Red Bull",
         30,
         219,
         7.3
        ],
        [
         2018,
         "McLaren",
         34,
         -17,
         -0.5
        ],
        [
         2019,
         "Mercedes",
         40,
         339,
         8.475
        ],
        [
         2019,
         "Ferrari",
         38,
         241,
         6.342105263157895
        ],
        [
         2019,
         "Red Bull",
         39,
         221,
         5.666666666666667
        ],
        [
         2019,
         "McLaren",
         34,
         81,
         2.3823529411764706
        ],
        [
         2020,
         "Mercedes",
         33,
         255,
         7.7272727272727275
        ],
        [
         2020,
         "Red Bull",
         28,
         155,
         5.535714285714286
        ],
        [
         2020,
         "McLaren",
         30,
         110,
         3.6666666666666665
        ],
        [
         2020,
         "Ferrari",
         28,
         61,
         2.1785714285714284
        ]
       ],
       "datasetInfos": [],
       "dbfsResultPath": null,
       "isJsonSchema": true,
       "metadata": {
        "isDbfsCommandResult": false
       },
       "overflow": false,
       "plotOptions": {
        "customPlotOptions": {},
        "displayType": "table",
        "pivotAggregation": null,
        "pivotColumns": null,
        "xColumns": null,
        "yColumns": null
       },
       "removedWidgets": [],
       "schema": [
        {
         "metadata": "{}",
         "name": "race_year",
         "type": "\"integer\""
        },
        {
         "metadata": "{}",
         "name": "team_name",
         "type": "\"string\""
        },
        {
         "metadata": "{}",
         "name": "total_races",
         "type": "\"long\""
        },
        {
         "metadata": "{}",
         "name": "total_points",
         "type": "\"long\""
        },
        {
         "metadata": "{}",
         "name": "avg_points",
         "type": "\"double\""
        }
       ],
       "type": "table"
      }
     },
     "output_type": "display_data"
    },
    {
     "output_type": "display_data",
     "data": {
      "text/plain": [
       "Databricks visualization. Run in Databricks to view."
      ]
     },
     "metadata": {
      "application/vnd.databricks.v1.subcommand+json": {
       "baseErrorDetails": null,
       "bindings": {},
       "collapsed": false,
       "command": "%sql WITH q AS (SELECT  race_year,\n        team_name,\n        COUNT(1) AS total_races,\n        SUM(calculated_points) AS total_points,\n        AVG(calculated_points) AS avg_points\n  FROM f1_presentation.calculated_race_results\n  WHERE team_name IN (SELECT team_name FROM v_dominant_teams WHERE team_rank <= 10)\n  GROUP BY race_year, team_name\n  ORDER BY race_year, avg_points DESC) SELECT `race_year`,SUM(`avg_points`) `column_1980e20522`,`team_name` FROM q GROUP BY `race_year`,`team_name`",
       "commandTitle": "Visualization 1",
       "commandType": "auto",
       "commandVersion": 0,
       "commentThread": [],
       "commentsVisible": false,
       "contentSha256Hex": null,
       "customPlotOptions": {
        "redashChart": [
         {
          "key": "type",
          "value": "CHART"
         },
         {
          "key": "options",
          "value": {
           "alignYAxesAtZero": false,
           "coefficient": 1,
           "columnConfigurationMap": {
            "series": {
             "column": "team_name",
             "id": "column_1980e20524"
            },
            "x": {
             "column": "race_year",
             "id": "column_1980e20520"
            },
            "y": [
             {
              "column": "avg_points",
              "id": "column_1980e20522",
              "transform": "SUM"
             }
            ]
           },
           "dateTimeFormat": "DD/MM/YYYY HH:mm",
           "direction": {
            "type": "counterclockwise"
           },
           "error_y": {
            "type": "data",
            "visible": true
           },
           "globalSeriesType": "line",
           "isAggregationOn": true,
           "legend": {
            "traceorder": "normal"
           },
           "missingValuesAsZero": true,
           "numberFormat": "0,0.[00000]",
           "percentFormat": "0[.]00%",
           "series": {
            "error_y": {
             "type": "data",
             "visible": true
            },
            "stacking": null
           },
           "seriesOptions": {
            "column_1980e20522": {
             "type": "line",
             "yAxis": 0
            }
           },
           "showDataLabels": false,
           "sizemode": "diameter",
           "sortX": true,
           "sortY": true,
           "swappedAxes": false,
           "textFormat": "",
           "useAggregationsUi": true,
           "valuesOptions": {},
           "version": 2,
           "xAxis": {
            "labels": {
             "enabled": true
            },
            "type": "-"
           },
           "yAxis": [
            {
             "rangeMin": 0,
             "type": "-"
            },
            {
             "opposite": true,
             "type": "-"
            }
           ]
          }
         }
        ]
       },
       "datasetPreviewNameToCmdIdMap": {},
       "diffDeletes": [],
       "diffInserts": [],
       "displayType": "redashChart",
       "error": null,
       "errorDetails": null,
       "errorSummary": null,
       "errorTraceType": null,
       "finishTime": 0,
       "globalVars": {},
       "guid": "",
       "height": "auto",
       "hideCommandCode": false,
       "hideCommandResult": false,
       "iPythonMetadata": null,
       "inputWidgets": {},
       "isLockedInExamMode": false,
       "latestUser": "a user",
       "latestUserId": null,
       "listResultMetadata": null,
       "metadata": {},
       "nuid": "3d7573cd-87e9-45b6-b4fa-516f1e930aba",
       "origId": 0,
       "parentHierarchy": [],
       "pivotAggregation": null,
       "pivotColumns": null,
       "position": 5.0,
       "resultDbfsErrorMessage": null,
       "resultDbfsStatus": "INLINED_IN_TREE",
       "results": null,
       "showCommandTitle": false,
       "startTime": 0,
       "state": "input",
       "streamStates": {},
       "subcommandOptions": {
        "queryPlan": {
         "groups": [
          {
           "column": "race_year",
           "type": "column"
          },
          {
           "column": "team_name",
           "type": "column"
          }
         ],
         "selects": [
          {
           "column": "race_year",
           "type": "column"
          },
          {
           "alias": "column_1980e20522",
           "args": [
            {
             "column": "avg_points",
             "type": "column"
            }
           ],
           "function": "SUM",
           "type": "function"
          },
          {
           "column": "team_name",
           "type": "column"
          }
         ]
        }
       },
       "submitTime": 0,
       "subtype": "tableResultSubCmd.visualization",
       "tableResultIndex": 0,
       "useConsistentColors": false,
       "version": "CommandV1",
       "width": "auto",
       "workflows": [],
       "xColumns": null,
       "yColumns": null
      }
     },
     "output_type": "display_data"
    },
    {
     "output_type": "display_data",
     "data": {
      "text/plain": [
       "Databricks visualization. Run in Databricks to view."
      ]
     },
     "metadata": {
      "application/vnd.databricks.v1.subcommand+json": {
       "baseErrorDetails": null,
       "bindings": {},
       "collapsed": false,
       "command": "%sql WITH q AS (SELECT  race_year,\n        team_name,\n        COUNT(1) AS total_races,\n        SUM(calculated_points) AS total_points,\n        AVG(calculated_points) AS avg_points\n  FROM f1_presentation.calculated_race_results\n  WHERE team_name IN (SELECT team_name FROM v_dominant_teams WHERE team_rank <= 5)\n  GROUP BY race_year, team_name\n  ORDER BY race_year, avg_points DESC) SELECT `race_year`,SUM(`avg_points`) `column_1980e20529`,`team_name` FROM q GROUP BY `race_year`,`team_name`",
       "commandTitle": "Visualization 2",
       "commandType": "auto",
       "commandVersion": 0,
       "commentThread": [],
       "commentsVisible": false,
       "contentSha256Hex": null,
       "customPlotOptions": {
        "redashChart": [
         {
          "key": "type",
          "value": "CHART"
         },
         {
          "key": "options",
          "value": {
           "alignYAxesAtZero": false,
           "coefficient": 1,
           "columnConfigurationMap": {
            "series": {
             "column": "team_name",
             "id": "column_1980e20527"
            },
            "x": {
             "column": "race_year",
             "id": "column_1980e20526"
            },
            "y": [
             {
              "column": "avg_points",
              "id": "column_1980e20529",
              "transform": "SUM"
             }
            ]
           },
           "dateTimeFormat": "DD/MM/YYYY HH:mm",
           "direction": {
            "type": "counterclockwise"
           },
           "error_y": {
            "type": "data",
            "visible": true
           },
           "globalSeriesType": "area",
           "isAggregationOn": true,
           "legend": {
            "traceorder": "normal"
           },
           "missingValuesAsZero": true,
           "numberFormat": "0,0.[00000]",
           "percentFormat": "0[.]00%",
           "series": {
            "error_y": {
             "type": "data",
             "visible": true
            },
            "stacking": null
           },
           "seriesOptions": {
            "column_1980e20529": {
             "type": "area",
             "yAxis": 0
            }
           },
           "showDataLabels": false,
           "sizemode": "diameter",
           "sortX": true,
           "sortY": true,
           "swappedAxes": false,
           "textFormat": "",
           "useAggregationsUi": true,
           "valuesOptions": {},
           "version": 2,
           "xAxis": {
            "labels": {
             "enabled": true
            },
            "type": "-"
           },
           "yAxis": [
            {
             "rangeMin": 0,
             "type": "-"
            },
            {
             "opposite": true,
             "type": "-"
            }
           ]
          }
         }
        ]
       },
       "datasetPreviewNameToCmdIdMap": {},
       "diffDeletes": [],
       "diffInserts": [],
       "displayType": "redashChart",
       "error": null,
       "errorDetails": null,
       "errorSummary": null,
       "errorTraceType": null,
       "finishTime": 0,
       "globalVars": {},
       "guid": "",
       "height": "auto",
       "hideCommandCode": false,
       "hideCommandResult": false,
       "iPythonMetadata": null,
       "inputWidgets": {},
       "isLockedInExamMode": false,
       "latestUser": "a user",
       "latestUserId": null,
       "listResultMetadata": null,
       "metadata": {},
       "nuid": "9dc85604-24d6-4ce1-aa26-374841f6dd3d",
       "origId": 0,
       "parentHierarchy": [],
       "pivotAggregation": null,
       "pivotColumns": null,
       "position": 6.0,
       "resultDbfsErrorMessage": null,
       "resultDbfsStatus": "INLINED_IN_TREE",
       "results": null,
       "showCommandTitle": false,
       "startTime": 0,
       "state": "input",
       "streamStates": {},
       "subcommandOptions": {
        "queryPlan": {
         "groups": [
          {
           "column": "race_year",
           "type": "column"
          },
          {
           "column": "team_name",
           "type": "column"
          }
         ],
         "selects": [
          {
           "column": "race_year",
           "type": "column"
          },
          {
           "alias": "column_1980e20529",
           "args": [
            {
             "column": "avg_points",
             "type": "column"
            }
           ],
           "function": "SUM",
           "type": "function"
          },
          {
           "column": "team_name",
           "type": "column"
          }
         ]
        }
       },
       "submitTime": 0,
       "subtype": "tableResultSubCmd.visualization",
       "tableResultIndex": 0,
       "useConsistentColors": false,
       "version": "CommandV1",
       "width": "auto",
       "workflows": [],
       "xColumns": null,
       "yColumns": null
      }
     },
     "output_type": "display_data"
    }
   ],
   "source": [
    "SELECT  race_year,\n",
    "        team_name,\n",
    "        COUNT(1) AS total_races,\n",
    "        SUM(calculated_points) AS total_points,\n",
    "        AVG(calculated_points) AS avg_points\n",
    "  FROM f1_presentation.calculated_race_results\n",
    "  WHERE team_name IN (SELECT team_name FROM v_dominant_teams WHERE team_rank <= 5)\n",
    "  GROUP BY race_year, team_name\n",
    "  ORDER BY race_year, avg_points DESC"
   ]
  },
  {
   "cell_type": "code",
   "execution_count": 0,
   "metadata": {
    "application/vnd.databricks.v1+cell": {
     "cellMetadata": {},
     "inputWidgets": {},
     "nuid": "b9050634-3c38-4471-b291-7258de1d3e03",
     "showTitle": false,
     "title": ""
    }
   },
   "outputs": [],
   "source": []
  }
 ],
 "metadata": {
  "application/vnd.databricks.v1+notebook": {
   "dashboards": [
    {
     "elements": [
      {
       "dashboardResultIndex": 0,
       "elementNUID": "d8104af8-7dba-4ded-89dd-1db87ed2a427",
       "elementType": "command",
       "guid": "b763efd6-388b-471a-8fea-a37d38357894",
       "options": {
        "autoScaleImg": false,
        "scale": 0,
        "showRunButton": false,
        "showTitle": false,
        "titleAlign": "center"
       },
       "position": {
        "height": 14,
        "width": 19,
        "x": 0,
        "y": 0,
        "z": null
       },
       "resultIndex": null
      }
     ],
     "globalVars": {},
     "guid": "",
     "layoutOption": {
      "grid": true,
      "stack": true
     },
     "nuid": "d68cbbc4-324f-4609-8d59-21c14fa6aabe",
     "origId": 1829038510058261,
     "title": "my dashboard",
     "version": "DashboardViewV1",
     "width": 1024
    }
   ],
   "language": "sql",
   "notebookMetadata": {
    "pythonIndentUnit": 4
   },
   "notebookName": "3.viz_dominant_drivers",
   "widgets": {}
  }
 },
 "nbformat": 4,
 "nbformat_minor": 0
}
