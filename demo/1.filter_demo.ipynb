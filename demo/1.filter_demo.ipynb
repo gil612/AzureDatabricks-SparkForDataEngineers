{
 "cells": [
  {
   "cell_type": "code",
   "execution_count": 0,
   "metadata": {
    "application/vnd.databricks.v1+cell": {
     "cellMetadata": {
      "byteLimit": 2048000,
      "rowLimit": 10000
     },
     "inputWidgets": {},
     "nuid": "20c67275-9d54-406e-b20d-b675d53434bc",
     "showTitle": false,
     "title": ""
    }
   },
   "outputs": [],
   "source": [
    "%run \"../includes/configuration\""
   ]
  },
  {
   "cell_type": "code",
   "execution_count": 0,
   "metadata": {
    "application/vnd.databricks.v1+cell": {
     "cellMetadata": {
      "byteLimit": 2048000,
      "rowLimit": 10000
     },
     "inputWidgets": {},
     "nuid": "edcf222a-5a88-4c9d-81d4-408ec30c75e1",
     "showTitle": false,
     "title": ""
    }
   },
   "outputs": [],
   "source": [
    "races_df = spark.read.parquet(f\"{processed_folder_path}/races\")"
   ]
  },
  {
   "cell_type": "code",
   "execution_count": 0,
   "metadata": {
    "application/vnd.databricks.v1+cell": {
     "cellMetadata": {
      "byteLimit": 2048000,
      "rowLimit": 10000
     },
     "inputWidgets": {},
     "nuid": "efe2f558-c809-487a-8d96-ec8ea62313b3",
     "showTitle": false,
     "title": ""
    }
   },
   "outputs": [],
   "source": [
    "# Two approaches\n",
    "races_filtered_df = races_df.filter(\"race_year = 2019\")\n",
    "races_filtered_df = races_df.filter(races_df[\"race_year\"] == 2019)\n",
    "display(races_filtered_df)"
   ]
  },
  {
   "cell_type": "code",
   "execution_count": 0,
   "metadata": {
    "application/vnd.databricks.v1+cell": {
     "cellMetadata": {
      "byteLimit": 2048000,
      "rowLimit": 10000
     },
     "inputWidgets": {},
     "nuid": "c1ff4def-2d32-4cfc-8101-6fac2fc07c77",
     "showTitle": false,
     "title": ""
    }
   },
   "outputs": [],
   "source": [
    "races_filtered_df = races_df.filter((races_df[\"race_year\"] == 2019) & (races_df[\"round\"] <= 5))\n",
    "display(races_filtered_df)"
   ]
  },
  {
   "cell_type": "markdown",
   "metadata": {
    "application/vnd.databricks.v1+cell": {
     "cellMetadata": {
      "byteLimit": 2048000,
      "rowLimit": 10000
     },
     "inputWidgets": {},
     "nuid": "f1453810-d2ff-492e-aeb1-1866adb754e2",
     "showTitle": false,
     "title": ""
    }
   },
   "source": [
    "### Join Demo"
   ]
  },
  {
   "cell_type": "code",
   "execution_count": 0,
   "metadata": {
    "application/vnd.databricks.v1+cell": {
     "cellMetadata": {
      "byteLimit": 2048000,
      "rowLimit": 10000
     },
     "inputWidgets": {},
     "nuid": "926bd622-8731-4d2d-9911-19c49f967fb5",
     "showTitle": false,
     "title": ""
    }
   },
   "outputs": [],
   "source": [
    "circuits_df = spark.read.parquet(f\"{processed_folder_path}/circuits\").withColumnRenamed(\"name\", \"circuit_name\")\n",
    "display(circuits_df)"
   ]
  },
  {
   "cell_type": "code",
   "execution_count": 0,
   "metadata": {
    "application/vnd.databricks.v1+cell": {
     "cellMetadata": {
      "byteLimit": 2048000,
      "rowLimit": 10000
     },
     "inputWidgets": {},
     "nuid": "76084c47-14a7-4845-8233-5eca1e3870d4",
     "showTitle": false,
     "title": ""
    }
   },
   "outputs": [],
   "source": [
    "races_df = races_df.filter(\"race_year = 2019\").withColumnRenamed(\"name\", \"race_name\")\n",
    "display(races_df)"
   ]
  },
  {
   "cell_type": "code",
   "execution_count": 0,
   "metadata": {
    "application/vnd.databricks.v1+cell": {
     "cellMetadata": {
      "byteLimit": 2048000,
      "rowLimit": 10000
     },
     "inputWidgets": {},
     "nuid": "23b6d633-eb03-4154-9731-da75dd4a8f71",
     "showTitle": false,
     "title": ""
    }
   },
   "outputs": [],
   "source": [
    "race_circuits_df = circuits_df.join(races_df, circuits_df.circuit_id == races_df.circuit_id, \"inner\") \\\n",
    ".select(circuits_df.circuit_name, circuits_df.location, circuits_df.country, races_df.race_name, races_df.round)"
   ]
  },
  {
   "cell_type": "code",
   "execution_count": 0,
   "metadata": {
    "application/vnd.databricks.v1+cell": {
     "cellMetadata": {
      "byteLimit": 2048000,
      "rowLimit": 10000
     },
     "inputWidgets": {},
     "nuid": "69a726ab-3f01-461f-801b-3e5a17687745",
     "showTitle": false,
     "title": ""
    }
   },
   "outputs": [],
   "source": [
    "display(race_circuits_df)"
   ]
  },
  {
   "cell_type": "code",
   "execution_count": 0,
   "metadata": {
    "application/vnd.databricks.v1+cell": {
     "cellMetadata": {
      "byteLimit": 2048000,
      "rowLimit": 10000
     },
     "inputWidgets": {},
     "nuid": "2b10fe4b-07b6-49d9-87a7-80d3338d545e",
     "showTitle": false,
     "title": ""
    }
   },
   "outputs": [],
   "source": [
    "race_circuits_df.select(\"circuit_name\").show()"
   ]
  },
  {
   "cell_type": "code",
   "execution_count": 0,
   "metadata": {
    "application/vnd.databricks.v1+cell": {
     "cellMetadata": {
      "byteLimit": 2048000,
      "rowLimit": 10000
     },
     "inputWidgets": {},
     "nuid": "2c74c405-e17f-41af-bef3-765e11e9e23b",
     "showTitle": false,
     "title": ""
    }
   },
   "outputs": [],
   "source": [
    "# Left Outer Join\n",
    "circuits_df = spark.read.parquet(f\"{processed_folder_path}/circuits\")\\\n",
    ".filter(\"circuit_id < 70\")\\\n",
    ".withColumnRenamed(\"name\", \"circuit_name\")    \n",
    "display(circuits_df)"
   ]
  },
  {
   "cell_type": "code",
   "execution_count": 0,
   "metadata": {
    "application/vnd.databricks.v1+cell": {
     "cellMetadata": {
      "byteLimit": 2048000,
      "rowLimit": 10000
     },
     "inputWidgets": {},
     "nuid": "2cdede81-9a80-4e0d-a3ea-1c64fb470e01",
     "showTitle": false,
     "title": ""
    }
   },
   "outputs": [],
   "source": [
    "# Left join.\n",
    "# Output: 69 entries of circuits_df, 69 - -21 = 48 of them don't don't have number of rounds\n",
    "race_circuits_df = circuits_df.join(races_df, circuits_df.circuit_id == races_df.circuit_id, \"left\") \\\n",
    ".select(circuits_df.circuit_id,circuits_df.circuit_name, circuits_df.location, circuits_df.country, races_df.race_name, races_df.round)\n",
    "display(race_circuits_df)"
   ]
  },
  {
   "cell_type": "code",
   "execution_count": 0,
   "metadata": {
    "application/vnd.databricks.v1+cell": {
     "cellMetadata": {
      "byteLimit": 2048000,
      "rowLimit": 10000
     },
     "inputWidgets": {},
     "nuid": "397c21a1-ce94-460a-b3f8-a3686963fc5a",
     "showTitle": false,
     "title": ""
    }
   },
   "outputs": [],
   "source": [
    "# Right join.\n",
    "# Output: All 21 entries of races_df. Austrian, Russian and Azerbaijan will be marked as null since we've cut the table\n",
    "race_circuits_df = circuits_df.join(races_df, circuits_df.circuit_id == races_df.circuit_id, \"right\") \\\n",
    ".select(circuits_df.circuit_id, circuits_df.circuit_name, circuits_df.location, circuits_df.country, races_df.race_name, races_df.round)\n",
    "display(race_circuits_df)"
   ]
  },
  {
   "cell_type": "code",
   "execution_count": 0,
   "metadata": {
    "application/vnd.databricks.v1+cell": {
     "cellMetadata": {
      "byteLimit": 2048000,
      "rowLimit": 10000
     },
     "inputWidgets": {},
     "nuid": "0ef821a0-f35b-49e8-b841-175e05f841b8",
     "showTitle": false,
     "title": ""
    }
   },
   "outputs": [],
   "source": [
    "# Semi.\n",
    "# Output: We only get the entries from circuit_id\n",
    "race_circuits_df = circuits_df.join(races_df, circuits_df.circuit_id == races_df.circuit_id, \"semi\")\n",
    "display(race_circuits_df)"
   ]
  },
  {
   "cell_type": "markdown",
   "metadata": {
    "application/vnd.databricks.v1+cell": {
     "cellMetadata": {},
     "inputWidgets": {},
     "nuid": "e81e1b7a-bf3b-434b-ab17-7c6621818a7c",
     "showTitle": false,
     "title": ""
    }
   },
   "source": [
    "###### Anti"
   ]
  },
  {
   "cell_type": "code",
   "execution_count": 0,
   "metadata": {
    "application/vnd.databricks.v1+cell": {
     "cellMetadata": {
      "byteLimit": 2048000,
      "rowLimit": 10000
     },
     "inputWidgets": {},
     "nuid": "d3300ee9-50da-4b1f-842c-a99983f0f704",
     "showTitle": false,
     "title": ""
    }
   },
   "outputs": [],
   "source": [
    "# Anti.\n",
    "# Output: We only get the entries from circuit_id, which don't have entries in races_id (opposite of semi join)\n",
    "race_circuits_df = circuits_df.join(races_df, circuits_df.circuit_id == races_df.circuit_id, \"anti\")\n",
    "display(race_circuits_df)"
   ]
  },
  {
   "cell_type": "code",
   "execution_count": 0,
   "metadata": {
    "application/vnd.databricks.v1+cell": {
     "cellMetadata": {
      "byteLimit": 2048000,
      "rowLimit": 10000
     },
     "inputWidgets": {},
     "nuid": "9d8df0a9-16bc-4f03-9a0c-997755f86160",
     "showTitle": false,
     "title": ""
    }
   },
   "outputs": [],
   "source": [
    "# Anti.\n",
    "# Output: We only get the entries from races_id, which don't have entries in circuit_id.\n",
    "# Azerbaijan, Russian, Austrian\n",
    "race_circuits_df = races_df.join(circuits_df, circuits_df.circuit_id == races_df.circuit_id, \"anti\")\n",
    "display(race_circuits_df)"
   ]
  },
  {
   "cell_type": "code",
   "execution_count": 0,
   "metadata": {
    "application/vnd.databricks.v1+cell": {
     "cellMetadata": {
      "byteLimit": 2048000,
      "rowLimit": 10000
     },
     "inputWidgets": {},
     "nuid": "cdc58069-e1d9-4538-8fe7-4efaea7ca446",
     "showTitle": false,
     "title": ""
    }
   },
   "outputs": [],
   "source": [
    "# crossJoin - Cartesian Product, 69*21 = 1449\n",
    "race_circuits_df = races_df.crossJoin(circuits_df)\n",
    "display(race_circuits_df)"
   ]
  },
  {
   "cell_type": "code",
   "execution_count": 0,
   "metadata": {
    "application/vnd.databricks.v1+cell": {
     "cellMetadata": {},
     "inputWidgets": {},
     "nuid": "77baabd1-d429-4ecc-a6fb-b8c2db753ec0",
     "showTitle": false,
     "title": ""
    }
   },
   "outputs": [],
   "source": []
  }
 ],
 "metadata": {
  "application/vnd.databricks.v1+notebook": {
   "dashboards": [],
   "language": "python",
   "notebookMetadata": {
    "pythonIndentUnit": 4
   },
   "notebookName": "1.filter_demo",
   "widgets": {}
  }
 },
 "nbformat": 4,
 "nbformat_minor": 0
}
