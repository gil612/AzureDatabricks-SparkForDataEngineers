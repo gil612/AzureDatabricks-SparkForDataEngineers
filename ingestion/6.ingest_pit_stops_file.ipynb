{
 "cells": [
  {
   "cell_type": "markdown",
   "metadata": {
    "application/vnd.databricks.v1+cell": {
     "cellMetadata": {
      "byteLimit": 2048000,
      "rowLimit": 10000
     },
     "inputWidgets": {},
     "nuid": "8aa4a477-02ae-4e8e-ac5c-c55249a471d4",
     "showTitle": false,
     "title": ""
    }
   },
   "source": [
    "# Ingest pit_stops.json\n",
    "#### Multi line json"
   ]
  },
  {
   "cell_type": "code",
   "execution_count": 0,
   "metadata": {
    "application/vnd.databricks.v1+cell": {
     "cellMetadata": {
      "byteLimit": 2048000,
      "implicitDf": true,
      "rowLimit": 10000
     },
     "inputWidgets": {},
     "nuid": "50b5aeaa-0339-4281-817b-ce03361f03d2",
     "showTitle": false,
     "title": ""
    }
   },
   "outputs": [],
   "source": [
    "%sql\n",
    "DROP TABLE IF EXISTS f1_processed.pit_stops;"
   ]
  },
  {
   "cell_type": "code",
   "execution_count": 0,
   "metadata": {
    "application/vnd.databricks.v1+cell": {
     "cellMetadata": {
      "byteLimit": 2048000,
      "rowLimit": 10000
     },
     "inputWidgets": {},
     "nuid": "e96671db-ce84-4fba-9952-a5c1a8df726e",
     "showTitle": false,
     "title": ""
    }
   },
   "outputs": [],
   "source": [
    "dbutils.widgets.text(\"p_data_source\", \"\")\n",
    "v_data_source = dbutils.widgets.get(\"p_data_source\")"
   ]
  },
  {
   "cell_type": "code",
   "execution_count": 0,
   "metadata": {
    "application/vnd.databricks.v1+cell": {
     "cellMetadata": {
      "byteLimit": 2048000,
      "rowLimit": 10000
     },
     "inputWidgets": {},
     "nuid": "a8fd9066-8f03-4bf6-9ebb-264b6bec9988",
     "showTitle": false,
     "title": ""
    }
   },
   "outputs": [],
   "source": [
    "dbutils.widgets.text(\"p_file_date\", \"2021-03-21\")\n",
    "v_file_date = dbutils.widgets.get(\"p_file_date\")"
   ]
  },
  {
   "cell_type": "code",
   "execution_count": 0,
   "metadata": {
    "application/vnd.databricks.v1+cell": {
     "cellMetadata": {
      "byteLimit": 2048000,
      "rowLimit": 10000
     },
     "inputWidgets": {},
     "nuid": "0ab258d9-7a40-42bc-a518-15f4e7caf4f6",
     "showTitle": false,
     "title": ""
    }
   },
   "outputs": [],
   "source": [
    "%run \"../includes/configuration\""
   ]
  },
  {
   "cell_type": "code",
   "execution_count": 0,
   "metadata": {
    "application/vnd.databricks.v1+cell": {
     "cellMetadata": {
      "byteLimit": 2048000,
      "rowLimit": 10000
     },
     "inputWidgets": {},
     "nuid": "067d775d-6f6e-4b5d-9285-52c52fca9642",
     "showTitle": false,
     "title": ""
    }
   },
   "outputs": [],
   "source": [
    "%run \"../includes/common_functions\""
   ]
  },
  {
   "cell_type": "code",
   "execution_count": 0,
   "metadata": {
    "application/vnd.databricks.v1+cell": {
     "cellMetadata": {
      "byteLimit": 2048000,
      "rowLimit": 10000
     },
     "inputWidgets": {},
     "nuid": "224be5d7-64b0-464c-adc0-86f8e7a68504",
     "showTitle": false,
     "title": ""
    }
   },
   "outputs": [],
   "source": [
    "from pyspark.sql.types import StructType, IntegerType, StructField, DateType, StringType, FloatType"
   ]
  },
  {
   "cell_type": "code",
   "execution_count": 0,
   "metadata": {
    "application/vnd.databricks.v1+cell": {
     "cellMetadata": {
      "byteLimit": 2048000,
      "rowLimit": 10000
     },
     "inputWidgets": {},
     "nuid": "de21f6d6-36fb-4ea9-9ad0-bb36b192996c",
     "showTitle": false,
     "title": ""
    }
   },
   "outputs": [],
   "source": [
    "pit_stops_schema = StructType(fields = [\n",
    "                                    StructField(\"raceId\", IntegerType(), False),\n",
    "                                    StructField(\"driverId\", IntegerType(), True),\n",
    "                                    StructField(\"stop\", StringType(), True),\n",
    "                                    StructField(\"lap\", IntegerType(), True),\n",
    "                                    StructField(\"time\", StringType(), True),\n",
    "                                    StructField(\"duration\", StringType(), True),\n",
    "                                    StructField(\"milliseconds\", IntegerType(), True)\n",
    "                                    ])"
   ]
  },
  {
   "cell_type": "code",
   "execution_count": 0,
   "metadata": {
    "application/vnd.databricks.v1+cell": {
     "cellMetadata": {
      "byteLimit": 2048000,
      "rowLimit": 10000
     },
     "inputWidgets": {},
     "nuid": "1c1bc02b-3b3b-4a11-83c2-0d42bc0c82bd",
     "showTitle": false,
     "title": ""
    }
   },
   "outputs": [],
   "source": [
    "pit_stops_df = spark.read \\\n",
    ".option(\"multiline\", True) \\\n",
    ".schema(pit_stops_schema) \\\n",
    ".json(f\"{raw_folder_path}/{v_file_date}/pit_stops.json\")\n",
    "display(pit_stops_df)"
   ]
  },
  {
   "cell_type": "code",
   "execution_count": 0,
   "metadata": {
    "application/vnd.databricks.v1+cell": {
     "cellMetadata": {
      "byteLimit": 2048000,
      "rowLimit": 10000
     },
     "inputWidgets": {},
     "nuid": "582ef191-1eb3-4682-a2dd-65b11953128e",
     "showTitle": false,
     "title": ""
    }
   },
   "outputs": [],
   "source": [
    "pit_stops_ingest_df = add_ingestion_date(pit_stops_df)"
   ]
  },
  {
   "cell_type": "code",
   "execution_count": 0,
   "metadata": {
    "application/vnd.databricks.v1+cell": {
     "cellMetadata": {
      "byteLimit": 2048000,
      "rowLimit": 10000
     },
     "inputWidgets": {},
     "nuid": "60acc4d5-4f80-4676-9cff-0c580f1e60b6",
     "showTitle": false,
     "title": ""
    }
   },
   "outputs": [],
   "source": [
    "display(pit_stops_ingest_df)"
   ]
  },
  {
   "cell_type": "code",
   "execution_count": 0,
   "metadata": {
    "application/vnd.databricks.v1+cell": {
     "cellMetadata": {
      "byteLimit": 2048000,
      "rowLimit": 10000
     },
     "inputWidgets": {},
     "nuid": "4ac02f15-41f3-4e09-b190-c831b9b860ec",
     "showTitle": false,
     "title": ""
    }
   },
   "outputs": [],
   "source": [
    "from pyspark.sql.functions import lit, col"
   ]
  },
  {
   "cell_type": "code",
   "execution_count": 0,
   "metadata": {
    "application/vnd.databricks.v1+cell": {
     "cellMetadata": {
      "byteLimit": 2048000,
      "rowLimit": 10000
     },
     "inputWidgets": {},
     "nuid": "429261f2-ce3c-4ea1-bae8-d5d22a356ed6",
     "showTitle": false,
     "title": ""
    }
   },
   "outputs": [],
   "source": [
    "pit_stops_renamed_df = pit_stops_ingest_df.withColumnRenamed(\"raceId\",\"race_id\") \\\n",
    ".withColumnRenamed(\"driverId\", \"driver_id\") \\\n",
    ".withColumn(\"data_source\", lit(v_data_source)) \\\n",
    ".withColumn(\"file_date\", lit(v_file_date))\n",
    "display(pit_stops_renamed_df)"
   ]
  },
  {
   "cell_type": "code",
   "execution_count": 0,
   "metadata": {
    "application/vnd.databricks.v1+cell": {
     "cellMetadata": {
      "byteLimit": 2048000,
      "rowLimit": 10000
     },
     "inputWidgets": {},
     "nuid": "171ca483-121f-4e64-a101-fbabc63af0ee",
     "showTitle": false,
     "title": ""
    }
   },
   "outputs": [],
   "source": [
    "pit_stops_renamed_df.schema.names"
   ]
  },
  {
   "cell_type": "code",
   "execution_count": 0,
   "metadata": {
    "application/vnd.databricks.v1+cell": {
     "cellMetadata": {
      "byteLimit": 2048000,
      "rowLimit": 10000
     },
     "inputWidgets": {},
     "nuid": "1e715e4f-a0df-4124-ae67-07dd9a99c432",
     "showTitle": false,
     "title": ""
    }
   },
   "outputs": [],
   "source": [
    "pit_stops_renamed_df.printSchema()"
   ]
  },
  {
   "cell_type": "code",
   "execution_count": 0,
   "metadata": {
    "application/vnd.databricks.v1+cell": {
     "cellMetadata": {
      "byteLimit": 2048000,
      "rowLimit": 10000
     },
     "inputWidgets": {},
     "nuid": "f6c33785-73dd-4dae-b9b4-4637dea61952",
     "showTitle": false,
     "title": ""
    }
   },
   "outputs": [],
   "source": [
    "# def re_arrange_partition_column(input_df, partition_column):\n",
    "#   column_list = []\n",
    "#   for column_name in input_df.schema.names:\n",
    "#     if column_name != partition_column:\n",
    "#       column_list.append(column_name)\n",
    "#   column_list.append(partition_column)\n",
    "#   output_df = input_df.select(column_list)\n",
    "#   return output_df"
   ]
  },
  {
   "cell_type": "code",
   "execution_count": 0,
   "metadata": {
    "application/vnd.databricks.v1+cell": {
     "cellMetadata": {
      "byteLimit": 2048000,
      "rowLimit": 10000
     },
     "inputWidgets": {},
     "nuid": "8aff7b05-157f-43be-98e5-cbd92892fa31",
     "showTitle": false,
     "title": ""
    }
   },
   "outputs": [],
   "source": [
    "# def overwrite_partition(input_df, db_name, table_name, partition_column):\n",
    "#   output_df = re_arrange_partition_column(input_df, partition_column)\n",
    "#   spark.conf.set(\"spark.sql.sources.partitionOverwriteMode\",\"dynamic\")\n",
    "#   if (spark._jsparkSession.catalog().tableExists(f\"{db_name}.{table_name}\")):\n",
    "#     output_df.write.mode(\"overwrite\").insertInto(f\"{db_name}.{table_name}\")\n",
    "#   else:\n",
    "#     output_df.write.mode(\"overwrite\").partitionBy(partition_column).format(\"parquet\").saveAsTable(f\"{db_name}.{table_name}\")"
   ]
  },
  {
   "cell_type": "code",
   "execution_count": 0,
   "metadata": {
    "application/vnd.databricks.v1+cell": {
     "cellMetadata": {
      "byteLimit": 2048000,
      "rowLimit": 10000
     },
     "inputWidgets": {},
     "nuid": "06eb11ce-a469-4e3b-988b-27d2e62a3f08",
     "showTitle": false,
     "title": ""
    }
   },
   "outputs": [],
   "source": [
    "# partition_column = 'race_id'\n",
    "# column_list = []\n",
    "# for column_name in pit_stops_renamed_df.schema.names:\n",
    "#     if column_name != partition_column:\n",
    "#         column_list.append(column_name)\n",
    "# column_list.append(partition_column)\n",
    "# output_df = pit_stops_renamed_df.select(column_list)\n",
    "# display(output_df)"
   ]
  },
  {
   "cell_type": "code",
   "execution_count": 0,
   "metadata": {
    "application/vnd.databricks.v1+cell": {
     "cellMetadata": {
      "byteLimit": 2048000,
      "rowLimit": 10000
     },
     "inputWidgets": {},
     "nuid": "d1bd5236-8bdf-4dab-ab5d-07fc9d3d7088",
     "showTitle": false,
     "title": ""
    }
   },
   "outputs": [],
   "source": [
    "# spark.conf.set(\"spark.sql.sources.partitionOverwriteMode\",\"dynamic\")"
   ]
  },
  {
   "cell_type": "code",
   "execution_count": 0,
   "metadata": {
    "application/vnd.databricks.v1+cell": {
     "cellMetadata": {
      "byteLimit": 2048000,
      "rowLimit": 10000
     },
     "inputWidgets": {},
     "nuid": "cb5a6b55-ad23-46af-9268-d3444bf3a71e",
     "showTitle": false,
     "title": ""
    }
   },
   "outputs": [],
   "source": [
    "# db_name = 'f1_processed'\n",
    "# table_name = 'pit_stops'\n",
    "\n",
    "# if (spark._jsparkSession.catalog().tableExists('f1_processed.pit_stops')):\n",
    "#     output_df.write.mode(\"overwrite\").insertInto('f1_processed.pit_stops')\n",
    "# else:\n",
    "#     output_df.write.mode(\"overwrite\").partitionBy(partition_column).format(\"parquet\").saveAsTable('f1_processed.pit_stops')"
   ]
  },
  {
   "cell_type": "code",
   "execution_count": 0,
   "metadata": {
    "application/vnd.databricks.v1+cell": {
     "cellMetadata": {
      "byteLimit": 2048000,
      "rowLimit": 10000
     },
     "inputWidgets": {},
     "nuid": "51758d8f-cf13-4ffb-b064-a5dd7c3de79f",
     "showTitle": false,
     "title": ""
    }
   },
   "outputs": [],
   "source": [
    "# pit_stops_final_df.write.mode(\"overwrite\").format(\"parquet\").saveAsTable(\"f1_processed.pit_stops\")\n",
    "overwrite_partition(pit_stops_renamed_df, 'f1_processed', 'pit_stops', 'race_id')"
   ]
  },
  {
   "cell_type": "code",
   "execution_count": 0,
   "metadata": {
    "application/vnd.databricks.v1+cell": {
     "cellMetadata": {
      "byteLimit": 2048000,
      "implicitDf": true,
      "rowLimit": 10000
     },
     "inputWidgets": {},
     "nuid": "17581c31-bd3e-49ab-9bde-b688727daa23",
     "showTitle": false,
     "title": ""
    }
   },
   "outputs": [],
   "source": [
    "%sql\n",
    "SELECT * FROM f1_processed.pit_stops;"
   ]
  },
  {
   "cell_type": "code",
   "execution_count": 0,
   "metadata": {
    "application/vnd.databricks.v1+cell": {
     "cellMetadata": {
      "byteLimit": 2048000,
      "rowLimit": 10000
     },
     "inputWidgets": {},
     "nuid": "af476598-835f-4dc7-90c0-52f80503f9f8",
     "showTitle": false,
     "title": ""
    }
   },
   "outputs": [],
   "source": [
    "dbutils.notebook.exit(\"Success\")"
   ]
  }
 ],
 "metadata": {
  "application/vnd.databricks.v1+notebook": {
   "dashboards": [],
   "language": "python",
   "notebookMetadata": {
    "mostRecentlyExecutedCommandWithImplicitDF": {
     "commandId": 2009782858783353,
     "dataframes": [
      "_sqldf"
     ]
    },
    "pythonIndentUnit": 4
   },
   "notebookName": "6.ingest_pit_stops_file",
   "widgets": {
    "p_data_source": {
     "currentValue": "Ergast",
     "nuid": "cd40f2c4-790f-4c55-b67c-a3b6048234a3",
     "widgetInfo": {
      "widgetType": "text",
      "defaultValue": "",
      "label": null,
      "name": "p_data_source",
      "options": {
       "widgetType": "text",
       "autoCreated": null,
       "validationRegex": null
      }
     }
    },
    "p_file_date": {
     "currentValue": "2021-03-21",
     "nuid": "2745b5de-3e32-4fc7-b39e-da2bd7c7e675",
     "widgetInfo": {
      "widgetType": "text",
      "defaultValue": "2021-03-21",
      "label": null,
      "name": "p_file_date",
      "options": {
       "widgetType": "text",
       "autoCreated": null,
       "validationRegex": null
      }
     }
    }
   }
  }
 },
 "nbformat": 4,
 "nbformat_minor": 0
}
