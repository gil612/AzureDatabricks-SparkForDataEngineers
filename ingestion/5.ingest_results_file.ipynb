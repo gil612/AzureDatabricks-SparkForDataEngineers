{
 "cells": [
  {
   "cell_type": "code",
   "execution_count": 0,
   "metadata": {
    "application/vnd.databricks.v1+cell": {
     "cellMetadata": {
      "byteLimit": 2048000,
      "rowLimit": 10000
     },
     "inputWidgets": {},
     "nuid": "7999723c-5bbb-4968-8e0a-4eb981ef0fc5",
     "showTitle": false,
     "title": ""
    }
   },
   "outputs": [],
   "source": [
    "# spark.read.json(\"/mnt/formula1dl612/raw/2021-03-21/results.json\").createOrReplaceTempView(\"results_cutover\")"
   ]
  },
  {
   "cell_type": "code",
   "execution_count": 0,
   "metadata": {
    "application/vnd.databricks.v1+cell": {
     "cellMetadata": {
      "byteLimit": 2048000,
      "rowLimit": 10000
     },
     "inputWidgets": {},
     "nuid": "bc5f1d39-ae32-44ac-8f49-c7af54e74c48",
     "showTitle": false,
     "title": ""
    }
   },
   "outputs": [],
   "source": [
    "# %sql\n",
    "# SELECT raceID, count(1)\n",
    "# FROM results_cutover\n",
    "# GROUP BY raceId\n",
    "# ORDER BY raceId DESC;"
   ]
  },
  {
   "cell_type": "code",
   "execution_count": 0,
   "metadata": {
    "application/vnd.databricks.v1+cell": {
     "cellMetadata": {
      "byteLimit": 2048000,
      "rowLimit": 10000
     },
     "inputWidgets": {},
     "nuid": "2a8b8684-75d8-4984-871d-d64b8aa71c16",
     "showTitle": false,
     "title": ""
    }
   },
   "outputs": [],
   "source": [
    "# spark.read.json(\"/mnt/formula1dl612/raw/2021-03-28/results.json\").createOrReplaceTempView(\"results_w1\")"
   ]
  },
  {
   "cell_type": "code",
   "execution_count": 0,
   "metadata": {
    "application/vnd.databricks.v1+cell": {
     "cellMetadata": {
      "byteLimit": 2048000,
      "rowLimit": 10000
     },
     "inputWidgets": {},
     "nuid": "13ef961e-513b-4b17-b0f0-33e5e44df571",
     "showTitle": false,
     "title": ""
    }
   },
   "outputs": [],
   "source": [
    "# %sql\n",
    "# SELECT raceID, count(1)\n",
    "# FROM results_w1\n",
    "# GROUP BY raceId\n",
    "# ORDER BY raceId DESC;"
   ]
  },
  {
   "cell_type": "code",
   "execution_count": 0,
   "metadata": {
    "application/vnd.databricks.v1+cell": {
     "cellMetadata": {
      "byteLimit": 2048000,
      "rowLimit": 10000
     },
     "inputWidgets": {},
     "nuid": "e00a4b2f-7b45-4bb5-84c9-13ef91cc514e",
     "showTitle": false,
     "title": ""
    }
   },
   "outputs": [],
   "source": [
    "# spark.read.json(\"/mnt/formula1dl612/raw/2021-04-18/results.json\").createOrReplaceTempView(\"results_w2\")"
   ]
  },
  {
   "cell_type": "code",
   "execution_count": 0,
   "metadata": {
    "application/vnd.databricks.v1+cell": {
     "cellMetadata": {
      "byteLimit": 2048000,
      "rowLimit": 10000
     },
     "inputWidgets": {},
     "nuid": "af0f9b94-4d28-48d1-a078-ae596823e7aa",
     "showTitle": false,
     "title": ""
    }
   },
   "outputs": [],
   "source": [
    "# %sql\n",
    "# SELECT raceID, count(1)\n",
    "# FROM results_w2\n",
    "# GROUP BY raceId\n",
    "# ORDER BY raceId DESC;"
   ]
  },
  {
   "cell_type": "markdown",
   "metadata": {
    "application/vnd.databricks.v1+cell": {
     "cellMetadata": {
      "byteLimit": 2048000,
      "rowLimit": 10000
     },
     "inputWidgets": {},
     "nuid": "72cefc8d-879d-4c23-99c3-218e4800893a",
     "showTitle": false,
     "title": ""
    }
   },
   "source": [
    "# Ingest results.json file"
   ]
  },
  {
   "cell_type": "code",
   "execution_count": 0,
   "metadata": {
    "application/vnd.databricks.v1+cell": {
     "cellMetadata": {
      "byteLimit": 2048000,
      "rowLimit": 10000
     },
     "inputWidgets": {},
     "nuid": "a44aac6d-8250-4eee-8966-c4ae1f184b74",
     "showTitle": false,
     "title": ""
    }
   },
   "outputs": [],
   "source": [
    "dbutils.widgets.text(\"p_data_source\", \"\")\n",
    "v_data_source = dbutils.widgets.get(\"p_data_source\")"
   ]
  },
  {
   "cell_type": "code",
   "execution_count": 0,
   "metadata": {
    "application/vnd.databricks.v1+cell": {
     "cellMetadata": {
      "byteLimit": 2048000,
      "rowLimit": 10000
     },
     "inputWidgets": {},
     "nuid": "5dbee204-9f7d-4a1e-a256-6b8ccfaecbbf",
     "showTitle": false,
     "title": ""
    }
   },
   "outputs": [],
   "source": [
    "dbutils.widgets.text(\"p_file_date\", \"2021-03-28\")\n",
    "v_file_date = dbutils.widgets.get(\"p_file_date\")"
   ]
  },
  {
   "cell_type": "code",
   "execution_count": 0,
   "metadata": {
    "application/vnd.databricks.v1+cell": {
     "cellMetadata": {
      "byteLimit": 2048000,
      "rowLimit": 10000
     },
     "inputWidgets": {},
     "nuid": "9915e6e0-30fc-4f32-98e4-608c080bc823",
     "showTitle": false,
     "title": ""
    }
   },
   "outputs": [],
   "source": [
    "%run \"../includes/configuration\""
   ]
  },
  {
   "cell_type": "code",
   "execution_count": 0,
   "metadata": {
    "application/vnd.databricks.v1+cell": {
     "cellMetadata": {
      "byteLimit": 2048000,
      "rowLimit": 10000
     },
     "inputWidgets": {},
     "nuid": "7baea843-7d22-45df-98f3-2d788c4ae0e0",
     "showTitle": false,
     "title": ""
    }
   },
   "outputs": [],
   "source": [
    "%run \"../includes/common_functions\""
   ]
  },
  {
   "cell_type": "code",
   "execution_count": 0,
   "metadata": {
    "application/vnd.databricks.v1+cell": {
     "cellMetadata": {
      "byteLimit": 2048000,
      "rowLimit": 10000
     },
     "inputWidgets": {},
     "nuid": "8a863ac4-7b39-486b-a1d7-06261813783f",
     "showTitle": false,
     "title": ""
    }
   },
   "outputs": [],
   "source": [
    "from pyspark.sql.types import StructType, IntegerType, StructField, DateType, StringType, FloatType"
   ]
  },
  {
   "cell_type": "code",
   "execution_count": 0,
   "metadata": {
    "application/vnd.databricks.v1+cell": {
     "cellMetadata": {
      "byteLimit": 2048000,
      "rowLimit": 10000
     },
     "inputWidgets": {},
     "nuid": "239ab1f3-a15f-441b-bace-a1b19d13e42a",
     "showTitle": false,
     "title": ""
    }
   },
   "outputs": [],
   "source": [
    "results_schema = StructType(fields = [StructField(\"resultId\", IntegerType(), False),\n",
    "                                      StructField(\"raceId\", IntegerType(), True),\n",
    "                                      StructField(\"driverId\", IntegerType(), True),\n",
    "                                      StructField(\"constructorId\", IntegerType(), True),\n",
    "                                      StructField(\"number\", IntegerType(), True),\n",
    "                                      StructField(\"grid\", IntegerType(), True),\n",
    "                                      StructField(\"position\", IntegerType(), True),\n",
    "                                      StructField(\"positionText\", StringType(), True),\n",
    "                                      StructField(\"positionOrder\", IntegerType(), True),\n",
    "                                      StructField(\"points\", FloatType(), True),\n",
    "                                      StructField(\"laps\", IntegerType(), True),\n",
    "                                      StructField(\"time\", StringType(), True),\n",
    "                                      StructField(\"milliseconds\", IntegerType(), True),\n",
    "                                      StructField(\"fastestLap\", IntegerType(), True),\n",
    "                                      StructField(\"rank\", IntegerType(), True),\n",
    "                                      StructField(\"fastestLapTime\", StringType(), True),\n",
    "                                      StructField(\"fastestLapSpeed\", FloatType(), True),\n",
    "                                      StructField(\"statusId\", StringType(), True)\n",
    "                                      ])"
   ]
  },
  {
   "cell_type": "code",
   "execution_count": 0,
   "metadata": {
    "application/vnd.databricks.v1+cell": {
     "cellMetadata": {
      "byteLimit": 2048000,
      "rowLimit": 10000
     },
     "inputWidgets": {},
     "nuid": "291c2b19-8168-4e19-b8dc-1161adf023bf",
     "showTitle": false,
     "title": ""
    }
   },
   "outputs": [],
   "source": [
    "results_df = spark.read \\\n",
    ".schema(results_schema) \\\n",
    ".json(f\"{raw_folder_path}/{v_file_date}/results.json\")"
   ]
  },
  {
   "cell_type": "code",
   "execution_count": 0,
   "metadata": {
    "application/vnd.databricks.v1+cell": {
     "cellMetadata": {
      "byteLimit": 2048000,
      "rowLimit": 10000
     },
     "inputWidgets": {},
     "nuid": "1de68a27-0560-4307-9893-ff7e3f711469",
     "showTitle": false,
     "title": ""
    }
   },
   "outputs": [
    {
     "output_type": "stream",
     "name": "stdout",
     "output_type": "stream",
     "text": [
      "root\n |-- resultId: integer (nullable = true)\n |-- raceId: integer (nullable = true)\n |-- driverId: integer (nullable = true)\n |-- constructorId: integer (nullable = true)\n |-- number: integer (nullable = true)\n |-- grid: integer (nullable = true)\n |-- position: integer (nullable = true)\n |-- positionText: string (nullable = true)\n |-- positionOrder: integer (nullable = true)\n |-- points: float (nullable = true)\n |-- laps: integer (nullable = true)\n |-- time: string (nullable = true)\n |-- milliseconds: integer (nullable = true)\n |-- fastestLap: integer (nullable = true)\n |-- rank: integer (nullable = true)\n |-- fastestLapTime: string (nullable = true)\n |-- fastestLapSpeed: float (nullable = true)\n |-- statusId: string (nullable = true)\n\n"
     ]
    }
   ],
   "source": [
    "results_df.printSchema()"
   ]
  },
  {
   "cell_type": "code",
   "execution_count": 0,
   "metadata": {
    "application/vnd.databricks.v1+cell": {
     "cellMetadata": {
      "byteLimit": 2048000,
      "rowLimit": 10000
     },
     "inputWidgets": {},
     "nuid": "2b023e06-cb90-4d20-b269-b5a89152ccd2",
     "showTitle": false,
     "title": ""
    }
   },
   "outputs": [
    {
     "output_type": "display_data",
     "data": {
      "text/html": [
       "<style scoped>\n",
       "  .table-result-container {\n",
       "    max-height: 300px;\n",
       "    overflow: auto;\n",
       "  }\n",
       "  table, th, td {\n",
       "    border: 1px solid black;\n",
       "    border-collapse: collapse;\n",
       "  }\n",
       "  th, td {\n",
       "    padding: 5px;\n",
       "  }\n",
       "  th {\n",
       "    text-align: left;\n",
       "  }\n",
       "</style><div class='table-result-container'><table class='table-result'><thead style='background-color: white'><tr><th>resultId</th><th>raceId</th><th>driverId</th><th>constructorId</th><th>number</th><th>grid</th><th>position</th><th>positionText</th><th>positionOrder</th><th>points</th><th>laps</th><th>time</th><th>milliseconds</th><th>fastestLap</th><th>rank</th><th>fastestLapTime</th><th>fastestLapSpeed</th><th>statusId</th></tr></thead><tbody><tr><td>24986</td><td>1053</td><td>830</td><td>9</td><td>33</td><td>3</td><td>1</td><td>1</td><td>1</td><td>25.0</td><td>63</td><td>2:02:34.598</td><td>7354598</td><td>60</td><td>2</td><td>1:17.524</td><td>227.96</td><td>1</td></tr><tr><td>24987</td><td>1053</td><td>1</td><td>131</td><td>44</td><td>1</td><td>2</td><td>2</td><td>2</td><td>19.0</td><td>63</td><td>+22.000</td><td>7376598</td><td>60</td><td>1</td><td>1:16.702</td><td>230.403</td><td>1</td></tr><tr><td>24988</td><td>1053</td><td>846</td><td>1</td><td>4</td><td>7</td><td>3</td><td>3</td><td>3</td><td>15.0</td><td>63</td><td>+23.702</td><td>7378300</td><td>63</td><td>3</td><td>1:18.259</td><td>225.819</td><td>1</td></tr><tr><td>24989</td><td>1053</td><td>844</td><td>6</td><td>16</td><td>4</td><td>4</td><td>4</td><td>4</td><td>12.0</td><td>63</td><td>+25.579</td><td>7380177</td><td>60</td><td>6</td><td>1:18.379</td><td>225.473</td><td>1</td></tr><tr><td>24990</td><td>1053</td><td>832</td><td>6</td><td>55</td><td>11</td><td>5</td><td>5</td><td>5</td><td>10.0</td><td>63</td><td>+27.036</td><td>7381634</td><td>60</td><td>7</td><td>1:18.490</td><td>225.154</td><td>1</td></tr><tr><td>24991</td><td>1053</td><td>817</td><td>1</td><td>3</td><td>6</td><td>6</td><td>6</td><td>6</td><td>8.0</td><td>63</td><td>+51.220</td><td>7405818</td><td>54</td><td>12</td><td>1:19.341</td><td>222.739</td><td>1</td></tr><tr><td>24992</td><td>1053</td><td>842</td><td>213</td><td>10</td><td>5</td><td>7</td><td>7</td><td>7</td><td>6.0</td><td>63</td><td>+52.818</td><td>7407416</td><td>52</td><td>9</td><td>1:18.994</td><td>223.718</td><td>1</td></tr><tr><td>24993</td><td>1053</td><td>840</td><td>117</td><td>18</td><td>10</td><td>8</td><td>8</td><td>8</td><td>4.0</td><td>63</td><td>+56.909</td><td>7411507</td><td>59</td><td>8</td><td>1:18.782</td><td>224.32</td><td>1</td></tr><tr><td>24994</td><td>1053</td><td>839</td><td>214</td><td>31</td><td>9</td><td>9</td><td>9</td><td>9</td><td>2.0</td><td>63</td><td>+65.704</td><td>7420302</td><td>62</td><td>15</td><td>1:19.422</td><td>222.512</td><td>1</td></tr><tr><td>24995</td><td>1053</td><td>4</td><td>214</td><td>14</td><td>15</td><td>10</td><td>10</td><td>10</td><td>1.0</td><td>63</td><td>+66.561</td><td>7421159</td><td>62</td><td>14</td><td>1:19.417</td><td>222.526</td><td>1</td></tr><tr><td>24996</td><td>1053</td><td>815</td><td>9</td><td>11</td><td>2</td><td>11</td><td>11</td><td>11</td><td>0.0</td><td>63</td><td>+67.151</td><td>7421749</td><td>62</td><td>13</td><td>1:19.396</td><td>222.585</td><td>1</td></tr><tr><td>24997</td><td>1053</td><td>852</td><td>213</td><td>22</td><td>20</td><td>12</td><td>12</td><td>12</td><td>0.0</td><td>63</td><td>+73.184</td><td>7427782</td><td>49</td><td>4</td><td>1:18.334</td><td>225.603</td><td>1</td></tr><tr><td>24998</td><td>1053</td><td>8</td><td>51</td><td>7</td><td>16</td><td>13</td><td>13</td><td>13</td><td>0.0</td><td>63</td><td>+94.773</td><td>7449371</td><td>62</td><td>5</td><td>1:18.353</td><td>225.548</td><td>1</td></tr><tr><td>24999</td><td>1053</td><td>841</td><td>51</td><td>99</td><td>17</td><td>14</td><td>14</td><td>14</td><td>0.0</td><td>62</td><td>\\N</td><td>null</td><td>57</td><td>16</td><td>1:19.470</td><td>222.378</td><td>11</td></tr><tr><td>25000</td><td>1053</td><td>20</td><td>117</td><td>5</td><td>0</td><td>15</td><td>15</td><td>15</td><td>0.0</td><td>61</td><td>\\N</td><td>null</td><td>59</td><td>10</td><td>1:19.074</td><td>223.491</td><td>6</td></tr><tr><td>25001</td><td>1053</td><td>854</td><td>210</td><td>47</td><td>18</td><td>16</td><td>16</td><td>16</td><td>0.0</td><td>61</td><td>\\N</td><td>null</td><td>58</td><td>11</td><td>1:19.193</td><td>223.156</td><td>12</td></tr><tr><td>25002</td><td>1053</td><td>853</td><td>210</td><td>9</td><td>19</td><td>17</td><td>17</td><td>17</td><td>0.0</td><td>61</td><td>\\N</td><td>null</td><td>55</td><td>17</td><td>1:20.402</td><td>219.8</td><td>12</td></tr><tr><td>25003</td><td>1053</td><td>822</td><td>131</td><td>77</td><td>8</td><td>null</td><td>R</td><td>18</td><td>0.0</td><td>30</td><td>\\N</td><td>null</td><td>30</td><td>19</td><td>1:28.485</td><td>199.721</td><td>4</td></tr><tr><td>25004</td><td>1053</td><td>847</td><td>3</td><td>63</td><td>12</td><td>null</td><td>R</td><td>19</td><td>0.0</td><td>30</td><td>\\N</td><td>null</td><td>28</td><td>18</td><td>1:26.543</td><td>204.203</td><td>4</td></tr><tr><td>25005</td><td>1053</td><td>849</td><td>3</td><td>6</td><td>14</td><td>null</td><td>R</td><td>20</td><td>0.0</td><td>0</td><td>\\N</td><td>null</td><td>null</td><td>0</td><td>\\N</td><td>null</td><td>4</td></tr></tbody></table></div>"
      ]
     },
     "metadata": {
      "application/vnd.databricks.v1+output": {
       "addedWidgets": {},
       "aggData": [],
       "aggError": "",
       "aggOverflow": false,
       "aggSchema": [],
       "aggSeriesLimitReached": false,
       "aggType": "",
       "arguments": {},
       "columnCustomDisplayInfos": {},
       "data": [
        [
         24986,
         1053,
         830,
         9,
         33,
         3,
         1,
         "1",
         1,
         25.0,
         63,
         "2:02:34.598",
         7354598,
         60,
         2,
         "1:17.524",
         227.96,
         "1"
        ],
        [
         24987,
         1053,
         1,
         131,
         44,
         1,
         2,
         "2",
         2,
         19.0,
         63,
         "+22.000",
         7376598,
         60,
         1,
         "1:16.702",
         230.403,
         "1"
        ],
        [
         24988,
         1053,
         846,
         1,
         4,
         7,
         3,
         "3",
         3,
         15.0,
         63,
         "+23.702",
         7378300,
         63,
         3,
         "1:18.259",
         225.819,
         "1"
        ],
        [
         24989,
         1053,
         844,
         6,
         16,
         4,
         4,
         "4",
         4,
         12.0,
         63,
         "+25.579",
         7380177,
         60,
         6,
         "1:18.379",
         225.473,
         "1"
        ],
        [
         24990,
         1053,
         832,
         6,
         55,
         11,
         5,
         "5",
         5,
         10.0,
         63,
         "+27.036",
         7381634,
         60,
         7,
         "1:18.490",
         225.154,
         "1"
        ],
        [
         24991,
         1053,
         817,
         1,
         3,
         6,
         6,
         "6",
         6,
         8.0,
         63,
         "+51.220",
         7405818,
         54,
         12,
         "1:19.341",
         222.739,
         "1"
        ],
        [
         24992,
         1053,
         842,
         213,
         10,
         5,
         7,
         "7",
         7,
         6.0,
         63,
         "+52.818",
         7407416,
         52,
         9,
         "1:18.994",
         223.718,
         "1"
        ],
        [
         24993,
         1053,
         840,
         117,
         18,
         10,
         8,
         "8",
         8,
         4.0,
         63,
         "+56.909",
         7411507,
         59,
         8,
         "1:18.782",
         224.32,
         "1"
        ],
        [
         24994,
         1053,
         839,
         214,
         31,
         9,
         9,
         "9",
         9,
         2.0,
         63,
         "+65.704",
         7420302,
         62,
         15,
         "1:19.422",
         222.512,
         "1"
        ],
        [
         24995,
         1053,
         4,
         214,
         14,
         15,
         10,
         "10",
         10,
         1.0,
         63,
         "+66.561",
         7421159,
         62,
         14,
         "1:19.417",
         222.526,
         "1"
        ],
        [
         24996,
         1053,
         815,
         9,
         11,
         2,
         11,
         "11",
         11,
         0.0,
         63,
         "+67.151",
         7421749,
         62,
         13,
         "1:19.396",
         222.585,
         "1"
        ],
        [
         24997,
         1053,
         852,
         213,
         22,
         20,
         12,
         "12",
         12,
         0.0,
         63,
         "+73.184",
         7427782,
         49,
         4,
         "1:18.334",
         225.603,
         "1"
        ],
        [
         24998,
         1053,
         8,
         51,
         7,
         16,
         13,
         "13",
         13,
         0.0,
         63,
         "+94.773",
         7449371,
         62,
         5,
         "1:18.353",
         225.548,
         "1"
        ],
        [
         24999,
         1053,
         841,
         51,
         99,
         17,
         14,
         "14",
         14,
         0.0,
         62,
         "\\N",
         null,
         57,
         16,
         "1:19.470",
         222.378,
         "11"
        ],
        [
         25000,
         1053,
         20,
         117,
         5,
         0,
         15,
         "15",
         15,
         0.0,
         61,
         "\\N",
         null,
         59,
         10,
         "1:19.074",
         223.491,
         "6"
        ],
        [
         25001,
         1053,
         854,
         210,
         47,
         18,
         16,
         "16",
         16,
         0.0,
         61,
         "\\N",
         null,
         58,
         11,
         "1:19.193",
         223.156,
         "12"
        ],
        [
         25002,
         1053,
         853,
         210,
         9,
         19,
         17,
         "17",
         17,
         0.0,
         61,
         "\\N",
         null,
         55,
         17,
         "1:20.402",
         219.8,
         "12"
        ],
        [
         25003,
         1053,
         822,
         131,
         77,
         8,
         null,
         "R",
         18,
         0.0,
         30,
         "\\N",
         null,
         30,
         19,
         "1:28.485",
         199.721,
         "4"
        ],
        [
         25004,
         1053,
         847,
         3,
         63,
         12,
         null,
         "R",
         19,
         0.0,
         30,
         "\\N",
         null,
         28,
         18,
         "1:26.543",
         204.203,
         "4"
        ],
        [
         25005,
         1053,
         849,
         3,
         6,
         14,
         null,
         "R",
         20,
         0.0,
         0,
         "\\N",
         null,
         null,
         0,
         "\\N",
         null,
         "4"
        ]
       ],
       "datasetInfos": [],
       "dbfsResultPath": null,
       "isJsonSchema": true,
       "metadata": {},
       "overflow": false,
       "plotOptions": {
        "customPlotOptions": {},
        "displayType": "table",
        "pivotAggregation": null,
        "pivotColumns": null,
        "xColumns": null,
        "yColumns": null
       },
       "removedWidgets": [],
       "schema": [
        {
         "metadata": "{}",
         "name": "resultId",
         "type": "\"integer\""
        },
        {
         "metadata": "{}",
         "name": "raceId",
         "type": "\"integer\""
        },
        {
         "metadata": "{}",
         "name": "driverId",
         "type": "\"integer\""
        },
        {
         "metadata": "{}",
         "name": "constructorId",
         "type": "\"integer\""
        },
        {
         "metadata": "{}",
         "name": "number",
         "type": "\"integer\""
        },
        {
         "metadata": "{}",
         "name": "grid",
         "type": "\"integer\""
        },
        {
         "metadata": "{}",
         "name": "position",
         "type": "\"integer\""
        },
        {
         "metadata": "{}",
         "name": "positionText",
         "type": "\"string\""
        },
        {
         "metadata": "{}",
         "name": "positionOrder",
         "type": "\"integer\""
        },
        {
         "metadata": "{}",
         "name": "points",
         "type": "\"float\""
        },
        {
         "metadata": "{}",
         "name": "laps",
         "type": "\"integer\""
        },
        {
         "metadata": "{}",
         "name": "time",
         "type": "\"string\""
        },
        {
         "metadata": "{}",
         "name": "milliseconds",
         "type": "\"integer\""
        },
        {
         "metadata": "{}",
         "name": "fastestLap",
         "type": "\"integer\""
        },
        {
         "metadata": "{}",
         "name": "rank",
         "type": "\"integer\""
        },
        {
         "metadata": "{}",
         "name": "fastestLapTime",
         "type": "\"string\""
        },
        {
         "metadata": "{}",
         "name": "fastestLapSpeed",
         "type": "\"float\""
        },
        {
         "metadata": "{}",
         "name": "statusId",
         "type": "\"string\""
        }
       ],
       "type": "table"
      }
     },
     "output_type": "display_data"
    }
   ],
   "source": [
    "display(results_df)"
   ]
  },
  {
   "cell_type": "code",
   "execution_count": 0,
   "metadata": {
    "application/vnd.databricks.v1+cell": {
     "cellMetadata": {
      "byteLimit": 2048000,
      "rowLimit": 10000
     },
     "inputWidgets": {},
     "nuid": "1a67bf6f-2dc5-4816-a61e-7f055a2ff326",
     "showTitle": false,
     "title": ""
    }
   },
   "outputs": [],
   "source": [
    "from pyspark.sql.functions import lit, col"
   ]
  },
  {
   "cell_type": "code",
   "execution_count": 0,
   "metadata": {
    "application/vnd.databricks.v1+cell": {
     "cellMetadata": {
      "byteLimit": 2048000,
      "rowLimit": 10000
     },
     "inputWidgets": {},
     "nuid": "b24bc80c-109d-4d88-b62d-240df58f40db",
     "showTitle": false,
     "title": ""
    }
   },
   "outputs": [],
   "source": [
    "results_renamed_df = results_df.withColumnRenamed(\"resultId\", \"result_id\") \\\n",
    ".withColumnRenamed(\"raceId\",\"race_id\") \\\n",
    ".withColumnRenamed(\"driverId\", \"driver_id\") \\\n",
    ".withColumnRenamed(\"constructorId\", \"constructor_id\") \\\n",
    ".withColumnRenamed(\"positionText\", \"position_text\") \\\n",
    ".withColumnRenamed(\"positionOrder\", \"position_order\") \\\n",
    ".withColumnRenamed(\"fastestLap\", \"fastest_lap\") \\\n",
    ".withColumnRenamed(\"fastestLapTime\", \"fastest_lap_time\") \\\n",
    ".withColumnRenamed(\"fastestLapSpeed\", \"fastest_Lap_speed\") \\\n",
    ".withColumn(\"data_source\", lit(v_data_source)) \\\n",
    ".withColumn(\"file_date\", lit(v_file_date))"
   ]
  },
  {
   "cell_type": "code",
   "execution_count": 0,
   "metadata": {
    "application/vnd.databricks.v1+cell": {
     "cellMetadata": {
      "byteLimit": 2048000,
      "rowLimit": 10000
     },
     "inputWidgets": {},
     "nuid": "81c66bed-562f-4e69-9452-6df75214f63e",
     "showTitle": false,
     "title": ""
    }
   },
   "outputs": [],
   "source": [
    "results_final_df = add_ingestion_date(results_renamed_df)"
   ]
  },
  {
   "cell_type": "code",
   "execution_count": 0,
   "metadata": {
    "application/vnd.databricks.v1+cell": {
     "cellMetadata": {
      "byteLimit": 2048000,
      "rowLimit": 10000
     },
     "inputWidgets": {},
     "nuid": "8dee9d9d-2da7-44f2-953f-440e7093f1c4",
     "showTitle": false,
     "title": ""
    }
   },
   "outputs": [
    {
     "output_type": "display_data",
     "data": {
      "text/html": [
       "<style scoped>\n",
       "  .table-result-container {\n",
       "    max-height: 300px;\n",
       "    overflow: auto;\n",
       "  }\n",
       "  table, th, td {\n",
       "    border: 1px solid black;\n",
       "    border-collapse: collapse;\n",
       "  }\n",
       "  th, td {\n",
       "    padding: 5px;\n",
       "  }\n",
       "  th {\n",
       "    text-align: left;\n",
       "  }\n",
       "</style><div class='table-result-container'><table class='table-result'><thead style='background-color: white'><tr><th>result_id</th><th>race_id</th><th>driver_id</th><th>constructor_id</th><th>number</th><th>grid</th><th>position</th><th>position_text</th><th>position_order</th><th>points</th><th>laps</th><th>time</th><th>milliseconds</th><th>fastest_lap</th><th>rank</th><th>fastest_lap_time</th><th>fastest_Lap_speed</th><th>statusId</th><th>data_source</th><th>file_date</th><th>ingestion_date</th></tr></thead><tbody><tr><td>24986</td><td>1053</td><td>830</td><td>9</td><td>33</td><td>3</td><td>1</td><td>1</td><td>1</td><td>25.0</td><td>63</td><td>2:02:34.598</td><td>7354598</td><td>60</td><td>2</td><td>1:17.524</td><td>227.96</td><td>1</td><td>Ergast</td><td>2021-04-18</td><td>2024-03-17T22:40:37.395+0000</td></tr><tr><td>24987</td><td>1053</td><td>1</td><td>131</td><td>44</td><td>1</td><td>2</td><td>2</td><td>2</td><td>19.0</td><td>63</td><td>+22.000</td><td>7376598</td><td>60</td><td>1</td><td>1:16.702</td><td>230.403</td><td>1</td><td>Ergast</td><td>2021-04-18</td><td>2024-03-17T22:40:37.395+0000</td></tr><tr><td>24988</td><td>1053</td><td>846</td><td>1</td><td>4</td><td>7</td><td>3</td><td>3</td><td>3</td><td>15.0</td><td>63</td><td>+23.702</td><td>7378300</td><td>63</td><td>3</td><td>1:18.259</td><td>225.819</td><td>1</td><td>Ergast</td><td>2021-04-18</td><td>2024-03-17T22:40:37.395+0000</td></tr><tr><td>24989</td><td>1053</td><td>844</td><td>6</td><td>16</td><td>4</td><td>4</td><td>4</td><td>4</td><td>12.0</td><td>63</td><td>+25.579</td><td>7380177</td><td>60</td><td>6</td><td>1:18.379</td><td>225.473</td><td>1</td><td>Ergast</td><td>2021-04-18</td><td>2024-03-17T22:40:37.395+0000</td></tr><tr><td>24990</td><td>1053</td><td>832</td><td>6</td><td>55</td><td>11</td><td>5</td><td>5</td><td>5</td><td>10.0</td><td>63</td><td>+27.036</td><td>7381634</td><td>60</td><td>7</td><td>1:18.490</td><td>225.154</td><td>1</td><td>Ergast</td><td>2021-04-18</td><td>2024-03-17T22:40:37.395+0000</td></tr><tr><td>24991</td><td>1053</td><td>817</td><td>1</td><td>3</td><td>6</td><td>6</td><td>6</td><td>6</td><td>8.0</td><td>63</td><td>+51.220</td><td>7405818</td><td>54</td><td>12</td><td>1:19.341</td><td>222.739</td><td>1</td><td>Ergast</td><td>2021-04-18</td><td>2024-03-17T22:40:37.395+0000</td></tr><tr><td>24992</td><td>1053</td><td>842</td><td>213</td><td>10</td><td>5</td><td>7</td><td>7</td><td>7</td><td>6.0</td><td>63</td><td>+52.818</td><td>7407416</td><td>52</td><td>9</td><td>1:18.994</td><td>223.718</td><td>1</td><td>Ergast</td><td>2021-04-18</td><td>2024-03-17T22:40:37.395+0000</td></tr><tr><td>24993</td><td>1053</td><td>840</td><td>117</td><td>18</td><td>10</td><td>8</td><td>8</td><td>8</td><td>4.0</td><td>63</td><td>+56.909</td><td>7411507</td><td>59</td><td>8</td><td>1:18.782</td><td>224.32</td><td>1</td><td>Ergast</td><td>2021-04-18</td><td>2024-03-17T22:40:37.395+0000</td></tr><tr><td>24994</td><td>1053</td><td>839</td><td>214</td><td>31</td><td>9</td><td>9</td><td>9</td><td>9</td><td>2.0</td><td>63</td><td>+65.704</td><td>7420302</td><td>62</td><td>15</td><td>1:19.422</td><td>222.512</td><td>1</td><td>Ergast</td><td>2021-04-18</td><td>2024-03-17T22:40:37.395+0000</td></tr><tr><td>24995</td><td>1053</td><td>4</td><td>214</td><td>14</td><td>15</td><td>10</td><td>10</td><td>10</td><td>1.0</td><td>63</td><td>+66.561</td><td>7421159</td><td>62</td><td>14</td><td>1:19.417</td><td>222.526</td><td>1</td><td>Ergast</td><td>2021-04-18</td><td>2024-03-17T22:40:37.395+0000</td></tr><tr><td>24996</td><td>1053</td><td>815</td><td>9</td><td>11</td><td>2</td><td>11</td><td>11</td><td>11</td><td>0.0</td><td>63</td><td>+67.151</td><td>7421749</td><td>62</td><td>13</td><td>1:19.396</td><td>222.585</td><td>1</td><td>Ergast</td><td>2021-04-18</td><td>2024-03-17T22:40:37.395+0000</td></tr><tr><td>24997</td><td>1053</td><td>852</td><td>213</td><td>22</td><td>20</td><td>12</td><td>12</td><td>12</td><td>0.0</td><td>63</td><td>+73.184</td><td>7427782</td><td>49</td><td>4</td><td>1:18.334</td><td>225.603</td><td>1</td><td>Ergast</td><td>2021-04-18</td><td>2024-03-17T22:40:37.395+0000</td></tr><tr><td>24998</td><td>1053</td><td>8</td><td>51</td><td>7</td><td>16</td><td>13</td><td>13</td><td>13</td><td>0.0</td><td>63</td><td>+94.773</td><td>7449371</td><td>62</td><td>5</td><td>1:18.353</td><td>225.548</td><td>1</td><td>Ergast</td><td>2021-04-18</td><td>2024-03-17T22:40:37.395+0000</td></tr><tr><td>24999</td><td>1053</td><td>841</td><td>51</td><td>99</td><td>17</td><td>14</td><td>14</td><td>14</td><td>0.0</td><td>62</td><td>\\N</td><td>null</td><td>57</td><td>16</td><td>1:19.470</td><td>222.378</td><td>11</td><td>Ergast</td><td>2021-04-18</td><td>2024-03-17T22:40:37.395+0000</td></tr><tr><td>25000</td><td>1053</td><td>20</td><td>117</td><td>5</td><td>0</td><td>15</td><td>15</td><td>15</td><td>0.0</td><td>61</td><td>\\N</td><td>null</td><td>59</td><td>10</td><td>1:19.074</td><td>223.491</td><td>6</td><td>Ergast</td><td>2021-04-18</td><td>2024-03-17T22:40:37.395+0000</td></tr><tr><td>25001</td><td>1053</td><td>854</td><td>210</td><td>47</td><td>18</td><td>16</td><td>16</td><td>16</td><td>0.0</td><td>61</td><td>\\N</td><td>null</td><td>58</td><td>11</td><td>1:19.193</td><td>223.156</td><td>12</td><td>Ergast</td><td>2021-04-18</td><td>2024-03-17T22:40:37.395+0000</td></tr><tr><td>25002</td><td>1053</td><td>853</td><td>210</td><td>9</td><td>19</td><td>17</td><td>17</td><td>17</td><td>0.0</td><td>61</td><td>\\N</td><td>null</td><td>55</td><td>17</td><td>1:20.402</td><td>219.8</td><td>12</td><td>Ergast</td><td>2021-04-18</td><td>2024-03-17T22:40:37.395+0000</td></tr><tr><td>25003</td><td>1053</td><td>822</td><td>131</td><td>77</td><td>8</td><td>null</td><td>R</td><td>18</td><td>0.0</td><td>30</td><td>\\N</td><td>null</td><td>30</td><td>19</td><td>1:28.485</td><td>199.721</td><td>4</td><td>Ergast</td><td>2021-04-18</td><td>2024-03-17T22:40:37.395+0000</td></tr><tr><td>25004</td><td>1053</td><td>847</td><td>3</td><td>63</td><td>12</td><td>null</td><td>R</td><td>19</td><td>0.0</td><td>30</td><td>\\N</td><td>null</td><td>28</td><td>18</td><td>1:26.543</td><td>204.203</td><td>4</td><td>Ergast</td><td>2021-04-18</td><td>2024-03-17T22:40:37.395+0000</td></tr><tr><td>25005</td><td>1053</td><td>849</td><td>3</td><td>6</td><td>14</td><td>null</td><td>R</td><td>20</td><td>0.0</td><td>0</td><td>\\N</td><td>null</td><td>null</td><td>0</td><td>\\N</td><td>null</td><td>4</td><td>Ergast</td><td>2021-04-18</td><td>2024-03-17T22:40:37.395+0000</td></tr></tbody></table></div>"
      ]
     },
     "metadata": {
      "application/vnd.databricks.v1+output": {
       "addedWidgets": {},
       "aggData": [],
       "aggError": "",
       "aggOverflow": false,
       "aggSchema": [],
       "aggSeriesLimitReached": false,
       "aggType": "",
       "arguments": {},
       "columnCustomDisplayInfos": {},
       "data": [
        [
         24986,
         1053,
         830,
         9,
         33,
         3,
         1,
         "1",
         1,
         25.0,
         63,
         "2:02:34.598",
         7354598,
         60,
         2,
         "1:17.524",
         227.96,
         "1",
         "Ergast",
         "2021-04-18",
         "2024-03-17T22:40:37.395+0000"
        ],
        [
         24987,
         1053,
         1,
         131,
         44,
         1,
         2,
         "2",
         2,
         19.0,
         63,
         "+22.000",
         7376598,
         60,
         1,
         "1:16.702",
         230.403,
         "1",
         "Ergast",
         "2021-04-18",
         "2024-03-17T22:40:37.395+0000"
        ],
        [
         24988,
         1053,
         846,
         1,
         4,
         7,
         3,
         "3",
         3,
         15.0,
         63,
         "+23.702",
         7378300,
         63,
         3,
         "1:18.259",
         225.819,
         "1",
         "Ergast",
         "2021-04-18",
         "2024-03-17T22:40:37.395+0000"
        ],
        [
         24989,
         1053,
         844,
         6,
         16,
         4,
         4,
         "4",
         4,
         12.0,
         63,
         "+25.579",
         7380177,
         60,
         6,
         "1:18.379",
         225.473,
         "1",
         "Ergast",
         "2021-04-18",
         "2024-03-17T22:40:37.395+0000"
        ],
        [
         24990,
         1053,
         832,
         6,
         55,
         11,
         5,
         "5",
         5,
         10.0,
         63,
         "+27.036",
         7381634,
         60,
         7,
         "1:18.490",
         225.154,
         "1",
         "Ergast",
         "2021-04-18",
         "2024-03-17T22:40:37.395+0000"
        ],
        [
         24991,
         1053,
         817,
         1,
         3,
         6,
         6,
         "6",
         6,
         8.0,
         63,
         "+51.220",
         7405818,
         54,
         12,
         "1:19.341",
         222.739,
         "1",
         "Ergast",
         "2021-04-18",
         "2024-03-17T22:40:37.395+0000"
        ],
        [
         24992,
         1053,
         842,
         213,
         10,
         5,
         7,
         "7",
         7,
         6.0,
         63,
         "+52.818",
         7407416,
         52,
         9,
         "1:18.994",
         223.718,
         "1",
         "Ergast",
         "2021-04-18",
         "2024-03-17T22:40:37.395+0000"
        ],
        [
         24993,
         1053,
         840,
         117,
         18,
         10,
         8,
         "8",
         8,
         4.0,
         63,
         "+56.909",
         7411507,
         59,
         8,
         "1:18.782",
         224.32,
         "1",
         "Ergast",
         "2021-04-18",
         "2024-03-17T22:40:37.395+0000"
        ],
        [
         24994,
         1053,
         839,
         214,
         31,
         9,
         9,
         "9",
         9,
         2.0,
         63,
         "+65.704",
         7420302,
         62,
         15,
         "1:19.422",
         222.512,
         "1",
         "Ergast",
         "2021-04-18",
         "2024-03-17T22:40:37.395+0000"
        ],
        [
         24995,
         1053,
         4,
         214,
         14,
         15,
         10,
         "10",
         10,
         1.0,
         63,
         "+66.561",
         7421159,
         62,
         14,
         "1:19.417",
         222.526,
         "1",
         "Ergast",
         "2021-04-18",
         "2024-03-17T22:40:37.395+0000"
        ],
        [
         24996,
         1053,
         815,
         9,
         11,
         2,
         11,
         "11",
         11,
         0.0,
         63,
         "+67.151",
         7421749,
         62,
         13,
         "1:19.396",
         222.585,
         "1",
         "Ergast",
         "2021-04-18",
         "2024-03-17T22:40:37.395+0000"
        ],
        [
         24997,
         1053,
         852,
         213,
         22,
         20,
         12,
         "12",
         12,
         0.0,
         63,
         "+73.184",
         7427782,
         49,
         4,
         "1:18.334",
         225.603,
         "1",
         "Ergast",
         "2021-04-18",
         "2024-03-17T22:40:37.395+0000"
        ],
        [
         24998,
         1053,
         8,
         51,
         7,
         16,
         13,
         "13",
         13,
         0.0,
         63,
         "+94.773",
         7449371,
         62,
         5,
         "1:18.353",
         225.548,
         "1",
         "Ergast",
         "2021-04-18",
         "2024-03-17T22:40:37.395+0000"
        ],
        [
         24999,
         1053,
         841,
         51,
         99,
         17,
         14,
         "14",
         14,
         0.0,
         62,
         "\\N",
         null,
         57,
         16,
         "1:19.470",
         222.378,
         "11",
         "Ergast",
         "2021-04-18",
         "2024-03-17T22:40:37.395+0000"
        ],
        [
         25000,
         1053,
         20,
         117,
         5,
         0,
         15,
         "15",
         15,
         0.0,
         61,
         "\\N",
         null,
         59,
         10,
         "1:19.074",
         223.491,
         "6",
         "Ergast",
         "2021-04-18",
         "2024-03-17T22:40:37.395+0000"
        ],
        [
         25001,
         1053,
         854,
         210,
         47,
         18,
         16,
         "16",
         16,
         0.0,
         61,
         "\\N",
         null,
         58,
         11,
         "1:19.193",
         223.156,
         "12",
         "Ergast",
         "2021-04-18",
         "2024-03-17T22:40:37.395+0000"
        ],
        [
         25002,
         1053,
         853,
         210,
         9,
         19,
         17,
         "17",
         17,
         0.0,
         61,
         "\\N",
         null,
         55,
         17,
         "1:20.402",
         219.8,
         "12",
         "Ergast",
         "2021-04-18",
         "2024-03-17T22:40:37.395+0000"
        ],
        [
         25003,
         1053,
         822,
         131,
         77,
         8,
         null,
         "R",
         18,
         0.0,
         30,
         "\\N",
         null,
         30,
         19,
         "1:28.485",
         199.721,
         "4",
         "Ergast",
         "2021-04-18",
         "2024-03-17T22:40:37.395+0000"
        ],
        [
         25004,
         1053,
         847,
         3,
         63,
         12,
         null,
         "R",
         19,
         0.0,
         30,
         "\\N",
         null,
         28,
         18,
         "1:26.543",
         204.203,
         "4",
         "Ergast",
         "2021-04-18",
         "2024-03-17T22:40:37.395+0000"
        ],
        [
         25005,
         1053,
         849,
         3,
         6,
         14,
         null,
         "R",
         20,
         0.0,
         0,
         "\\N",
         null,
         null,
         0,
         "\\N",
         null,
         "4",
         "Ergast",
         "2021-04-18",
         "2024-03-17T22:40:37.395+0000"
        ]
       ],
       "datasetInfos": [],
       "dbfsResultPath": null,
       "isJsonSchema": true,
       "metadata": {},
       "overflow": false,
       "plotOptions": {
        "customPlotOptions": {},
        "displayType": "table",
        "pivotAggregation": null,
        "pivotColumns": null,
        "xColumns": null,
        "yColumns": null
       },
       "removedWidgets": [],
       "schema": [
        {
         "metadata": "{}",
         "name": "result_id",
         "type": "\"integer\""
        },
        {
         "metadata": "{}",
         "name": "race_id",
         "type": "\"integer\""
        },
        {
         "metadata": "{}",
         "name": "driver_id",
         "type": "\"integer\""
        },
        {
         "metadata": "{}",
         "name": "constructor_id",
         "type": "\"integer\""
        },
        {
         "metadata": "{}",
         "name": "number",
         "type": "\"integer\""
        },
        {
         "metadata": "{}",
         "name": "grid",
         "type": "\"integer\""
        },
        {
         "metadata": "{}",
         "name": "position",
         "type": "\"integer\""
        },
        {
         "metadata": "{}",
         "name": "position_text",
         "type": "\"string\""
        },
        {
         "metadata": "{}",
         "name": "position_order",
         "type": "\"integer\""
        },
        {
         "metadata": "{}",
         "name": "points",
         "type": "\"float\""
        },
        {
         "metadata": "{}",
         "name": "laps",
         "type": "\"integer\""
        },
        {
         "metadata": "{}",
         "name": "time",
         "type": "\"string\""
        },
        {
         "metadata": "{}",
         "name": "milliseconds",
         "type": "\"integer\""
        },
        {
         "metadata": "{}",
         "name": "fastest_lap",
         "type": "\"integer\""
        },
        {
         "metadata": "{}",
         "name": "rank",
         "type": "\"integer\""
        },
        {
         "metadata": "{}",
         "name": "fastest_lap_time",
         "type": "\"string\""
        },
        {
         "metadata": "{}",
         "name": "fastest_Lap_speed",
         "type": "\"float\""
        },
        {
         "metadata": "{}",
         "name": "statusId",
         "type": "\"string\""
        },
        {
         "metadata": "{}",
         "name": "data_source",
         "type": "\"string\""
        },
        {
         "metadata": "{}",
         "name": "file_date",
         "type": "\"string\""
        },
        {
         "metadata": "{}",
         "name": "ingestion_date",
         "type": "\"timestamp\""
        }
       ],
       "type": "table"
      }
     },
     "output_type": "display_data"
    }
   ],
   "source": [
    "display(results_final_df)"
   ]
  },
  {
   "cell_type": "code",
   "execution_count": 0,
   "metadata": {
    "application/vnd.databricks.v1+cell": {
     "cellMetadata": {
      "byteLimit": 2048000,
      "rowLimit": 10000
     },
     "inputWidgets": {},
     "nuid": "828b2fd4-3e57-4a24-82fb-390671b538f7",
     "showTitle": false,
     "title": ""
    }
   },
   "outputs": [
    {
     "output_type": "display_data",
     "data": {
      "text/html": [
       "<style scoped>\n",
       "  .table-result-container {\n",
       "    max-height: 300px;\n",
       "    overflow: auto;\n",
       "  }\n",
       "  table, th, td {\n",
       "    border: 1px solid black;\n",
       "    border-collapse: collapse;\n",
       "  }\n",
       "  th, td {\n",
       "    padding: 5px;\n",
       "  }\n",
       "  th {\n",
       "    text-align: left;\n",
       "  }\n",
       "</style><div class='table-result-container'><table class='table-result'><thead style='background-color: white'><tr><th>result_id</th><th>race_id</th><th>driver_id</th><th>constructor_id</th><th>number</th><th>grid</th><th>position</th><th>position_text</th><th>position_order</th><th>points</th><th>laps</th><th>time</th><th>milliseconds</th><th>fastest_lap</th><th>rank</th><th>fastest_lap_time</th><th>fastest_Lap_speed</th><th>data_source</th><th>file_date</th><th>ingestion_date</th></tr></thead><tbody><tr><td>24986</td><td>1053</td><td>830</td><td>9</td><td>33</td><td>3</td><td>1</td><td>1</td><td>1</td><td>25.0</td><td>63</td><td>2:02:34.598</td><td>7354598</td><td>60</td><td>2</td><td>1:17.524</td><td>227.9600067138672</td><td>Ergast</td><td>2021-04-18</td><td>2024-03-17T22:40:37.704+0000</td></tr><tr><td>24987</td><td>1053</td><td>1</td><td>131</td><td>44</td><td>1</td><td>2</td><td>2</td><td>2</td><td>19.0</td><td>63</td><td>+22.000</td><td>7376598</td><td>60</td><td>1</td><td>1:16.702</td><td>230.4029998779297</td><td>Ergast</td><td>2021-04-18</td><td>2024-03-17T22:40:37.704+0000</td></tr><tr><td>24988</td><td>1053</td><td>846</td><td>1</td><td>4</td><td>7</td><td>3</td><td>3</td><td>3</td><td>15.0</td><td>63</td><td>+23.702</td><td>7378300</td><td>63</td><td>3</td><td>1:18.259</td><td>225.81900024414062</td><td>Ergast</td><td>2021-04-18</td><td>2024-03-17T22:40:37.704+0000</td></tr><tr><td>24989</td><td>1053</td><td>844</td><td>6</td><td>16</td><td>4</td><td>4</td><td>4</td><td>4</td><td>12.0</td><td>63</td><td>+25.579</td><td>7380177</td><td>60</td><td>6</td><td>1:18.379</td><td>225.47300720214844</td><td>Ergast</td><td>2021-04-18</td><td>2024-03-17T22:40:37.704+0000</td></tr><tr><td>24990</td><td>1053</td><td>832</td><td>6</td><td>55</td><td>11</td><td>5</td><td>5</td><td>5</td><td>10.0</td><td>63</td><td>+27.036</td><td>7381634</td><td>60</td><td>7</td><td>1:18.490</td><td>225.1540069580078</td><td>Ergast</td><td>2021-04-18</td><td>2024-03-17T22:40:37.704+0000</td></tr></tbody></table></div>"
      ]
     },
     "metadata": {
      "application/vnd.databricks.v1+output": {
       "addedWidgets": {},
       "aggData": [],
       "aggError": "",
       "aggOverflow": false,
       "aggSchema": [],
       "aggSeriesLimitReached": false,
       "aggType": "",
       "arguments": {},
       "columnCustomDisplayInfos": {},
       "data": [
        [
         24986,
         1053,
         830,
         9,
         33,
         3,
         1,
         "1",
         1,
         25.0,
         63,
         "2:02:34.598",
         7354598,
         60,
         2,
         "1:17.524",
         227.9600067138672,
         "Ergast",
         "2021-04-18",
         "2024-03-17T22:40:37.704+0000"
        ],
        [
         24987,
         1053,
         1,
         131,
         44,
         1,
         2,
         "2",
         2,
         19.0,
         63,
         "+22.000",
         7376598,
         60,
         1,
         "1:16.702",
         230.4029998779297,
         "Ergast",
         "2021-04-18",
         "2024-03-17T22:40:37.704+0000"
        ],
        [
         24988,
         1053,
         846,
         1,
         4,
         7,
         3,
         "3",
         3,
         15.0,
         63,
         "+23.702",
         7378300,
         63,
         3,
         "1:18.259",
         225.81900024414062,
         "Ergast",
         "2021-04-18",
         "2024-03-17T22:40:37.704+0000"
        ],
        [
         24989,
         1053,
         844,
         6,
         16,
         4,
         4,
         "4",
         4,
         12.0,
         63,
         "+25.579",
         7380177,
         60,
         6,
         "1:18.379",
         225.47300720214844,
         "Ergast",
         "2021-04-18",
         "2024-03-17T22:40:37.704+0000"
        ],
        [
         24990,
         1053,
         832,
         6,
         55,
         11,
         5,
         "5",
         5,
         10.0,
         63,
         "+27.036",
         7381634,
         60,
         7,
         "1:18.490",
         225.1540069580078,
         "Ergast",
         "2021-04-18",
         "2024-03-17T22:40:37.704+0000"
        ]
       ],
       "datasetInfos": [],
       "dbfsResultPath": null,
       "isJsonSchema": true,
       "metadata": {},
       "overflow": false,
       "plotOptions": {
        "customPlotOptions": {},
        "displayType": "table",
        "pivotAggregation": null,
        "pivotColumns": null,
        "xColumns": null,
        "yColumns": null
       },
       "removedWidgets": [],
       "schema": [
        {
         "metadata": "{}",
         "name": "result_id",
         "type": "\"long\""
        },
        {
         "metadata": "{}",
         "name": "race_id",
         "type": "\"long\""
        },
        {
         "metadata": "{}",
         "name": "driver_id",
         "type": "\"long\""
        },
        {
         "metadata": "{}",
         "name": "constructor_id",
         "type": "\"long\""
        },
        {
         "metadata": "{}",
         "name": "number",
         "type": "\"long\""
        },
        {
         "metadata": "{}",
         "name": "grid",
         "type": "\"long\""
        },
        {
         "metadata": "{}",
         "name": "position",
         "type": "\"long\""
        },
        {
         "metadata": "{}",
         "name": "position_text",
         "type": "\"string\""
        },
        {
         "metadata": "{}",
         "name": "position_order",
         "type": "\"long\""
        },
        {
         "metadata": "{}",
         "name": "points",
         "type": "\"double\""
        },
        {
         "metadata": "{}",
         "name": "laps",
         "type": "\"long\""
        },
        {
         "metadata": "{}",
         "name": "time",
         "type": "\"string\""
        },
        {
         "metadata": "{}",
         "name": "milliseconds",
         "type": "\"long\""
        },
        {
         "metadata": "{}",
         "name": "fastest_lap",
         "type": "\"long\""
        },
        {
         "metadata": "{}",
         "name": "rank",
         "type": "\"long\""
        },
        {
         "metadata": "{}",
         "name": "fastest_lap_time",
         "type": "\"string\""
        },
        {
         "metadata": "{}",
         "name": "fastest_Lap_speed",
         "type": "\"double\""
        },
        {
         "metadata": "{}",
         "name": "data_source",
         "type": "\"string\""
        },
        {
         "metadata": "{}",
         "name": "file_date",
         "type": "\"string\""
        },
        {
         "metadata": "{}",
         "name": "ingestion_date",
         "type": "\"timestamp\""
        }
       ],
       "type": "table"
      }
     },
     "output_type": "display_data"
    }
   ],
   "source": [
    "results_dropped_df = results_final_df.drop(col('statusId'))\n",
    "display(results_dropped_df.head(5))"
   ]
  },
  {
   "cell_type": "markdown",
   "metadata": {
    "application/vnd.databricks.v1+cell": {
     "cellMetadata": {
      "byteLimit": 2048000,
      "rowLimit": 10000
     },
     "inputWidgets": {},
     "nuid": "f884b7da-491a-499f-8be1-2dc995fc148a",
     "showTitle": false,
     "title": ""
    }
   },
   "source": [
    "##### De-dupe the dataframe"
   ]
  },
  {
   "cell_type": "code",
   "execution_count": 0,
   "metadata": {
    "application/vnd.databricks.v1+cell": {
     "cellMetadata": {
      "byteLimit": 2048000,
      "rowLimit": 10000
     },
     "inputWidgets": {},
     "nuid": "53e5dd28-1b92-4b27-9616-4d103a661aaf",
     "showTitle": false,
     "title": ""
    }
   },
   "outputs": [],
   "source": [
    "results_deduped_df = results_final_df.dropDuplicates(['race_id', 'driver_id'])"
   ]
  },
  {
   "cell_type": "markdown",
   "metadata": {
    "application/vnd.databricks.v1+cell": {
     "cellMetadata": {
      "byteLimit": 2048000,
      "rowLimit": 10000
     },
     "inputWidgets": {},
     "nuid": "2555a8f6-2f95-4e96-8d86-0a9bbe626195",
     "showTitle": false,
     "title": ""
    }
   },
   "source": [
    "#### Write to output to processed container in parquet format"
   ]
  },
  {
   "cell_type": "markdown",
   "metadata": {
    "application/vnd.databricks.v1+cell": {
     "cellMetadata": {
      "byteLimit": 2048000,
      "rowLimit": 10000
     },
     "inputWidgets": {},
     "nuid": "382c6df2-59cc-46e1-a5a5-4bd4767ff50b",
     "showTitle": false,
     "title": ""
    }
   },
   "source": [
    "###### Method 1"
   ]
  },
  {
   "cell_type": "code",
   "execution_count": 0,
   "metadata": {
    "application/vnd.databricks.v1+cell": {
     "cellMetadata": {
      "byteLimit": 2048000,
      "rowLimit": 10000
     },
     "inputWidgets": {},
     "nuid": "fc30f504-294b-4c87-af35-676f2850650c",
     "showTitle": false,
     "title": ""
    }
   },
   "outputs": [],
   "source": [
    "# Be careful!!\n",
    "# collect() takes all the data and put it into the driver node's memory.\n",
    "# We should collect small amount of data\n",
    "\n",
    "# for race_id_list in results_final_df.select(\"race_id\").distinct().collect():\n",
    "#     if (spark._jsparkSession.catalog().tableExists(\"f1_processed.results\")):\n",
    "#         spark.sql(f\"ALTER TABLE f1_processed.results DROP IF EXISTS PARTITION (race_id = {race_id_list.race_id})\")"
   ]
  },
  {
   "cell_type": "markdown",
   "metadata": {
    "application/vnd.databricks.v1+cell": {
     "cellMetadata": {
      "byteLimit": 2048000,
      "rowLimit": 10000
     },
     "inputWidgets": {},
     "nuid": "026542d7-7c05-4212-b6ec-fbf40442bbfc",
     "showTitle": false,
     "title": ""
    }
   },
   "source": [
    "###### Method 2"
   ]
  },
  {
   "cell_type": "code",
   "execution_count": 0,
   "metadata": {
    "application/vnd.databricks.v1+cell": {
     "cellMetadata": {
      "byteLimit": 2048000,
      "rowLimit": 10000
     },
     "inputWidgets": {},
     "nuid": "bb6534ae-a183-43d2-97a8-0097fca67716",
     "showTitle": false,
     "title": ""
    }
   },
   "outputs": [],
   "source": [
    "def re_arrange_partition_column (input_df,  partition_column):\n",
    "\n",
    "    column_list = []\n",
    "    for column_name in results_final_df.schema.names:\n",
    "        if column_name != partition_column:\n",
    "            column_list.append(column_name)\n",
    "    column_list.append(partition_column) \n",
    "\n",
    "    print(column_list)\n",
    "\n",
    "    output_df = input_df.select(column_list)\n",
    "    return output_df"
   ]
  },
  {
   "cell_type": "code",
   "execution_count": 0,
   "metadata": {
    "application/vnd.databricks.v1+cell": {
     "cellMetadata": {
      "byteLimit": 2048000,
      "rowLimit": 10000
     },
     "inputWidgets": {},
     "nuid": "9af3c5b4-ca5a-4676-82df-08ffc2709788",
     "showTitle": false,
     "title": ""
    }
   },
   "outputs": [],
   "source": [
    "# output_df = re_arrange_partition_column(results_final_df, 'race_id')"
   ]
  },
  {
   "cell_type": "code",
   "execution_count": 0,
   "metadata": {
    "application/vnd.databricks.v1+cell": {
     "cellMetadata": {
      "byteLimit": 2048000,
      "rowLimit": 10000
     },
     "inputWidgets": {},
     "nuid": "e9711b91-7bc9-4bff-a909-9542a5ee73ff",
     "showTitle": false,
     "title": ""
    }
   },
   "outputs": [],
   "source": [
    "# overwrite_partition(results_final_df, 'f1_processed', 'results', 'race_id')"
   ]
  },
  {
   "cell_type": "markdown",
   "metadata": {
    "application/vnd.databricks.v1+cell": {
     "cellMetadata": {
      "byteLimit": 2048000,
      "rowLimit": 10000
     },
     "inputWidgets": {},
     "nuid": "47a8bd94-2a2d-49de-b752-d840733e0f87",
     "showTitle": false,
     "title": ""
    }
   },
   "source": [
    "https://ergast.com/docs/f1db_user_guide.txt"
   ]
  },
  {
   "cell_type": "code",
   "execution_count": 0,
   "metadata": {
    "application/vnd.databricks.v1+cell": {
     "cellMetadata": {
      "byteLimit": 2048000,
      "rowLimit": 10000
     },
     "inputWidgets": {},
     "nuid": "3cd252b5-0dd1-41e1-9047-609ca3c33724",
     "showTitle": false,
     "title": ""
    }
   },
   "outputs": [],
   "source": [
    "# # Method 1\n",
    "# from delta.tables import DeltaTable\n",
    "# if (spark._jsparkSession.catalog().tableExists(\"f1_processed.results\")):\n",
    "#     deltaTable = DeltaTable.forPath(spark, \"/mnt/formula1dl612/processed/results\")\n",
    "#     deltaTable.alias('tgt') \\\n",
    "#         .merge(\n",
    "#             results_final_df.alias('src'),\n",
    "#     \"tgt.result_id = src.result_id\"\n",
    "#   ) \\\n",
    "#   .whenMatchedUpdateAll()\\\n",
    "#   .whenNotMatchedInsertAll() \\\n",
    "#   .execute()\n",
    "# else:\n",
    "#     results_final_df.write.mode(\"overwrite\").partitionBy('race_id').format(\"delta\").saveAsTable(\"f1_processed.results\")\n",
    "\n",
    "# # Method 2\n",
    "# # Here we specify the merge condition. 'race_id' could help Spark to find the right partition\n",
    "# # It is necessary to set a static partition pruning\n",
    "# spark.conf.set(\"spark.databricks.optimizer.dynamicPartitionPruning\", \"true\")\n",
    "# from delta.tables import DeltaTable\n",
    "# if (spark._jsparkSession.catalog().tableExists(\"f1_processed.results\")):\n",
    "#     deltaTable = DeltaTable.forPath(spark, \"/mnt/formula1dl612/processed/results\")\n",
    "#     deltaTable.alias('tgt') \\\n",
    "#         .merge(\n",
    "#             results_final_df.alias('src'),\n",
    "#     \"tgt.result_id = src.result_id AND tgt.race_id = src.race_id\"\n",
    "#   ) \\\n",
    "#   .whenMatchedUpdateAll()\\\n",
    "#   .whenNotMatchedInsertAll() \\\n",
    "#   .execute()\n",
    "# else:\n",
    "#     results_final_df.write.mode(\"overwrite\").partitionBy('race_id').format(\"delta\").saveAsTable(\"f1_processed.results\")   "
   ]
  },
  {
   "cell_type": "code",
   "execution_count": 0,
   "metadata": {
    "application/vnd.databricks.v1+cell": {
     "cellMetadata": {
      "byteLimit": 2048000,
      "rowLimit": 10000
     },
     "inputWidgets": {},
     "nuid": "e04c54e9-72aa-4077-b49e-4b8d3b80c482",
     "showTitle": false,
     "title": ""
    }
   },
   "outputs": [],
   "source": [
    "merge_condition = \"tgt.result_id = src.result_id AND tgt.race_id = src.race_id\"\n",
    "merge_delta_data(results_deduped_df, \"f1_processed\", 'results', processed_folder_path, merge_condition, 'race_id')"
   ]
  },
  {
   "cell_type": "code",
   "execution_count": 0,
   "metadata": {
    "application/vnd.databricks.v1+cell": {
     "cellMetadata": {
      "byteLimit": 2048000,
      "rowLimit": 10000
     },
     "inputWidgets": {},
     "nuid": "95a898d6-2d11-4939-a5dc-3a3cdbcae918",
     "showTitle": false,
     "title": ""
    }
   },
   "outputs": [],
   "source": [
    "# def merge_delta_date(input_df, db_name, table_name, folder_path, merge_condition, partition_column):\n",
    "#     spark.conf.set(\"spark.databricks.optimizer.dynamicPartitionPruning\", \"true\")\n",
    "#     from delta.tables import DeltaTable\n",
    "#     if (spark._jsparkSession.catalog().tableExists(f\"{db_name}.{table_name}\")):\n",
    "#         deltaTable = DeltaTable.forPath(spark, f\"{folder_path}/{table_name}\")\n",
    "#         deltaTable.alias('tgt') \\\n",
    "#             .merge(\n",
    "#                 input_df.alias('src'),\n",
    "#         merge_condition\n",
    "#     ) \\\n",
    "#     .whenMatchedUpdateAll()\\\n",
    "#     .whenNotMatchedInsertAll() \\\n",
    "#     .execute()\n",
    "#     else:\n",
    "#         input_df.write.mode(\"overwrite\").partitionBy('race_id').format(\"delta\").saveAsTable(f\"{db_name}.{table_name}\")   "
   ]
  },
  {
   "cell_type": "code",
   "execution_count": 0,
   "metadata": {
    "application/vnd.databricks.v1+cell": {
     "cellMetadata": {
      "byteLimit": 2048000,
      "implicitDf": true,
      "rowLimit": 10000
     },
     "inputWidgets": {},
     "nuid": "b590de6f-5fff-4b29-bd9a-eebcb79abce1",
     "showTitle": false,
     "title": ""
    }
   },
   "outputs": [],
   "source": [
    "# %sql\n",
    "# SELECT * FROM f1_processed.results;"
   ]
  },
  {
   "cell_type": "code",
   "execution_count": 0,
   "metadata": {
    "application/vnd.databricks.v1+cell": {
     "cellMetadata": {
      "byteLimit": 2048000,
      "rowLimit": 10000
     },
     "inputWidgets": {},
     "nuid": "f475ebad-db78-4662-a681-040262db53c0",
     "showTitle": false,
     "title": ""
    }
   },
   "outputs": [],
   "source": [
    "dbutils.notebook.exit(\"Success\")"
   ]
  },
  {
   "cell_type": "code",
   "execution_count": 0,
   "metadata": {
    "application/vnd.databricks.v1+cell": {
     "cellMetadata": {
      "byteLimit": 2048000,
      "implicitDf": true,
      "rowLimit": 10000
     },
     "inputWidgets": {},
     "nuid": "01f76e56-681f-4863-8682-35f39f45c079",
     "showTitle": false,
     "title": ""
    }
   },
   "outputs": [],
   "source": [
    "%sql\n",
    "SELECT race_id, driver_id, count(1)\n",
    "FROM f1_processed.results\n",
    "GROUP BY race_id, driver_id\n",
    "HAVING count(1) > 1\n",
    "ORDER BY race_id, driver_id DESC;"
   ]
  },
  {
   "cell_type": "code",
   "execution_count": 0,
   "metadata": {
    "application/vnd.databricks.v1+cell": {
     "cellMetadata": {
      "byteLimit": 2048000,
      "implicitDf": true,
      "rowLimit": 10000
     },
     "inputWidgets": {},
     "nuid": "6db7e94b-b748-4682-a95f-f964768d6657",
     "showTitle": false,
     "title": ""
    }
   },
   "outputs": [],
   "source": [
    "# %sql\n",
    "# drop table f1_processed.results"
   ]
  }
 ],
 "metadata": {
  "application/vnd.databricks.v1+notebook": {
   "dashboards": [],
   "language": "python",
   "notebookMetadata": {
    "mostRecentlyExecutedCommandWithImplicitDF": {
     "commandId": 2009782858783404,
     "dataframes": [
      "_sqldf"
     ]
    },
    "pythonIndentUnit": 4
   },
   "notebookName": "5.ingest_results_file",
   "widgets": {
    "p_data_source": {
     "currentValue": "Ergast",
     "nuid": "4474b628-d178-43e2-bf5e-4d947b911029",
     "widgetInfo": {
      "widgetType": "text",
      "defaultValue": "",
      "label": null,
      "name": "p_data_source",
      "options": {
       "widgetType": "text",
       "autoCreated": null,
       "validationRegex": null
      }
     }
    },
    "p_file_date": {
     "currentValue": "2021-04-18",
     "nuid": "104e15d9-c1fe-424d-aca1-d0489ef2bce2",
     "widgetInfo": {
      "widgetType": "text",
      "defaultValue": "2021-03-28",
      "label": null,
      "name": "p_file_date",
      "options": {
       "widgetType": "text",
       "autoCreated": null,
       "validationRegex": null
      }
     }
    }
   }
  }
 },
 "nbformat": 4,
 "nbformat_minor": 0
}
