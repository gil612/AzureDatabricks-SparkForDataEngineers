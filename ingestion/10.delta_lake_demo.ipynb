{
 "cells": [
  {
   "cell_type": "markdown",
   "metadata": {
    "application/vnd.databricks.v1+cell": {
     "cellMetadata": {},
     "inputWidgets": {},
     "nuid": "1357c32f-d0f6-409b-8948-8576fa39e473",
     "showTitle": false,
     "title": ""
    }
   },
   "source": [
    "1. Write Data to Delta Lake (managed table)\n",
    "2. Write Data to Delta Lake (external table)\n",
    "3. Read data from Delta Lake (table)\n",
    "4. Read data from Delta Lake (file)"
   ]
  },
  {
   "cell_type": "code",
   "execution_count": 0,
   "metadata": {
    "application/vnd.databricks.v1+cell": {
     "cellMetadata": {
      "byteLimit": 2048000,
      "rowLimit": 10000
     },
     "inputWidgets": {},
     "nuid": "1090e09e-611b-4a1f-9501-02d5bd5b0c8c",
     "showTitle": false,
     "title": ""
    }
   },
   "outputs": [],
   "source": [
    "%sql\n",
    "CREATE DATABASE IF NOT EXISTS f1_demo\n",
    "LOCATION '/mnt/formula1dl612/demo'"
   ]
  },
  {
   "cell_type": "code",
   "execution_count": 0,
   "metadata": {
    "application/vnd.databricks.v1+cell": {
     "cellMetadata": {
      "byteLimit": 2048000,
      "rowLimit": 10000
     },
     "inputWidgets": {},
     "nuid": "232d3d98-4d46-4951-9ab9-941985bdb0f7",
     "showTitle": false,
     "title": ""
    }
   },
   "outputs": [],
   "source": [
    "\n",
    "results_df = spark.read\\\n",
    ".option(\"inferSchema\", True)\\\n",
    ".json(\"/mnt/formula1dl612/raw/2021-03-28/results.json\")"
   ]
  },
  {
   "cell_type": "code",
   "execution_count": 0,
   "metadata": {
    "application/vnd.databricks.v1+cell": {
     "cellMetadata": {
      "byteLimit": 2048000,
      "implicitDf": true,
      "rowLimit": 10000
     },
     "inputWidgets": {},
     "nuid": "f9f16d9d-9843-473f-9a02-25c7fa217355",
     "showTitle": false,
     "title": ""
    }
   },
   "outputs": [],
   "source": [
    "results_df.write.format(\"delta\").mode(\"overwrite\").saveAsTable(\"f1_demo.results_managed\")"
   ]
  },
  {
   "cell_type": "code",
   "execution_count": 0,
   "metadata": {
    "application/vnd.databricks.v1+cell": {
     "cellMetadata": {
      "byteLimit": 2048000,
      "implicitDf": true,
      "rowLimit": 10000
     },
     "inputWidgets": {},
     "nuid": "2ed80412-3c36-466f-88aa-1750d8766d91",
     "showTitle": false,
     "title": ""
    }
   },
   "outputs": [],
   "source": [
    "%sql\n",
    "SELECT * FROM f1_demo.results_managed;"
   ]
  },
  {
   "cell_type": "code",
   "execution_count": 0,
   "metadata": {
    "application/vnd.databricks.v1+cell": {
     "cellMetadata": {
      "byteLimit": 2048000,
      "rowLimit": 10000
     },
     "inputWidgets": {},
     "nuid": "f7dba710-0872-4b45-b3c2-06c837564292",
     "showTitle": false,
     "title": ""
    }
   },
   "outputs": [],
   "source": [
    "results_df.write.format(\"delta\").mode(\"overwrite\").save(\"/mnt/formula1dl612/demo/results_external\")"
   ]
  },
  {
   "cell_type": "code",
   "execution_count": 0,
   "metadata": {
    "application/vnd.databricks.v1+cell": {
     "cellMetadata": {
      "byteLimit": 2048000,
      "implicitDf": true,
      "rowLimit": 10000
     },
     "inputWidgets": {},
     "nuid": "ac427bb7-98b8-4e31-b6b5-29d1b7ae8f32",
     "showTitle": false,
     "title": ""
    }
   },
   "outputs": [],
   "source": [
    "%sql\n",
    "CREATE TABLE f1_demo.results_external\n",
    "USING DELTA\n",
    "LOCATION '/mnt/formula1dl612/demo/results_external'"
   ]
  },
  {
   "cell_type": "code",
   "execution_count": 0,
   "metadata": {
    "application/vnd.databricks.v1+cell": {
     "cellMetadata": {
      "byteLimit": 2048000,
      "implicitDf": true,
      "rowLimit": 10000
     },
     "inputWidgets": {},
     "nuid": "a4b4d4da-11b7-413d-ae68-f8065f276710",
     "showTitle": false,
     "title": ""
    }
   },
   "outputs": [],
   "source": [
    "%sql\n",
    "SELECT * FROM f1_demo.results_external"
   ]
  },
  {
   "cell_type": "code",
   "execution_count": 0,
   "metadata": {
    "application/vnd.databricks.v1+cell": {
     "cellMetadata": {
      "byteLimit": 2048000,
      "rowLimit": 10000
     },
     "inputWidgets": {},
     "nuid": "9b209d9d-e754-42bf-b7c0-9dae5838b359",
     "showTitle": false,
     "title": ""
    }
   },
   "outputs": [],
   "source": [
    "results_external_df = spark.read.format(\"delta\").load(\"/mnt/formula1dl612/demo/results_external\")"
   ]
  },
  {
   "cell_type": "code",
   "execution_count": 0,
   "metadata": {
    "application/vnd.databricks.v1+cell": {
     "cellMetadata": {
      "byteLimit": 2048000,
      "rowLimit": 10000
     },
     "inputWidgets": {},
     "nuid": "7cf44188-daf2-4286-987f-5545b2183ac0",
     "showTitle": false,
     "title": ""
    }
   },
   "outputs": [],
   "source": [
    "display(results_external_df)"
   ]
  },
  {
   "cell_type": "code",
   "execution_count": 0,
   "metadata": {
    "application/vnd.databricks.v1+cell": {
     "cellMetadata": {
      "byteLimit": 2048000,
      "rowLimit": 10000
     },
     "inputWidgets": {},
     "nuid": "42c14377-229c-40bd-9878-a4a8366a888a",
     "showTitle": false,
     "title": ""
    }
   },
   "outputs": [],
   "source": [
    "results_df.write.format(\"delta\").mode(\"overwrite\").partitionBy('constructorId').saveAsTable(\"f1_demo.results_partitioned\")"
   ]
  },
  {
   "cell_type": "code",
   "execution_count": 0,
   "metadata": {
    "application/vnd.databricks.v1+cell": {
     "cellMetadata": {
      "byteLimit": 2048000,
      "implicitDf": true,
      "rowLimit": 10000
     },
     "inputWidgets": {},
     "nuid": "e3e35ba9-b1a2-4b6e-a521-5570eb137cc3",
     "showTitle": false,
     "title": ""
    }
   },
   "outputs": [],
   "source": [
    "%sql\n",
    "SHOW PARTITIONS f1_demo.results_partitioned"
   ]
  },
  {
   "cell_type": "markdown",
   "metadata": {
    "application/vnd.databricks.v1+cell": {
     "cellMetadata": {},
     "inputWidgets": {},
     "nuid": "100a2d9e-99f3-42fb-a291-6d356bc30bde",
     "showTitle": false,
     "title": ""
    }
   },
   "source": [
    "1. Update Delta Table\n",
    "2. Delete From DELTA Table"
   ]
  },
  {
   "cell_type": "code",
   "execution_count": 0,
   "metadata": {
    "application/vnd.databricks.v1+cell": {
     "cellMetadata": {
      "byteLimit": 2048000,
      "implicitDf": true,
      "rowLimit": 10000
     },
     "inputWidgets": {},
     "nuid": "cdc4e237-e337-433e-a95f-f119a138aa44",
     "showTitle": false,
     "title": ""
    }
   },
   "outputs": [],
   "source": [
    "%sql\n",
    "SELECT * FROM f1_demo.results_managed"
   ]
  },
  {
   "cell_type": "code",
   "execution_count": 0,
   "metadata": {
    "application/vnd.databricks.v1+cell": {
     "cellMetadata": {
      "byteLimit": 2048000,
      "implicitDf": true,
      "rowLimit": 10000
     },
     "inputWidgets": {},
     "nuid": "655cec4f-f53e-43f0-9987-95ca04c80b8b",
     "showTitle": false,
     "title": ""
    }
   },
   "outputs": [],
   "source": [
    "%sql\n",
    "UPDATE f1_demo.results_managed\n",
    "SET points = 11 - position\n",
    "WHERE position <= 10"
   ]
  },
  {
   "cell_type": "code",
   "execution_count": 0,
   "metadata": {
    "application/vnd.databricks.v1+cell": {
     "cellMetadata": {
      "byteLimit": 2048000,
      "implicitDf": true,
      "rowLimit": 10000
     },
     "inputWidgets": {},
     "nuid": "757b9819-4869-4d17-b06e-29174ef411c0",
     "showTitle": false,
     "title": ""
    }
   },
   "outputs": [],
   "source": [
    "%sql\n",
    "SELECT * FROM f1_demo.results_managed"
   ]
  },
  {
   "cell_type": "code",
   "execution_count": 0,
   "metadata": {
    "application/vnd.databricks.v1+cell": {
     "cellMetadata": {
      "byteLimit": 2048000,
      "rowLimit": 10000
     },
     "inputWidgets": {},
     "nuid": "95391b3b-eaea-48c3-b995-44f9ec4112de",
     "showTitle": false,
     "title": ""
    }
   },
   "outputs": [],
   "source": [
    "from delta.tables import DeltaTable"
   ]
  },
  {
   "cell_type": "code",
   "execution_count": 0,
   "metadata": {
    "application/vnd.databricks.v1+cell": {
     "cellMetadata": {
      "byteLimit": 2048000,
      "rowLimit": 10000
     },
     "inputWidgets": {},
     "nuid": "d007b163-4bb2-40ed-9097-07ffab1fa45d",
     "showTitle": false,
     "title": ""
    }
   },
   "outputs": [],
   "source": [
    "deltaTable = DeltaTable.forPath(spark, \"/mnt/formula1dl612/demo/results_managed\")\n",
    "\n",
    "deltaTable.update(\"position <= 10\", { \"points\" : \"21 - position\"})"
   ]
  },
  {
   "cell_type": "code",
   "execution_count": 0,
   "metadata": {
    "application/vnd.databricks.v1+cell": {
     "cellMetadata": {
      "byteLimit": 2048000,
      "implicitDf": true,
      "rowLimit": 10000
     },
     "inputWidgets": {},
     "nuid": "aef1ecbe-3545-4395-bd7d-aeab7650851d",
     "showTitle": false,
     "title": ""
    }
   },
   "outputs": [],
   "source": [
    "%sql\n",
    "SELECT * FROM f1_demo.results_managed"
   ]
  },
  {
   "cell_type": "code",
   "execution_count": 0,
   "metadata": {
    "application/vnd.databricks.v1+cell": {
     "cellMetadata": {
      "byteLimit": 2048000,
      "implicitDf": true,
      "rowLimit": 10000
     },
     "inputWidgets": {},
     "nuid": "0f199282-d053-4774-8d37-e8bc47fc2456",
     "showTitle": false,
     "title": ""
    }
   },
   "outputs": [],
   "source": [
    "%sql\n",
    "DELETE FROM f1_demo.results_managed\n",
    "WHERE position > 10;"
   ]
  },
  {
   "cell_type": "code",
   "execution_count": 0,
   "metadata": {
    "application/vnd.databricks.v1+cell": {
     "cellMetadata": {
      "byteLimit": 2048000,
      "rowLimit": 10000
     },
     "inputWidgets": {},
     "nuid": "f4f862a7-4226-4406-87a0-60178b688247",
     "showTitle": false,
     "title": ""
    }
   },
   "outputs": [],
   "source": [
    "deltaTable = DeltaTable.forPath(spark, \"/mnt/formula1dl612/demo/results_managed\")\n",
    "\n",
    "deltaTable.delete(\"points = 0\")"
   ]
  },
  {
   "cell_type": "code",
   "execution_count": 0,
   "metadata": {
    "application/vnd.databricks.v1+cell": {
     "cellMetadata": {
      "byteLimit": 2048000,
      "implicitDf": true,
      "rowLimit": 10000
     },
     "inputWidgets": {},
     "nuid": "a4363483-4b24-4b85-b5f8-c0d14e30712d",
     "showTitle": false,
     "title": ""
    }
   },
   "outputs": [],
   "source": [
    "%sql\n",
    "SELECT * FROM f1_demo.results_managed"
   ]
  },
  {
   "cell_type": "markdown",
   "metadata": {
    "application/vnd.databricks.v1+cell": {
     "cellMetadata": {},
     "inputWidgets": {},
     "nuid": "43b64461-61de-482a-bb22-2a00a5eb282a",
     "showTitle": false,
     "title": ""
    }
   },
   "source": [
    "#### Upsert using merge"
   ]
  },
  {
   "cell_type": "code",
   "execution_count": 0,
   "metadata": {
    "application/vnd.databricks.v1+cell": {
     "cellMetadata": {
      "byteLimit": 2048000,
      "rowLimit": 10000
     },
     "inputWidgets": {},
     "nuid": "34d5b300-183e-451f-bf48-027113f01ebb",
     "showTitle": false,
     "title": ""
    }
   },
   "outputs": [],
   "source": [
    "drivers_day1_df = spark.read\\\n",
    ".option(\"inferSchema\", True)\\\n",
    ".json(\"/mnt/formula1dl612/raw/2021-03-28/drivers.json\")\\\n",
    ".filter(\"driverId <= 10\")\\\n",
    ".select(\"driverId\", \"dob\", \"name.forename\", \"name.surname\")   "
   ]
  },
  {
   "cell_type": "code",
   "execution_count": 0,
   "metadata": {
    "application/vnd.databricks.v1+cell": {
     "cellMetadata": {
      "byteLimit": 2048000,
      "rowLimit": 10000
     },
     "inputWidgets": {},
     "nuid": "e9d4930b-401c-4444-875b-e32b35425666",
     "showTitle": false,
     "title": ""
    }
   },
   "outputs": [],
   "source": [
    "display(drivers_day1_df)"
   ]
  },
  {
   "cell_type": "code",
   "execution_count": 0,
   "metadata": {
    "application/vnd.databricks.v1+cell": {
     "cellMetadata": {
      "byteLimit": 2048000,
      "rowLimit": 10000
     },
     "inputWidgets": {},
     "nuid": "147f15bc-ffc6-4b84-a308-deb344942e86",
     "showTitle": false,
     "title": ""
    }
   },
   "outputs": [],
   "source": [
    "drivers_day1_df.createOrReplaceTempView(\"drivers_day1\")"
   ]
  },
  {
   "cell_type": "code",
   "execution_count": 0,
   "metadata": {
    "application/vnd.databricks.v1+cell": {
     "cellMetadata": {
      "byteLimit": 2048000,
      "rowLimit": 10000
     },
     "inputWidgets": {},
     "nuid": "49b7a762-a6a5-4099-9985-c95f159f7814",
     "showTitle": false,
     "title": ""
    }
   },
   "outputs": [],
   "source": [
    "from pyspark.sql.functions import upper\n",
    "drivers_day2_df = spark.read\\\n",
    ".option(\"inferSchema\", True)\\\n",
    ".json(\"/mnt/formula1dl612/raw/2021-03-28/drivers.json\")\\\n",
    ".filter(\"driverId BETWEEN 6 AND 15\")\\\n",
    ".select(\"driverId\", \"dob\", upper(\"name.forename\").alias(\"forename\"), upper(\"name.surname\").alias(\"surname\"))\n",
    "display(drivers_day2_df)"
   ]
  },
  {
   "cell_type": "code",
   "execution_count": 0,
   "metadata": {
    "application/vnd.databricks.v1+cell": {
     "cellMetadata": {
      "byteLimit": 2048000,
      "rowLimit": 10000
     },
     "inputWidgets": {},
     "nuid": "61092cc0-ca26-4a0b-a2db-616aa7cbd78e",
     "showTitle": false,
     "title": ""
    }
   },
   "outputs": [],
   "source": [
    "drivers_day2_df.createOrReplaceTempView(\"drivers_day2\")"
   ]
  },
  {
   "cell_type": "code",
   "execution_count": 0,
   "metadata": {
    "application/vnd.databricks.v1+cell": {
     "cellMetadata": {
      "byteLimit": 2048000,
      "rowLimit": 10000
     },
     "inputWidgets": {},
     "nuid": "00494d0d-79f4-4bd6-bb33-b456e80eb450",
     "showTitle": false,
     "title": ""
    }
   },
   "outputs": [],
   "source": [
    "drivers_day3_df = spark.read\\\n",
    ".option(\"inferSchema\", True)\\\n",
    ".json(\"/mnt/formula1dl612/raw/2021-03-28/drivers.json\")\\\n",
    ".filter(\"driverId BETWEEN 1 AND 5 OR driverId BETWEEN 16 AND 20\")\\\n",
    ".select(\"driverId\", \"dob\", upper(\"name.forename\").alias(\"forename\"), upper(\"name.surname\").alias(\"surname\"))\n",
    "display(drivers_day3_df)"
   ]
  },
  {
   "cell_type": "code",
   "execution_count": 0,
   "metadata": {
    "application/vnd.databricks.v1+cell": {
     "cellMetadata": {
      "byteLimit": 2048000,
      "implicitDf": true,
      "rowLimit": 10000
     },
     "inputWidgets": {},
     "nuid": "1970bd8b-d868-4240-b5eb-7cf6dcb44b2a",
     "showTitle": false,
     "title": ""
    }
   },
   "outputs": [],
   "source": [
    "%sql\n",
    "CREATE TABLE IF NOT EXISTS f1_demo.drivers_merge (\n",
    "driverID INT,\n",
    "dob DATE,\n",
    "forename STRING,\n",
    "surname STRING,\n",
    "createdDate DATE,\n",
    "updatedDate DATE\n",
    ")\n",
    "USING DELTA"
   ]
  },
  {
   "cell_type": "code",
   "execution_count": 0,
   "metadata": {
    "application/vnd.databricks.v1+cell": {
     "cellMetadata": {
      "byteLimit": 2048000,
      "implicitDf": true,
      "rowLimit": 10000
     },
     "inputWidgets": {},
     "nuid": "2032a013-ad6f-423a-b8d3-d71967321eb9",
     "showTitle": false,
     "title": ""
    }
   },
   "outputs": [],
   "source": [
    "%sql\n",
    "MERGE INTO f1_demo.drivers_merge tgt\n",
    "USING drivers_day1 upd\n",
    "ON tgt.driverId = upd.driverId\n",
    "WHEN MATCHED THEN\n",
    "  UPDATE SET  tgt.dob = upd.dob,\n",
    "              tgt.forename = upd.forename,\n",
    "              tgt.surname = upd.surname,\n",
    "              tgt.updatedDate = current_timestamp\n",
    "WHEN NOT MATCHED\n",
    "  THEN INSERT (driverId, dob, forename, surname, createdDate) VALUES (driverID, dob, forename, surname, current_timestamp)"
   ]
  },
  {
   "cell_type": "code",
   "execution_count": 0,
   "metadata": {
    "application/vnd.databricks.v1+cell": {
     "cellMetadata": {
      "byteLimit": 2048000,
      "implicitDf": true,
      "rowLimit": 10000
     },
     "inputWidgets": {},
     "nuid": "a81cfedd-2720-4cf0-a651-172af970e959",
     "showTitle": false,
     "title": ""
    }
   },
   "outputs": [],
   "source": [
    "%sql\n",
    "SELECT * FROM f1_demo.drivers_merge;"
   ]
  },
  {
   "cell_type": "code",
   "execution_count": 0,
   "metadata": {
    "application/vnd.databricks.v1+cell": {
     "cellMetadata": {
      "byteLimit": 2048000,
      "implicitDf": true,
      "rowLimit": 10000
     },
     "inputWidgets": {},
     "nuid": "a2f26f18-b904-4974-935f-7086ce9355fc",
     "showTitle": false,
     "title": ""
    }
   },
   "outputs": [],
   "source": [
    "%sql\n",
    "MERGE INTO f1_demo.drivers_merge tgt\n",
    "USING drivers_day2 upd\n",
    "ON tgt.driverId = upd.driverId\n",
    "WHEN MATCHED THEN\n",
    "  UPDATE SET  tgt.dob = upd.dob,\n",
    "              tgt.forename = upd.forename,\n",
    "              tgt.surname = upd.surname,\n",
    "              tgt.updatedDate = current_timestamp\n",
    "WHEN NOT MATCHED\n",
    "  THEN INSERT (driverId, dob, forename, surname, createdDate) VALUES (driverID, dob, forename, surname, current_timestamp)"
   ]
  },
  {
   "cell_type": "code",
   "execution_count": 0,
   "metadata": {
    "application/vnd.databricks.v1+cell": {
     "cellMetadata": {
      "byteLimit": 2048000,
      "implicitDf": true,
      "rowLimit": 10000
     },
     "inputWidgets": {},
     "nuid": "d1d5a201-2875-4825-8faa-36ac8b5efc38",
     "showTitle": false,
     "title": ""
    }
   },
   "outputs": [],
   "source": [
    "%sql\n",
    "SELECT * FROM f1_demo.drivers_merge;"
   ]
  },
  {
   "cell_type": "code",
   "execution_count": 0,
   "metadata": {
    "application/vnd.databricks.v1+cell": {
     "cellMetadata": {
      "byteLimit": 2048000,
      "rowLimit": 10000
     },
     "inputWidgets": {},
     "nuid": "5e125583-2143-41c1-ac72-af0e17475344",
     "showTitle": false,
     "title": ""
    }
   },
   "outputs": [],
   "source": [
    "from delta.tables import DeltaTable\n",
    "from pyspark.sql.functions import current_timestamp\n",
    "\n",
    "deltaTable = DeltaTable.forPath(spark, \"/mnt/formula1dl612/demo/drivers_merge\")\n",
    "\n",
    "\n",
    "deltaTable.alias('tgt') \\\n",
    "  .merge(\n",
    "    drivers_day3_df.alias('upd'),\n",
    "    \"tgt.driverId = upd.driverId\"\n",
    "  ) \\\n",
    "  .whenMatchedUpdate(set =\n",
    "    {\n",
    "      \"dob\": \"upd.dob\",\n",
    "      \"forename\": \"upd.forename\",\n",
    "      \"surname\": \"upd.surname\",\n",
    "      \"updatedDate\": \"current_timestamp()\"\n",
    "    }\n",
    "  ) \\\n",
    "  .whenNotMatchedInsert(values =\n",
    "    {\n",
    "    \n",
    "      \"driverId\": \"upd.driverId\",\n",
    "      \"dob\": \"upd.dob\",\n",
    "      \"forename\": \"upd.forename\",\n",
    "      \"surname\": \"upd.surname\",\n",
    "      \"createdDate\": \"current_timestamp()\"\n",
    "    }\n",
    "  ) \\\n",
    "  .execute()"
   ]
  },
  {
   "cell_type": "code",
   "execution_count": 0,
   "metadata": {
    "application/vnd.databricks.v1+cell": {
     "cellMetadata": {
      "byteLimit": 2048000,
      "implicitDf": true,
      "rowLimit": 10000
     },
     "inputWidgets": {},
     "nuid": "66fc787f-deb7-4eee-bfc1-9302d5275457",
     "showTitle": false,
     "title": ""
    }
   },
   "outputs": [],
   "source": [
    "%sql\n",
    "SELECT * FROM f1_demo.drivers_merge;"
   ]
  }
 ],
 "metadata": {
  "application/vnd.databricks.v1+notebook": {
   "dashboards": [],
   "language": "python",
   "notebookMetadata": {
    "mostRecentlyExecutedCommandWithImplicitDF": {
     "commandId": 4462865897687936,
     "dataframes": [
      "_sqldf"
     ]
    },
    "pythonIndentUnit": 4
   },
   "notebookName": "10.delta_lake_demo",
   "widgets": {}
  }
 },
 "nbformat": 4,
 "nbformat_minor": 0
}
