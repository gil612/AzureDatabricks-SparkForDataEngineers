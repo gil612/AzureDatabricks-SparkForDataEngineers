{
 "cells": [
  {
   "cell_type": "markdown",
   "metadata": {
    "application/vnd.databricks.v1+cell": {
     "cellMetadata": {},
     "inputWidgets": {},
     "nuid": "1357c32f-d0f6-409b-8948-8576fa39e473",
     "showTitle": false,
     "title": ""
    }
   },
   "source": [
    "1. Write Data to Delta Lake (managed table)\n",
    "2. Write Data to Delta Lake (external table)\n",
    "3. Read data from Delta Lake (table)\n",
    "4. Read data from Delta Lake (file)"
   ]
  },
  {
   "cell_type": "code",
   "execution_count": 0,
   "metadata": {
    "application/vnd.databricks.v1+cell": {
     "cellMetadata": {
      "byteLimit": 2048000,
      "rowLimit": 10000
     },
     "inputWidgets": {},
     "nuid": "1090e09e-611b-4a1f-9501-02d5bd5b0c8c",
     "showTitle": false,
     "title": ""
    }
   },
   "outputs": [
    {
     "output_type": "display_data",
     "data": {
      "text/html": [
       "<style scoped>\n",
       "  .table-result-container {\n",
       "    max-height: 300px;\n",
       "    overflow: auto;\n",
       "  }\n",
       "  table, th, td {\n",
       "    border: 1px solid black;\n",
       "    border-collapse: collapse;\n",
       "  }\n",
       "  th, td {\n",
       "    padding: 5px;\n",
       "  }\n",
       "  th {\n",
       "    text-align: left;\n",
       "  }\n",
       "</style><div class='table-result-container'><table class='table-result'><thead style='background-color: white'><tr></tr></thead><tbody></tbody></table></div>"
      ]
     },
     "metadata": {
      "application/vnd.databricks.v1+output": {
       "addedWidgets": {},
       "aggData": [],
       "aggError": "",
       "aggOverflow": false,
       "aggSchema": [],
       "aggSeriesLimitReached": false,
       "aggType": "",
       "arguments": {},
       "columnCustomDisplayInfos": {},
       "data": [],
       "datasetInfos": [],
       "dbfsResultPath": null,
       "isJsonSchema": true,
       "metadata": {
        "isDbfsCommandResult": false
       },
       "overflow": false,
       "plotOptions": {
        "customPlotOptions": {},
        "displayType": "table",
        "pivotAggregation": null,
        "pivotColumns": null,
        "xColumns": null,
        "yColumns": null
       },
       "removedWidgets": [],
       "schema": [],
       "type": "table"
      }
     },
     "output_type": "display_data"
    }
   ],
   "source": [
    "%sql\n",
    "CREATE DATABASE IF NOT EXISTS f1_demo\n",
    "LOCATION '/mnt/formula1dl612/demo'"
   ]
  },
  {
   "cell_type": "code",
   "execution_count": 0,
   "metadata": {
    "application/vnd.databricks.v1+cell": {
     "cellMetadata": {
      "byteLimit": 2048000,
      "rowLimit": 10000
     },
     "inputWidgets": {},
     "nuid": "232d3d98-4d46-4951-9ab9-941985bdb0f7",
     "showTitle": false,
     "title": ""
    }
   },
   "outputs": [],
   "source": [
    "\n",
    "results_df = spark.read\\\n",
    ".option(\"inferSchema\", True)\\\n",
    ".json(\"/mnt/formula1dl612/raw/2021-03-28/results.json\")"
   ]
  },
  {
   "cell_type": "code",
   "execution_count": 0,
   "metadata": {
    "application/vnd.databricks.v1+cell": {
     "cellMetadata": {
      "byteLimit": 2048000,
      "implicitDf": true,
      "rowLimit": 10000
     },
     "inputWidgets": {},
     "nuid": "f9f16d9d-9843-473f-9a02-25c7fa217355",
     "showTitle": false,
     "title": ""
    }
   },
   "outputs": [],
   "source": [
    "results_df.write.format(\"delta\").mode(\"overwrite\").saveAsTable(\"f1_demo.results_managed\")"
   ]
  },
  {
   "cell_type": "code",
   "execution_count": 0,
   "metadata": {
    "application/vnd.databricks.v1+cell": {
     "cellMetadata": {
      "byteLimit": 2048000,
      "implicitDf": true,
      "rowLimit": 10000
     },
     "inputWidgets": {},
     "nuid": "2ed80412-3c36-466f-88aa-1750d8766d91",
     "showTitle": false,
     "title": ""
    }
   },
   "outputs": [
    {
     "output_type": "display_data",
     "data": {
      "text/html": [
       "<style scoped>\n",
       "  .table-result-container {\n",
       "    max-height: 300px;\n",
       "    overflow: auto;\n",
       "  }\n",
       "  table, th, td {\n",
       "    border: 1px solid black;\n",
       "    border-collapse: collapse;\n",
       "  }\n",
       "  th, td {\n",
       "    padding: 5px;\n",
       "  }\n",
       "  th {\n",
       "    text-align: left;\n",
       "  }\n",
       "</style><div class='table-result-container'><table class='table-result'><thead style='background-color: white'><tr><th>constructorId</th><th>driverId</th><th>fastestLap</th><th>fastestLapSpeed</th><th>fastestLapTime</th><th>grid</th><th>laps</th><th>milliseconds</th><th>number</th><th>points</th><th>position</th><th>positionOrder</th><th>positionText</th><th>raceId</th><th>rank</th><th>resultId</th><th>statusId</th><th>time</th></tr></thead><tbody><tr><td>131</td><td>1</td><td>44</td><td>207.235</td><td>1:34.015</td><td>2</td><td>56</td><td>5523897</td><td>44</td><td>25</td><td>1</td><td>1</td><td>1</td><td>1052</td><td>4</td><td>24966</td><td>1</td><td>1:32:03.897</td></tr><tr><td>9</td><td>830</td><td>41</td><td>208.984</td><td>1:33.228</td><td>1</td><td>56</td><td>5524642</td><td>33</td><td>18</td><td>2</td><td>2</td><td>2</td><td>1052</td><td>2</td><td>24967</td><td>1</td><td>+0.745</td></tr><tr><td>131</td><td>822</td><td>56</td><td>211.566</td><td>1:32.090</td><td>3</td><td>56</td><td>5561280</td><td>77</td><td>16</td><td>3</td><td>3</td><td>3</td><td>1052</td><td>1</td><td>24968</td><td>1</td><td>+37.383</td></tr><tr><td>1</td><td>846</td><td>38</td><td>206.398</td><td>1:34.396</td><td>7</td><td>56</td><td>5570363</td><td>4</td><td>12</td><td>4</td><td>4</td><td>4</td><td>1052</td><td>6</td><td>24969</td><td>1</td><td>+46.466</td></tr><tr><td>9</td><td>815</td><td>44</td><td>207.334</td><td>1:33.970</td><td>0</td><td>56</td><td>5575944</td><td>11</td><td>10</td><td>5</td><td>5</td><td>5</td><td>1052</td><td>3</td><td>24970</td><td>1</td><td>+52.047</td></tr><tr><td>6</td><td>844</td><td>39</td><td>205.112</td><td>1:34.988</td><td>4</td><td>56</td><td>5582987</td><td>16</td><td>8</td><td>6</td><td>6</td><td>6</td><td>1052</td><td>11</td><td>24971</td><td>1</td><td>+59.090</td></tr><tr><td>1</td><td>817</td><td>36</td><td>205.233</td><td>1:34.932</td><td>6</td><td>56</td><td>5589901</td><td>3</td><td>6</td><td>7</td><td>7</td><td>7</td><td>1052</td><td>10</td><td>24972</td><td>1</td><td>+66.004</td></tr><tr><td>6</td><td>832</td><td>48</td><td>206.151</td><td>1:34.509</td><td>8</td><td>56</td><td>5590997</td><td>55</td><td>4</td><td>8</td><td>8</td><td>8</td><td>1052</td><td>7</td><td>24973</td><td>1</td><td>+67.100</td></tr><tr><td>213</td><td>852</td><td>38</td><td>205.603</td><td>1:34.761</td><td>13</td><td>56</td><td>5609589</td><td>22</td><td>2</td><td>9</td><td>9</td><td>9</td><td>1052</td><td>8</td><td>24974</td><td>1</td><td>+85.692</td></tr><tr><td>117</td><td>840</td><td>31</td><td>205.378</td><td>1:34.865</td><td>10</td><td>56</td><td>5610610</td><td>18</td><td>1</td><td>10</td><td>10</td><td>10</td><td>1052</td><td>9</td><td>24975</td><td>1</td><td>+86.713</td></tr><tr><td>51</td><td>8</td><td>45</td><td>204.672</td><td>1:35.192</td><td>14</td><td>56</td><td>5612761</td><td>7</td><td>0</td><td>11</td><td>11</td><td>11</td><td>1052</td><td>14</td><td>24976</td><td>1</td><td>+88.864</td></tr><tr><td>51</td><td>841</td><td>32</td><td>204.823</td><td>1:35.122</td><td>12</td><td>55</td><td>\\N</td><td>99</td><td>0</td><td>12</td><td>12</td><td>12</td><td>1052</td><td>13</td><td>24977</td><td>11</td><td>\\N</td></tr><tr><td>214</td><td>839</td><td>33</td><td>204.548</td><td>1:35.250</td><td>16</td><td>55</td><td>\\N</td><td>31</td><td>0</td><td>13</td><td>13</td><td>13</td><td>1052</td><td>15</td><td>24978</td><td>11</td><td>\\N</td></tr><tr><td>3</td><td>847</td><td>40</td><td>205.008</td><td>1:35.036</td><td>15</td><td>55</td><td>\\N</td><td>63</td><td>0</td><td>14</td><td>14</td><td>14</td><td>1052</td><td>12</td><td>24979</td><td>11</td><td>\\N</td></tr><tr><td>117</td><td>20</td><td>26</td><td>203.871</td><td>1:35.566</td><td>20</td><td>55</td><td>\\N</td><td>5</td><td>0</td><td>15</td><td>15</td><td>15</td><td>1052</td><td>16</td><td>24980</td><td>11</td><td>\\N</td></tr><tr><td>210</td><td>854</td><td>38</td><td>202.667</td><td>1:36.134</td><td>18</td><td>55</td><td>\\N</td><td>47</td><td>0</td><td>16</td><td>16</td><td>16</td><td>1052</td><td>18</td><td>24981</td><td>11</td><td>\\N</td></tr><tr><td>213</td><td>842</td><td>48</td><td>207.069</td><td>1:34.090</td><td>5</td><td>52</td><td>\\N</td><td>10</td><td>0</td><td>17</td><td>17</td><td>17</td><td>1052</td><td>5</td><td>24982</td><td>31</td><td>\\N</td></tr><tr><td>3</td><td>849</td><td>16</td><td>201.685</td><td>1:36.602</td><td>17</td><td>51</td><td>\\N</td><td>6</td><td>0</td><td>18</td><td>18</td><td>18</td><td>1052</td><td>19</td><td>24983</td><td>31</td><td>\\N</td></tr><tr><td>214</td><td>4</td><td>31</td><td>202.816</td><td>1:36.063</td><td>9</td><td>32</td><td>\\N</td><td>14</td><td>0</td><td>\\N</td><td>19</td><td>R</td><td>1052</td><td>17</td><td>24984</td><td>23</td><td>\\N</td></tr><tr><td>210</td><td>853</td><td>\\N</td><td>\\N</td><td>\\N</td><td>19</td><td>0</td><td>\\N</td><td>9</td><td>0</td><td>\\N</td><td>20</td><td>R</td><td>1052</td><td>0</td><td>24985</td><td>3</td><td>\\N</td></tr></tbody></table></div>"
      ]
     },
     "metadata": {
      "application/vnd.databricks.v1+output": {
       "addedWidgets": {},
       "aggData": [],
       "aggError": "",
       "aggOverflow": false,
       "aggSchema": [],
       "aggSeriesLimitReached": false,
       "aggType": "",
       "arguments": {},
       "columnCustomDisplayInfos": {},
       "data": [
        [
         131,
         1,
         "44",
         "207.235",
         "1:34.015",
         2,
         56,
         "5523897",
         44,
         25,
         "1",
         1,
         "1",
         1052,
         4,
         24966,
         1,
         "1:32:03.897"
        ],
        [
         9,
         830,
         "41",
         "208.984",
         "1:33.228",
         1,
         56,
         "5524642",
         33,
         18,
         "2",
         2,
         "2",
         1052,
         2,
         24967,
         1,
         "+0.745"
        ],
        [
         131,
         822,
         "56",
         "211.566",
         "1:32.090",
         3,
         56,
         "5561280",
         77,
         16,
         "3",
         3,
         "3",
         1052,
         1,
         24968,
         1,
         "+37.383"
        ],
        [
         1,
         846,
         "38",
         "206.398",
         "1:34.396",
         7,
         56,
         "5570363",
         4,
         12,
         "4",
         4,
         "4",
         1052,
         6,
         24969,
         1,
         "+46.466"
        ],
        [
         9,
         815,
         "44",
         "207.334",
         "1:33.970",
         0,
         56,
         "5575944",
         11,
         10,
         "5",
         5,
         "5",
         1052,
         3,
         24970,
         1,
         "+52.047"
        ],
        [
         6,
         844,
         "39",
         "205.112",
         "1:34.988",
         4,
         56,
         "5582987",
         16,
         8,
         "6",
         6,
         "6",
         1052,
         11,
         24971,
         1,
         "+59.090"
        ],
        [
         1,
         817,
         "36",
         "205.233",
         "1:34.932",
         6,
         56,
         "5589901",
         3,
         6,
         "7",
         7,
         "7",
         1052,
         10,
         24972,
         1,
         "+66.004"
        ],
        [
         6,
         832,
         "48",
         "206.151",
         "1:34.509",
         8,
         56,
         "5590997",
         55,
         4,
         "8",
         8,
         "8",
         1052,
         7,
         24973,
         1,
         "+67.100"
        ],
        [
         213,
         852,
         "38",
         "205.603",
         "1:34.761",
         13,
         56,
         "5609589",
         22,
         2,
         "9",
         9,
         "9",
         1052,
         8,
         24974,
         1,
         "+85.692"
        ],
        [
         117,
         840,
         "31",
         "205.378",
         "1:34.865",
         10,
         56,
         "5610610",
         18,
         1,
         "10",
         10,
         "10",
         1052,
         9,
         24975,
         1,
         "+86.713"
        ],
        [
         51,
         8,
         "45",
         "204.672",
         "1:35.192",
         14,
         56,
         "5612761",
         7,
         0,
         "11",
         11,
         "11",
         1052,
         14,
         24976,
         1,
         "+88.864"
        ],
        [
         51,
         841,
         "32",
         "204.823",
         "1:35.122",
         12,
         55,
         "\\N",
         99,
         0,
         "12",
         12,
         "12",
         1052,
         13,
         24977,
         11,
         "\\N"
        ],
        [
         214,
         839,
         "33",
         "204.548",
         "1:35.250",
         16,
         55,
         "\\N",
         31,
         0,
         "13",
         13,
         "13",
         1052,
         15,
         24978,
         11,
         "\\N"
        ],
        [
         3,
         847,
         "40",
         "205.008",
         "1:35.036",
         15,
         55,
         "\\N",
         63,
         0,
         "14",
         14,
         "14",
         1052,
         12,
         24979,
         11,
         "\\N"
        ],
        [
         117,
         20,
         "26",
         "203.871",
         "1:35.566",
         20,
         55,
         "\\N",
         5,
         0,
         "15",
         15,
         "15",
         1052,
         16,
         24980,
         11,
         "\\N"
        ],
        [
         210,
         854,
         "38",
         "202.667",
         "1:36.134",
         18,
         55,
         "\\N",
         47,
         0,
         "16",
         16,
         "16",
         1052,
         18,
         24981,
         11,
         "\\N"
        ],
        [
         213,
         842,
         "48",
         "207.069",
         "1:34.090",
         5,
         52,
         "\\N",
         10,
         0,
         "17",
         17,
         "17",
         1052,
         5,
         24982,
         31,
         "\\N"
        ],
        [
         3,
         849,
         "16",
         "201.685",
         "1:36.602",
         17,
         51,
         "\\N",
         6,
         0,
         "18",
         18,
         "18",
         1052,
         19,
         24983,
         31,
         "\\N"
        ],
        [
         214,
         4,
         "31",
         "202.816",
         "1:36.063",
         9,
         32,
         "\\N",
         14,
         0,
         "\\N",
         19,
         "R",
         1052,
         17,
         24984,
         23,
         "\\N"
        ],
        [
         210,
         853,
         "\\N",
         "\\N",
         "\\N",
         19,
         0,
         "\\N",
         9,
         0,
         "\\N",
         20,
         "R",
         1052,
         0,
         24985,
         3,
         "\\N"
        ]
       ],
       "datasetInfos": [],
       "dbfsResultPath": null,
       "isJsonSchema": true,
       "metadata": {},
       "overflow": false,
       "plotOptions": {
        "customPlotOptions": {},
        "displayType": "table",
        "pivotAggregation": null,
        "pivotColumns": null,
        "xColumns": null,
        "yColumns": null
       },
       "removedWidgets": [],
       "schema": [
        {
         "metadata": "{}",
         "name": "constructorId",
         "type": "\"long\""
        },
        {
         "metadata": "{}",
         "name": "driverId",
         "type": "\"long\""
        },
        {
         "metadata": "{}",
         "name": "fastestLap",
         "type": "\"string\""
        },
        {
         "metadata": "{}",
         "name": "fastestLapSpeed",
         "type": "\"string\""
        },
        {
         "metadata": "{}",
         "name": "fastestLapTime",
         "type": "\"string\""
        },
        {
         "metadata": "{}",
         "name": "grid",
         "type": "\"long\""
        },
        {
         "metadata": "{}",
         "name": "laps",
         "type": "\"long\""
        },
        {
         "metadata": "{}",
         "name": "milliseconds",
         "type": "\"string\""
        },
        {
         "metadata": "{}",
         "name": "number",
         "type": "\"long\""
        },
        {
         "metadata": "{}",
         "name": "points",
         "type": "\"long\""
        },
        {
         "metadata": "{}",
         "name": "position",
         "type": "\"string\""
        },
        {
         "metadata": "{}",
         "name": "positionOrder",
         "type": "\"long\""
        },
        {
         "metadata": "{}",
         "name": "positionText",
         "type": "\"string\""
        },
        {
         "metadata": "{}",
         "name": "raceId",
         "type": "\"long\""
        },
        {
         "metadata": "{}",
         "name": "rank",
         "type": "\"long\""
        },
        {
         "metadata": "{}",
         "name": "resultId",
         "type": "\"long\""
        },
        {
         "metadata": "{}",
         "name": "statusId",
         "type": "\"long\""
        },
        {
         "metadata": "{}",
         "name": "time",
         "type": "\"string\""
        }
       ],
       "type": "table"
      }
     },
     "output_type": "display_data"
    }
   ],
   "source": [
    "%sql\n",
    "SELECT * FROM f1_demo.results_managed;"
   ]
  },
  {
   "cell_type": "code",
   "execution_count": 0,
   "metadata": {
    "application/vnd.databricks.v1+cell": {
     "cellMetadata": {
      "byteLimit": 2048000,
      "rowLimit": 10000
     },
     "inputWidgets": {},
     "nuid": "f7dba710-0872-4b45-b3c2-06c837564292",
     "showTitle": false,
     "title": ""
    }
   },
   "outputs": [],
   "source": [
    "results_df.write.format(\"delta\").mode(\"overwrite\").save(\"/mnt/formula1dl612/demo/results_external\")"
   ]
  },
  {
   "cell_type": "code",
   "execution_count": 0,
   "metadata": {
    "application/vnd.databricks.v1+cell": {
     "cellMetadata": {
      "byteLimit": 2048000,
      "implicitDf": true,
      "rowLimit": 10000
     },
     "inputWidgets": {},
     "nuid": "ac427bb7-98b8-4e31-b6b5-29d1b7ae8f32",
     "showTitle": false,
     "title": ""
    }
   },
   "outputs": [
    {
     "output_type": "display_data",
     "data": {
      "text/html": [
       "<style scoped>\n",
       "  .table-result-container {\n",
       "    max-height: 300px;\n",
       "    overflow: auto;\n",
       "  }\n",
       "  table, th, td {\n",
       "    border: 1px solid black;\n",
       "    border-collapse: collapse;\n",
       "  }\n",
       "  th, td {\n",
       "    padding: 5px;\n",
       "  }\n",
       "  th {\n",
       "    text-align: left;\n",
       "  }\n",
       "</style><div class='table-result-container'><table class='table-result'><thead style='background-color: white'><tr></tr></thead><tbody></tbody></table></div>"
      ]
     },
     "metadata": {
      "application/vnd.databricks.v1+output": {
       "addedWidgets": {},
       "aggData": [],
       "aggError": "",
       "aggOverflow": false,
       "aggSchema": [],
       "aggSeriesLimitReached": false,
       "aggType": "",
       "arguments": {},
       "columnCustomDisplayInfos": {},
       "data": [],
       "datasetInfos": [],
       "dbfsResultPath": null,
       "isJsonSchema": true,
       "metadata": {},
       "overflow": false,
       "plotOptions": {
        "customPlotOptions": {},
        "displayType": "table",
        "pivotAggregation": null,
        "pivotColumns": null,
        "xColumns": null,
        "yColumns": null
       },
       "removedWidgets": [],
       "schema": [],
       "type": "table"
      }
     },
     "output_type": "display_data"
    }
   ],
   "source": [
    "%sql\n",
    "CREATE TABLE f1_demo.results_external\n",
    "USING DELTA\n",
    "LOCATION '/mnt/formula1dl612/demo/results_external'"
   ]
  },
  {
   "cell_type": "code",
   "execution_count": 0,
   "metadata": {
    "application/vnd.databricks.v1+cell": {
     "cellMetadata": {
      "byteLimit": 2048000,
      "implicitDf": true,
      "rowLimit": 10000
     },
     "inputWidgets": {},
     "nuid": "a4b4d4da-11b7-413d-ae68-f8065f276710",
     "showTitle": false,
     "title": ""
    }
   },
   "outputs": [
    {
     "output_type": "display_data",
     "data": {
      "text/html": [
       "<style scoped>\n",
       "  .table-result-container {\n",
       "    max-height: 300px;\n",
       "    overflow: auto;\n",
       "  }\n",
       "  table, th, td {\n",
       "    border: 1px solid black;\n",
       "    border-collapse: collapse;\n",
       "  }\n",
       "  th, td {\n",
       "    padding: 5px;\n",
       "  }\n",
       "  th {\n",
       "    text-align: left;\n",
       "  }\n",
       "</style><div class='table-result-container'><table class='table-result'><thead style='background-color: white'><tr><th>constructorId</th><th>driverId</th><th>fastestLap</th><th>fastestLapSpeed</th><th>fastestLapTime</th><th>grid</th><th>laps</th><th>milliseconds</th><th>number</th><th>points</th><th>position</th><th>positionOrder</th><th>positionText</th><th>raceId</th><th>rank</th><th>resultId</th><th>statusId</th><th>time</th></tr></thead><tbody><tr><td>131</td><td>1</td><td>44</td><td>207.235</td><td>1:34.015</td><td>2</td><td>56</td><td>5523897</td><td>44</td><td>25</td><td>1</td><td>1</td><td>1</td><td>1052</td><td>4</td><td>24966</td><td>1</td><td>1:32:03.897</td></tr><tr><td>9</td><td>830</td><td>41</td><td>208.984</td><td>1:33.228</td><td>1</td><td>56</td><td>5524642</td><td>33</td><td>18</td><td>2</td><td>2</td><td>2</td><td>1052</td><td>2</td><td>24967</td><td>1</td><td>+0.745</td></tr><tr><td>131</td><td>822</td><td>56</td><td>211.566</td><td>1:32.090</td><td>3</td><td>56</td><td>5561280</td><td>77</td><td>16</td><td>3</td><td>3</td><td>3</td><td>1052</td><td>1</td><td>24968</td><td>1</td><td>+37.383</td></tr><tr><td>1</td><td>846</td><td>38</td><td>206.398</td><td>1:34.396</td><td>7</td><td>56</td><td>5570363</td><td>4</td><td>12</td><td>4</td><td>4</td><td>4</td><td>1052</td><td>6</td><td>24969</td><td>1</td><td>+46.466</td></tr><tr><td>9</td><td>815</td><td>44</td><td>207.334</td><td>1:33.970</td><td>0</td><td>56</td><td>5575944</td><td>11</td><td>10</td><td>5</td><td>5</td><td>5</td><td>1052</td><td>3</td><td>24970</td><td>1</td><td>+52.047</td></tr><tr><td>6</td><td>844</td><td>39</td><td>205.112</td><td>1:34.988</td><td>4</td><td>56</td><td>5582987</td><td>16</td><td>8</td><td>6</td><td>6</td><td>6</td><td>1052</td><td>11</td><td>24971</td><td>1</td><td>+59.090</td></tr><tr><td>1</td><td>817</td><td>36</td><td>205.233</td><td>1:34.932</td><td>6</td><td>56</td><td>5589901</td><td>3</td><td>6</td><td>7</td><td>7</td><td>7</td><td>1052</td><td>10</td><td>24972</td><td>1</td><td>+66.004</td></tr><tr><td>6</td><td>832</td><td>48</td><td>206.151</td><td>1:34.509</td><td>8</td><td>56</td><td>5590997</td><td>55</td><td>4</td><td>8</td><td>8</td><td>8</td><td>1052</td><td>7</td><td>24973</td><td>1</td><td>+67.100</td></tr><tr><td>213</td><td>852</td><td>38</td><td>205.603</td><td>1:34.761</td><td>13</td><td>56</td><td>5609589</td><td>22</td><td>2</td><td>9</td><td>9</td><td>9</td><td>1052</td><td>8</td><td>24974</td><td>1</td><td>+85.692</td></tr><tr><td>117</td><td>840</td><td>31</td><td>205.378</td><td>1:34.865</td><td>10</td><td>56</td><td>5610610</td><td>18</td><td>1</td><td>10</td><td>10</td><td>10</td><td>1052</td><td>9</td><td>24975</td><td>1</td><td>+86.713</td></tr><tr><td>51</td><td>8</td><td>45</td><td>204.672</td><td>1:35.192</td><td>14</td><td>56</td><td>5612761</td><td>7</td><td>0</td><td>11</td><td>11</td><td>11</td><td>1052</td><td>14</td><td>24976</td><td>1</td><td>+88.864</td></tr><tr><td>51</td><td>841</td><td>32</td><td>204.823</td><td>1:35.122</td><td>12</td><td>55</td><td>\\N</td><td>99</td><td>0</td><td>12</td><td>12</td><td>12</td><td>1052</td><td>13</td><td>24977</td><td>11</td><td>\\N</td></tr><tr><td>214</td><td>839</td><td>33</td><td>204.548</td><td>1:35.250</td><td>16</td><td>55</td><td>\\N</td><td>31</td><td>0</td><td>13</td><td>13</td><td>13</td><td>1052</td><td>15</td><td>24978</td><td>11</td><td>\\N</td></tr><tr><td>3</td><td>847</td><td>40</td><td>205.008</td><td>1:35.036</td><td>15</td><td>55</td><td>\\N</td><td>63</td><td>0</td><td>14</td><td>14</td><td>14</td><td>1052</td><td>12</td><td>24979</td><td>11</td><td>\\N</td></tr><tr><td>117</td><td>20</td><td>26</td><td>203.871</td><td>1:35.566</td><td>20</td><td>55</td><td>\\N</td><td>5</td><td>0</td><td>15</td><td>15</td><td>15</td><td>1052</td><td>16</td><td>24980</td><td>11</td><td>\\N</td></tr><tr><td>210</td><td>854</td><td>38</td><td>202.667</td><td>1:36.134</td><td>18</td><td>55</td><td>\\N</td><td>47</td><td>0</td><td>16</td><td>16</td><td>16</td><td>1052</td><td>18</td><td>24981</td><td>11</td><td>\\N</td></tr><tr><td>213</td><td>842</td><td>48</td><td>207.069</td><td>1:34.090</td><td>5</td><td>52</td><td>\\N</td><td>10</td><td>0</td><td>17</td><td>17</td><td>17</td><td>1052</td><td>5</td><td>24982</td><td>31</td><td>\\N</td></tr><tr><td>3</td><td>849</td><td>16</td><td>201.685</td><td>1:36.602</td><td>17</td><td>51</td><td>\\N</td><td>6</td><td>0</td><td>18</td><td>18</td><td>18</td><td>1052</td><td>19</td><td>24983</td><td>31</td><td>\\N</td></tr><tr><td>214</td><td>4</td><td>31</td><td>202.816</td><td>1:36.063</td><td>9</td><td>32</td><td>\\N</td><td>14</td><td>0</td><td>\\N</td><td>19</td><td>R</td><td>1052</td><td>17</td><td>24984</td><td>23</td><td>\\N</td></tr><tr><td>210</td><td>853</td><td>\\N</td><td>\\N</td><td>\\N</td><td>19</td><td>0</td><td>\\N</td><td>9</td><td>0</td><td>\\N</td><td>20</td><td>R</td><td>1052</td><td>0</td><td>24985</td><td>3</td><td>\\N</td></tr></tbody></table></div>"
      ]
     },
     "metadata": {
      "application/vnd.databricks.v1+output": {
       "addedWidgets": {},
       "aggData": [],
       "aggError": "",
       "aggOverflow": false,
       "aggSchema": [],
       "aggSeriesLimitReached": false,
       "aggType": "",
       "arguments": {},
       "columnCustomDisplayInfos": {},
       "data": [
        [
         131,
         1,
         "44",
         "207.235",
         "1:34.015",
         2,
         56,
         "5523897",
         44,
         25,
         "1",
         1,
         "1",
         1052,
         4,
         24966,
         1,
         "1:32:03.897"
        ],
        [
         9,
         830,
         "41",
         "208.984",
         "1:33.228",
         1,
         56,
         "5524642",
         33,
         18,
         "2",
         2,
         "2",
         1052,
         2,
         24967,
         1,
         "+0.745"
        ],
        [
         131,
         822,
         "56",
         "211.566",
         "1:32.090",
         3,
         56,
         "5561280",
         77,
         16,
         "3",
         3,
         "3",
         1052,
         1,
         24968,
         1,
         "+37.383"
        ],
        [
         1,
         846,
         "38",
         "206.398",
         "1:34.396",
         7,
         56,
         "5570363",
         4,
         12,
         "4",
         4,
         "4",
         1052,
         6,
         24969,
         1,
         "+46.466"
        ],
        [
         9,
         815,
         "44",
         "207.334",
         "1:33.970",
         0,
         56,
         "5575944",
         11,
         10,
         "5",
         5,
         "5",
         1052,
         3,
         24970,
         1,
         "+52.047"
        ],
        [
         6,
         844,
         "39",
         "205.112",
         "1:34.988",
         4,
         56,
         "5582987",
         16,
         8,
         "6",
         6,
         "6",
         1052,
         11,
         24971,
         1,
         "+59.090"
        ],
        [
         1,
         817,
         "36",
         "205.233",
         "1:34.932",
         6,
         56,
         "5589901",
         3,
         6,
         "7",
         7,
         "7",
         1052,
         10,
         24972,
         1,
         "+66.004"
        ],
        [
         6,
         832,
         "48",
         "206.151",
         "1:34.509",
         8,
         56,
         "5590997",
         55,
         4,
         "8",
         8,
         "8",
         1052,
         7,
         24973,
         1,
         "+67.100"
        ],
        [
         213,
         852,
         "38",
         "205.603",
         "1:34.761",
         13,
         56,
         "5609589",
         22,
         2,
         "9",
         9,
         "9",
         1052,
         8,
         24974,
         1,
         "+85.692"
        ],
        [
         117,
         840,
         "31",
         "205.378",
         "1:34.865",
         10,
         56,
         "5610610",
         18,
         1,
         "10",
         10,
         "10",
         1052,
         9,
         24975,
         1,
         "+86.713"
        ],
        [
         51,
         8,
         "45",
         "204.672",
         "1:35.192",
         14,
         56,
         "5612761",
         7,
         0,
         "11",
         11,
         "11",
         1052,
         14,
         24976,
         1,
         "+88.864"
        ],
        [
         51,
         841,
         "32",
         "204.823",
         "1:35.122",
         12,
         55,
         "\\N",
         99,
         0,
         "12",
         12,
         "12",
         1052,
         13,
         24977,
         11,
         "\\N"
        ],
        [
         214,
         839,
         "33",
         "204.548",
         "1:35.250",
         16,
         55,
         "\\N",
         31,
         0,
         "13",
         13,
         "13",
         1052,
         15,
         24978,
         11,
         "\\N"
        ],
        [
         3,
         847,
         "40",
         "205.008",
         "1:35.036",
         15,
         55,
         "\\N",
         63,
         0,
         "14",
         14,
         "14",
         1052,
         12,
         24979,
         11,
         "\\N"
        ],
        [
         117,
         20,
         "26",
         "203.871",
         "1:35.566",
         20,
         55,
         "\\N",
         5,
         0,
         "15",
         15,
         "15",
         1052,
         16,
         24980,
         11,
         "\\N"
        ],
        [
         210,
         854,
         "38",
         "202.667",
         "1:36.134",
         18,
         55,
         "\\N",
         47,
         0,
         "16",
         16,
         "16",
         1052,
         18,
         24981,
         11,
         "\\N"
        ],
        [
         213,
         842,
         "48",
         "207.069",
         "1:34.090",
         5,
         52,
         "\\N",
         10,
         0,
         "17",
         17,
         "17",
         1052,
         5,
         24982,
         31,
         "\\N"
        ],
        [
         3,
         849,
         "16",
         "201.685",
         "1:36.602",
         17,
         51,
         "\\N",
         6,
         0,
         "18",
         18,
         "18",
         1052,
         19,
         24983,
         31,
         "\\N"
        ],
        [
         214,
         4,
         "31",
         "202.816",
         "1:36.063",
         9,
         32,
         "\\N",
         14,
         0,
         "\\N",
         19,
         "R",
         1052,
         17,
         24984,
         23,
         "\\N"
        ],
        [
         210,
         853,
         "\\N",
         "\\N",
         "\\N",
         19,
         0,
         "\\N",
         9,
         0,
         "\\N",
         20,
         "R",
         1052,
         0,
         24985,
         3,
         "\\N"
        ]
       ],
       "datasetInfos": [],
       "dbfsResultPath": null,
       "isJsonSchema": true,
       "metadata": {},
       "overflow": false,
       "plotOptions": {
        "customPlotOptions": {},
        "displayType": "table",
        "pivotAggregation": null,
        "pivotColumns": null,
        "xColumns": null,
        "yColumns": null
       },
       "removedWidgets": [],
       "schema": [
        {
         "metadata": "{}",
         "name": "constructorId",
         "type": "\"long\""
        },
        {
         "metadata": "{}",
         "name": "driverId",
         "type": "\"long\""
        },
        {
         "metadata": "{}",
         "name": "fastestLap",
         "type": "\"string\""
        },
        {
         "metadata": "{}",
         "name": "fastestLapSpeed",
         "type": "\"string\""
        },
        {
         "metadata": "{}",
         "name": "fastestLapTime",
         "type": "\"string\""
        },
        {
         "metadata": "{}",
         "name": "grid",
         "type": "\"long\""
        },
        {
         "metadata": "{}",
         "name": "laps",
         "type": "\"long\""
        },
        {
         "metadata": "{}",
         "name": "milliseconds",
         "type": "\"string\""
        },
        {
         "metadata": "{}",
         "name": "number",
         "type": "\"long\""
        },
        {
         "metadata": "{}",
         "name": "points",
         "type": "\"long\""
        },
        {
         "metadata": "{}",
         "name": "position",
         "type": "\"string\""
        },
        {
         "metadata": "{}",
         "name": "positionOrder",
         "type": "\"long\""
        },
        {
         "metadata": "{}",
         "name": "positionText",
         "type": "\"string\""
        },
        {
         "metadata": "{}",
         "name": "raceId",
         "type": "\"long\""
        },
        {
         "metadata": "{}",
         "name": "rank",
         "type": "\"long\""
        },
        {
         "metadata": "{}",
         "name": "resultId",
         "type": "\"long\""
        },
        {
         "metadata": "{}",
         "name": "statusId",
         "type": "\"long\""
        },
        {
         "metadata": "{}",
         "name": "time",
         "type": "\"string\""
        }
       ],
       "type": "table"
      }
     },
     "output_type": "display_data"
    }
   ],
   "source": [
    "%sql\n",
    "SELECT * FROM f1_demo.results_external"
   ]
  },
  {
   "cell_type": "code",
   "execution_count": 0,
   "metadata": {
    "application/vnd.databricks.v1+cell": {
     "cellMetadata": {
      "byteLimit": 2048000,
      "rowLimit": 10000
     },
     "inputWidgets": {},
     "nuid": "9b209d9d-e754-42bf-b7c0-9dae5838b359",
     "showTitle": false,
     "title": ""
    }
   },
   "outputs": [],
   "source": [
    "results_external_df = spark.read.format(\"delta\").load(\"/mnt/formula1dl612/demo/results_external\")"
   ]
  },
  {
   "cell_type": "code",
   "execution_count": 0,
   "metadata": {
    "application/vnd.databricks.v1+cell": {
     "cellMetadata": {
      "byteLimit": 2048000,
      "rowLimit": 10000
     },
     "inputWidgets": {},
     "nuid": "7cf44188-daf2-4286-987f-5545b2183ac0",
     "showTitle": false,
     "title": ""
    }
   },
   "outputs": [
    {
     "output_type": "display_data",
     "data": {
      "text/html": [
       "<style scoped>\n",
       "  .table-result-container {\n",
       "    max-height: 300px;\n",
       "    overflow: auto;\n",
       "  }\n",
       "  table, th, td {\n",
       "    border: 1px solid black;\n",
       "    border-collapse: collapse;\n",
       "  }\n",
       "  th, td {\n",
       "    padding: 5px;\n",
       "  }\n",
       "  th {\n",
       "    text-align: left;\n",
       "  }\n",
       "</style><div class='table-result-container'><table class='table-result'><thead style='background-color: white'><tr><th>constructorId</th><th>driverId</th><th>fastestLap</th><th>fastestLapSpeed</th><th>fastestLapTime</th><th>grid</th><th>laps</th><th>milliseconds</th><th>number</th><th>points</th><th>position</th><th>positionOrder</th><th>positionText</th><th>raceId</th><th>rank</th><th>resultId</th><th>statusId</th><th>time</th></tr></thead><tbody><tr><td>131</td><td>1</td><td>44</td><td>207.235</td><td>1:34.015</td><td>2</td><td>56</td><td>5523897</td><td>44</td><td>25</td><td>1</td><td>1</td><td>1</td><td>1052</td><td>4</td><td>24966</td><td>1</td><td>1:32:03.897</td></tr><tr><td>9</td><td>830</td><td>41</td><td>208.984</td><td>1:33.228</td><td>1</td><td>56</td><td>5524642</td><td>33</td><td>18</td><td>2</td><td>2</td><td>2</td><td>1052</td><td>2</td><td>24967</td><td>1</td><td>+0.745</td></tr><tr><td>131</td><td>822</td><td>56</td><td>211.566</td><td>1:32.090</td><td>3</td><td>56</td><td>5561280</td><td>77</td><td>16</td><td>3</td><td>3</td><td>3</td><td>1052</td><td>1</td><td>24968</td><td>1</td><td>+37.383</td></tr><tr><td>1</td><td>846</td><td>38</td><td>206.398</td><td>1:34.396</td><td>7</td><td>56</td><td>5570363</td><td>4</td><td>12</td><td>4</td><td>4</td><td>4</td><td>1052</td><td>6</td><td>24969</td><td>1</td><td>+46.466</td></tr><tr><td>9</td><td>815</td><td>44</td><td>207.334</td><td>1:33.970</td><td>0</td><td>56</td><td>5575944</td><td>11</td><td>10</td><td>5</td><td>5</td><td>5</td><td>1052</td><td>3</td><td>24970</td><td>1</td><td>+52.047</td></tr><tr><td>6</td><td>844</td><td>39</td><td>205.112</td><td>1:34.988</td><td>4</td><td>56</td><td>5582987</td><td>16</td><td>8</td><td>6</td><td>6</td><td>6</td><td>1052</td><td>11</td><td>24971</td><td>1</td><td>+59.090</td></tr><tr><td>1</td><td>817</td><td>36</td><td>205.233</td><td>1:34.932</td><td>6</td><td>56</td><td>5589901</td><td>3</td><td>6</td><td>7</td><td>7</td><td>7</td><td>1052</td><td>10</td><td>24972</td><td>1</td><td>+66.004</td></tr><tr><td>6</td><td>832</td><td>48</td><td>206.151</td><td>1:34.509</td><td>8</td><td>56</td><td>5590997</td><td>55</td><td>4</td><td>8</td><td>8</td><td>8</td><td>1052</td><td>7</td><td>24973</td><td>1</td><td>+67.100</td></tr><tr><td>213</td><td>852</td><td>38</td><td>205.603</td><td>1:34.761</td><td>13</td><td>56</td><td>5609589</td><td>22</td><td>2</td><td>9</td><td>9</td><td>9</td><td>1052</td><td>8</td><td>24974</td><td>1</td><td>+85.692</td></tr><tr><td>117</td><td>840</td><td>31</td><td>205.378</td><td>1:34.865</td><td>10</td><td>56</td><td>5610610</td><td>18</td><td>1</td><td>10</td><td>10</td><td>10</td><td>1052</td><td>9</td><td>24975</td><td>1</td><td>+86.713</td></tr><tr><td>51</td><td>8</td><td>45</td><td>204.672</td><td>1:35.192</td><td>14</td><td>56</td><td>5612761</td><td>7</td><td>0</td><td>11</td><td>11</td><td>11</td><td>1052</td><td>14</td><td>24976</td><td>1</td><td>+88.864</td></tr><tr><td>51</td><td>841</td><td>32</td><td>204.823</td><td>1:35.122</td><td>12</td><td>55</td><td>\\N</td><td>99</td><td>0</td><td>12</td><td>12</td><td>12</td><td>1052</td><td>13</td><td>24977</td><td>11</td><td>\\N</td></tr><tr><td>214</td><td>839</td><td>33</td><td>204.548</td><td>1:35.250</td><td>16</td><td>55</td><td>\\N</td><td>31</td><td>0</td><td>13</td><td>13</td><td>13</td><td>1052</td><td>15</td><td>24978</td><td>11</td><td>\\N</td></tr><tr><td>3</td><td>847</td><td>40</td><td>205.008</td><td>1:35.036</td><td>15</td><td>55</td><td>\\N</td><td>63</td><td>0</td><td>14</td><td>14</td><td>14</td><td>1052</td><td>12</td><td>24979</td><td>11</td><td>\\N</td></tr><tr><td>117</td><td>20</td><td>26</td><td>203.871</td><td>1:35.566</td><td>20</td><td>55</td><td>\\N</td><td>5</td><td>0</td><td>15</td><td>15</td><td>15</td><td>1052</td><td>16</td><td>24980</td><td>11</td><td>\\N</td></tr><tr><td>210</td><td>854</td><td>38</td><td>202.667</td><td>1:36.134</td><td>18</td><td>55</td><td>\\N</td><td>47</td><td>0</td><td>16</td><td>16</td><td>16</td><td>1052</td><td>18</td><td>24981</td><td>11</td><td>\\N</td></tr><tr><td>213</td><td>842</td><td>48</td><td>207.069</td><td>1:34.090</td><td>5</td><td>52</td><td>\\N</td><td>10</td><td>0</td><td>17</td><td>17</td><td>17</td><td>1052</td><td>5</td><td>24982</td><td>31</td><td>\\N</td></tr><tr><td>3</td><td>849</td><td>16</td><td>201.685</td><td>1:36.602</td><td>17</td><td>51</td><td>\\N</td><td>6</td><td>0</td><td>18</td><td>18</td><td>18</td><td>1052</td><td>19</td><td>24983</td><td>31</td><td>\\N</td></tr><tr><td>214</td><td>4</td><td>31</td><td>202.816</td><td>1:36.063</td><td>9</td><td>32</td><td>\\N</td><td>14</td><td>0</td><td>\\N</td><td>19</td><td>R</td><td>1052</td><td>17</td><td>24984</td><td>23</td><td>\\N</td></tr><tr><td>210</td><td>853</td><td>\\N</td><td>\\N</td><td>\\N</td><td>19</td><td>0</td><td>\\N</td><td>9</td><td>0</td><td>\\N</td><td>20</td><td>R</td><td>1052</td><td>0</td><td>24985</td><td>3</td><td>\\N</td></tr></tbody></table></div>"
      ]
     },
     "metadata": {
      "application/vnd.databricks.v1+output": {
       "addedWidgets": {},
       "aggData": [],
       "aggError": "",
       "aggOverflow": false,
       "aggSchema": [],
       "aggSeriesLimitReached": false,
       "aggType": "",
       "arguments": {},
       "columnCustomDisplayInfos": {},
       "data": [
        [
         131,
         1,
         "44",
         "207.235",
         "1:34.015",
         2,
         56,
         "5523897",
         44,
         25,
         "1",
         1,
         "1",
         1052,
         4,
         24966,
         1,
         "1:32:03.897"
        ],
        [
         9,
         830,
         "41",
         "208.984",
         "1:33.228",
         1,
         56,
         "5524642",
         33,
         18,
         "2",
         2,
         "2",
         1052,
         2,
         24967,
         1,
         "+0.745"
        ],
        [
         131,
         822,
         "56",
         "211.566",
         "1:32.090",
         3,
         56,
         "5561280",
         77,
         16,
         "3",
         3,
         "3",
         1052,
         1,
         24968,
         1,
         "+37.383"
        ],
        [
         1,
         846,
         "38",
         "206.398",
         "1:34.396",
         7,
         56,
         "5570363",
         4,
         12,
         "4",
         4,
         "4",
         1052,
         6,
         24969,
         1,
         "+46.466"
        ],
        [
         9,
         815,
         "44",
         "207.334",
         "1:33.970",
         0,
         56,
         "5575944",
         11,
         10,
         "5",
         5,
         "5",
         1052,
         3,
         24970,
         1,
         "+52.047"
        ],
        [
         6,
         844,
         "39",
         "205.112",
         "1:34.988",
         4,
         56,
         "5582987",
         16,
         8,
         "6",
         6,
         "6",
         1052,
         11,
         24971,
         1,
         "+59.090"
        ],
        [
         1,
         817,
         "36",
         "205.233",
         "1:34.932",
         6,
         56,
         "5589901",
         3,
         6,
         "7",
         7,
         "7",
         1052,
         10,
         24972,
         1,
         "+66.004"
        ],
        [
         6,
         832,
         "48",
         "206.151",
         "1:34.509",
         8,
         56,
         "5590997",
         55,
         4,
         "8",
         8,
         "8",
         1052,
         7,
         24973,
         1,
         "+67.100"
        ],
        [
         213,
         852,
         "38",
         "205.603",
         "1:34.761",
         13,
         56,
         "5609589",
         22,
         2,
         "9",
         9,
         "9",
         1052,
         8,
         24974,
         1,
         "+85.692"
        ],
        [
         117,
         840,
         "31",
         "205.378",
         "1:34.865",
         10,
         56,
         "5610610",
         18,
         1,
         "10",
         10,
         "10",
         1052,
         9,
         24975,
         1,
         "+86.713"
        ],
        [
         51,
         8,
         "45",
         "204.672",
         "1:35.192",
         14,
         56,
         "5612761",
         7,
         0,
         "11",
         11,
         "11",
         1052,
         14,
         24976,
         1,
         "+88.864"
        ],
        [
         51,
         841,
         "32",
         "204.823",
         "1:35.122",
         12,
         55,
         "\\N",
         99,
         0,
         "12",
         12,
         "12",
         1052,
         13,
         24977,
         11,
         "\\N"
        ],
        [
         214,
         839,
         "33",
         "204.548",
         "1:35.250",
         16,
         55,
         "\\N",
         31,
         0,
         "13",
         13,
         "13",
         1052,
         15,
         24978,
         11,
         "\\N"
        ],
        [
         3,
         847,
         "40",
         "205.008",
         "1:35.036",
         15,
         55,
         "\\N",
         63,
         0,
         "14",
         14,
         "14",
         1052,
         12,
         24979,
         11,
         "\\N"
        ],
        [
         117,
         20,
         "26",
         "203.871",
         "1:35.566",
         20,
         55,
         "\\N",
         5,
         0,
         "15",
         15,
         "15",
         1052,
         16,
         24980,
         11,
         "\\N"
        ],
        [
         210,
         854,
         "38",
         "202.667",
         "1:36.134",
         18,
         55,
         "\\N",
         47,
         0,
         "16",
         16,
         "16",
         1052,
         18,
         24981,
         11,
         "\\N"
        ],
        [
         213,
         842,
         "48",
         "207.069",
         "1:34.090",
         5,
         52,
         "\\N",
         10,
         0,
         "17",
         17,
         "17",
         1052,
         5,
         24982,
         31,
         "\\N"
        ],
        [
         3,
         849,
         "16",
         "201.685",
         "1:36.602",
         17,
         51,
         "\\N",
         6,
         0,
         "18",
         18,
         "18",
         1052,
         19,
         24983,
         31,
         "\\N"
        ],
        [
         214,
         4,
         "31",
         "202.816",
         "1:36.063",
         9,
         32,
         "\\N",
         14,
         0,
         "\\N",
         19,
         "R",
         1052,
         17,
         24984,
         23,
         "\\N"
        ],
        [
         210,
         853,
         "\\N",
         "\\N",
         "\\N",
         19,
         0,
         "\\N",
         9,
         0,
         "\\N",
         20,
         "R",
         1052,
         0,
         24985,
         3,
         "\\N"
        ]
       ],
       "datasetInfos": [],
       "dbfsResultPath": null,
       "isJsonSchema": true,
       "metadata": {},
       "overflow": false,
       "plotOptions": {
        "customPlotOptions": {},
        "displayType": "table",
        "pivotAggregation": null,
        "pivotColumns": null,
        "xColumns": null,
        "yColumns": null
       },
       "removedWidgets": [],
       "schema": [
        {
         "metadata": "{}",
         "name": "constructorId",
         "type": "\"long\""
        },
        {
         "metadata": "{}",
         "name": "driverId",
         "type": "\"long\""
        },
        {
         "metadata": "{}",
         "name": "fastestLap",
         "type": "\"string\""
        },
        {
         "metadata": "{}",
         "name": "fastestLapSpeed",
         "type": "\"string\""
        },
        {
         "metadata": "{}",
         "name": "fastestLapTime",
         "type": "\"string\""
        },
        {
         "metadata": "{}",
         "name": "grid",
         "type": "\"long\""
        },
        {
         "metadata": "{}",
         "name": "laps",
         "type": "\"long\""
        },
        {
         "metadata": "{}",
         "name": "milliseconds",
         "type": "\"string\""
        },
        {
         "metadata": "{}",
         "name": "number",
         "type": "\"long\""
        },
        {
         "metadata": "{}",
         "name": "points",
         "type": "\"long\""
        },
        {
         "metadata": "{}",
         "name": "position",
         "type": "\"string\""
        },
        {
         "metadata": "{}",
         "name": "positionOrder",
         "type": "\"long\""
        },
        {
         "metadata": "{}",
         "name": "positionText",
         "type": "\"string\""
        },
        {
         "metadata": "{}",
         "name": "raceId",
         "type": "\"long\""
        },
        {
         "metadata": "{}",
         "name": "rank",
         "type": "\"long\""
        },
        {
         "metadata": "{}",
         "name": "resultId",
         "type": "\"long\""
        },
        {
         "metadata": "{}",
         "name": "statusId",
         "type": "\"long\""
        },
        {
         "metadata": "{}",
         "name": "time",
         "type": "\"string\""
        }
       ],
       "type": "table"
      }
     },
     "output_type": "display_data"
    }
   ],
   "source": [
    "display(results_external_df)"
   ]
  },
  {
   "cell_type": "code",
   "execution_count": 0,
   "metadata": {
    "application/vnd.databricks.v1+cell": {
     "cellMetadata": {
      "byteLimit": 2048000,
      "rowLimit": 10000
     },
     "inputWidgets": {},
     "nuid": "42c14377-229c-40bd-9878-a4a8366a888a",
     "showTitle": false,
     "title": ""
    }
   },
   "outputs": [],
   "source": [
    "results_df.write.format(\"delta\").mode(\"overwrite\").partitionBy('constructorId').saveAsTable(\"f1_demo.results_partitioned\")"
   ]
  },
  {
   "cell_type": "code",
   "execution_count": 0,
   "metadata": {
    "application/vnd.databricks.v1+cell": {
     "cellMetadata": {
      "byteLimit": 2048000,
      "implicitDf": true,
      "rowLimit": 10000
     },
     "inputWidgets": {},
     "nuid": "e3e35ba9-b1a2-4b6e-a521-5570eb137cc3",
     "showTitle": false,
     "title": ""
    }
   },
   "outputs": [
    {
     "output_type": "display_data",
     "data": {
      "text/html": [
       "<style scoped>\n",
       "  .table-result-container {\n",
       "    max-height: 300px;\n",
       "    overflow: auto;\n",
       "  }\n",
       "  table, th, td {\n",
       "    border: 1px solid black;\n",
       "    border-collapse: collapse;\n",
       "  }\n",
       "  th, td {\n",
       "    padding: 5px;\n",
       "  }\n",
       "  th {\n",
       "    text-align: left;\n",
       "  }\n",
       "</style><div class='table-result-container'><table class='table-result'><thead style='background-color: white'><tr><th>constructorId</th></tr></thead><tbody><tr><td>1</td></tr><tr><td>3</td></tr><tr><td>6</td></tr><tr><td>9</td></tr><tr><td>51</td></tr><tr><td>131</td></tr><tr><td>117</td></tr><tr><td>214</td></tr><tr><td>210</td></tr><tr><td>213</td></tr></tbody></table></div>"
      ]
     },
     "metadata": {
      "application/vnd.databricks.v1+output": {
       "addedWidgets": {},
       "aggData": [],
       "aggError": "",
       "aggOverflow": false,
       "aggSchema": [],
       "aggSeriesLimitReached": false,
       "aggType": "",
       "arguments": {},
       "columnCustomDisplayInfos": {},
       "data": [
        [
         1
        ],
        [
         3
        ],
        [
         6
        ],
        [
         9
        ],
        [
         51
        ],
        [
         131
        ],
        [
         117
        ],
        [
         214
        ],
        [
         210
        ],
        [
         213
        ]
       ],
       "datasetInfos": [],
       "dbfsResultPath": null,
       "isJsonSchema": true,
       "metadata": {},
       "overflow": false,
       "plotOptions": {
        "customPlotOptions": {},
        "displayType": "table",
        "pivotAggregation": null,
        "pivotColumns": null,
        "xColumns": null,
        "yColumns": null
       },
       "removedWidgets": [],
       "schema": [
        {
         "metadata": "{}",
         "name": "constructorId",
         "type": "\"long\""
        }
       ],
       "type": "table"
      }
     },
     "output_type": "display_data"
    }
   ],
   "source": [
    "%sql\n",
    "SHOW PARTITIONS f1_demo.results_partitioned"
   ]
  },
  {
   "cell_type": "markdown",
   "metadata": {
    "application/vnd.databricks.v1+cell": {
     "cellMetadata": {},
     "inputWidgets": {},
     "nuid": "100a2d9e-99f3-42fb-a291-6d356bc30bde",
     "showTitle": false,
     "title": ""
    }
   },
   "source": [
    "1. Update Delta Table\n",
    "2. Delete From DELTA Table"
   ]
  },
  {
   "cell_type": "code",
   "execution_count": 0,
   "metadata": {
    "application/vnd.databricks.v1+cell": {
     "cellMetadata": {
      "byteLimit": 2048000,
      "implicitDf": true,
      "rowLimit": 10000
     },
     "inputWidgets": {},
     "nuid": "cdc4e237-e337-433e-a95f-f119a138aa44",
     "showTitle": false,
     "title": ""
    }
   },
   "outputs": [
    {
     "output_type": "display_data",
     "data": {
      "text/html": [
       "<style scoped>\n",
       "  .table-result-container {\n",
       "    max-height: 300px;\n",
       "    overflow: auto;\n",
       "  }\n",
       "  table, th, td {\n",
       "    border: 1px solid black;\n",
       "    border-collapse: collapse;\n",
       "  }\n",
       "  th, td {\n",
       "    padding: 5px;\n",
       "  }\n",
       "  th {\n",
       "    text-align: left;\n",
       "  }\n",
       "</style><div class='table-result-container'><table class='table-result'><thead style='background-color: white'><tr><th>constructorId</th><th>driverId</th><th>fastestLap</th><th>fastestLapSpeed</th><th>fastestLapTime</th><th>grid</th><th>laps</th><th>milliseconds</th><th>number</th><th>points</th><th>position</th><th>positionOrder</th><th>positionText</th><th>raceId</th><th>rank</th><th>resultId</th><th>statusId</th><th>time</th></tr></thead><tbody><tr><td>131</td><td>1</td><td>44</td><td>207.235</td><td>1:34.015</td><td>2</td><td>56</td><td>5523897</td><td>44</td><td>25</td><td>1</td><td>1</td><td>1</td><td>1052</td><td>4</td><td>24966</td><td>1</td><td>1:32:03.897</td></tr><tr><td>9</td><td>830</td><td>41</td><td>208.984</td><td>1:33.228</td><td>1</td><td>56</td><td>5524642</td><td>33</td><td>18</td><td>2</td><td>2</td><td>2</td><td>1052</td><td>2</td><td>24967</td><td>1</td><td>+0.745</td></tr><tr><td>131</td><td>822</td><td>56</td><td>211.566</td><td>1:32.090</td><td>3</td><td>56</td><td>5561280</td><td>77</td><td>16</td><td>3</td><td>3</td><td>3</td><td>1052</td><td>1</td><td>24968</td><td>1</td><td>+37.383</td></tr><tr><td>1</td><td>846</td><td>38</td><td>206.398</td><td>1:34.396</td><td>7</td><td>56</td><td>5570363</td><td>4</td><td>12</td><td>4</td><td>4</td><td>4</td><td>1052</td><td>6</td><td>24969</td><td>1</td><td>+46.466</td></tr><tr><td>9</td><td>815</td><td>44</td><td>207.334</td><td>1:33.970</td><td>0</td><td>56</td><td>5575944</td><td>11</td><td>10</td><td>5</td><td>5</td><td>5</td><td>1052</td><td>3</td><td>24970</td><td>1</td><td>+52.047</td></tr><tr><td>6</td><td>844</td><td>39</td><td>205.112</td><td>1:34.988</td><td>4</td><td>56</td><td>5582987</td><td>16</td><td>8</td><td>6</td><td>6</td><td>6</td><td>1052</td><td>11</td><td>24971</td><td>1</td><td>+59.090</td></tr><tr><td>1</td><td>817</td><td>36</td><td>205.233</td><td>1:34.932</td><td>6</td><td>56</td><td>5589901</td><td>3</td><td>6</td><td>7</td><td>7</td><td>7</td><td>1052</td><td>10</td><td>24972</td><td>1</td><td>+66.004</td></tr><tr><td>6</td><td>832</td><td>48</td><td>206.151</td><td>1:34.509</td><td>8</td><td>56</td><td>5590997</td><td>55</td><td>4</td><td>8</td><td>8</td><td>8</td><td>1052</td><td>7</td><td>24973</td><td>1</td><td>+67.100</td></tr><tr><td>213</td><td>852</td><td>38</td><td>205.603</td><td>1:34.761</td><td>13</td><td>56</td><td>5609589</td><td>22</td><td>2</td><td>9</td><td>9</td><td>9</td><td>1052</td><td>8</td><td>24974</td><td>1</td><td>+85.692</td></tr><tr><td>117</td><td>840</td><td>31</td><td>205.378</td><td>1:34.865</td><td>10</td><td>56</td><td>5610610</td><td>18</td><td>1</td><td>10</td><td>10</td><td>10</td><td>1052</td><td>9</td><td>24975</td><td>1</td><td>+86.713</td></tr><tr><td>51</td><td>8</td><td>45</td><td>204.672</td><td>1:35.192</td><td>14</td><td>56</td><td>5612761</td><td>7</td><td>0</td><td>11</td><td>11</td><td>11</td><td>1052</td><td>14</td><td>24976</td><td>1</td><td>+88.864</td></tr><tr><td>51</td><td>841</td><td>32</td><td>204.823</td><td>1:35.122</td><td>12</td><td>55</td><td>\\N</td><td>99</td><td>0</td><td>12</td><td>12</td><td>12</td><td>1052</td><td>13</td><td>24977</td><td>11</td><td>\\N</td></tr><tr><td>214</td><td>839</td><td>33</td><td>204.548</td><td>1:35.250</td><td>16</td><td>55</td><td>\\N</td><td>31</td><td>0</td><td>13</td><td>13</td><td>13</td><td>1052</td><td>15</td><td>24978</td><td>11</td><td>\\N</td></tr><tr><td>3</td><td>847</td><td>40</td><td>205.008</td><td>1:35.036</td><td>15</td><td>55</td><td>\\N</td><td>63</td><td>0</td><td>14</td><td>14</td><td>14</td><td>1052</td><td>12</td><td>24979</td><td>11</td><td>\\N</td></tr><tr><td>117</td><td>20</td><td>26</td><td>203.871</td><td>1:35.566</td><td>20</td><td>55</td><td>\\N</td><td>5</td><td>0</td><td>15</td><td>15</td><td>15</td><td>1052</td><td>16</td><td>24980</td><td>11</td><td>\\N</td></tr><tr><td>210</td><td>854</td><td>38</td><td>202.667</td><td>1:36.134</td><td>18</td><td>55</td><td>\\N</td><td>47</td><td>0</td><td>16</td><td>16</td><td>16</td><td>1052</td><td>18</td><td>24981</td><td>11</td><td>\\N</td></tr><tr><td>213</td><td>842</td><td>48</td><td>207.069</td><td>1:34.090</td><td>5</td><td>52</td><td>\\N</td><td>10</td><td>0</td><td>17</td><td>17</td><td>17</td><td>1052</td><td>5</td><td>24982</td><td>31</td><td>\\N</td></tr><tr><td>3</td><td>849</td><td>16</td><td>201.685</td><td>1:36.602</td><td>17</td><td>51</td><td>\\N</td><td>6</td><td>0</td><td>18</td><td>18</td><td>18</td><td>1052</td><td>19</td><td>24983</td><td>31</td><td>\\N</td></tr><tr><td>214</td><td>4</td><td>31</td><td>202.816</td><td>1:36.063</td><td>9</td><td>32</td><td>\\N</td><td>14</td><td>0</td><td>\\N</td><td>19</td><td>R</td><td>1052</td><td>17</td><td>24984</td><td>23</td><td>\\N</td></tr><tr><td>210</td><td>853</td><td>\\N</td><td>\\N</td><td>\\N</td><td>19</td><td>0</td><td>\\N</td><td>9</td><td>0</td><td>\\N</td><td>20</td><td>R</td><td>1052</td><td>0</td><td>24985</td><td>3</td><td>\\N</td></tr></tbody></table></div>"
      ]
     },
     "metadata": {
      "application/vnd.databricks.v1+output": {
       "addedWidgets": {},
       "aggData": [],
       "aggError": "",
       "aggOverflow": false,
       "aggSchema": [],
       "aggSeriesLimitReached": false,
       "aggType": "",
       "arguments": {},
       "columnCustomDisplayInfos": {},
       "data": [
        [
         131,
         1,
         "44",
         "207.235",
         "1:34.015",
         2,
         56,
         "5523897",
         44,
         25,
         "1",
         1,
         "1",
         1052,
         4,
         24966,
         1,
         "1:32:03.897"
        ],
        [
         9,
         830,
         "41",
         "208.984",
         "1:33.228",
         1,
         56,
         "5524642",
         33,
         18,
         "2",
         2,
         "2",
         1052,
         2,
         24967,
         1,
         "+0.745"
        ],
        [
         131,
         822,
         "56",
         "211.566",
         "1:32.090",
         3,
         56,
         "5561280",
         77,
         16,
         "3",
         3,
         "3",
         1052,
         1,
         24968,
         1,
         "+37.383"
        ],
        [
         1,
         846,
         "38",
         "206.398",
         "1:34.396",
         7,
         56,
         "5570363",
         4,
         12,
         "4",
         4,
         "4",
         1052,
         6,
         24969,
         1,
         "+46.466"
        ],
        [
         9,
         815,
         "44",
         "207.334",
         "1:33.970",
         0,
         56,
         "5575944",
         11,
         10,
         "5",
         5,
         "5",
         1052,
         3,
         24970,
         1,
         "+52.047"
        ],
        [
         6,
         844,
         "39",
         "205.112",
         "1:34.988",
         4,
         56,
         "5582987",
         16,
         8,
         "6",
         6,
         "6",
         1052,
         11,
         24971,
         1,
         "+59.090"
        ],
        [
         1,
         817,
         "36",
         "205.233",
         "1:34.932",
         6,
         56,
         "5589901",
         3,
         6,
         "7",
         7,
         "7",
         1052,
         10,
         24972,
         1,
         "+66.004"
        ],
        [
         6,
         832,
         "48",
         "206.151",
         "1:34.509",
         8,
         56,
         "5590997",
         55,
         4,
         "8",
         8,
         "8",
         1052,
         7,
         24973,
         1,
         "+67.100"
        ],
        [
         213,
         852,
         "38",
         "205.603",
         "1:34.761",
         13,
         56,
         "5609589",
         22,
         2,
         "9",
         9,
         "9",
         1052,
         8,
         24974,
         1,
         "+85.692"
        ],
        [
         117,
         840,
         "31",
         "205.378",
         "1:34.865",
         10,
         56,
         "5610610",
         18,
         1,
         "10",
         10,
         "10",
         1052,
         9,
         24975,
         1,
         "+86.713"
        ],
        [
         51,
         8,
         "45",
         "204.672",
         "1:35.192",
         14,
         56,
         "5612761",
         7,
         0,
         "11",
         11,
         "11",
         1052,
         14,
         24976,
         1,
         "+88.864"
        ],
        [
         51,
         841,
         "32",
         "204.823",
         "1:35.122",
         12,
         55,
         "\\N",
         99,
         0,
         "12",
         12,
         "12",
         1052,
         13,
         24977,
         11,
         "\\N"
        ],
        [
         214,
         839,
         "33",
         "204.548",
         "1:35.250",
         16,
         55,
         "\\N",
         31,
         0,
         "13",
         13,
         "13",
         1052,
         15,
         24978,
         11,
         "\\N"
        ],
        [
         3,
         847,
         "40",
         "205.008",
         "1:35.036",
         15,
         55,
         "\\N",
         63,
         0,
         "14",
         14,
         "14",
         1052,
         12,
         24979,
         11,
         "\\N"
        ],
        [
         117,
         20,
         "26",
         "203.871",
         "1:35.566",
         20,
         55,
         "\\N",
         5,
         0,
         "15",
         15,
         "15",
         1052,
         16,
         24980,
         11,
         "\\N"
        ],
        [
         210,
         854,
         "38",
         "202.667",
         "1:36.134",
         18,
         55,
         "\\N",
         47,
         0,
         "16",
         16,
         "16",
         1052,
         18,
         24981,
         11,
         "\\N"
        ],
        [
         213,
         842,
         "48",
         "207.069",
         "1:34.090",
         5,
         52,
         "\\N",
         10,
         0,
         "17",
         17,
         "17",
         1052,
         5,
         24982,
         31,
         "\\N"
        ],
        [
         3,
         849,
         "16",
         "201.685",
         "1:36.602",
         17,
         51,
         "\\N",
         6,
         0,
         "18",
         18,
         "18",
         1052,
         19,
         24983,
         31,
         "\\N"
        ],
        [
         214,
         4,
         "31",
         "202.816",
         "1:36.063",
         9,
         32,
         "\\N",
         14,
         0,
         "\\N",
         19,
         "R",
         1052,
         17,
         24984,
         23,
         "\\N"
        ],
        [
         210,
         853,
         "\\N",
         "\\N",
         "\\N",
         19,
         0,
         "\\N",
         9,
         0,
         "\\N",
         20,
         "R",
         1052,
         0,
         24985,
         3,
         "\\N"
        ]
       ],
       "datasetInfos": [],
       "dbfsResultPath": null,
       "isJsonSchema": true,
       "metadata": {},
       "overflow": false,
       "plotOptions": {
        "customPlotOptions": {},
        "displayType": "table",
        "pivotAggregation": null,
        "pivotColumns": null,
        "xColumns": null,
        "yColumns": null
       },
       "removedWidgets": [],
       "schema": [
        {
         "metadata": "{}",
         "name": "constructorId",
         "type": "\"long\""
        },
        {
         "metadata": "{}",
         "name": "driverId",
         "type": "\"long\""
        },
        {
         "metadata": "{}",
         "name": "fastestLap",
         "type": "\"string\""
        },
        {
         "metadata": "{}",
         "name": "fastestLapSpeed",
         "type": "\"string\""
        },
        {
         "metadata": "{}",
         "name": "fastestLapTime",
         "type": "\"string\""
        },
        {
         "metadata": "{}",
         "name": "grid",
         "type": "\"long\""
        },
        {
         "metadata": "{}",
         "name": "laps",
         "type": "\"long\""
        },
        {
         "metadata": "{}",
         "name": "milliseconds",
         "type": "\"string\""
        },
        {
         "metadata": "{}",
         "name": "number",
         "type": "\"long\""
        },
        {
         "metadata": "{}",
         "name": "points",
         "type": "\"long\""
        },
        {
         "metadata": "{}",
         "name": "position",
         "type": "\"string\""
        },
        {
         "metadata": "{}",
         "name": "positionOrder",
         "type": "\"long\""
        },
        {
         "metadata": "{}",
         "name": "positionText",
         "type": "\"string\""
        },
        {
         "metadata": "{}",
         "name": "raceId",
         "type": "\"long\""
        },
        {
         "metadata": "{}",
         "name": "rank",
         "type": "\"long\""
        },
        {
         "metadata": "{}",
         "name": "resultId",
         "type": "\"long\""
        },
        {
         "metadata": "{}",
         "name": "statusId",
         "type": "\"long\""
        },
        {
         "metadata": "{}",
         "name": "time",
         "type": "\"string\""
        }
       ],
       "type": "table"
      }
     },
     "output_type": "display_data"
    }
   ],
   "source": [
    "%sql\n",
    "SELECT * FROM f1_demo.results_managed"
   ]
  },
  {
   "cell_type": "code",
   "execution_count": 0,
   "metadata": {
    "application/vnd.databricks.v1+cell": {
     "cellMetadata": {
      "byteLimit": 2048000,
      "implicitDf": true,
      "rowLimit": 10000
     },
     "inputWidgets": {},
     "nuid": "655cec4f-f53e-43f0-9987-95ca04c80b8b",
     "showTitle": false,
     "title": ""
    }
   },
   "outputs": [
    {
     "output_type": "display_data",
     "data": {
      "text/html": [
       "<style scoped>\n",
       "  .table-result-container {\n",
       "    max-height: 300px;\n",
       "    overflow: auto;\n",
       "  }\n",
       "  table, th, td {\n",
       "    border: 1px solid black;\n",
       "    border-collapse: collapse;\n",
       "  }\n",
       "  th, td {\n",
       "    padding: 5px;\n",
       "  }\n",
       "  th {\n",
       "    text-align: left;\n",
       "  }\n",
       "</style><div class='table-result-container'><table class='table-result'><thead style='background-color: white'><tr><th>num_affected_rows</th></tr></thead><tbody><tr><td>10</td></tr></tbody></table></div>"
      ]
     },
     "metadata": {
      "application/vnd.databricks.v1+output": {
       "addedWidgets": {},
       "aggData": [],
       "aggError": "",
       "aggOverflow": false,
       "aggSchema": [],
       "aggSeriesLimitReached": false,
       "aggType": "",
       "arguments": {},
       "columnCustomDisplayInfos": {},
       "data": [
        [
         10
        ]
       ],
       "datasetInfos": [],
       "dbfsResultPath": null,
       "isJsonSchema": true,
       "metadata": {},
       "overflow": false,
       "plotOptions": {
        "customPlotOptions": {},
        "displayType": "table",
        "pivotAggregation": null,
        "pivotColumns": null,
        "xColumns": null,
        "yColumns": null
       },
       "removedWidgets": [],
       "schema": [
        {
         "metadata": "{}",
         "name": "num_affected_rows",
         "type": "\"long\""
        }
       ],
       "type": "table"
      }
     },
     "output_type": "display_data"
    }
   ],
   "source": [
    "%sql\n",
    "UPDATE f1_demo.results_managed\n",
    "SET points = 11 - position\n",
    "WHERE position <= 10"
   ]
  },
  {
   "cell_type": "code",
   "execution_count": 0,
   "metadata": {
    "application/vnd.databricks.v1+cell": {
     "cellMetadata": {
      "byteLimit": 2048000,
      "implicitDf": true,
      "rowLimit": 10000
     },
     "inputWidgets": {},
     "nuid": "757b9819-4869-4d17-b06e-29174ef411c0",
     "showTitle": false,
     "title": ""
    }
   },
   "outputs": [
    {
     "output_type": "display_data",
     "data": {
      "text/html": [
       "<style scoped>\n",
       "  .table-result-container {\n",
       "    max-height: 300px;\n",
       "    overflow: auto;\n",
       "  }\n",
       "  table, th, td {\n",
       "    border: 1px solid black;\n",
       "    border-collapse: collapse;\n",
       "  }\n",
       "  th, td {\n",
       "    padding: 5px;\n",
       "  }\n",
       "  th {\n",
       "    text-align: left;\n",
       "  }\n",
       "</style><div class='table-result-container'><table class='table-result'><thead style='background-color: white'><tr><th>constructorId</th><th>driverId</th><th>fastestLap</th><th>fastestLapSpeed</th><th>fastestLapTime</th><th>grid</th><th>laps</th><th>milliseconds</th><th>number</th><th>points</th><th>position</th><th>positionOrder</th><th>positionText</th><th>raceId</th><th>rank</th><th>resultId</th><th>statusId</th><th>time</th></tr></thead><tbody><tr><td>131</td><td>1</td><td>44</td><td>207.235</td><td>1:34.015</td><td>2</td><td>56</td><td>5523897</td><td>44</td><td>10</td><td>1</td><td>1</td><td>1</td><td>1052</td><td>4</td><td>24966</td><td>1</td><td>1:32:03.897</td></tr><tr><td>9</td><td>830</td><td>41</td><td>208.984</td><td>1:33.228</td><td>1</td><td>56</td><td>5524642</td><td>33</td><td>9</td><td>2</td><td>2</td><td>2</td><td>1052</td><td>2</td><td>24967</td><td>1</td><td>+0.745</td></tr><tr><td>131</td><td>822</td><td>56</td><td>211.566</td><td>1:32.090</td><td>3</td><td>56</td><td>5561280</td><td>77</td><td>8</td><td>3</td><td>3</td><td>3</td><td>1052</td><td>1</td><td>24968</td><td>1</td><td>+37.383</td></tr><tr><td>1</td><td>846</td><td>38</td><td>206.398</td><td>1:34.396</td><td>7</td><td>56</td><td>5570363</td><td>4</td><td>7</td><td>4</td><td>4</td><td>4</td><td>1052</td><td>6</td><td>24969</td><td>1</td><td>+46.466</td></tr><tr><td>9</td><td>815</td><td>44</td><td>207.334</td><td>1:33.970</td><td>0</td><td>56</td><td>5575944</td><td>11</td><td>6</td><td>5</td><td>5</td><td>5</td><td>1052</td><td>3</td><td>24970</td><td>1</td><td>+52.047</td></tr><tr><td>6</td><td>844</td><td>39</td><td>205.112</td><td>1:34.988</td><td>4</td><td>56</td><td>5582987</td><td>16</td><td>5</td><td>6</td><td>6</td><td>6</td><td>1052</td><td>11</td><td>24971</td><td>1</td><td>+59.090</td></tr><tr><td>1</td><td>817</td><td>36</td><td>205.233</td><td>1:34.932</td><td>6</td><td>56</td><td>5589901</td><td>3</td><td>4</td><td>7</td><td>7</td><td>7</td><td>1052</td><td>10</td><td>24972</td><td>1</td><td>+66.004</td></tr><tr><td>6</td><td>832</td><td>48</td><td>206.151</td><td>1:34.509</td><td>8</td><td>56</td><td>5590997</td><td>55</td><td>3</td><td>8</td><td>8</td><td>8</td><td>1052</td><td>7</td><td>24973</td><td>1</td><td>+67.100</td></tr><tr><td>213</td><td>852</td><td>38</td><td>205.603</td><td>1:34.761</td><td>13</td><td>56</td><td>5609589</td><td>22</td><td>2</td><td>9</td><td>9</td><td>9</td><td>1052</td><td>8</td><td>24974</td><td>1</td><td>+85.692</td></tr><tr><td>117</td><td>840</td><td>31</td><td>205.378</td><td>1:34.865</td><td>10</td><td>56</td><td>5610610</td><td>18</td><td>1</td><td>10</td><td>10</td><td>10</td><td>1052</td><td>9</td><td>24975</td><td>1</td><td>+86.713</td></tr><tr><td>51</td><td>8</td><td>45</td><td>204.672</td><td>1:35.192</td><td>14</td><td>56</td><td>5612761</td><td>7</td><td>0</td><td>11</td><td>11</td><td>11</td><td>1052</td><td>14</td><td>24976</td><td>1</td><td>+88.864</td></tr><tr><td>51</td><td>841</td><td>32</td><td>204.823</td><td>1:35.122</td><td>12</td><td>55</td><td>\\N</td><td>99</td><td>0</td><td>12</td><td>12</td><td>12</td><td>1052</td><td>13</td><td>24977</td><td>11</td><td>\\N</td></tr><tr><td>214</td><td>839</td><td>33</td><td>204.548</td><td>1:35.250</td><td>16</td><td>55</td><td>\\N</td><td>31</td><td>0</td><td>13</td><td>13</td><td>13</td><td>1052</td><td>15</td><td>24978</td><td>11</td><td>\\N</td></tr><tr><td>3</td><td>847</td><td>40</td><td>205.008</td><td>1:35.036</td><td>15</td><td>55</td><td>\\N</td><td>63</td><td>0</td><td>14</td><td>14</td><td>14</td><td>1052</td><td>12</td><td>24979</td><td>11</td><td>\\N</td></tr><tr><td>117</td><td>20</td><td>26</td><td>203.871</td><td>1:35.566</td><td>20</td><td>55</td><td>\\N</td><td>5</td><td>0</td><td>15</td><td>15</td><td>15</td><td>1052</td><td>16</td><td>24980</td><td>11</td><td>\\N</td></tr><tr><td>210</td><td>854</td><td>38</td><td>202.667</td><td>1:36.134</td><td>18</td><td>55</td><td>\\N</td><td>47</td><td>0</td><td>16</td><td>16</td><td>16</td><td>1052</td><td>18</td><td>24981</td><td>11</td><td>\\N</td></tr><tr><td>213</td><td>842</td><td>48</td><td>207.069</td><td>1:34.090</td><td>5</td><td>52</td><td>\\N</td><td>10</td><td>0</td><td>17</td><td>17</td><td>17</td><td>1052</td><td>5</td><td>24982</td><td>31</td><td>\\N</td></tr><tr><td>3</td><td>849</td><td>16</td><td>201.685</td><td>1:36.602</td><td>17</td><td>51</td><td>\\N</td><td>6</td><td>0</td><td>18</td><td>18</td><td>18</td><td>1052</td><td>19</td><td>24983</td><td>31</td><td>\\N</td></tr><tr><td>214</td><td>4</td><td>31</td><td>202.816</td><td>1:36.063</td><td>9</td><td>32</td><td>\\N</td><td>14</td><td>0</td><td>\\N</td><td>19</td><td>R</td><td>1052</td><td>17</td><td>24984</td><td>23</td><td>\\N</td></tr><tr><td>210</td><td>853</td><td>\\N</td><td>\\N</td><td>\\N</td><td>19</td><td>0</td><td>\\N</td><td>9</td><td>0</td><td>\\N</td><td>20</td><td>R</td><td>1052</td><td>0</td><td>24985</td><td>3</td><td>\\N</td></tr></tbody></table></div>"
      ]
     },
     "metadata": {
      "application/vnd.databricks.v1+output": {
       "addedWidgets": {},
       "aggData": [],
       "aggError": "",
       "aggOverflow": false,
       "aggSchema": [],
       "aggSeriesLimitReached": false,
       "aggType": "",
       "arguments": {},
       "columnCustomDisplayInfos": {},
       "data": [
        [
         131,
         1,
         "44",
         "207.235",
         "1:34.015",
         2,
         56,
         "5523897",
         44,
         10,
         "1",
         1,
         "1",
         1052,
         4,
         24966,
         1,
         "1:32:03.897"
        ],
        [
         9,
         830,
         "41",
         "208.984",
         "1:33.228",
         1,
         56,
         "5524642",
         33,
         9,
         "2",
         2,
         "2",
         1052,
         2,
         24967,
         1,
         "+0.745"
        ],
        [
         131,
         822,
         "56",
         "211.566",
         "1:32.090",
         3,
         56,
         "5561280",
         77,
         8,
         "3",
         3,
         "3",
         1052,
         1,
         24968,
         1,
         "+37.383"
        ],
        [
         1,
         846,
         "38",
         "206.398",
         "1:34.396",
         7,
         56,
         "5570363",
         4,
         7,
         "4",
         4,
         "4",
         1052,
         6,
         24969,
         1,
         "+46.466"
        ],
        [
         9,
         815,
         "44",
         "207.334",
         "1:33.970",
         0,
         56,
         "5575944",
         11,
         6,
         "5",
         5,
         "5",
         1052,
         3,
         24970,
         1,
         "+52.047"
        ],
        [
         6,
         844,
         "39",
         "205.112",
         "1:34.988",
         4,
         56,
         "5582987",
         16,
         5,
         "6",
         6,
         "6",
         1052,
         11,
         24971,
         1,
         "+59.090"
        ],
        [
         1,
         817,
         "36",
         "205.233",
         "1:34.932",
         6,
         56,
         "5589901",
         3,
         4,
         "7",
         7,
         "7",
         1052,
         10,
         24972,
         1,
         "+66.004"
        ],
        [
         6,
         832,
         "48",
         "206.151",
         "1:34.509",
         8,
         56,
         "5590997",
         55,
         3,
         "8",
         8,
         "8",
         1052,
         7,
         24973,
         1,
         "+67.100"
        ],
        [
         213,
         852,
         "38",
         "205.603",
         "1:34.761",
         13,
         56,
         "5609589",
         22,
         2,
         "9",
         9,
         "9",
         1052,
         8,
         24974,
         1,
         "+85.692"
        ],
        [
         117,
         840,
         "31",
         "205.378",
         "1:34.865",
         10,
         56,
         "5610610",
         18,
         1,
         "10",
         10,
         "10",
         1052,
         9,
         24975,
         1,
         "+86.713"
        ],
        [
         51,
         8,
         "45",
         "204.672",
         "1:35.192",
         14,
         56,
         "5612761",
         7,
         0,
         "11",
         11,
         "11",
         1052,
         14,
         24976,
         1,
         "+88.864"
        ],
        [
         51,
         841,
         "32",
         "204.823",
         "1:35.122",
         12,
         55,
         "\\N",
         99,
         0,
         "12",
         12,
         "12",
         1052,
         13,
         24977,
         11,
         "\\N"
        ],
        [
         214,
         839,
         "33",
         "204.548",
         "1:35.250",
         16,
         55,
         "\\N",
         31,
         0,
         "13",
         13,
         "13",
         1052,
         15,
         24978,
         11,
         "\\N"
        ],
        [
         3,
         847,
         "40",
         "205.008",
         "1:35.036",
         15,
         55,
         "\\N",
         63,
         0,
         "14",
         14,
         "14",
         1052,
         12,
         24979,
         11,
         "\\N"
        ],
        [
         117,
         20,
         "26",
         "203.871",
         "1:35.566",
         20,
         55,
         "\\N",
         5,
         0,
         "15",
         15,
         "15",
         1052,
         16,
         24980,
         11,
         "\\N"
        ],
        [
         210,
         854,
         "38",
         "202.667",
         "1:36.134",
         18,
         55,
         "\\N",
         47,
         0,
         "16",
         16,
         "16",
         1052,
         18,
         24981,
         11,
         "\\N"
        ],
        [
         213,
         842,
         "48",
         "207.069",
         "1:34.090",
         5,
         52,
         "\\N",
         10,
         0,
         "17",
         17,
         "17",
         1052,
         5,
         24982,
         31,
         "\\N"
        ],
        [
         3,
         849,
         "16",
         "201.685",
         "1:36.602",
         17,
         51,
         "\\N",
         6,
         0,
         "18",
         18,
         "18",
         1052,
         19,
         24983,
         31,
         "\\N"
        ],
        [
         214,
         4,
         "31",
         "202.816",
         "1:36.063",
         9,
         32,
         "\\N",
         14,
         0,
         "\\N",
         19,
         "R",
         1052,
         17,
         24984,
         23,
         "\\N"
        ],
        [
         210,
         853,
         "\\N",
         "\\N",
         "\\N",
         19,
         0,
         "\\N",
         9,
         0,
         "\\N",
         20,
         "R",
         1052,
         0,
         24985,
         3,
         "\\N"
        ]
       ],
       "datasetInfos": [],
       "dbfsResultPath": null,
       "isJsonSchema": true,
       "metadata": {},
       "overflow": false,
       "plotOptions": {
        "customPlotOptions": {},
        "displayType": "table",
        "pivotAggregation": null,
        "pivotColumns": null,
        "xColumns": null,
        "yColumns": null
       },
       "removedWidgets": [],
       "schema": [
        {
         "metadata": "{}",
         "name": "constructorId",
         "type": "\"long\""
        },
        {
         "metadata": "{}",
         "name": "driverId",
         "type": "\"long\""
        },
        {
         "metadata": "{}",
         "name": "fastestLap",
         "type": "\"string\""
        },
        {
         "metadata": "{}",
         "name": "fastestLapSpeed",
         "type": "\"string\""
        },
        {
         "metadata": "{}",
         "name": "fastestLapTime",
         "type": "\"string\""
        },
        {
         "metadata": "{}",
         "name": "grid",
         "type": "\"long\""
        },
        {
         "metadata": "{}",
         "name": "laps",
         "type": "\"long\""
        },
        {
         "metadata": "{}",
         "name": "milliseconds",
         "type": "\"string\""
        },
        {
         "metadata": "{}",
         "name": "number",
         "type": "\"long\""
        },
        {
         "metadata": "{}",
         "name": "points",
         "type": "\"long\""
        },
        {
         "metadata": "{}",
         "name": "position",
         "type": "\"string\""
        },
        {
         "metadata": "{}",
         "name": "positionOrder",
         "type": "\"long\""
        },
        {
         "metadata": "{}",
         "name": "positionText",
         "type": "\"string\""
        },
        {
         "metadata": "{}",
         "name": "raceId",
         "type": "\"long\""
        },
        {
         "metadata": "{}",
         "name": "rank",
         "type": "\"long\""
        },
        {
         "metadata": "{}",
         "name": "resultId",
         "type": "\"long\""
        },
        {
         "metadata": "{}",
         "name": "statusId",
         "type": "\"long\""
        },
        {
         "metadata": "{}",
         "name": "time",
         "type": "\"string\""
        }
       ],
       "type": "table"
      }
     },
     "output_type": "display_data"
    }
   ],
   "source": [
    "%sql\n",
    "SELECT * FROM f1_demo.results_managed"
   ]
  },
  {
   "cell_type": "code",
   "execution_count": 0,
   "metadata": {
    "application/vnd.databricks.v1+cell": {
     "cellMetadata": {
      "byteLimit": 2048000,
      "rowLimit": 10000
     },
     "inputWidgets": {},
     "nuid": "95391b3b-eaea-48c3-b995-44f9ec4112de",
     "showTitle": false,
     "title": ""
    }
   },
   "outputs": [],
   "source": [
    "from delta.tables import DeltaTable"
   ]
  },
  {
   "cell_type": "code",
   "execution_count": 0,
   "metadata": {
    "application/vnd.databricks.v1+cell": {
     "cellMetadata": {
      "byteLimit": 2048000,
      "rowLimit": 10000
     },
     "inputWidgets": {},
     "nuid": "d007b163-4bb2-40ed-9097-07ffab1fa45d",
     "showTitle": false,
     "title": ""
    }
   },
   "outputs": [],
   "source": [
    "deltaTable = DeltaTable.forPath(spark, \"/mnt/formula1dl612/demo/results_managed\")\n",
    "\n",
    "deltaTable.update(\"position <= 10\", { \"points\" : \"21 - position\"})"
   ]
  },
  {
   "cell_type": "code",
   "execution_count": 0,
   "metadata": {
    "application/vnd.databricks.v1+cell": {
     "cellMetadata": {
      "byteLimit": 2048000,
      "implicitDf": true,
      "rowLimit": 10000
     },
     "inputWidgets": {},
     "nuid": "aef1ecbe-3545-4395-bd7d-aeab7650851d",
     "showTitle": false,
     "title": ""
    }
   },
   "outputs": [
    {
     "output_type": "display_data",
     "data": {
      "text/html": [
       "<style scoped>\n",
       "  .table-result-container {\n",
       "    max-height: 300px;\n",
       "    overflow: auto;\n",
       "  }\n",
       "  table, th, td {\n",
       "    border: 1px solid black;\n",
       "    border-collapse: collapse;\n",
       "  }\n",
       "  th, td {\n",
       "    padding: 5px;\n",
       "  }\n",
       "  th {\n",
       "    text-align: left;\n",
       "  }\n",
       "</style><div class='table-result-container'><table class='table-result'><thead style='background-color: white'><tr><th>constructorId</th><th>driverId</th><th>fastestLap</th><th>fastestLapSpeed</th><th>fastestLapTime</th><th>grid</th><th>laps</th><th>milliseconds</th><th>number</th><th>points</th><th>position</th><th>positionOrder</th><th>positionText</th><th>raceId</th><th>rank</th><th>resultId</th><th>statusId</th><th>time</th></tr></thead><tbody><tr><td>131</td><td>1</td><td>44</td><td>207.235</td><td>1:34.015</td><td>2</td><td>56</td><td>5523897</td><td>44</td><td>20</td><td>1</td><td>1</td><td>1</td><td>1052</td><td>4</td><td>24966</td><td>1</td><td>1:32:03.897</td></tr><tr><td>9</td><td>830</td><td>41</td><td>208.984</td><td>1:33.228</td><td>1</td><td>56</td><td>5524642</td><td>33</td><td>19</td><td>2</td><td>2</td><td>2</td><td>1052</td><td>2</td><td>24967</td><td>1</td><td>+0.745</td></tr><tr><td>131</td><td>822</td><td>56</td><td>211.566</td><td>1:32.090</td><td>3</td><td>56</td><td>5561280</td><td>77</td><td>18</td><td>3</td><td>3</td><td>3</td><td>1052</td><td>1</td><td>24968</td><td>1</td><td>+37.383</td></tr><tr><td>1</td><td>846</td><td>38</td><td>206.398</td><td>1:34.396</td><td>7</td><td>56</td><td>5570363</td><td>4</td><td>17</td><td>4</td><td>4</td><td>4</td><td>1052</td><td>6</td><td>24969</td><td>1</td><td>+46.466</td></tr><tr><td>9</td><td>815</td><td>44</td><td>207.334</td><td>1:33.970</td><td>0</td><td>56</td><td>5575944</td><td>11</td><td>16</td><td>5</td><td>5</td><td>5</td><td>1052</td><td>3</td><td>24970</td><td>1</td><td>+52.047</td></tr><tr><td>6</td><td>844</td><td>39</td><td>205.112</td><td>1:34.988</td><td>4</td><td>56</td><td>5582987</td><td>16</td><td>15</td><td>6</td><td>6</td><td>6</td><td>1052</td><td>11</td><td>24971</td><td>1</td><td>+59.090</td></tr><tr><td>1</td><td>817</td><td>36</td><td>205.233</td><td>1:34.932</td><td>6</td><td>56</td><td>5589901</td><td>3</td><td>14</td><td>7</td><td>7</td><td>7</td><td>1052</td><td>10</td><td>24972</td><td>1</td><td>+66.004</td></tr><tr><td>6</td><td>832</td><td>48</td><td>206.151</td><td>1:34.509</td><td>8</td><td>56</td><td>5590997</td><td>55</td><td>13</td><td>8</td><td>8</td><td>8</td><td>1052</td><td>7</td><td>24973</td><td>1</td><td>+67.100</td></tr><tr><td>213</td><td>852</td><td>38</td><td>205.603</td><td>1:34.761</td><td>13</td><td>56</td><td>5609589</td><td>22</td><td>12</td><td>9</td><td>9</td><td>9</td><td>1052</td><td>8</td><td>24974</td><td>1</td><td>+85.692</td></tr><tr><td>117</td><td>840</td><td>31</td><td>205.378</td><td>1:34.865</td><td>10</td><td>56</td><td>5610610</td><td>18</td><td>11</td><td>10</td><td>10</td><td>10</td><td>1052</td><td>9</td><td>24975</td><td>1</td><td>+86.713</td></tr><tr><td>214</td><td>4</td><td>31</td><td>202.816</td><td>1:36.063</td><td>9</td><td>32</td><td>\\N</td><td>14</td><td>0</td><td>\\N</td><td>19</td><td>R</td><td>1052</td><td>17</td><td>24984</td><td>23</td><td>\\N</td></tr><tr><td>210</td><td>853</td><td>\\N</td><td>\\N</td><td>\\N</td><td>19</td><td>0</td><td>\\N</td><td>9</td><td>0</td><td>\\N</td><td>20</td><td>R</td><td>1052</td><td>0</td><td>24985</td><td>3</td><td>\\N</td></tr></tbody></table></div>"
      ]
     },
     "metadata": {
      "application/vnd.databricks.v1+output": {
       "addedWidgets": {},
       "aggData": [],
       "aggError": "",
       "aggOverflow": false,
       "aggSchema": [],
       "aggSeriesLimitReached": false,
       "aggType": "",
       "arguments": {},
       "columnCustomDisplayInfos": {},
       "data": [
        [
         131,
         1,
         "44",
         "207.235",
         "1:34.015",
         2,
         56,
         "5523897",
         44,
         20,
         "1",
         1,
         "1",
         1052,
         4,
         24966,
         1,
         "1:32:03.897"
        ],
        [
         9,
         830,
         "41",
         "208.984",
         "1:33.228",
         1,
         56,
         "5524642",
         33,
         19,
         "2",
         2,
         "2",
         1052,
         2,
         24967,
         1,
         "+0.745"
        ],
        [
         131,
         822,
         "56",
         "211.566",
         "1:32.090",
         3,
         56,
         "5561280",
         77,
         18,
         "3",
         3,
         "3",
         1052,
         1,
         24968,
         1,
         "+37.383"
        ],
        [
         1,
         846,
         "38",
         "206.398",
         "1:34.396",
         7,
         56,
         "5570363",
         4,
         17,
         "4",
         4,
         "4",
         1052,
         6,
         24969,
         1,
         "+46.466"
        ],
        [
         9,
         815,
         "44",
         "207.334",
         "1:33.970",
         0,
         56,
         "5575944",
         11,
         16,
         "5",
         5,
         "5",
         1052,
         3,
         24970,
         1,
         "+52.047"
        ],
        [
         6,
         844,
         "39",
         "205.112",
         "1:34.988",
         4,
         56,
         "5582987",
         16,
         15,
         "6",
         6,
         "6",
         1052,
         11,
         24971,
         1,
         "+59.090"
        ],
        [
         1,
         817,
         "36",
         "205.233",
         "1:34.932",
         6,
         56,
         "5589901",
         3,
         14,
         "7",
         7,
         "7",
         1052,
         10,
         24972,
         1,
         "+66.004"
        ],
        [
         6,
         832,
         "48",
         "206.151",
         "1:34.509",
         8,
         56,
         "5590997",
         55,
         13,
         "8",
         8,
         "8",
         1052,
         7,
         24973,
         1,
         "+67.100"
        ],
        [
         213,
         852,
         "38",
         "205.603",
         "1:34.761",
         13,
         56,
         "5609589",
         22,
         12,
         "9",
         9,
         "9",
         1052,
         8,
         24974,
         1,
         "+85.692"
        ],
        [
         117,
         840,
         "31",
         "205.378",
         "1:34.865",
         10,
         56,
         "5610610",
         18,
         11,
         "10",
         10,
         "10",
         1052,
         9,
         24975,
         1,
         "+86.713"
        ],
        [
         214,
         4,
         "31",
         "202.816",
         "1:36.063",
         9,
         32,
         "\\N",
         14,
         0,
         "\\N",
         19,
         "R",
         1052,
         17,
         24984,
         23,
         "\\N"
        ],
        [
         210,
         853,
         "\\N",
         "\\N",
         "\\N",
         19,
         0,
         "\\N",
         9,
         0,
         "\\N",
         20,
         "R",
         1052,
         0,
         24985,
         3,
         "\\N"
        ]
       ],
       "datasetInfos": [],
       "dbfsResultPath": null,
       "isJsonSchema": true,
       "metadata": {},
       "overflow": false,
       "plotOptions": {
        "customPlotOptions": {},
        "displayType": "table",
        "pivotAggregation": null,
        "pivotColumns": null,
        "xColumns": null,
        "yColumns": null
       },
       "removedWidgets": [],
       "schema": [
        {
         "metadata": "{}",
         "name": "constructorId",
         "type": "\"long\""
        },
        {
         "metadata": "{}",
         "name": "driverId",
         "type": "\"long\""
        },
        {
         "metadata": "{}",
         "name": "fastestLap",
         "type": "\"string\""
        },
        {
         "metadata": "{}",
         "name": "fastestLapSpeed",
         "type": "\"string\""
        },
        {
         "metadata": "{}",
         "name": "fastestLapTime",
         "type": "\"string\""
        },
        {
         "metadata": "{}",
         "name": "grid",
         "type": "\"long\""
        },
        {
         "metadata": "{}",
         "name": "laps",
         "type": "\"long\""
        },
        {
         "metadata": "{}",
         "name": "milliseconds",
         "type": "\"string\""
        },
        {
         "metadata": "{}",
         "name": "number",
         "type": "\"long\""
        },
        {
         "metadata": "{}",
         "name": "points",
         "type": "\"long\""
        },
        {
         "metadata": "{}",
         "name": "position",
         "type": "\"string\""
        },
        {
         "metadata": "{}",
         "name": "positionOrder",
         "type": "\"long\""
        },
        {
         "metadata": "{}",
         "name": "positionText",
         "type": "\"string\""
        },
        {
         "metadata": "{}",
         "name": "raceId",
         "type": "\"long\""
        },
        {
         "metadata": "{}",
         "name": "rank",
         "type": "\"long\""
        },
        {
         "metadata": "{}",
         "name": "resultId",
         "type": "\"long\""
        },
        {
         "metadata": "{}",
         "name": "statusId",
         "type": "\"long\""
        },
        {
         "metadata": "{}",
         "name": "time",
         "type": "\"string\""
        }
       ],
       "type": "table"
      }
     },
     "output_type": "display_data"
    }
   ],
   "source": [
    "%sql\n",
    "SELECT * FROM f1_demo.results_managed"
   ]
  },
  {
   "cell_type": "code",
   "execution_count": 0,
   "metadata": {
    "application/vnd.databricks.v1+cell": {
     "cellMetadata": {
      "byteLimit": 2048000,
      "implicitDf": true,
      "rowLimit": 10000
     },
     "inputWidgets": {},
     "nuid": "0f199282-d053-4774-8d37-e8bc47fc2456",
     "showTitle": false,
     "title": ""
    }
   },
   "outputs": [
    {
     "output_type": "display_data",
     "data": {
      "text/html": [
       "<style scoped>\n",
       "  .table-result-container {\n",
       "    max-height: 300px;\n",
       "    overflow: auto;\n",
       "  }\n",
       "  table, th, td {\n",
       "    border: 1px solid black;\n",
       "    border-collapse: collapse;\n",
       "  }\n",
       "  th, td {\n",
       "    padding: 5px;\n",
       "  }\n",
       "  th {\n",
       "    text-align: left;\n",
       "  }\n",
       "</style><div class='table-result-container'><table class='table-result'><thead style='background-color: white'><tr><th>num_affected_rows</th></tr></thead><tbody><tr><td>8</td></tr></tbody></table></div>"
      ]
     },
     "metadata": {
      "application/vnd.databricks.v1+output": {
       "addedWidgets": {},
       "aggData": [],
       "aggError": "",
       "aggOverflow": false,
       "aggSchema": [],
       "aggSeriesLimitReached": false,
       "aggType": "",
       "arguments": {},
       "columnCustomDisplayInfos": {},
       "data": [
        [
         8
        ]
       ],
       "datasetInfos": [],
       "dbfsResultPath": null,
       "isJsonSchema": true,
       "metadata": {},
       "overflow": false,
       "plotOptions": {
        "customPlotOptions": {},
        "displayType": "table",
        "pivotAggregation": null,
        "pivotColumns": null,
        "xColumns": null,
        "yColumns": null
       },
       "removedWidgets": [],
       "schema": [
        {
         "metadata": "{}",
         "name": "num_affected_rows",
         "type": "\"long\""
        }
       ],
       "type": "table"
      }
     },
     "output_type": "display_data"
    }
   ],
   "source": [
    "%sql\n",
    "DELETE FROM f1_demo.results_managed\n",
    "WHERE position > 10;"
   ]
  },
  {
   "cell_type": "code",
   "execution_count": 0,
   "metadata": {
    "application/vnd.databricks.v1+cell": {
     "cellMetadata": {
      "byteLimit": 2048000,
      "rowLimit": 10000
     },
     "inputWidgets": {},
     "nuid": "f4f862a7-4226-4406-87a0-60178b688247",
     "showTitle": false,
     "title": ""
    }
   },
   "outputs": [],
   "source": [
    "deltaTable = DeltaTable.forPath(spark, \"/mnt/formula1dl612/demo/results_managed\")\n",
    "\n",
    "deltaTable.delete(\"points = 0\")"
   ]
  },
  {
   "cell_type": "code",
   "execution_count": 0,
   "metadata": {
    "application/vnd.databricks.v1+cell": {
     "cellMetadata": {
      "byteLimit": 2048000,
      "implicitDf": true,
      "rowLimit": 10000
     },
     "inputWidgets": {},
     "nuid": "a4363483-4b24-4b85-b5f8-c0d14e30712d",
     "showTitle": false,
     "title": ""
    }
   },
   "outputs": [
    {
     "output_type": "display_data",
     "data": {
      "text/html": [
       "<style scoped>\n",
       "  .table-result-container {\n",
       "    max-height: 300px;\n",
       "    overflow: auto;\n",
       "  }\n",
       "  table, th, td {\n",
       "    border: 1px solid black;\n",
       "    border-collapse: collapse;\n",
       "  }\n",
       "  th, td {\n",
       "    padding: 5px;\n",
       "  }\n",
       "  th {\n",
       "    text-align: left;\n",
       "  }\n",
       "</style><div class='table-result-container'><table class='table-result'><thead style='background-color: white'><tr><th>constructorId</th><th>driverId</th><th>fastestLap</th><th>fastestLapSpeed</th><th>fastestLapTime</th><th>grid</th><th>laps</th><th>milliseconds</th><th>number</th><th>points</th><th>position</th><th>positionOrder</th><th>positionText</th><th>raceId</th><th>rank</th><th>resultId</th><th>statusId</th><th>time</th></tr></thead><tbody><tr><td>131</td><td>1</td><td>44</td><td>207.235</td><td>1:34.015</td><td>2</td><td>56</td><td>5523897</td><td>44</td><td>20</td><td>1</td><td>1</td><td>1</td><td>1052</td><td>4</td><td>24966</td><td>1</td><td>1:32:03.897</td></tr><tr><td>9</td><td>830</td><td>41</td><td>208.984</td><td>1:33.228</td><td>1</td><td>56</td><td>5524642</td><td>33</td><td>19</td><td>2</td><td>2</td><td>2</td><td>1052</td><td>2</td><td>24967</td><td>1</td><td>+0.745</td></tr><tr><td>131</td><td>822</td><td>56</td><td>211.566</td><td>1:32.090</td><td>3</td><td>56</td><td>5561280</td><td>77</td><td>18</td><td>3</td><td>3</td><td>3</td><td>1052</td><td>1</td><td>24968</td><td>1</td><td>+37.383</td></tr><tr><td>1</td><td>846</td><td>38</td><td>206.398</td><td>1:34.396</td><td>7</td><td>56</td><td>5570363</td><td>4</td><td>17</td><td>4</td><td>4</td><td>4</td><td>1052</td><td>6</td><td>24969</td><td>1</td><td>+46.466</td></tr><tr><td>9</td><td>815</td><td>44</td><td>207.334</td><td>1:33.970</td><td>0</td><td>56</td><td>5575944</td><td>11</td><td>16</td><td>5</td><td>5</td><td>5</td><td>1052</td><td>3</td><td>24970</td><td>1</td><td>+52.047</td></tr><tr><td>6</td><td>844</td><td>39</td><td>205.112</td><td>1:34.988</td><td>4</td><td>56</td><td>5582987</td><td>16</td><td>15</td><td>6</td><td>6</td><td>6</td><td>1052</td><td>11</td><td>24971</td><td>1</td><td>+59.090</td></tr><tr><td>1</td><td>817</td><td>36</td><td>205.233</td><td>1:34.932</td><td>6</td><td>56</td><td>5589901</td><td>3</td><td>14</td><td>7</td><td>7</td><td>7</td><td>1052</td><td>10</td><td>24972</td><td>1</td><td>+66.004</td></tr><tr><td>6</td><td>832</td><td>48</td><td>206.151</td><td>1:34.509</td><td>8</td><td>56</td><td>5590997</td><td>55</td><td>13</td><td>8</td><td>8</td><td>8</td><td>1052</td><td>7</td><td>24973</td><td>1</td><td>+67.100</td></tr><tr><td>213</td><td>852</td><td>38</td><td>205.603</td><td>1:34.761</td><td>13</td><td>56</td><td>5609589</td><td>22</td><td>12</td><td>9</td><td>9</td><td>9</td><td>1052</td><td>8</td><td>24974</td><td>1</td><td>+85.692</td></tr><tr><td>117</td><td>840</td><td>31</td><td>205.378</td><td>1:34.865</td><td>10</td><td>56</td><td>5610610</td><td>18</td><td>11</td><td>10</td><td>10</td><td>10</td><td>1052</td><td>9</td><td>24975</td><td>1</td><td>+86.713</td></tr></tbody></table></div>"
      ]
     },
     "metadata": {
      "application/vnd.databricks.v1+output": {
       "addedWidgets": {},
       "aggData": [],
       "aggError": "",
       "aggOverflow": false,
       "aggSchema": [],
       "aggSeriesLimitReached": false,
       "aggType": "",
       "arguments": {},
       "columnCustomDisplayInfos": {},
       "data": [
        [
         131,
         1,
         "44",
         "207.235",
         "1:34.015",
         2,
         56,
         "5523897",
         44,
         20,
         "1",
         1,
         "1",
         1052,
         4,
         24966,
         1,
         "1:32:03.897"
        ],
        [
         9,
         830,
         "41",
         "208.984",
         "1:33.228",
         1,
         56,
         "5524642",
         33,
         19,
         "2",
         2,
         "2",
         1052,
         2,
         24967,
         1,
         "+0.745"
        ],
        [
         131,
         822,
         "56",
         "211.566",
         "1:32.090",
         3,
         56,
         "5561280",
         77,
         18,
         "3",
         3,
         "3",
         1052,
         1,
         24968,
         1,
         "+37.383"
        ],
        [
         1,
         846,
         "38",
         "206.398",
         "1:34.396",
         7,
         56,
         "5570363",
         4,
         17,
         "4",
         4,
         "4",
         1052,
         6,
         24969,
         1,
         "+46.466"
        ],
        [
         9,
         815,
         "44",
         "207.334",
         "1:33.970",
         0,
         56,
         "5575944",
         11,
         16,
         "5",
         5,
         "5",
         1052,
         3,
         24970,
         1,
         "+52.047"
        ],
        [
         6,
         844,
         "39",
         "205.112",
         "1:34.988",
         4,
         56,
         "5582987",
         16,
         15,
         "6",
         6,
         "6",
         1052,
         11,
         24971,
         1,
         "+59.090"
        ],
        [
         1,
         817,
         "36",
         "205.233",
         "1:34.932",
         6,
         56,
         "5589901",
         3,
         14,
         "7",
         7,
         "7",
         1052,
         10,
         24972,
         1,
         "+66.004"
        ],
        [
         6,
         832,
         "48",
         "206.151",
         "1:34.509",
         8,
         56,
         "5590997",
         55,
         13,
         "8",
         8,
         "8",
         1052,
         7,
         24973,
         1,
         "+67.100"
        ],
        [
         213,
         852,
         "38",
         "205.603",
         "1:34.761",
         13,
         56,
         "5609589",
         22,
         12,
         "9",
         9,
         "9",
         1052,
         8,
         24974,
         1,
         "+85.692"
        ],
        [
         117,
         840,
         "31",
         "205.378",
         "1:34.865",
         10,
         56,
         "5610610",
         18,
         11,
         "10",
         10,
         "10",
         1052,
         9,
         24975,
         1,
         "+86.713"
        ]
       ],
       "datasetInfos": [],
       "dbfsResultPath": null,
       "isJsonSchema": true,
       "metadata": {},
       "overflow": false,
       "plotOptions": {
        "customPlotOptions": {},
        "displayType": "table",
        "pivotAggregation": null,
        "pivotColumns": null,
        "xColumns": null,
        "yColumns": null
       },
       "removedWidgets": [],
       "schema": [
        {
         "metadata": "{}",
         "name": "constructorId",
         "type": "\"long\""
        },
        {
         "metadata": "{}",
         "name": "driverId",
         "type": "\"long\""
        },
        {
         "metadata": "{}",
         "name": "fastestLap",
         "type": "\"string\""
        },
        {
         "metadata": "{}",
         "name": "fastestLapSpeed",
         "type": "\"string\""
        },
        {
         "metadata": "{}",
         "name": "fastestLapTime",
         "type": "\"string\""
        },
        {
         "metadata": "{}",
         "name": "grid",
         "type": "\"long\""
        },
        {
         "metadata": "{}",
         "name": "laps",
         "type": "\"long\""
        },
        {
         "metadata": "{}",
         "name": "milliseconds",
         "type": "\"string\""
        },
        {
         "metadata": "{}",
         "name": "number",
         "type": "\"long\""
        },
        {
         "metadata": "{}",
         "name": "points",
         "type": "\"long\""
        },
        {
         "metadata": "{}",
         "name": "position",
         "type": "\"string\""
        },
        {
         "metadata": "{}",
         "name": "positionOrder",
         "type": "\"long\""
        },
        {
         "metadata": "{}",
         "name": "positionText",
         "type": "\"string\""
        },
        {
         "metadata": "{}",
         "name": "raceId",
         "type": "\"long\""
        },
        {
         "metadata": "{}",
         "name": "rank",
         "type": "\"long\""
        },
        {
         "metadata": "{}",
         "name": "resultId",
         "type": "\"long\""
        },
        {
         "metadata": "{}",
         "name": "statusId",
         "type": "\"long\""
        },
        {
         "metadata": "{}",
         "name": "time",
         "type": "\"string\""
        }
       ],
       "type": "table"
      }
     },
     "output_type": "display_data"
    }
   ],
   "source": [
    "%sql\n",
    "SELECT * FROM f1_demo.results_managed"
   ]
  },
  {
   "cell_type": "markdown",
   "metadata": {
    "application/vnd.databricks.v1+cell": {
     "cellMetadata": {},
     "inputWidgets": {},
     "nuid": "7535be6a-fed5-4b8e-b318-839d72827277",
     "showTitle": false,
     "title": ""
    }
   },
   "source": [
    "https://docs.delta.io/latest/delta-update.html#-delta-merge&language-sql"
   ]
  },
  {
   "cell_type": "markdown",
   "metadata": {
    "application/vnd.databricks.v1+cell": {
     "cellMetadata": {},
     "inputWidgets": {},
     "nuid": "43b64461-61de-482a-bb22-2a00a5eb282a",
     "showTitle": false,
     "title": ""
    }
   },
   "source": [
    "#### Upsert using merge"
   ]
  },
  {
   "cell_type": "code",
   "execution_count": 0,
   "metadata": {
    "application/vnd.databricks.v1+cell": {
     "cellMetadata": {
      "byteLimit": 2048000,
      "rowLimit": 10000
     },
     "inputWidgets": {},
     "nuid": "34d5b300-183e-451f-bf48-027113f01ebb",
     "showTitle": false,
     "title": ""
    }
   },
   "outputs": [],
   "source": [
    "drivers_day1_df = spark.read\\\n",
    ".option(\"inferSchema\", True)\\\n",
    ".json(\"/mnt/formula1dl612/raw/2021-03-28/drivers.json\")\\\n",
    ".filter(\"driverId <= 10\")\\\n",
    ".select(\"driverId\", \"dob\", \"name.forename\", \"name.surname\")   "
   ]
  },
  {
   "cell_type": "code",
   "execution_count": 0,
   "metadata": {
    "application/vnd.databricks.v1+cell": {
     "cellMetadata": {
      "byteLimit": 2048000,
      "rowLimit": 10000
     },
     "inputWidgets": {},
     "nuid": "e9d4930b-401c-4444-875b-e32b35425666",
     "showTitle": false,
     "title": ""
    }
   },
   "outputs": [
    {
     "output_type": "display_data",
     "data": {
      "text/html": [
       "<style scoped>\n",
       "  .table-result-container {\n",
       "    max-height: 300px;\n",
       "    overflow: auto;\n",
       "  }\n",
       "  table, th, td {\n",
       "    border: 1px solid black;\n",
       "    border-collapse: collapse;\n",
       "  }\n",
       "  th, td {\n",
       "    padding: 5px;\n",
       "  }\n",
       "  th {\n",
       "    text-align: left;\n",
       "  }\n",
       "</style><div class='table-result-container'><table class='table-result'><thead style='background-color: white'><tr><th>driverId</th><th>dob</th><th>forename</th><th>surname</th></tr></thead><tbody><tr><td>1</td><td>1985-01-07</td><td>Lewis</td><td>Hamilton</td></tr><tr><td>2</td><td>1977-05-10</td><td>Nick</td><td>Heidfeld</td></tr><tr><td>3</td><td>1985-06-27</td><td>Nico</td><td>Rosberg</td></tr><tr><td>4</td><td>1981-07-29</td><td>Fernando</td><td>Alonso</td></tr><tr><td>5</td><td>1981-10-19</td><td>Heikki</td><td>Kovalainen</td></tr><tr><td>6</td><td>1985-01-11</td><td>Kazuki</td><td>Nakajima</td></tr><tr><td>7</td><td>1979-02-28</td><td>Sébastien</td><td>Bourdais</td></tr><tr><td>8</td><td>1979-10-17</td><td>Kimi</td><td>Räikkönen</td></tr><tr><td>9</td><td>1984-12-07</td><td>Robert</td><td>Kubica</td></tr><tr><td>10</td><td>1982-03-18</td><td>Timo</td><td>Glock</td></tr></tbody></table></div>"
      ]
     },
     "metadata": {
      "application/vnd.databricks.v1+output": {
       "addedWidgets": {},
       "aggData": [],
       "aggError": "",
       "aggOverflow": false,
       "aggSchema": [],
       "aggSeriesLimitReached": false,
       "aggType": "",
       "arguments": {},
       "columnCustomDisplayInfos": {},
       "data": [
        [
         1,
         "1985-01-07",
         "Lewis",
         "Hamilton"
        ],
        [
         2,
         "1977-05-10",
         "Nick",
         "Heidfeld"
        ],
        [
         3,
         "1985-06-27",
         "Nico",
         "Rosberg"
        ],
        [
         4,
         "1981-07-29",
         "Fernando",
         "Alonso"
        ],
        [
         5,
         "1981-10-19",
         "Heikki",
         "Kovalainen"
        ],
        [
         6,
         "1985-01-11",
         "Kazuki",
         "Nakajima"
        ],
        [
         7,
         "1979-02-28",
         "Sébastien",
         "Bourdais"
        ],
        [
         8,
         "1979-10-17",
         "Kimi",
         "Räikkönen"
        ],
        [
         9,
         "1984-12-07",
         "Robert",
         "Kubica"
        ],
        [
         10,
         "1982-03-18",
         "Timo",
         "Glock"
        ]
       ],
       "datasetInfos": [],
       "dbfsResultPath": null,
       "isJsonSchema": true,
       "metadata": {},
       "overflow": false,
       "plotOptions": {
        "customPlotOptions": {},
        "displayType": "table",
        "pivotAggregation": null,
        "pivotColumns": null,
        "xColumns": null,
        "yColumns": null
       },
       "removedWidgets": [],
       "schema": [
        {
         "metadata": "{}",
         "name": "driverId",
         "type": "\"long\""
        },
        {
         "metadata": "{}",
         "name": "dob",
         "type": "\"string\""
        },
        {
         "metadata": "{}",
         "name": "forename",
         "type": "\"string\""
        },
        {
         "metadata": "{}",
         "name": "surname",
         "type": "\"string\""
        }
       ],
       "type": "table"
      }
     },
     "output_type": "display_data"
    }
   ],
   "source": [
    "display(drivers_day1_df)"
   ]
  },
  {
   "cell_type": "code",
   "execution_count": 0,
   "metadata": {
    "application/vnd.databricks.v1+cell": {
     "cellMetadata": {
      "byteLimit": 2048000,
      "rowLimit": 10000
     },
     "inputWidgets": {},
     "nuid": "147f15bc-ffc6-4b84-a308-deb344942e86",
     "showTitle": false,
     "title": ""
    }
   },
   "outputs": [],
   "source": [
    "drivers_day1_df.createOrReplaceTempView(\"drivers_day1\")"
   ]
  },
  {
   "cell_type": "code",
   "execution_count": 0,
   "metadata": {
    "application/vnd.databricks.v1+cell": {
     "cellMetadata": {
      "byteLimit": 2048000,
      "rowLimit": 10000
     },
     "inputWidgets": {},
     "nuid": "49b7a762-a6a5-4099-9985-c95f159f7814",
     "showTitle": false,
     "title": ""
    }
   },
   "outputs": [
    {
     "output_type": "display_data",
     "data": {
      "text/html": [
       "<style scoped>\n",
       "  .table-result-container {\n",
       "    max-height: 300px;\n",
       "    overflow: auto;\n",
       "  }\n",
       "  table, th, td {\n",
       "    border: 1px solid black;\n",
       "    border-collapse: collapse;\n",
       "  }\n",
       "  th, td {\n",
       "    padding: 5px;\n",
       "  }\n",
       "  th {\n",
       "    text-align: left;\n",
       "  }\n",
       "</style><div class='table-result-container'><table class='table-result'><thead style='background-color: white'><tr><th>driverId</th><th>dob</th><th>forename</th><th>surname</th></tr></thead><tbody><tr><td>6</td><td>1985-01-11</td><td>KAZUKI</td><td>NAKAJIMA</td></tr><tr><td>7</td><td>1979-02-28</td><td>SÉBASTIEN</td><td>BOURDAIS</td></tr><tr><td>8</td><td>1979-10-17</td><td>KIMI</td><td>RÄIKKÖNEN</td></tr><tr><td>9</td><td>1984-12-07</td><td>ROBERT</td><td>KUBICA</td></tr><tr><td>10</td><td>1982-03-18</td><td>TIMO</td><td>GLOCK</td></tr><tr><td>11</td><td>1977-01-28</td><td>TAKUMA</td><td>SATO</td></tr><tr><td>12</td><td>1985-07-25</td><td>NELSON</td><td>PIQUET JR.</td></tr><tr><td>13</td><td>1981-04-25</td><td>FELIPE</td><td>MASSA</td></tr><tr><td>14</td><td>1971-03-27</td><td>DAVID</td><td>COULTHARD</td></tr><tr><td>15</td><td>1974-07-13</td><td>JARNO</td><td>TRULLI</td></tr></tbody></table></div>"
      ]
     },
     "metadata": {
      "application/vnd.databricks.v1+output": {
       "addedWidgets": {},
       "aggData": [],
       "aggError": "",
       "aggOverflow": false,
       "aggSchema": [],
       "aggSeriesLimitReached": false,
       "aggType": "",
       "arguments": {},
       "columnCustomDisplayInfos": {},
       "data": [
        [
         6,
         "1985-01-11",
         "KAZUKI",
         "NAKAJIMA"
        ],
        [
         7,
         "1979-02-28",
         "SÉBASTIEN",
         "BOURDAIS"
        ],
        [
         8,
         "1979-10-17",
         "KIMI",
         "RÄIKKÖNEN"
        ],
        [
         9,
         "1984-12-07",
         "ROBERT",
         "KUBICA"
        ],
        [
         10,
         "1982-03-18",
         "TIMO",
         "GLOCK"
        ],
        [
         11,
         "1977-01-28",
         "TAKUMA",
         "SATO"
        ],
        [
         12,
         "1985-07-25",
         "NELSON",
         "PIQUET JR."
        ],
        [
         13,
         "1981-04-25",
         "FELIPE",
         "MASSA"
        ],
        [
         14,
         "1971-03-27",
         "DAVID",
         "COULTHARD"
        ],
        [
         15,
         "1974-07-13",
         "JARNO",
         "TRULLI"
        ]
       ],
       "datasetInfos": [],
       "dbfsResultPath": null,
       "isJsonSchema": true,
       "metadata": {},
       "overflow": false,
       "plotOptions": {
        "customPlotOptions": {},
        "displayType": "table",
        "pivotAggregation": null,
        "pivotColumns": null,
        "xColumns": null,
        "yColumns": null
       },
       "removedWidgets": [],
       "schema": [
        {
         "metadata": "{}",
         "name": "driverId",
         "type": "\"long\""
        },
        {
         "metadata": "{}",
         "name": "dob",
         "type": "\"string\""
        },
        {
         "metadata": "{}",
         "name": "forename",
         "type": "\"string\""
        },
        {
         "metadata": "{}",
         "name": "surname",
         "type": "\"string\""
        }
       ],
       "type": "table"
      }
     },
     "output_type": "display_data"
    }
   ],
   "source": [
    "from pyspark.sql.functions import upper\n",
    "drivers_day2_df = spark.read\\\n",
    ".option(\"inferSchema\", True)\\\n",
    ".json(\"/mnt/formula1dl612/raw/2021-03-28/drivers.json\")\\\n",
    ".filter(\"driverId BETWEEN 6 AND 15\")\\\n",
    ".select(\"driverId\", \"dob\", upper(\"name.forename\").alias(\"forename\"), upper(\"name.surname\").alias(\"surname\"))\n",
    "display(drivers_day2_df)"
   ]
  },
  {
   "cell_type": "code",
   "execution_count": 0,
   "metadata": {
    "application/vnd.databricks.v1+cell": {
     "cellMetadata": {
      "byteLimit": 2048000,
      "rowLimit": 10000
     },
     "inputWidgets": {},
     "nuid": "61092cc0-ca26-4a0b-a2db-616aa7cbd78e",
     "showTitle": false,
     "title": ""
    }
   },
   "outputs": [],
   "source": [
    "drivers_day2_df.createOrReplaceTempView(\"drivers_day2\")"
   ]
  },
  {
   "cell_type": "code",
   "execution_count": 0,
   "metadata": {
    "application/vnd.databricks.v1+cell": {
     "cellMetadata": {
      "byteLimit": 2048000,
      "rowLimit": 10000
     },
     "inputWidgets": {},
     "nuid": "00494d0d-79f4-4bd6-bb33-b456e80eb450",
     "showTitle": false,
     "title": ""
    }
   },
   "outputs": [
    {
     "output_type": "display_data",
     "data": {
      "text/html": [
       "<style scoped>\n",
       "  .table-result-container {\n",
       "    max-height: 300px;\n",
       "    overflow: auto;\n",
       "  }\n",
       "  table, th, td {\n",
       "    border: 1px solid black;\n",
       "    border-collapse: collapse;\n",
       "  }\n",
       "  th, td {\n",
       "    padding: 5px;\n",
       "  }\n",
       "  th {\n",
       "    text-align: left;\n",
       "  }\n",
       "</style><div class='table-result-container'><table class='table-result'><thead style='background-color: white'><tr><th>driverId</th><th>dob</th><th>forename</th><th>surname</th></tr></thead><tbody><tr><td>1</td><td>1985-01-07</td><td>LEWIS</td><td>HAMILTON</td></tr><tr><td>2</td><td>1977-05-10</td><td>NICK</td><td>HEIDFELD</td></tr><tr><td>3</td><td>1985-06-27</td><td>NICO</td><td>ROSBERG</td></tr><tr><td>4</td><td>1981-07-29</td><td>FERNANDO</td><td>ALONSO</td></tr><tr><td>5</td><td>1981-10-19</td><td>HEIKKI</td><td>KOVALAINEN</td></tr><tr><td>16</td><td>1983-01-11</td><td>ADRIAN</td><td>SUTIL</td></tr><tr><td>17</td><td>1976-08-27</td><td>MARK</td><td>WEBBER</td></tr><tr><td>18</td><td>1980-01-19</td><td>JENSON</td><td>BUTTON</td></tr><tr><td>19</td><td>1979-04-18</td><td>ANTHONY</td><td>DAVIDSON</td></tr><tr><td>20</td><td>1987-07-03</td><td>SEBASTIAN</td><td>VETTEL</td></tr></tbody></table></div>"
      ]
     },
     "metadata": {
      "application/vnd.databricks.v1+output": {
       "addedWidgets": {},
       "aggData": [],
       "aggError": "",
       "aggOverflow": false,
       "aggSchema": [],
       "aggSeriesLimitReached": false,
       "aggType": "",
       "arguments": {},
       "columnCustomDisplayInfos": {},
       "data": [
        [
         1,
         "1985-01-07",
         "LEWIS",
         "HAMILTON"
        ],
        [
         2,
         "1977-05-10",
         "NICK",
         "HEIDFELD"
        ],
        [
         3,
         "1985-06-27",
         "NICO",
         "ROSBERG"
        ],
        [
         4,
         "1981-07-29",
         "FERNANDO",
         "ALONSO"
        ],
        [
         5,
         "1981-10-19",
         "HEIKKI",
         "KOVALAINEN"
        ],
        [
         16,
         "1983-01-11",
         "ADRIAN",
         "SUTIL"
        ],
        [
         17,
         "1976-08-27",
         "MARK",
         "WEBBER"
        ],
        [
         18,
         "1980-01-19",
         "JENSON",
         "BUTTON"
        ],
        [
         19,
         "1979-04-18",
         "ANTHONY",
         "DAVIDSON"
        ],
        [
         20,
         "1987-07-03",
         "SEBASTIAN",
         "VETTEL"
        ]
       ],
       "datasetInfos": [],
       "dbfsResultPath": null,
       "isJsonSchema": true,
       "metadata": {},
       "overflow": false,
       "plotOptions": {
        "customPlotOptions": {},
        "displayType": "table",
        "pivotAggregation": null,
        "pivotColumns": null,
        "xColumns": null,
        "yColumns": null
       },
       "removedWidgets": [],
       "schema": [
        {
         "metadata": "{}",
         "name": "driverId",
         "type": "\"long\""
        },
        {
         "metadata": "{}",
         "name": "dob",
         "type": "\"string\""
        },
        {
         "metadata": "{}",
         "name": "forename",
         "type": "\"string\""
        },
        {
         "metadata": "{}",
         "name": "surname",
         "type": "\"string\""
        }
       ],
       "type": "table"
      }
     },
     "output_type": "display_data"
    }
   ],
   "source": [
    "drivers_day3_df = spark.read\\\n",
    ".option(\"inferSchema\", True)\\\n",
    ".json(\"/mnt/formula1dl612/raw/2021-03-28/drivers.json\")\\\n",
    ".filter(\"driverId BETWEEN 1 AND 5 OR driverId BETWEEN 16 AND 20\")\\\n",
    ".select(\"driverId\", \"dob\", upper(\"name.forename\").alias(\"forename\"), upper(\"name.surname\").alias(\"surname\"))\n",
    "display(drivers_day3_df)"
   ]
  },
  {
   "cell_type": "code",
   "execution_count": 0,
   "metadata": {
    "application/vnd.databricks.v1+cell": {
     "cellMetadata": {
      "byteLimit": 2048000,
      "implicitDf": true,
      "rowLimit": 10000
     },
     "inputWidgets": {},
     "nuid": "1970bd8b-d868-4240-b5eb-7cf6dcb44b2a",
     "showTitle": false,
     "title": ""
    }
   },
   "outputs": [
    {
     "output_type": "display_data",
     "data": {
      "text/html": [
       "<style scoped>\n",
       "  .table-result-container {\n",
       "    max-height: 300px;\n",
       "    overflow: auto;\n",
       "  }\n",
       "  table, th, td {\n",
       "    border: 1px solid black;\n",
       "    border-collapse: collapse;\n",
       "  }\n",
       "  th, td {\n",
       "    padding: 5px;\n",
       "  }\n",
       "  th {\n",
       "    text-align: left;\n",
       "  }\n",
       "</style><div class='table-result-container'><table class='table-result'><thead style='background-color: white'><tr></tr></thead><tbody></tbody></table></div>"
      ]
     },
     "metadata": {
      "application/vnd.databricks.v1+output": {
       "addedWidgets": {},
       "aggData": [],
       "aggError": "",
       "aggOverflow": false,
       "aggSchema": [],
       "aggSeriesLimitReached": false,
       "aggType": "",
       "arguments": {},
       "columnCustomDisplayInfos": {},
       "data": [],
       "datasetInfos": [],
       "dbfsResultPath": null,
       "isJsonSchema": true,
       "metadata": {},
       "overflow": false,
       "plotOptions": {
        "customPlotOptions": {},
        "displayType": "table",
        "pivotAggregation": null,
        "pivotColumns": null,
        "xColumns": null,
        "yColumns": null
       },
       "removedWidgets": [],
       "schema": [],
       "type": "table"
      }
     },
     "output_type": "display_data"
    }
   ],
   "source": [
    "%sql\n",
    "CREATE TABLE IF NOT EXISTS f1_demo.drivers_merge (\n",
    "driverID INT,\n",
    "dob DATE,\n",
    "forename STRING,\n",
    "surname STRING,\n",
    "createdDate DATE,\n",
    "updatedDate DATE\n",
    ")\n",
    "USING DELTA"
   ]
  },
  {
   "cell_type": "code",
   "execution_count": 0,
   "metadata": {
    "application/vnd.databricks.v1+cell": {
     "cellMetadata": {
      "byteLimit": 2048000,
      "implicitDf": true,
      "rowLimit": 10000
     },
     "inputWidgets": {},
     "nuid": "2032a013-ad6f-423a-b8d3-d71967321eb9",
     "showTitle": false,
     "title": ""
    }
   },
   "outputs": [
    {
     "output_type": "display_data",
     "data": {
      "text/html": [
       "<style scoped>\n",
       "  .table-result-container {\n",
       "    max-height: 300px;\n",
       "    overflow: auto;\n",
       "  }\n",
       "  table, th, td {\n",
       "    border: 1px solid black;\n",
       "    border-collapse: collapse;\n",
       "  }\n",
       "  th, td {\n",
       "    padding: 5px;\n",
       "  }\n",
       "  th {\n",
       "    text-align: left;\n",
       "  }\n",
       "</style><div class='table-result-container'><table class='table-result'><thead style='background-color: white'><tr><th>num_affected_rows</th><th>num_updated_rows</th><th>num_deleted_rows</th><th>num_inserted_rows</th></tr></thead><tbody><tr><td>10</td><td>0</td><td>0</td><td>10</td></tr></tbody></table></div>"
      ]
     },
     "metadata": {
      "application/vnd.databricks.v1+output": {
       "addedWidgets": {},
       "aggData": [],
       "aggError": "",
       "aggOverflow": false,
       "aggSchema": [],
       "aggSeriesLimitReached": false,
       "aggType": "",
       "arguments": {},
       "columnCustomDisplayInfos": {},
       "data": [
        [
         10,
         0,
         0,
         10
        ]
       ],
       "datasetInfos": [],
       "dbfsResultPath": null,
       "isJsonSchema": true,
       "metadata": {},
       "overflow": false,
       "plotOptions": {
        "customPlotOptions": {},
        "displayType": "table",
        "pivotAggregation": null,
        "pivotColumns": null,
        "xColumns": null,
        "yColumns": null
       },
       "removedWidgets": [],
       "schema": [
        {
         "metadata": "{}",
         "name": "num_affected_rows",
         "type": "\"long\""
        },
        {
         "metadata": "{}",
         "name": "num_updated_rows",
         "type": "\"long\""
        },
        {
         "metadata": "{}",
         "name": "num_deleted_rows",
         "type": "\"long\""
        },
        {
         "metadata": "{}",
         "name": "num_inserted_rows",
         "type": "\"long\""
        }
       ],
       "type": "table"
      }
     },
     "output_type": "display_data"
    }
   ],
   "source": [
    "%sql\n",
    "MERGE INTO f1_demo.drivers_merge tgt\n",
    "USING drivers_day1 upd\n",
    "ON tgt.driverId = upd.driverId\n",
    "WHEN MATCHED THEN\n",
    "  UPDATE SET  tgt.dob = upd.dob,\n",
    "              tgt.forename = upd.forename,\n",
    "              tgt.surname = upd.surname,\n",
    "              tgt.updatedDate = current_timestamp\n",
    "WHEN NOT MATCHED\n",
    "  THEN INSERT (driverId, dob, forename, surname, createdDate) VALUES (driverID, dob, forename, surname, current_timestamp)"
   ]
  },
  {
   "cell_type": "code",
   "execution_count": 0,
   "metadata": {
    "application/vnd.databricks.v1+cell": {
     "cellMetadata": {
      "byteLimit": 2048000,
      "implicitDf": true,
      "rowLimit": 10000
     },
     "inputWidgets": {},
     "nuid": "a81cfedd-2720-4cf0-a651-172af970e959",
     "showTitle": false,
     "title": ""
    }
   },
   "outputs": [
    {
     "output_type": "display_data",
     "data": {
      "text/html": [
       "<style scoped>\n",
       "  .table-result-container {\n",
       "    max-height: 300px;\n",
       "    overflow: auto;\n",
       "  }\n",
       "  table, th, td {\n",
       "    border: 1px solid black;\n",
       "    border-collapse: collapse;\n",
       "  }\n",
       "  th, td {\n",
       "    padding: 5px;\n",
       "  }\n",
       "  th {\n",
       "    text-align: left;\n",
       "  }\n",
       "</style><div class='table-result-container'><table class='table-result'><thead style='background-color: white'><tr><th>driverID</th><th>dob</th><th>forename</th><th>surname</th><th>createdDate</th><th>updatedDate</th></tr></thead><tbody><tr><td>1</td><td>1985-01-07</td><td>Lewis</td><td>Hamilton</td><td>2024-03-16</td><td>null</td></tr><tr><td>2</td><td>1977-05-10</td><td>Nick</td><td>Heidfeld</td><td>2024-03-16</td><td>null</td></tr><tr><td>3</td><td>1985-06-27</td><td>Nico</td><td>Rosberg</td><td>2024-03-16</td><td>null</td></tr><tr><td>4</td><td>1981-07-29</td><td>Fernando</td><td>Alonso</td><td>2024-03-16</td><td>null</td></tr><tr><td>5</td><td>1981-10-19</td><td>Heikki</td><td>Kovalainen</td><td>2024-03-16</td><td>null</td></tr><tr><td>6</td><td>1985-01-11</td><td>Kazuki</td><td>Nakajima</td><td>2024-03-16</td><td>null</td></tr><tr><td>7</td><td>1979-02-28</td><td>Sébastien</td><td>Bourdais</td><td>2024-03-16</td><td>null</td></tr><tr><td>8</td><td>1979-10-17</td><td>Kimi</td><td>Räikkönen</td><td>2024-03-16</td><td>null</td></tr><tr><td>9</td><td>1984-12-07</td><td>Robert</td><td>Kubica</td><td>2024-03-16</td><td>null</td></tr><tr><td>10</td><td>1982-03-18</td><td>Timo</td><td>Glock</td><td>2024-03-16</td><td>null</td></tr></tbody></table></div>"
      ]
     },
     "metadata": {
      "application/vnd.databricks.v1+output": {
       "addedWidgets": {},
       "aggData": [],
       "aggError": "",
       "aggOverflow": false,
       "aggSchema": [],
       "aggSeriesLimitReached": false,
       "aggType": "",
       "arguments": {},
       "columnCustomDisplayInfos": {},
       "data": [
        [
         1,
         "1985-01-07",
         "Lewis",
         "Hamilton",
         "2024-03-16",
         null
        ],
        [
         2,
         "1977-05-10",
         "Nick",
         "Heidfeld",
         "2024-03-16",
         null
        ],
        [
         3,
         "1985-06-27",
         "Nico",
         "Rosberg",
         "2024-03-16",
         null
        ],
        [
         4,
         "1981-07-29",
         "Fernando",
         "Alonso",
         "2024-03-16",
         null
        ],
        [
         5,
         "1981-10-19",
         "Heikki",
         "Kovalainen",
         "2024-03-16",
         null
        ],
        [
         6,
         "1985-01-11",
         "Kazuki",
         "Nakajima",
         "2024-03-16",
         null
        ],
        [
         7,
         "1979-02-28",
         "Sébastien",
         "Bourdais",
         "2024-03-16",
         null
        ],
        [
         8,
         "1979-10-17",
         "Kimi",
         "Räikkönen",
         "2024-03-16",
         null
        ],
        [
         9,
         "1984-12-07",
         "Robert",
         "Kubica",
         "2024-03-16",
         null
        ],
        [
         10,
         "1982-03-18",
         "Timo",
         "Glock",
         "2024-03-16",
         null
        ]
       ],
       "datasetInfos": [],
       "dbfsResultPath": null,
       "isJsonSchema": true,
       "metadata": {},
       "overflow": false,
       "plotOptions": {
        "customPlotOptions": {},
        "displayType": "table",
        "pivotAggregation": null,
        "pivotColumns": null,
        "xColumns": null,
        "yColumns": null
       },
       "removedWidgets": [],
       "schema": [
        {
         "metadata": "{}",
         "name": "driverID",
         "type": "\"integer\""
        },
        {
         "metadata": "{}",
         "name": "dob",
         "type": "\"date\""
        },
        {
         "metadata": "{}",
         "name": "forename",
         "type": "\"string\""
        },
        {
         "metadata": "{}",
         "name": "surname",
         "type": "\"string\""
        },
        {
         "metadata": "{}",
         "name": "createdDate",
         "type": "\"date\""
        },
        {
         "metadata": "{}",
         "name": "updatedDate",
         "type": "\"date\""
        }
       ],
       "type": "table"
      }
     },
     "output_type": "display_data"
    }
   ],
   "source": [
    "%sql\n",
    "SELECT * FROM f1_demo.drivers_merge;"
   ]
  },
  {
   "cell_type": "code",
   "execution_count": 0,
   "metadata": {
    "application/vnd.databricks.v1+cell": {
     "cellMetadata": {
      "byteLimit": 2048000,
      "implicitDf": true,
      "rowLimit": 10000
     },
     "inputWidgets": {},
     "nuid": "a2f26f18-b904-4974-935f-7086ce9355fc",
     "showTitle": false,
     "title": ""
    }
   },
   "outputs": [
    {
     "output_type": "display_data",
     "data": {
      "text/html": [
       "<style scoped>\n",
       "  .table-result-container {\n",
       "    max-height: 300px;\n",
       "    overflow: auto;\n",
       "  }\n",
       "  table, th, td {\n",
       "    border: 1px solid black;\n",
       "    border-collapse: collapse;\n",
       "  }\n",
       "  th, td {\n",
       "    padding: 5px;\n",
       "  }\n",
       "  th {\n",
       "    text-align: left;\n",
       "  }\n",
       "</style><div class='table-result-container'><table class='table-result'><thead style='background-color: white'><tr><th>num_affected_rows</th><th>num_updated_rows</th><th>num_deleted_rows</th><th>num_inserted_rows</th></tr></thead><tbody><tr><td>10</td><td>5</td><td>0</td><td>5</td></tr></tbody></table></div>"
      ]
     },
     "metadata": {
      "application/vnd.databricks.v1+output": {
       "addedWidgets": {},
       "aggData": [],
       "aggError": "",
       "aggOverflow": false,
       "aggSchema": [],
       "aggSeriesLimitReached": false,
       "aggType": "",
       "arguments": {},
       "columnCustomDisplayInfos": {},
       "data": [
        [
         10,
         5,
         0,
         5
        ]
       ],
       "datasetInfos": [],
       "dbfsResultPath": null,
       "isJsonSchema": true,
       "metadata": {},
       "overflow": false,
       "plotOptions": {
        "customPlotOptions": {},
        "displayType": "table",
        "pivotAggregation": null,
        "pivotColumns": null,
        "xColumns": null,
        "yColumns": null
       },
       "removedWidgets": [],
       "schema": [
        {
         "metadata": "{}",
         "name": "num_affected_rows",
         "type": "\"long\""
        },
        {
         "metadata": "{}",
         "name": "num_updated_rows",
         "type": "\"long\""
        },
        {
         "metadata": "{}",
         "name": "num_deleted_rows",
         "type": "\"long\""
        },
        {
         "metadata": "{}",
         "name": "num_inserted_rows",
         "type": "\"long\""
        }
       ],
       "type": "table"
      }
     },
     "output_type": "display_data"
    }
   ],
   "source": [
    "%sql\n",
    "MERGE INTO f1_demo.drivers_merge tgt\n",
    "USING drivers_day2 upd\n",
    "ON tgt.driverId = upd.driverId\n",
    "WHEN MATCHED THEN\n",
    "  UPDATE SET  tgt.dob = upd.dob,\n",
    "              tgt.forename = upd.forename,\n",
    "              tgt.surname = upd.surname,\n",
    "              tgt.updatedDate = current_timestamp\n",
    "WHEN NOT MATCHED\n",
    "  THEN INSERT (driverId, dob, forename, surname, createdDate) VALUES (driverID, dob, forename, surname, current_timestamp)"
   ]
  },
  {
   "cell_type": "code",
   "execution_count": 0,
   "metadata": {
    "application/vnd.databricks.v1+cell": {
     "cellMetadata": {
      "byteLimit": 2048000,
      "implicitDf": true,
      "rowLimit": 10000
     },
     "inputWidgets": {},
     "nuid": "d1d5a201-2875-4825-8faa-36ac8b5efc38",
     "showTitle": false,
     "title": ""
    }
   },
   "outputs": [
    {
     "output_type": "display_data",
     "data": {
      "text/html": [
       "<style scoped>\n",
       "  .table-result-container {\n",
       "    max-height: 300px;\n",
       "    overflow: auto;\n",
       "  }\n",
       "  table, th, td {\n",
       "    border: 1px solid black;\n",
       "    border-collapse: collapse;\n",
       "  }\n",
       "  th, td {\n",
       "    padding: 5px;\n",
       "  }\n",
       "  th {\n",
       "    text-align: left;\n",
       "  }\n",
       "</style><div class='table-result-container'><table class='table-result'><thead style='background-color: white'><tr><th>driverID</th><th>dob</th><th>forename</th><th>surname</th><th>createdDate</th><th>updatedDate</th></tr></thead><tbody><tr><td>6</td><td>1985-01-11</td><td>KAZUKI</td><td>NAKAJIMA</td><td>2024-03-16</td><td>2024-03-16</td></tr><tr><td>7</td><td>1979-02-28</td><td>SÉBASTIEN</td><td>BOURDAIS</td><td>2024-03-16</td><td>2024-03-16</td></tr><tr><td>8</td><td>1979-10-17</td><td>KIMI</td><td>RÄIKKÖNEN</td><td>2024-03-16</td><td>2024-03-16</td></tr><tr><td>9</td><td>1984-12-07</td><td>ROBERT</td><td>KUBICA</td><td>2024-03-16</td><td>2024-03-16</td></tr><tr><td>10</td><td>1982-03-18</td><td>TIMO</td><td>GLOCK</td><td>2024-03-16</td><td>2024-03-16</td></tr><tr><td>11</td><td>1977-01-28</td><td>TAKUMA</td><td>SATO</td><td>2024-03-16</td><td>null</td></tr><tr><td>12</td><td>1985-07-25</td><td>NELSON</td><td>PIQUET JR.</td><td>2024-03-16</td><td>null</td></tr><tr><td>13</td><td>1981-04-25</td><td>FELIPE</td><td>MASSA</td><td>2024-03-16</td><td>null</td></tr><tr><td>14</td><td>1971-03-27</td><td>DAVID</td><td>COULTHARD</td><td>2024-03-16</td><td>null</td></tr><tr><td>15</td><td>1974-07-13</td><td>JARNO</td><td>TRULLI</td><td>2024-03-16</td><td>null</td></tr><tr><td>1</td><td>1985-01-07</td><td>Lewis</td><td>Hamilton</td><td>2024-03-16</td><td>null</td></tr><tr><td>2</td><td>1977-05-10</td><td>Nick</td><td>Heidfeld</td><td>2024-03-16</td><td>null</td></tr><tr><td>3</td><td>1985-06-27</td><td>Nico</td><td>Rosberg</td><td>2024-03-16</td><td>null</td></tr><tr><td>4</td><td>1981-07-29</td><td>Fernando</td><td>Alonso</td><td>2024-03-16</td><td>null</td></tr><tr><td>5</td><td>1981-10-19</td><td>Heikki</td><td>Kovalainen</td><td>2024-03-16</td><td>null</td></tr></tbody></table></div>"
      ]
     },
     "metadata": {
      "application/vnd.databricks.v1+output": {
       "addedWidgets": {},
       "aggData": [],
       "aggError": "",
       "aggOverflow": false,
       "aggSchema": [],
       "aggSeriesLimitReached": false,
       "aggType": "",
       "arguments": {},
       "columnCustomDisplayInfos": {},
       "data": [
        [
         6,
         "1985-01-11",
         "KAZUKI",
         "NAKAJIMA",
         "2024-03-16",
         "2024-03-16"
        ],
        [
         7,
         "1979-02-28",
         "SÉBASTIEN",
         "BOURDAIS",
         "2024-03-16",
         "2024-03-16"
        ],
        [
         8,
         "1979-10-17",
         "KIMI",
         "RÄIKKÖNEN",
         "2024-03-16",
         "2024-03-16"
        ],
        [
         9,
         "1984-12-07",
         "ROBERT",
         "KUBICA",
         "2024-03-16",
         "2024-03-16"
        ],
        [
         10,
         "1982-03-18",
         "TIMO",
         "GLOCK",
         "2024-03-16",
         "2024-03-16"
        ],
        [
         11,
         "1977-01-28",
         "TAKUMA",
         "SATO",
         "2024-03-16",
         null
        ],
        [
         12,
         "1985-07-25",
         "NELSON",
         "PIQUET JR.",
         "2024-03-16",
         null
        ],
        [
         13,
         "1981-04-25",
         "FELIPE",
         "MASSA",
         "2024-03-16",
         null
        ],
        [
         14,
         "1971-03-27",
         "DAVID",
         "COULTHARD",
         "2024-03-16",
         null
        ],
        [
         15,
         "1974-07-13",
         "JARNO",
         "TRULLI",
         "2024-03-16",
         null
        ],
        [
         1,
         "1985-01-07",
         "Lewis",
         "Hamilton",
         "2024-03-16",
         null
        ],
        [
         2,
         "1977-05-10",
         "Nick",
         "Heidfeld",
         "2024-03-16",
         null
        ],
        [
         3,
         "1985-06-27",
         "Nico",
         "Rosberg",
         "2024-03-16",
         null
        ],
        [
         4,
         "1981-07-29",
         "Fernando",
         "Alonso",
         "2024-03-16",
         null
        ],
        [
         5,
         "1981-10-19",
         "Heikki",
         "Kovalainen",
         "2024-03-16",
         null
        ]
       ],
       "datasetInfos": [],
       "dbfsResultPath": null,
       "isJsonSchema": true,
       "metadata": {},
       "overflow": false,
       "plotOptions": {
        "customPlotOptions": {},
        "displayType": "table",
        "pivotAggregation": null,
        "pivotColumns": null,
        "xColumns": null,
        "yColumns": null
       },
       "removedWidgets": [],
       "schema": [
        {
         "metadata": "{}",
         "name": "driverID",
         "type": "\"integer\""
        },
        {
         "metadata": "{}",
         "name": "dob",
         "type": "\"date\""
        },
        {
         "metadata": "{}",
         "name": "forename",
         "type": "\"string\""
        },
        {
         "metadata": "{}",
         "name": "surname",
         "type": "\"string\""
        },
        {
         "metadata": "{}",
         "name": "createdDate",
         "type": "\"date\""
        },
        {
         "metadata": "{}",
         "name": "updatedDate",
         "type": "\"date\""
        }
       ],
       "type": "table"
      }
     },
     "output_type": "display_data"
    }
   ],
   "source": [
    "%sql\n",
    "SELECT * FROM f1_demo.drivers_merge;"
   ]
  },
  {
   "cell_type": "code",
   "execution_count": 0,
   "metadata": {
    "application/vnd.databricks.v1+cell": {
     "cellMetadata": {
      "byteLimit": 2048000,
      "rowLimit": 10000
     },
     "inputWidgets": {},
     "nuid": "5e125583-2143-41c1-ac72-af0e17475344",
     "showTitle": false,
     "title": ""
    }
   },
   "outputs": [],
   "source": [
    "from delta.tables import DeltaTable\n",
    "from pyspark.sql.functions import current_timestamp\n",
    "\n",
    "deltaTable = DeltaTable.forPath(spark, \"/mnt/formula1dl612/demo/drivers_merge\")\n",
    "\n",
    "\n",
    "deltaTable.alias('tgt') \\\n",
    "  .merge(\n",
    "    drivers_day3_df.alias('upd'),\n",
    "    \"tgt.driverId = upd.driverId\"\n",
    "  ) \\\n",
    "  .whenMatchedUpdate(set =\n",
    "    {\n",
    "      \"dob\": \"upd.dob\",\n",
    "      \"forename\": \"upd.forename\",\n",
    "      \"surname\": \"upd.surname\",\n",
    "      \"updatedDate\": \"current_timestamp()\"\n",
    "    }\n",
    "  ) \\\n",
    "  .whenNotMatchedInsert(values =\n",
    "    {\n",
    "    \n",
    "      \"driverId\": \"upd.driverId\",\n",
    "      \"dob\": \"upd.dob\",\n",
    "      \"forename\": \"upd.forename\",\n",
    "      \"surname\": \"upd.surname\",\n",
    "      \"createdDate\": \"current_timestamp()\"\n",
    "    }\n",
    "  ) \\\n",
    "  .execute()"
   ]
  },
  {
   "cell_type": "code",
   "execution_count": 0,
   "metadata": {
    "application/vnd.databricks.v1+cell": {
     "cellMetadata": {
      "byteLimit": 2048000,
      "implicitDf": true,
      "rowLimit": 10000
     },
     "inputWidgets": {},
     "nuid": "66fc787f-deb7-4eee-bfc1-9302d5275457",
     "showTitle": false,
     "title": ""
    }
   },
   "outputs": [
    {
     "output_type": "display_data",
     "data": {
      "text/html": [
       "<style scoped>\n",
       "  .table-result-container {\n",
       "    max-height: 300px;\n",
       "    overflow: auto;\n",
       "  }\n",
       "  table, th, td {\n",
       "    border: 1px solid black;\n",
       "    border-collapse: collapse;\n",
       "  }\n",
       "  th, td {\n",
       "    padding: 5px;\n",
       "  }\n",
       "  th {\n",
       "    text-align: left;\n",
       "  }\n",
       "</style><div class='table-result-container'><table class='table-result'><thead style='background-color: white'><tr><th>driverID</th><th>dob</th><th>forename</th><th>surname</th><th>createdDate</th><th>updatedDate</th></tr></thead><tbody><tr><td>6</td><td>1985-01-11</td><td>KAZUKI</td><td>NAKAJIMA</td><td>2024-03-16</td><td>2024-03-16</td></tr><tr><td>7</td><td>1979-02-28</td><td>SÉBASTIEN</td><td>BOURDAIS</td><td>2024-03-16</td><td>2024-03-16</td></tr><tr><td>8</td><td>1979-10-17</td><td>KIMI</td><td>RÄIKKÖNEN</td><td>2024-03-16</td><td>2024-03-16</td></tr><tr><td>9</td><td>1984-12-07</td><td>ROBERT</td><td>KUBICA</td><td>2024-03-16</td><td>2024-03-16</td></tr><tr><td>10</td><td>1982-03-18</td><td>TIMO</td><td>GLOCK</td><td>2024-03-16</td><td>2024-03-16</td></tr><tr><td>11</td><td>1977-01-28</td><td>TAKUMA</td><td>SATO</td><td>2024-03-16</td><td>null</td></tr><tr><td>12</td><td>1985-07-25</td><td>NELSON</td><td>PIQUET JR.</td><td>2024-03-16</td><td>null</td></tr><tr><td>13</td><td>1981-04-25</td><td>FELIPE</td><td>MASSA</td><td>2024-03-16</td><td>null</td></tr><tr><td>14</td><td>1971-03-27</td><td>DAVID</td><td>COULTHARD</td><td>2024-03-16</td><td>null</td></tr><tr><td>15</td><td>1974-07-13</td><td>JARNO</td><td>TRULLI</td><td>2024-03-16</td><td>null</td></tr><tr><td>1</td><td>1985-01-07</td><td>LEWIS</td><td>HAMILTON</td><td>2024-03-16</td><td>2024-03-16</td></tr><tr><td>2</td><td>1977-05-10</td><td>NICK</td><td>HEIDFELD</td><td>2024-03-16</td><td>2024-03-16</td></tr><tr><td>3</td><td>1985-06-27</td><td>NICO</td><td>ROSBERG</td><td>2024-03-16</td><td>2024-03-16</td></tr><tr><td>4</td><td>1981-07-29</td><td>FERNANDO</td><td>ALONSO</td><td>2024-03-16</td><td>2024-03-16</td></tr><tr><td>5</td><td>1981-10-19</td><td>HEIKKI</td><td>KOVALAINEN</td><td>2024-03-16</td><td>2024-03-16</td></tr><tr><td>16</td><td>1983-01-11</td><td>ADRIAN</td><td>SUTIL</td><td>2024-03-16</td><td>null</td></tr><tr><td>17</td><td>1976-08-27</td><td>MARK</td><td>WEBBER</td><td>2024-03-16</td><td>null</td></tr><tr><td>18</td><td>1980-01-19</td><td>JENSON</td><td>BUTTON</td><td>2024-03-16</td><td>null</td></tr><tr><td>19</td><td>1979-04-18</td><td>ANTHONY</td><td>DAVIDSON</td><td>2024-03-16</td><td>null</td></tr><tr><td>20</td><td>1987-07-03</td><td>SEBASTIAN</td><td>VETTEL</td><td>2024-03-16</td><td>null</td></tr></tbody></table></div>"
      ]
     },
     "metadata": {
      "application/vnd.databricks.v1+output": {
       "addedWidgets": {},
       "aggData": [],
       "aggError": "",
       "aggOverflow": false,
       "aggSchema": [],
       "aggSeriesLimitReached": false,
       "aggType": "",
       "arguments": {},
       "columnCustomDisplayInfos": {},
       "data": [
        [
         6,
         "1985-01-11",
         "KAZUKI",
         "NAKAJIMA",
         "2024-03-16",
         "2024-03-16"
        ],
        [
         7,
         "1979-02-28",
         "SÉBASTIEN",
         "BOURDAIS",
         "2024-03-16",
         "2024-03-16"
        ],
        [
         8,
         "1979-10-17",
         "KIMI",
         "RÄIKKÖNEN",
         "2024-03-16",
         "2024-03-16"
        ],
        [
         9,
         "1984-12-07",
         "ROBERT",
         "KUBICA",
         "2024-03-16",
         "2024-03-16"
        ],
        [
         10,
         "1982-03-18",
         "TIMO",
         "GLOCK",
         "2024-03-16",
         "2024-03-16"
        ],
        [
         11,
         "1977-01-28",
         "TAKUMA",
         "SATO",
         "2024-03-16",
         null
        ],
        [
         12,
         "1985-07-25",
         "NELSON",
         "PIQUET JR.",
         "2024-03-16",
         null
        ],
        [
         13,
         "1981-04-25",
         "FELIPE",
         "MASSA",
         "2024-03-16",
         null
        ],
        [
         14,
         "1971-03-27",
         "DAVID",
         "COULTHARD",
         "2024-03-16",
         null
        ],
        [
         15,
         "1974-07-13",
         "JARNO",
         "TRULLI",
         "2024-03-16",
         null
        ],
        [
         1,
         "1985-01-07",
         "LEWIS",
         "HAMILTON",
         "2024-03-16",
         "2024-03-16"
        ],
        [
         2,
         "1977-05-10",
         "NICK",
         "HEIDFELD",
         "2024-03-16",
         "2024-03-16"
        ],
        [
         3,
         "1985-06-27",
         "NICO",
         "ROSBERG",
         "2024-03-16",
         "2024-03-16"
        ],
        [
         4,
         "1981-07-29",
         "FERNANDO",
         "ALONSO",
         "2024-03-16",
         "2024-03-16"
        ],
        [
         5,
         "1981-10-19",
         "HEIKKI",
         "KOVALAINEN",
         "2024-03-16",
         "2024-03-16"
        ],
        [
         16,
         "1983-01-11",
         "ADRIAN",
         "SUTIL",
         "2024-03-16",
         null
        ],
        [
         17,
         "1976-08-27",
         "MARK",
         "WEBBER",
         "2024-03-16",
         null
        ],
        [
         18,
         "1980-01-19",
         "JENSON",
         "BUTTON",
         "2024-03-16",
         null
        ],
        [
         19,
         "1979-04-18",
         "ANTHONY",
         "DAVIDSON",
         "2024-03-16",
         null
        ],
        [
         20,
         "1987-07-03",
         "SEBASTIAN",
         "VETTEL",
         "2024-03-16",
         null
        ]
       ],
       "datasetInfos": [],
       "dbfsResultPath": null,
       "isJsonSchema": true,
       "metadata": {},
       "overflow": false,
       "plotOptions": {
        "customPlotOptions": {},
        "displayType": "table",
        "pivotAggregation": null,
        "pivotColumns": null,
        "xColumns": null,
        "yColumns": null
       },
       "removedWidgets": [],
       "schema": [
        {
         "metadata": "{}",
         "name": "driverID",
         "type": "\"integer\""
        },
        {
         "metadata": "{}",
         "name": "dob",
         "type": "\"date\""
        },
        {
         "metadata": "{}",
         "name": "forename",
         "type": "\"string\""
        },
        {
         "metadata": "{}",
         "name": "surname",
         "type": "\"string\""
        },
        {
         "metadata": "{}",
         "name": "createdDate",
         "type": "\"date\""
        },
        {
         "metadata": "{}",
         "name": "updatedDate",
         "type": "\"date\""
        }
       ],
       "type": "table"
      }
     },
     "output_type": "display_data"
    }
   ],
   "source": [
    "%sql\n",
    "SELECT * FROM f1_demo.drivers_merge;"
   ]
  },
  {
   "cell_type": "markdown",
   "metadata": {
    "application/vnd.databricks.v1+cell": {
     "cellMetadata": {},
     "inputWidgets": {},
     "nuid": "24e433e6-555b-49b5-9aeb-07da40970962",
     "showTitle": false,
     "title": ""
    }
   },
   "source": [
    "1. History & Versioning\n",
    "2. Time Travel\n",
    "3. Vaccum (Good for GDPR solutions)"
   ]
  },
  {
   "cell_type": "code",
   "execution_count": 0,
   "metadata": {
    "application/vnd.databricks.v1+cell": {
     "cellMetadata": {
      "byteLimit": 2048000,
      "implicitDf": true,
      "rowLimit": 10000
     },
     "inputWidgets": {},
     "nuid": "cb8dc0ee-3091-40ed-b60b-6f8bdf1f49fc",
     "showTitle": false,
     "title": ""
    }
   },
   "outputs": [
    {
     "output_type": "display_data",
     "data": {
      "text/html": [
       "<style scoped>\n",
       "  .table-result-container {\n",
       "    max-height: 300px;\n",
       "    overflow: auto;\n",
       "  }\n",
       "  table, th, td {\n",
       "    border: 1px solid black;\n",
       "    border-collapse: collapse;\n",
       "  }\n",
       "  th, td {\n",
       "    padding: 5px;\n",
       "  }\n",
       "  th {\n",
       "    text-align: left;\n",
       "  }\n",
       "</style><div class='table-result-container'><table class='table-result'><thead style='background-color: white'><tr><th>version</th><th>timestamp</th><th>userId</th><th>userName</th><th>operation</th><th>operationParameters</th><th>job</th><th>notebook</th><th>clusterId</th><th>readVersion</th><th>isolationLevel</th><th>isBlindAppend</th><th>operationMetrics</th><th>userMetadata</th><th>engineInfo</th></tr></thead><tbody><tr><td>3</td><td>2024-03-16T23:52:27.000+0000</td><td>2818554889652103</td><td>gilbaram20@outlook.com</td><td>MERGE</td><td>Map(predicate -> [\"(cast(driverId#16346 as bigint) = driverId#16299L)\"], matchedPredicates -> [{\"actionType\":\"update\"}], notMatchedPredicates -> [{\"actionType\":\"insert\"}])</td><td>null</td><td>List(4462865897687888)</td><td>0124-093932-co5lwa5n</td><td>2</td><td>WriteSerializable</td><td>false</td><td>Map(numTargetRowsCopied -> 0, numTargetRowsDeleted -> 0, numTargetFilesAdded -> 1, executionTimeMs -> 2551, numTargetRowsInserted -> 5, scanTimeMs -> 1199, numTargetRowsUpdated -> 5, numOutputRows -> 10, numTargetChangeFilesAdded -> 0, numSourceRows -> 10, numTargetFilesRemoved -> 1, rewriteTimeMs -> 1030)</td><td>null</td><td>Databricks-Runtime/11.3.x-scala2.12</td></tr><tr><td>2</td><td>2024-03-16T23:31:48.000+0000</td><td>2818554889652103</td><td>gilbaram20@outlook.com</td><td>MERGE</td><td>Map(predicate -> [\"(cast(driverId#15045 as bigint) = driverId#14971L)\"], matchedPredicates -> [{\"actionType\":\"update\"}], notMatchedPredicates -> [{\"actionType\":\"insert\"}])</td><td>null</td><td>List(4462865897687888)</td><td>0124-093932-co5lwa5n</td><td>1</td><td>WriteSerializable</td><td>false</td><td>Map(numTargetRowsCopied -> 5, numTargetRowsDeleted -> 0, numTargetFilesAdded -> 2, executionTimeMs -> 2990, numTargetRowsInserted -> 5, scanTimeMs -> 1502, numTargetRowsUpdated -> 5, numOutputRows -> 15, numTargetChangeFilesAdded -> 0, numSourceRows -> 10, numTargetFilesRemoved -> 1, rewriteTimeMs -> 972)</td><td>null</td><td>Databricks-Runtime/11.3.x-scala2.12</td></tr><tr><td>1</td><td>2024-03-16T23:27:41.000+0000</td><td>2818554889652103</td><td>gilbaram20@outlook.com</td><td>MERGE</td><td>Map(predicate -> [\"(cast(driverId#13823 as bigint) = driverId#12836L)\"], matchedPredicates -> [{\"actionType\":\"update\"}], notMatchedPredicates -> [{\"actionType\":\"insert\"}])</td><td>null</td><td>List(4462865897687888)</td><td>0124-093932-co5lwa5n</td><td>0</td><td>WriteSerializable</td><td>false</td><td>Map(numTargetRowsCopied -> 0, numTargetRowsDeleted -> 0, numTargetFilesAdded -> 1, executionTimeMs -> 2680, numTargetRowsInserted -> 10, scanTimeMs -> 1524, numTargetRowsUpdated -> 0, numOutputRows -> 10, numTargetChangeFilesAdded -> 0, numSourceRows -> 10, numTargetFilesRemoved -> 0, rewriteTimeMs -> 653)</td><td>null</td><td>Databricks-Runtime/11.3.x-scala2.12</td></tr><tr><td>0</td><td>2024-03-16T23:25:43.000+0000</td><td>2818554889652103</td><td>gilbaram20@outlook.com</td><td>CREATE TABLE</td><td>Map(isManaged -> true, description -> null, partitionBy -> [], properties -> {})</td><td>null</td><td>List(4462865897687888)</td><td>0124-093932-co5lwa5n</td><td>null</td><td>WriteSerializable</td><td>true</td><td>Map()</td><td>null</td><td>Databricks-Runtime/11.3.x-scala2.12</td></tr></tbody></table></div>"
      ]
     },
     "metadata": {
      "application/vnd.databricks.v1+output": {
       "addedWidgets": {},
       "aggData": [],
       "aggError": "",
       "aggOverflow": false,
       "aggSchema": [],
       "aggSeriesLimitReached": false,
       "aggType": "",
       "arguments": {},
       "columnCustomDisplayInfos": {},
       "data": [
        [
         3,
         "2024-03-16T23:52:27.000+0000",
         "2818554889652103",
         "gilbaram20@outlook.com",
         "MERGE",
         {
          "matchedPredicates": "[{\"actionType\":\"update\"}]",
          "notMatchedPredicates": "[{\"actionType\":\"insert\"}]",
          "predicate": "[\"(cast(driverId#16346 as bigint) = driverId#16299L)\"]"
         },
         null,
         [
          "4462865897687888"
         ],
         "0124-093932-co5lwa5n",
         2,
         "WriteSerializable",
         false,
         {
          "executionTimeMs": "2551",
          "numOutputRows": "10",
          "numSourceRows": "10",
          "numTargetChangeFilesAdded": "0",
          "numTargetFilesAdded": "1",
          "numTargetFilesRemoved": "1",
          "numTargetRowsCopied": "0",
          "numTargetRowsDeleted": "0",
          "numTargetRowsInserted": "5",
          "numTargetRowsUpdated": "5",
          "rewriteTimeMs": "1030",
          "scanTimeMs": "1199"
         },
         null,
         "Databricks-Runtime/11.3.x-scala2.12"
        ],
        [
         2,
         "2024-03-16T23:31:48.000+0000",
         "2818554889652103",
         "gilbaram20@outlook.com",
         "MERGE",
         {
          "matchedPredicates": "[{\"actionType\":\"update\"}]",
          "notMatchedPredicates": "[{\"actionType\":\"insert\"}]",
          "predicate": "[\"(cast(driverId#15045 as bigint) = driverId#14971L)\"]"
         },
         null,
         [
          "4462865897687888"
         ],
         "0124-093932-co5lwa5n",
         1,
         "WriteSerializable",
         false,
         {
          "executionTimeMs": "2990",
          "numOutputRows": "15",
          "numSourceRows": "10",
          "numTargetChangeFilesAdded": "0",
          "numTargetFilesAdded": "2",
          "numTargetFilesRemoved": "1",
          "numTargetRowsCopied": "5",
          "numTargetRowsDeleted": "0",
          "numTargetRowsInserted": "5",
          "numTargetRowsUpdated": "5",
          "rewriteTimeMs": "972",
          "scanTimeMs": "1502"
         },
         null,
         "Databricks-Runtime/11.3.x-scala2.12"
        ],
        [
         1,
         "2024-03-16T23:27:41.000+0000",
         "2818554889652103",
         "gilbaram20@outlook.com",
         "MERGE",
         {
          "matchedPredicates": "[{\"actionType\":\"update\"}]",
          "notMatchedPredicates": "[{\"actionType\":\"insert\"}]",
          "predicate": "[\"(cast(driverId#13823 as bigint) = driverId#12836L)\"]"
         },
         null,
         [
          "4462865897687888"
         ],
         "0124-093932-co5lwa5n",
         0,
         "WriteSerializable",
         false,
         {
          "executionTimeMs": "2680",
          "numOutputRows": "10",
          "numSourceRows": "10",
          "numTargetChangeFilesAdded": "0",
          "numTargetFilesAdded": "1",
          "numTargetFilesRemoved": "0",
          "numTargetRowsCopied": "0",
          "numTargetRowsDeleted": "0",
          "numTargetRowsInserted": "10",
          "numTargetRowsUpdated": "0",
          "rewriteTimeMs": "653",
          "scanTimeMs": "1524"
         },
         null,
         "Databricks-Runtime/11.3.x-scala2.12"
        ],
        [
         0,
         "2024-03-16T23:25:43.000+0000",
         "2818554889652103",
         "gilbaram20@outlook.com",
         "CREATE TABLE",
         {
          "description": null,
          "isManaged": "true",
          "partitionBy": "[]",
          "properties": "{}"
         },
         null,
         [
          "4462865897687888"
         ],
         "0124-093932-co5lwa5n",
         null,
         "WriteSerializable",
         true,
         {},
         null,
         "Databricks-Runtime/11.3.x-scala2.12"
        ]
       ],
       "datasetInfos": [],
       "dbfsResultPath": null,
       "isJsonSchema": true,
       "metadata": {},
       "overflow": false,
       "plotOptions": {
        "customPlotOptions": {},
        "displayType": "table",
        "pivotAggregation": null,
        "pivotColumns": null,
        "xColumns": null,
        "yColumns": null
       },
       "removedWidgets": [],
       "schema": [
        {
         "metadata": "{}",
         "name": "version",
         "type": "\"long\""
        },
        {
         "metadata": "{}",
         "name": "timestamp",
         "type": "\"timestamp\""
        },
        {
         "metadata": "{}",
         "name": "userId",
         "type": "\"string\""
        },
        {
         "metadata": "{}",
         "name": "userName",
         "type": "\"string\""
        },
        {
         "metadata": "{}",
         "name": "operation",
         "type": "\"string\""
        },
        {
         "metadata": "{}",
         "name": "operationParameters",
         "type": "{\"type\":\"map\",\"keyType\":\"string\",\"valueType\":\"string\",\"valueContainsNull\":true}"
        },
        {
         "metadata": "{}",
         "name": "job",
         "type": "{\"type\":\"struct\",\"fields\":[{\"name\":\"jobId\",\"type\":\"string\",\"nullable\":true,\"metadata\":{}},{\"name\":\"jobName\",\"type\":\"string\",\"nullable\":true,\"metadata\":{}},{\"name\":\"runId\",\"type\":\"string\",\"nullable\":true,\"metadata\":{}},{\"name\":\"jobOwnerId\",\"type\":\"string\",\"nullable\":true,\"metadata\":{}},{\"name\":\"triggerType\",\"type\":\"string\",\"nullable\":true,\"metadata\":{}}]}"
        },
        {
         "metadata": "{}",
         "name": "notebook",
         "type": "{\"type\":\"struct\",\"fields\":[{\"name\":\"notebookId\",\"type\":\"string\",\"nullable\":true,\"metadata\":{}}]}"
        },
        {
         "metadata": "{}",
         "name": "clusterId",
         "type": "\"string\""
        },
        {
         "metadata": "{}",
         "name": "readVersion",
         "type": "\"long\""
        },
        {
         "metadata": "{}",
         "name": "isolationLevel",
         "type": "\"string\""
        },
        {
         "metadata": "{}",
         "name": "isBlindAppend",
         "type": "\"boolean\""
        },
        {
         "metadata": "{}",
         "name": "operationMetrics",
         "type": "{\"type\":\"map\",\"keyType\":\"string\",\"valueType\":\"string\",\"valueContainsNull\":true}"
        },
        {
         "metadata": "{}",
         "name": "userMetadata",
         "type": "\"string\""
        },
        {
         "metadata": "{}",
         "name": "engineInfo",
         "type": "\"string\""
        }
       ],
       "type": "table"
      }
     },
     "output_type": "display_data"
    }
   ],
   "source": [
    "%sql\n",
    "DESC HISTORY f1_demo.drivers_merge"
   ]
  },
  {
   "cell_type": "code",
   "execution_count": 0,
   "metadata": {
    "application/vnd.databricks.v1+cell": {
     "cellMetadata": {
      "byteLimit": 2048000,
      "implicitDf": true,
      "rowLimit": 10000
     },
     "inputWidgets": {},
     "nuid": "1879dcde-8209-404f-92b8-564112bdb820",
     "showTitle": false,
     "title": ""
    }
   },
   "outputs": [
    {
     "output_type": "display_data",
     "data": {
      "text/html": [
       "<style scoped>\n",
       "  .table-result-container {\n",
       "    max-height: 300px;\n",
       "    overflow: auto;\n",
       "  }\n",
       "  table, th, td {\n",
       "    border: 1px solid black;\n",
       "    border-collapse: collapse;\n",
       "  }\n",
       "  th, td {\n",
       "    padding: 5px;\n",
       "  }\n",
       "  th {\n",
       "    text-align: left;\n",
       "  }\n",
       "</style><div class='table-result-container'><table class='table-result'><thead style='background-color: white'><tr><th>driverID</th><th>dob</th><th>forename</th><th>surname</th><th>createdDate</th><th>updatedDate</th></tr></thead><tbody><tr><td>1</td><td>1985-01-07</td><td>Lewis</td><td>Hamilton</td><td>2024-03-16</td><td>null</td></tr><tr><td>2</td><td>1977-05-10</td><td>Nick</td><td>Heidfeld</td><td>2024-03-16</td><td>null</td></tr><tr><td>3</td><td>1985-06-27</td><td>Nico</td><td>Rosberg</td><td>2024-03-16</td><td>null</td></tr><tr><td>4</td><td>1981-07-29</td><td>Fernando</td><td>Alonso</td><td>2024-03-16</td><td>null</td></tr><tr><td>5</td><td>1981-10-19</td><td>Heikki</td><td>Kovalainen</td><td>2024-03-16</td><td>null</td></tr><tr><td>6</td><td>1985-01-11</td><td>Kazuki</td><td>Nakajima</td><td>2024-03-16</td><td>null</td></tr><tr><td>7</td><td>1979-02-28</td><td>Sébastien</td><td>Bourdais</td><td>2024-03-16</td><td>null</td></tr><tr><td>8</td><td>1979-10-17</td><td>Kimi</td><td>Räikkönen</td><td>2024-03-16</td><td>null</td></tr><tr><td>9</td><td>1984-12-07</td><td>Robert</td><td>Kubica</td><td>2024-03-16</td><td>null</td></tr><tr><td>10</td><td>1982-03-18</td><td>Timo</td><td>Glock</td><td>2024-03-16</td><td>null</td></tr></tbody></table></div>"
      ]
     },
     "metadata": {
      "application/vnd.databricks.v1+output": {
       "addedWidgets": {},
       "aggData": [],
       "aggError": "",
       "aggOverflow": false,
       "aggSchema": [],
       "aggSeriesLimitReached": false,
       "aggType": "",
       "arguments": {},
       "columnCustomDisplayInfos": {},
       "data": [
        [
         1,
         "1985-01-07",
         "Lewis",
         "Hamilton",
         "2024-03-16",
         null
        ],
        [
         2,
         "1977-05-10",
         "Nick",
         "Heidfeld",
         "2024-03-16",
         null
        ],
        [
         3,
         "1985-06-27",
         "Nico",
         "Rosberg",
         "2024-03-16",
         null
        ],
        [
         4,
         "1981-07-29",
         "Fernando",
         "Alonso",
         "2024-03-16",
         null
        ],
        [
         5,
         "1981-10-19",
         "Heikki",
         "Kovalainen",
         "2024-03-16",
         null
        ],
        [
         6,
         "1985-01-11",
         "Kazuki",
         "Nakajima",
         "2024-03-16",
         null
        ],
        [
         7,
         "1979-02-28",
         "Sébastien",
         "Bourdais",
         "2024-03-16",
         null
        ],
        [
         8,
         "1979-10-17",
         "Kimi",
         "Räikkönen",
         "2024-03-16",
         null
        ],
        [
         9,
         "1984-12-07",
         "Robert",
         "Kubica",
         "2024-03-16",
         null
        ],
        [
         10,
         "1982-03-18",
         "Timo",
         "Glock",
         "2024-03-16",
         null
        ]
       ],
       "datasetInfos": [],
       "dbfsResultPath": null,
       "isJsonSchema": true,
       "metadata": {},
       "overflow": false,
       "plotOptions": {
        "customPlotOptions": {},
        "displayType": "table",
        "pivotAggregation": null,
        "pivotColumns": null,
        "xColumns": null,
        "yColumns": null
       },
       "removedWidgets": [],
       "schema": [
        {
         "metadata": "{}",
         "name": "driverID",
         "type": "\"integer\""
        },
        {
         "metadata": "{}",
         "name": "dob",
         "type": "\"date\""
        },
        {
         "metadata": "{}",
         "name": "forename",
         "type": "\"string\""
        },
        {
         "metadata": "{}",
         "name": "surname",
         "type": "\"string\""
        },
        {
         "metadata": "{}",
         "name": "createdDate",
         "type": "\"date\""
        },
        {
         "metadata": "{}",
         "name": "updatedDate",
         "type": "\"date\""
        }
       ],
       "type": "table"
      }
     },
     "output_type": "display_data"
    }
   ],
   "source": [
    "%sql\n",
    "SELECT * from f1_demo.drivers_merge Version AS OF 1;"
   ]
  },
  {
   "cell_type": "code",
   "execution_count": 0,
   "metadata": {
    "application/vnd.databricks.v1+cell": {
     "cellMetadata": {
      "byteLimit": 2048000,
      "implicitDf": true,
      "rowLimit": 10000
     },
     "inputWidgets": {},
     "nuid": "e8c857db-c231-47be-acad-631b5c912696",
     "showTitle": false,
     "title": ""
    }
   },
   "outputs": [
    {
     "output_type": "display_data",
     "data": {
      "text/html": [
       "<style scoped>\n",
       "  .table-result-container {\n",
       "    max-height: 300px;\n",
       "    overflow: auto;\n",
       "  }\n",
       "  table, th, td {\n",
       "    border: 1px solid black;\n",
       "    border-collapse: collapse;\n",
       "  }\n",
       "  th, td {\n",
       "    padding: 5px;\n",
       "  }\n",
       "  th {\n",
       "    text-align: left;\n",
       "  }\n",
       "</style><div class='table-result-container'><table class='table-result'><thead style='background-color: white'><tr><th>driverID</th><th>dob</th><th>forename</th><th>surname</th><th>createdDate</th><th>updatedDate</th></tr></thead><tbody><tr><td>6</td><td>1985-01-11</td><td>KAZUKI</td><td>NAKAJIMA</td><td>2024-03-16</td><td>2024-03-16</td></tr><tr><td>7</td><td>1979-02-28</td><td>SÉBASTIEN</td><td>BOURDAIS</td><td>2024-03-16</td><td>2024-03-16</td></tr><tr><td>8</td><td>1979-10-17</td><td>KIMI</td><td>RÄIKKÖNEN</td><td>2024-03-16</td><td>2024-03-16</td></tr><tr><td>9</td><td>1984-12-07</td><td>ROBERT</td><td>KUBICA</td><td>2024-03-16</td><td>2024-03-16</td></tr><tr><td>10</td><td>1982-03-18</td><td>TIMO</td><td>GLOCK</td><td>2024-03-16</td><td>2024-03-16</td></tr><tr><td>11</td><td>1977-01-28</td><td>TAKUMA</td><td>SATO</td><td>2024-03-16</td><td>null</td></tr><tr><td>12</td><td>1985-07-25</td><td>NELSON</td><td>PIQUET JR.</td><td>2024-03-16</td><td>null</td></tr><tr><td>13</td><td>1981-04-25</td><td>FELIPE</td><td>MASSA</td><td>2024-03-16</td><td>null</td></tr><tr><td>14</td><td>1971-03-27</td><td>DAVID</td><td>COULTHARD</td><td>2024-03-16</td><td>null</td></tr><tr><td>15</td><td>1974-07-13</td><td>JARNO</td><td>TRULLI</td><td>2024-03-16</td><td>null</td></tr><tr><td>1</td><td>1985-01-07</td><td>Lewis</td><td>Hamilton</td><td>2024-03-16</td><td>null</td></tr><tr><td>2</td><td>1977-05-10</td><td>Nick</td><td>Heidfeld</td><td>2024-03-16</td><td>null</td></tr><tr><td>3</td><td>1985-06-27</td><td>Nico</td><td>Rosberg</td><td>2024-03-16</td><td>null</td></tr><tr><td>4</td><td>1981-07-29</td><td>Fernando</td><td>Alonso</td><td>2024-03-16</td><td>null</td></tr><tr><td>5</td><td>1981-10-19</td><td>Heikki</td><td>Kovalainen</td><td>2024-03-16</td><td>null</td></tr></tbody></table></div>"
      ]
     },
     "metadata": {
      "application/vnd.databricks.v1+output": {
       "addedWidgets": {},
       "aggData": [],
       "aggError": "",
       "aggOverflow": false,
       "aggSchema": [],
       "aggSeriesLimitReached": false,
       "aggType": "",
       "arguments": {},
       "columnCustomDisplayInfos": {},
       "data": [
        [
         6,
         "1985-01-11",
         "KAZUKI",
         "NAKAJIMA",
         "2024-03-16",
         "2024-03-16"
        ],
        [
         7,
         "1979-02-28",
         "SÉBASTIEN",
         "BOURDAIS",
         "2024-03-16",
         "2024-03-16"
        ],
        [
         8,
         "1979-10-17",
         "KIMI",
         "RÄIKKÖNEN",
         "2024-03-16",
         "2024-03-16"
        ],
        [
         9,
         "1984-12-07",
         "ROBERT",
         "KUBICA",
         "2024-03-16",
         "2024-03-16"
        ],
        [
         10,
         "1982-03-18",
         "TIMO",
         "GLOCK",
         "2024-03-16",
         "2024-03-16"
        ],
        [
         11,
         "1977-01-28",
         "TAKUMA",
         "SATO",
         "2024-03-16",
         null
        ],
        [
         12,
         "1985-07-25",
         "NELSON",
         "PIQUET JR.",
         "2024-03-16",
         null
        ],
        [
         13,
         "1981-04-25",
         "FELIPE",
         "MASSA",
         "2024-03-16",
         null
        ],
        [
         14,
         "1971-03-27",
         "DAVID",
         "COULTHARD",
         "2024-03-16",
         null
        ],
        [
         15,
         "1974-07-13",
         "JARNO",
         "TRULLI",
         "2024-03-16",
         null
        ],
        [
         1,
         "1985-01-07",
         "Lewis",
         "Hamilton",
         "2024-03-16",
         null
        ],
        [
         2,
         "1977-05-10",
         "Nick",
         "Heidfeld",
         "2024-03-16",
         null
        ],
        [
         3,
         "1985-06-27",
         "Nico",
         "Rosberg",
         "2024-03-16",
         null
        ],
        [
         4,
         "1981-07-29",
         "Fernando",
         "Alonso",
         "2024-03-16",
         null
        ],
        [
         5,
         "1981-10-19",
         "Heikki",
         "Kovalainen",
         "2024-03-16",
         null
        ]
       ],
       "datasetInfos": [],
       "dbfsResultPath": null,
       "isJsonSchema": true,
       "metadata": {},
       "overflow": false,
       "plotOptions": {
        "customPlotOptions": {},
        "displayType": "table",
        "pivotAggregation": null,
        "pivotColumns": null,
        "xColumns": null,
        "yColumns": null
       },
       "removedWidgets": [],
       "schema": [
        {
         "metadata": "{}",
         "name": "driverID",
         "type": "\"integer\""
        },
        {
         "metadata": "{}",
         "name": "dob",
         "type": "\"date\""
        },
        {
         "metadata": "{}",
         "name": "forename",
         "type": "\"string\""
        },
        {
         "metadata": "{}",
         "name": "surname",
         "type": "\"string\""
        },
        {
         "metadata": "{}",
         "name": "createdDate",
         "type": "\"date\""
        },
        {
         "metadata": "{}",
         "name": "updatedDate",
         "type": "\"date\""
        }
       ],
       "type": "table"
      }
     },
     "output_type": "display_data"
    }
   ],
   "source": [
    "%sql\n",
    "SELECT * from f1_demo.drivers_merge Version AS OF 2;"
   ]
  },
  {
   "cell_type": "code",
   "execution_count": 0,
   "metadata": {
    "application/vnd.databricks.v1+cell": {
     "cellMetadata": {
      "byteLimit": 2048000,
      "implicitDf": true,
      "rowLimit": 10000
     },
     "inputWidgets": {},
     "nuid": "94b4d0f4-1c8e-4b02-a65e-e470bc894534",
     "showTitle": false,
     "title": ""
    }
   },
   "outputs": [
    {
     "output_type": "display_data",
     "data": {
      "text/html": [
       "<style scoped>\n",
       "  .table-result-container {\n",
       "    max-height: 300px;\n",
       "    overflow: auto;\n",
       "  }\n",
       "  table, th, td {\n",
       "    border: 1px solid black;\n",
       "    border-collapse: collapse;\n",
       "  }\n",
       "  th, td {\n",
       "    padding: 5px;\n",
       "  }\n",
       "  th {\n",
       "    text-align: left;\n",
       "  }\n",
       "</style><div class='table-result-container'><table class='table-result'><thead style='background-color: white'><tr><th>driverID</th><th>dob</th><th>forename</th><th>surname</th><th>createdDate</th><th>updatedDate</th></tr></thead><tbody><tr><td>1</td><td>1985-01-07</td><td>Lewis</td><td>Hamilton</td><td>2024-03-16</td><td>null</td></tr><tr><td>2</td><td>1977-05-10</td><td>Nick</td><td>Heidfeld</td><td>2024-03-16</td><td>null</td></tr><tr><td>3</td><td>1985-06-27</td><td>Nico</td><td>Rosberg</td><td>2024-03-16</td><td>null</td></tr><tr><td>4</td><td>1981-07-29</td><td>Fernando</td><td>Alonso</td><td>2024-03-16</td><td>null</td></tr><tr><td>5</td><td>1981-10-19</td><td>Heikki</td><td>Kovalainen</td><td>2024-03-16</td><td>null</td></tr><tr><td>6</td><td>1985-01-11</td><td>Kazuki</td><td>Nakajima</td><td>2024-03-16</td><td>null</td></tr><tr><td>7</td><td>1979-02-28</td><td>Sébastien</td><td>Bourdais</td><td>2024-03-16</td><td>null</td></tr><tr><td>8</td><td>1979-10-17</td><td>Kimi</td><td>Räikkönen</td><td>2024-03-16</td><td>null</td></tr><tr><td>9</td><td>1984-12-07</td><td>Robert</td><td>Kubica</td><td>2024-03-16</td><td>null</td></tr><tr><td>10</td><td>1982-03-18</td><td>Timo</td><td>Glock</td><td>2024-03-16</td><td>null</td></tr></tbody></table></div>"
      ]
     },
     "metadata": {
      "application/vnd.databricks.v1+output": {
       "addedWidgets": {},
       "aggData": [],
       "aggError": "",
       "aggOverflow": false,
       "aggSchema": [],
       "aggSeriesLimitReached": false,
       "aggType": "",
       "arguments": {},
       "columnCustomDisplayInfos": {},
       "data": [
        [
         1,
         "1985-01-07",
         "Lewis",
         "Hamilton",
         "2024-03-16",
         null
        ],
        [
         2,
         "1977-05-10",
         "Nick",
         "Heidfeld",
         "2024-03-16",
         null
        ],
        [
         3,
         "1985-06-27",
         "Nico",
         "Rosberg",
         "2024-03-16",
         null
        ],
        [
         4,
         "1981-07-29",
         "Fernando",
         "Alonso",
         "2024-03-16",
         null
        ],
        [
         5,
         "1981-10-19",
         "Heikki",
         "Kovalainen",
         "2024-03-16",
         null
        ],
        [
         6,
         "1985-01-11",
         "Kazuki",
         "Nakajima",
         "2024-03-16",
         null
        ],
        [
         7,
         "1979-02-28",
         "Sébastien",
         "Bourdais",
         "2024-03-16",
         null
        ],
        [
         8,
         "1979-10-17",
         "Kimi",
         "Räikkönen",
         "2024-03-16",
         null
        ],
        [
         9,
         "1984-12-07",
         "Robert",
         "Kubica",
         "2024-03-16",
         null
        ],
        [
         10,
         "1982-03-18",
         "Timo",
         "Glock",
         "2024-03-16",
         null
        ]
       ],
       "datasetInfos": [],
       "dbfsResultPath": null,
       "isJsonSchema": true,
       "metadata": {},
       "overflow": false,
       "plotOptions": {
        "customPlotOptions": {},
        "displayType": "table",
        "pivotAggregation": null,
        "pivotColumns": null,
        "xColumns": null,
        "yColumns": null
       },
       "removedWidgets": [],
       "schema": [
        {
         "metadata": "{}",
         "name": "driverID",
         "type": "\"integer\""
        },
        {
         "metadata": "{}",
         "name": "dob",
         "type": "\"date\""
        },
        {
         "metadata": "{}",
         "name": "forename",
         "type": "\"string\""
        },
        {
         "metadata": "{}",
         "name": "surname",
         "type": "\"string\""
        },
        {
         "metadata": "{}",
         "name": "createdDate",
         "type": "\"date\""
        },
        {
         "metadata": "{}",
         "name": "updatedDate",
         "type": "\"date\""
        }
       ],
       "type": "table"
      }
     },
     "output_type": "display_data"
    }
   ],
   "source": [
    "%sql\n",
    "SELECT * from f1_demo.drivers_merge TIMESTAMP AS OF '2024-03-16T23:27:41.000+0000';"
   ]
  },
  {
   "cell_type": "code",
   "execution_count": 0,
   "metadata": {
    "application/vnd.databricks.v1+cell": {
     "cellMetadata": {
      "byteLimit": 2048000,
      "rowLimit": 10000
     },
     "inputWidgets": {},
     "nuid": "ac7e3bb5-a801-4328-8d1f-18232a89d681",
     "showTitle": false,
     "title": ""
    }
   },
   "outputs": [],
   "source": [
    "df = spark.read.format(\"delta\").option(\"timestampAsOf\", '2024-03-16T23:27:41.000+0000').load(\"/mnt/formula1dl612/demo/drivers_merge\")"
   ]
  },
  {
   "cell_type": "code",
   "execution_count": 0,
   "metadata": {
    "application/vnd.databricks.v1+cell": {
     "cellMetadata": {
      "byteLimit": 2048000,
      "rowLimit": 10000
     },
     "inputWidgets": {},
     "nuid": "b6afa0e1-d0f8-47b9-93ea-dc3cf2263275",
     "showTitle": false,
     "title": ""
    }
   },
   "outputs": [
    {
     "output_type": "display_data",
     "data": {
      "text/html": [
       "<style scoped>\n",
       "  .table-result-container {\n",
       "    max-height: 300px;\n",
       "    overflow: auto;\n",
       "  }\n",
       "  table, th, td {\n",
       "    border: 1px solid black;\n",
       "    border-collapse: collapse;\n",
       "  }\n",
       "  th, td {\n",
       "    padding: 5px;\n",
       "  }\n",
       "  th {\n",
       "    text-align: left;\n",
       "  }\n",
       "</style><div class='table-result-container'><table class='table-result'><thead style='background-color: white'><tr><th>driverID</th><th>dob</th><th>forename</th><th>surname</th><th>createdDate</th><th>updatedDate</th></tr></thead><tbody><tr><td>1</td><td>1985-01-07</td><td>Lewis</td><td>Hamilton</td><td>2024-03-16</td><td>null</td></tr><tr><td>2</td><td>1977-05-10</td><td>Nick</td><td>Heidfeld</td><td>2024-03-16</td><td>null</td></tr><tr><td>3</td><td>1985-06-27</td><td>Nico</td><td>Rosberg</td><td>2024-03-16</td><td>null</td></tr><tr><td>4</td><td>1981-07-29</td><td>Fernando</td><td>Alonso</td><td>2024-03-16</td><td>null</td></tr><tr><td>5</td><td>1981-10-19</td><td>Heikki</td><td>Kovalainen</td><td>2024-03-16</td><td>null</td></tr><tr><td>6</td><td>1985-01-11</td><td>Kazuki</td><td>Nakajima</td><td>2024-03-16</td><td>null</td></tr><tr><td>7</td><td>1979-02-28</td><td>Sébastien</td><td>Bourdais</td><td>2024-03-16</td><td>null</td></tr><tr><td>8</td><td>1979-10-17</td><td>Kimi</td><td>Räikkönen</td><td>2024-03-16</td><td>null</td></tr><tr><td>9</td><td>1984-12-07</td><td>Robert</td><td>Kubica</td><td>2024-03-16</td><td>null</td></tr><tr><td>10</td><td>1982-03-18</td><td>Timo</td><td>Glock</td><td>2024-03-16</td><td>null</td></tr></tbody></table></div>"
      ]
     },
     "metadata": {
      "application/vnd.databricks.v1+output": {
       "addedWidgets": {},
       "aggData": [],
       "aggError": "",
       "aggOverflow": false,
       "aggSchema": [],
       "aggSeriesLimitReached": false,
       "aggType": "",
       "arguments": {},
       "columnCustomDisplayInfos": {},
       "data": [
        [
         1,
         "1985-01-07",
         "Lewis",
         "Hamilton",
         "2024-03-16",
         null
        ],
        [
         2,
         "1977-05-10",
         "Nick",
         "Heidfeld",
         "2024-03-16",
         null
        ],
        [
         3,
         "1985-06-27",
         "Nico",
         "Rosberg",
         "2024-03-16",
         null
        ],
        [
         4,
         "1981-07-29",
         "Fernando",
         "Alonso",
         "2024-03-16",
         null
        ],
        [
         5,
         "1981-10-19",
         "Heikki",
         "Kovalainen",
         "2024-03-16",
         null
        ],
        [
         6,
         "1985-01-11",
         "Kazuki",
         "Nakajima",
         "2024-03-16",
         null
        ],
        [
         7,
         "1979-02-28",
         "Sébastien",
         "Bourdais",
         "2024-03-16",
         null
        ],
        [
         8,
         "1979-10-17",
         "Kimi",
         "Räikkönen",
         "2024-03-16",
         null
        ],
        [
         9,
         "1984-12-07",
         "Robert",
         "Kubica",
         "2024-03-16",
         null
        ],
        [
         10,
         "1982-03-18",
         "Timo",
         "Glock",
         "2024-03-16",
         null
        ]
       ],
       "datasetInfos": [],
       "dbfsResultPath": null,
       "isJsonSchema": true,
       "metadata": {},
       "overflow": false,
       "plotOptions": {
        "customPlotOptions": {},
        "displayType": "table",
        "pivotAggregation": null,
        "pivotColumns": null,
        "xColumns": null,
        "yColumns": null
       },
       "removedWidgets": [],
       "schema": [
        {
         "metadata": "{}",
         "name": "driverID",
         "type": "\"integer\""
        },
        {
         "metadata": "{}",
         "name": "dob",
         "type": "\"date\""
        },
        {
         "metadata": "{}",
         "name": "forename",
         "type": "\"string\""
        },
        {
         "metadata": "{}",
         "name": "surname",
         "type": "\"string\""
        },
        {
         "metadata": "{}",
         "name": "createdDate",
         "type": "\"date\""
        },
        {
         "metadata": "{}",
         "name": "updatedDate",
         "type": "\"date\""
        }
       ],
       "type": "table"
      }
     },
     "output_type": "display_data"
    }
   ],
   "source": [
    "display(df)"
   ]
  },
  {
   "cell_type": "code",
   "execution_count": 0,
   "metadata": {
    "application/vnd.databricks.v1+cell": {
     "cellMetadata": {
      "byteLimit": 2048000,
      "implicitDf": true,
      "rowLimit": 10000
     },
     "inputWidgets": {},
     "nuid": "4c062c9a-e320-4668-a403-eb4a1e2d48e5",
     "showTitle": false,
     "title": ""
    }
   },
   "outputs": [
    {
     "output_type": "display_data",
     "data": {
      "text/html": [
       "<style scoped>\n",
       "  .table-result-container {\n",
       "    max-height: 300px;\n",
       "    overflow: auto;\n",
       "  }\n",
       "  table, th, td {\n",
       "    border: 1px solid black;\n",
       "    border-collapse: collapse;\n",
       "  }\n",
       "  th, td {\n",
       "    padding: 5px;\n",
       "  }\n",
       "  th {\n",
       "    text-align: left;\n",
       "  }\n",
       "</style><div class='table-result-container'><table class='table-result'><thead style='background-color: white'><tr><th>path</th></tr></thead><tbody><tr><td>dbfs:/mnt/formula1dl612/demo/drivers_merge</td></tr></tbody></table></div>"
      ]
     },
     "metadata": {
      "application/vnd.databricks.v1+output": {
       "addedWidgets": {},
       "aggData": [],
       "aggError": "",
       "aggOverflow": false,
       "aggSchema": [],
       "aggSeriesLimitReached": false,
       "aggType": "",
       "arguments": {},
       "columnCustomDisplayInfos": {},
       "data": [
        [
         "dbfs:/mnt/formula1dl612/demo/drivers_merge"
        ]
       ],
       "datasetInfos": [],
       "dbfsResultPath": null,
       "isJsonSchema": true,
       "metadata": {},
       "overflow": false,
       "plotOptions": {
        "customPlotOptions": {},
        "displayType": "table",
        "pivotAggregation": null,
        "pivotColumns": null,
        "xColumns": null,
        "yColumns": null
       },
       "removedWidgets": [],
       "schema": [
        {
         "metadata": "{}",
         "name": "path",
         "type": "\"string\""
        }
       ],
       "type": "table"
      }
     },
     "output_type": "display_data"
    }
   ],
   "source": [
    "%sql\n",
    "VACUUM f1_demo.drivers_merge"
   ]
  },
  {
   "cell_type": "code",
   "execution_count": 0,
   "metadata": {
    "application/vnd.databricks.v1+cell": {
     "cellMetadata": {
      "byteLimit": 2048000,
      "implicitDf": true,
      "rowLimit": 10000
     },
     "inputWidgets": {},
     "nuid": "7cc1c7b2-50a3-45ed-875b-87f4e72b56e3",
     "showTitle": false,
     "title": ""
    }
   },
   "outputs": [
    {
     "output_type": "display_data",
     "data": {
      "text/html": [
       "<style scoped>\n",
       "  .table-result-container {\n",
       "    max-height: 300px;\n",
       "    overflow: auto;\n",
       "  }\n",
       "  table, th, td {\n",
       "    border: 1px solid black;\n",
       "    border-collapse: collapse;\n",
       "  }\n",
       "  th, td {\n",
       "    padding: 5px;\n",
       "  }\n",
       "  th {\n",
       "    text-align: left;\n",
       "  }\n",
       "</style><div class='table-result-container'><table class='table-result'><thead style='background-color: white'><tr><th>driverID</th><th>dob</th><th>forename</th><th>surname</th><th>createdDate</th><th>updatedDate</th></tr></thead><tbody><tr><td>1</td><td>1985-01-07</td><td>Lewis</td><td>Hamilton</td><td>2024-03-16</td><td>null</td></tr><tr><td>2</td><td>1977-05-10</td><td>Nick</td><td>Heidfeld</td><td>2024-03-16</td><td>null</td></tr><tr><td>3</td><td>1985-06-27</td><td>Nico</td><td>Rosberg</td><td>2024-03-16</td><td>null</td></tr><tr><td>4</td><td>1981-07-29</td><td>Fernando</td><td>Alonso</td><td>2024-03-16</td><td>null</td></tr><tr><td>5</td><td>1981-10-19</td><td>Heikki</td><td>Kovalainen</td><td>2024-03-16</td><td>null</td></tr><tr><td>6</td><td>1985-01-11</td><td>Kazuki</td><td>Nakajima</td><td>2024-03-16</td><td>null</td></tr><tr><td>7</td><td>1979-02-28</td><td>Sébastien</td><td>Bourdais</td><td>2024-03-16</td><td>null</td></tr><tr><td>8</td><td>1979-10-17</td><td>Kimi</td><td>Räikkönen</td><td>2024-03-16</td><td>null</td></tr><tr><td>9</td><td>1984-12-07</td><td>Robert</td><td>Kubica</td><td>2024-03-16</td><td>null</td></tr><tr><td>10</td><td>1982-03-18</td><td>Timo</td><td>Glock</td><td>2024-03-16</td><td>null</td></tr></tbody></table></div>"
      ]
     },
     "metadata": {
      "application/vnd.databricks.v1+output": {
       "addedWidgets": {},
       "aggData": [],
       "aggError": "",
       "aggOverflow": false,
       "aggSchema": [],
       "aggSeriesLimitReached": false,
       "aggType": "",
       "arguments": {},
       "columnCustomDisplayInfos": {},
       "data": [
        [
         1,
         "1985-01-07",
         "Lewis",
         "Hamilton",
         "2024-03-16",
         null
        ],
        [
         2,
         "1977-05-10",
         "Nick",
         "Heidfeld",
         "2024-03-16",
         null
        ],
        [
         3,
         "1985-06-27",
         "Nico",
         "Rosberg",
         "2024-03-16",
         null
        ],
        [
         4,
         "1981-07-29",
         "Fernando",
         "Alonso",
         "2024-03-16",
         null
        ],
        [
         5,
         "1981-10-19",
         "Heikki",
         "Kovalainen",
         "2024-03-16",
         null
        ],
        [
         6,
         "1985-01-11",
         "Kazuki",
         "Nakajima",
         "2024-03-16",
         null
        ],
        [
         7,
         "1979-02-28",
         "Sébastien",
         "Bourdais",
         "2024-03-16",
         null
        ],
        [
         8,
         "1979-10-17",
         "Kimi",
         "Räikkönen",
         "2024-03-16",
         null
        ],
        [
         9,
         "1984-12-07",
         "Robert",
         "Kubica",
         "2024-03-16",
         null
        ],
        [
         10,
         "1982-03-18",
         "Timo",
         "Glock",
         "2024-03-16",
         null
        ]
       ],
       "datasetInfos": [],
       "dbfsResultPath": null,
       "isJsonSchema": true,
       "metadata": {},
       "overflow": false,
       "plotOptions": {
        "customPlotOptions": {},
        "displayType": "table",
        "pivotAggregation": null,
        "pivotColumns": null,
        "xColumns": null,
        "yColumns": null
       },
       "removedWidgets": [],
       "schema": [
        {
         "metadata": "{}",
         "name": "driverID",
         "type": "\"integer\""
        },
        {
         "metadata": "{}",
         "name": "dob",
         "type": "\"date\""
        },
        {
         "metadata": "{}",
         "name": "forename",
         "type": "\"string\""
        },
        {
         "metadata": "{}",
         "name": "surname",
         "type": "\"string\""
        },
        {
         "metadata": "{}",
         "name": "createdDate",
         "type": "\"date\""
        },
        {
         "metadata": "{}",
         "name": "updatedDate",
         "type": "\"date\""
        }
       ],
       "type": "table"
      }
     },
     "output_type": "display_data"
    }
   ],
   "source": [
    "%sql\n",
    "SELECT * from f1_demo.drivers_merge TIMESTAMP AS OF '2024-03-16T23:27:41.000+0000';"
   ]
  },
  {
   "cell_type": "code",
   "execution_count": 0,
   "metadata": {
    "application/vnd.databricks.v1+cell": {
     "cellMetadata": {
      "byteLimit": 2048000,
      "implicitDf": true,
      "rowLimit": 10000
     },
     "inputWidgets": {},
     "nuid": "b9783767-c819-468e-861c-cc273aeca055",
     "showTitle": false,
     "title": ""
    }
   },
   "outputs": [
    {
     "output_type": "display_data",
     "data": {
      "text/html": [
       "<style scoped>\n",
       "  .table-result-container {\n",
       "    max-height: 300px;\n",
       "    overflow: auto;\n",
       "  }\n",
       "  table, th, td {\n",
       "    border: 1px solid black;\n",
       "    border-collapse: collapse;\n",
       "  }\n",
       "  th, td {\n",
       "    padding: 5px;\n",
       "  }\n",
       "  th {\n",
       "    text-align: left;\n",
       "  }\n",
       "</style><div class='table-result-container'><table class='table-result'><thead style='background-color: white'><tr><th>path</th></tr></thead><tbody><tr><td>dbfs:/mnt/formula1dl612/demo/drivers_merge</td></tr></tbody></table></div>"
      ]
     },
     "metadata": {
      "application/vnd.databricks.v1+output": {
       "addedWidgets": {},
       "aggData": [],
       "aggError": "",
       "aggOverflow": false,
       "aggSchema": [],
       "aggSeriesLimitReached": false,
       "aggType": "",
       "arguments": {},
       "columnCustomDisplayInfos": {},
       "data": [
        [
         "dbfs:/mnt/formula1dl612/demo/drivers_merge"
        ]
       ],
       "datasetInfos": [],
       "dbfsResultPath": null,
       "isJsonSchema": true,
       "metadata": {},
       "overflow": false,
       "plotOptions": {
        "customPlotOptions": {},
        "displayType": "table",
        "pivotAggregation": null,
        "pivotColumns": null,
        "xColumns": null,
        "yColumns": null
       },
       "removedWidgets": [],
       "schema": [
        {
         "metadata": "{}",
         "name": "path",
         "type": "\"string\""
        }
       ],
       "type": "table"
      }
     },
     "output_type": "display_data"
    }
   ],
   "source": [
    "%sql\n",
    "SET spark.databricks.delta.retentionDurationCheck.enabled = false;\n",
    "VACUUM f1_demo.drivers_merge RETAIN 0 HOURS"
   ]
  },
  {
   "cell_type": "code",
   "execution_count": 0,
   "metadata": {
    "application/vnd.databricks.v1+cell": {
     "cellMetadata": {
      "byteLimit": 2048000,
      "implicitDf": true,
      "rowLimit": 10000
     },
     "inputWidgets": {},
     "nuid": "956ebe9f-8514-4ec8-b335-0781fe3a3a35",
     "showTitle": false,
     "title": ""
    }
   },
   "outputs": [
    {
     "output_type": "display_data",
     "data": {
      "text/html": [
       "<style scoped>\n",
       "  .ansiout {\n",
       "    display: block;\n",
       "    unicode-bidi: embed;\n",
       "    white-space: pre-wrap;\n",
       "    word-wrap: break-word;\n",
       "    word-break: break-all;\n",
       "    font-family: \"Menlo\", \"Monaco\", \"Consolas\", \"Ubuntu Mono\", \"Source Code Pro\", monospace;\n",
       "    font-size: 13px;\n",
       "    color: #555;\n",
       "    margin-left: 4px;\n",
       "    line-height: 19px;\n",
       "  }\n",
       "</style>\n",
       "org.apache.spark.SparkException: Job aborted due to stage failure: Task 0 in stage 157.0 failed 4 times, most recent failure: Lost task 0.3 in stage 157.0 (TID 2123) (10.139.64.4 executor driver): com.databricks.sql.io.FileReadException: Error while reading file dbfs:/mnt/formula1dl612/demo/drivers_merge/part-00000-d1b6711b-5896-451d-b4a2-339255b51e44-c000.snappy.parquet.\n",
       "\tat org.apache.spark.sql.execution.datasources.FileScanRDD$$anon$1$$anon$2.logFileNameAndThrow(FileScanRDD.scala:654)\n",
       "\tat org.apache.spark.sql.execution.datasources.FileScanRDD$$anon$1$$anon$2.getNext(FileScanRDD.scala:623)\n",
       "\tat org.apache.spark.util.NextIterator.hasNext(NextIterator.scala:73)\n",
       "\tat org.apache.spark.sql.execution.datasources.FileScanRDD$$anon$1.nextIterator(FileScanRDD.scala:747)\n",
       "\tat org.apache.spark.sql.execution.datasources.FileScanRDD$$anon$1.$anonfun$hasNext$1(FileScanRDD.scala:456)\n",
       "\tat scala.runtime.java8.JFunction0$mcZ$sp.apply(JFunction0$mcZ$sp.java:23)\n",
       "\tat com.databricks.spark.util.ExecutorFrameProfiler$.record(ExecutorFrameProfiler.scala:110)\n",
       "\tat org.apache.spark.sql.execution.datasources.FileScanRDD$$anon$1.hasNext(FileScanRDD.scala:451)\n",
       "\tat org.apache.spark.sql.execution.FileSourceScanExec$$anon$1.hasNext(DataSourceScanExec.scala:1983)\n",
       "\tat org.apache.spark.sql.catalyst.expressions.GeneratedClass$GeneratedIteratorForCodegenStage1.columnartorow_nextBatch_0$(Unknown Source)\n",
       "\tat org.apache.spark.sql.catalyst.expressions.GeneratedClass$GeneratedIteratorForCodegenStage1.processNext(Unknown Source)\n",
       "\tat org.apache.spark.sql.execution.BufferedRowIterator.hasNext(BufferedRowIterator.java:43)\n",
       "\tat org.apache.spark.sql.execution.WholeStageCodegenExec$$anon$1.hasNext(WholeStageCodegenExec.scala:761)\n",
       "\tat org.apache.spark.sql.execution.collect.UnsafeRowBatchUtils$.encodeUnsafeRows(UnsafeRowBatchUtils.scala:80)\n",
       "\tat org.apache.spark.sql.execution.collect.Collector.$anonfun$processFunc$1(Collector.scala:186)\n",
       "\tat org.apache.spark.scheduler.ResultTask.$anonfun$runTask$3(ResultTask.scala:75)\n",
       "\tat com.databricks.spark.util.ExecutorFrameProfiler$.record(ExecutorFrameProfiler.scala:110)\n",
       "\tat org.apache.spark.scheduler.ResultTask.$anonfun$runTask$1(ResultTask.scala:75)\n",
       "\tat com.databricks.spark.util.ExecutorFrameProfiler$.record(ExecutorFrameProfiler.scala:110)\n",
       "\tat org.apache.spark.scheduler.ResultTask.runTask(ResultTask.scala:55)\n",
       "\tat org.apache.spark.scheduler.Task.doRunTask(Task.scala:174)\n",
       "\tat org.apache.spark.scheduler.Task.$anonfun$run$4(Task.scala:137)\n",
       "\tat com.databricks.unity.UCSEphemeralState$Handle.runWith(UCSEphemeralState.scala:41)\n",
       "\tat com.databricks.unity.HandleImpl.runWith(UCSHandle.scala:99)\n",
       "\tat com.databricks.unity.HandleImpl.$anonfun$runWithAndClose$1(UCSHandle.scala:104)\n",
       "\tat scala.util.Using$.resource(Using.scala:269)\n",
       "\tat com.databricks.unity.HandleImpl.runWithAndClose(UCSHandle.scala:103)\n",
       "\tat org.apache.spark.scheduler.Task.$anonfun$run$1(Task.scala:137)\n",
       "\tat com.databricks.spark.util.ExecutorFrameProfiler$.record(ExecutorFrameProfiler.scala:110)\n",
       "\tat org.apache.spark.scheduler.Task.run(Task.scala:96)\n",
       "\tat org.apache.spark.executor.Executor$TaskRunner.$anonfun$run$13(Executor.scala:902)\n",
       "\tat org.apache.spark.util.Utils$.tryWithSafeFinally(Utils.scala:1697)\n",
       "\tat org.apache.spark.executor.Executor$TaskRunner.$anonfun$run$4(Executor.scala:905)\n",
       "\tat scala.runtime.java8.JFunction0$mcV$sp.apply(JFunction0$mcV$sp.java:23)\n",
       "\tat com.databricks.spark.util.ExecutorFrameProfiler$.record(ExecutorFrameProfiler.scala:110)\n",
       "\tat org.apache.spark.executor.Executor$TaskRunner.run(Executor.scala:760)\n",
       "\tat java.util.concurrent.ThreadPoolExecutor.runWorker(ThreadPoolExecutor.java:1149)\n",
       "\tat java.util.concurrent.ThreadPoolExecutor$Worker.run(ThreadPoolExecutor.java:624)\n",
       "\tat java.lang.Thread.run(Thread.java:750)\n",
       "Caused by: java.io.IOException: java.io.FileNotFoundException: Operation failed: \"The specified path does not exist.\", 404, GET, https://formula1dl612.dfs.core.windows.net/demo/drivers_merge/part-00000-d1b6711b-5896-451d-b4a2-339255b51e44-c000.snappy.parquet?timeout=90, PathNotFound, \"The specified path does not exist. RequestId:e7e619c5-001f-000c-075b-78d31e000000 Time:2024-03-17T11:08:30.3348626Z\"\n",
       "\tat shaded.databricks.azurebfs.org.apache.hadoop.fs.azurebfs.services.ReadBufferWorker.run(ReadBufferWorker.java:78)\n",
       "\t... 1 more\n",
       "Caused by: java.io.FileNotFoundException: Operation failed: \"The specified path does not exist.\", 404, GET, https://formula1dl612.dfs.core.windows.net/demo/drivers_merge/part-00000-d1b6711b-5896-451d-b4a2-339255b51e44-c000.snappy.parquet?timeout=90, PathNotFound, \"The specified path does not exist. RequestId:e7e619c5-001f-000c-075b-78d31e000000 Time:2024-03-17T11:08:30.3348626Z\"\n",
       "\tat shaded.databricks.azurebfs.org.apache.hadoop.fs.azurebfs.services.AbfsInputStream.readRemote(AbfsInputStream.java:617)\n",
       "\tat shaded.databricks.azurebfs.org.apache.hadoop.fs.azurebfs.services.ReadBufferWorker.lambda$run$0(ReadBufferWorker.java:66)\n",
       "\tat com.databricks.common.SparkTaskIOMetrics.withTaskIOMetrics(SparkTaskIOMetrics.scala:43)\n",
       "\tat shaded.databricks.azurebfs.org.apache.hadoop.fs.azurebfs.services.ReadBufferWorker.run(ReadBufferWorker.java:65)\n",
       "\t... 1 more\n",
       "\n",
       "Driver stacktrace:\n",
       "\tat org.apache.spark.scheduler.DAGScheduler.failJobAndIndependentStages(DAGScheduler.scala:3386)\n",
       "\tat org.apache.spark.scheduler.DAGScheduler.$anonfun$abortStage$2(DAGScheduler.scala:3318)\n",
       "\tat org.apache.spark.scheduler.DAGScheduler.$anonfun$abortStage$2$adapted(DAGScheduler.scala:3309)\n",
       "\tat scala.collection.mutable.ResizableArray.foreach(ResizableArray.scala:62)\n",
       "\tat scala.collection.mutable.ResizableArray.foreach$(ResizableArray.scala:55)\n",
       "\tat scala.collection.mutable.ArrayBuffer.foreach(ArrayBuffer.scala:49)\n",
       "\tat org.apache.spark.scheduler.DAGScheduler.abortStage(DAGScheduler.scala:3309)\n",
       "\tat org.apache.spark.scheduler.DAGScheduler.$anonfun$handleTaskSetFailed$1(DAGScheduler.scala:1433)\n",
       "\tat org.apache.spark.scheduler.DAGScheduler.$anonfun$handleTaskSetFailed$1$adapted(DAGScheduler.scala:1433)\n",
       "\tat scala.Option.foreach(Option.scala:407)\n",
       "\tat org.apache.spark.scheduler.DAGScheduler.handleTaskSetFailed(DAGScheduler.scala:1433)\n",
       "\tat org.apache.spark.scheduler.DAGSchedulerEventProcessLoop.doOnReceive(DAGScheduler.scala:3598)\n",
       "\tat org.apache.spark.scheduler.DAGSchedulerEventProcessLoop.onReceive(DAGScheduler.scala:3536)\n",
       "\tat org.apache.spark.scheduler.DAGSchedulerEventProcessLoop.onReceive(DAGScheduler.scala:3524)\n",
       "\tat org.apache.spark.util.EventLoop$$anon$1.run(EventLoop.scala:51)\n",
       "\tat org.apache.spark.scheduler.DAGScheduler.$anonfun$runJob$1(DAGScheduler.scala:1182)\n",
       "\tat scala.runtime.java8.JFunction0$mcV$sp.apply(JFunction0$mcV$sp.java:23)\n",
       "\tat com.databricks.spark.util.FrameProfiler$.record(FrameProfiler.scala:80)\n",
       "\tat org.apache.spark.scheduler.DAGScheduler.runJob(DAGScheduler.scala:1170)\n",
       "\tat org.apache.spark.SparkContext.runJobInternal(SparkContext.scala:2746)\n",
       "\tat org.apache.spark.sql.execution.collect.Collector.$anonfun$runSparkJobs$1(Collector.scala:312)\n",
       "\tat scala.runtime.java8.JFunction0$mcV$sp.apply(JFunction0$mcV$sp.java:23)\n",
       "\tat com.databricks.spark.util.FrameProfiler$.record(FrameProfiler.scala:80)\n",
       "\tat org.apache.spark.sql.execution.collect.Collector.runSparkJobs(Collector.scala:271)\n",
       "\tat org.apache.spark.sql.execution.collect.Collector.collect(Collector.scala:322)\n",
       "\tat org.apache.spark.sql.execution.collect.Collector$.collect(Collector.scala:105)\n",
       "\tat org.apache.spark.sql.execution.collect.Collector$.collect(Collector.scala:112)\n",
       "\tat org.apache.spark.sql.execution.qrc.InternalRowFormat$.collect(cachedSparkResults.scala:115)\n",
       "\tat org.apache.spark.sql.execution.qrc.InternalRowFormat$.collect(cachedSparkResults.scala:104)\n",
       "\tat org.apache.spark.sql.execution.qrc.InternalRowFormat$.collect(cachedSparkResults.scala:88)\n",
       "\tat org.apache.spark.sql.execution.qrc.ResultCacheManager.$anonfun$computeResult$1(ResultCacheManager.scala:527)\n",
       "\tat com.databricks.spark.util.FrameProfiler$.record(FrameProfiler.scala:80)\n",
       "\tat org.apache.spark.sql.execution.qrc.ResultCacheManager.collectResult$1(ResultCacheManager.scala:519)\n",
       "\tat org.apache.spark.sql.execution.qrc.ResultCacheManager.computeResult(ResultCacheManager.scala:539)\n",
       "\tat org.apache.spark.sql.execution.qrc.ResultCacheManager.$anonfun$getOrComputeResultInternal$1(ResultCacheManager.scala:396)\n",
       "\tat scala.Option.getOrElse(Option.scala:189)\n",
       "\tat org.apache.spark.sql.execution.qrc.ResultCacheManager.getOrComputeResultInternal(ResultCacheManager.scala:390)\n",
       "\tat org.apache.spark.sql.execution.qrc.ResultCacheManager.getOrComputeResult(ResultCacheManager.scala:292)\n",
       "\tat org.apache.spark.sql.execution.SparkPlan.$anonfun$executeCollectResult$1(SparkPlan.scala:433)\n",
       "\tat com.databricks.spark.util.FrameProfiler$.record(FrameProfiler.scala:80)\n",
       "\tat org.apache.spark.sql.execution.SparkPlan.executeCollectResult(SparkPlan.scala:430)\n",
       "\tat org.apache.spark.sql.Dataset.collectResult(Dataset.scala:3431)\n",
       "\tat org.apache.spark.sql.Dataset.$anonfun$collectResult$1(Dataset.scala:3422)\n",
       "\tat org.apache.spark.sql.Dataset.$anonfun$withAction$3(Dataset.scala:4297)\n",
       "\tat org.apache.spark.sql.execution.QueryExecution$.withInternalError(QueryExecution.scala:795)\n",
       "\tat org.apache.spark.sql.Dataset.$anonfun$withAction$2(Dataset.scala:4295)\n",
       "\tat org.apache.spark.sql.execution.SQLExecution$.$anonfun$withCustomExecutionEnv$8(SQLExecution.scala:250)\n",
       "\tat org.apache.spark.sql.execution.SQLExecution$.withSQLConfPropagated(SQLExecution.scala:400)\n",
       "\tat org.apache.spark.sql.execution.SQLExecution$.$anonfun$withCustomExecutionEnv$1(SQLExecution.scala:195)\n",
       "\tat org.apache.spark.sql.SparkSession.withActive(SparkSession.scala:985)\n",
       "\tat org.apache.spark.sql.execution.SQLExecution$.withCustomExecutionEnv(SQLExecution.scala:149)\n",
       "\tat org.apache.spark.sql.execution.SQLExecution$.withNewExecutionId(SQLExecution.scala:350)\n",
       "\tat org.apache.spark.sql.Dataset.withAction(Dataset.scala:4295)\n",
       "\tat org.apache.spark.sql.Dataset.collectResult(Dataset.scala:3421)\n",
       "\tat com.databricks.backend.daemon.driver.OutputAggregator$.withOutputAggregation0(OutputAggregator.scala:267)\n",
       "\tat com.databricks.backend.daemon.driver.OutputAggregator$.withOutputAggregation(OutputAggregator.scala:101)\n",
       "\tat com.databricks.backend.daemon.driver.PythonDriverLocalBase.generateTableResult(PythonDriverLocalBase.scala:723)\n",
       "\tat com.databricks.backend.daemon.driver.JupyterDriverLocal.computeListResultsItem(JupyterDriverLocal.scala:1424)\n",
       "\tat com.databricks.backend.daemon.driver.JupyterDriverLocal$JupyterEntryPoint.addCustomDisplayData(JupyterDriverLocal.scala:505)\n",
       "\tat sun.reflect.NativeMethodAccessorImpl.invoke0(Native Method)\n",
       "\tat sun.reflect.NativeMethodAccessorImpl.invoke(NativeMethodAccessorImpl.java:62)\n",
       "\tat sun.reflect.DelegatingMethodAccessorImpl.invoke(DelegatingMethodAccessorImpl.java:43)\n",
       "\tat java.lang.reflect.Method.invoke(Method.java:498)\n",
       "\tat py4j.reflection.MethodInvoker.invoke(MethodInvoker.java:244)\n",
       "\tat py4j.reflection.ReflectionEngine.invoke(ReflectionEngine.java:380)\n",
       "\tat py4j.Gateway.invoke(Gateway.java:306)\n",
       "\tat py4j.commands.AbstractCommand.invokeMethod(AbstractCommand.java:132)\n",
       "\tat py4j.commands.CallCommand.execute(CallCommand.java:79)\n",
       "\tat py4j.ClientServerConnection.waitForCommands(ClientServerConnection.java:195)\n",
       "\tat py4j.ClientServerConnection.run(ClientServerConnection.java:115)\n",
       "\tat java.lang.Thread.run(Thread.java:750)\n",
       "Caused by: com.databricks.sql.io.FileReadException: Error while reading file dbfs:/mnt/formula1dl612/demo/drivers_merge/part-00000-d1b6711b-5896-451d-b4a2-339255b51e44-c000.snappy.parquet.\n",
       "\tat org.apache.spark.sql.execution.datasources.FileScanRDD$$anon$1$$anon$2.logFileNameAndThrow(FileScanRDD.scala:654)\n",
       "\tat org.apache.spark.sql.execution.datasources.FileScanRDD$$anon$1$$anon$2.getNext(FileScanRDD.scala:623)\n",
       "\tat org.apache.spark.util.NextIterator.hasNext(NextIterator.scala:73)\n",
       "\tat org.apache.spark.sql.execution.datasources.FileScanRDD$$anon$1.nextIterator(FileScanRDD.scala:747)\n",
       "\tat org.apache.spark.sql.execution.datasources.FileScanRDD$$anon$1.$anonfun$hasNext$1(FileScanRDD.scala:456)\n",
       "\tat scala.runtime.java8.JFunction0$mcZ$sp.apply(JFunction0$mcZ$sp.java:23)\n",
       "\tat com.databricks.spark.util.ExecutorFrameProfiler$.record(ExecutorFrameProfiler.scala:110)\n",
       "\tat org.apache.spark.sql.execution.datasources.FileScanRDD$$anon$1.hasNext(FileScanRDD.scala:451)\n",
       "\tat org.apache.spark.sql.execution.FileSourceScanExec$$anon$1.hasNext(DataSourceScanExec.scala:1983)\n",
       "\tat org.apache.spark.sql.catalyst.expressions.GeneratedClass$GeneratedIteratorForCodegenStage1.columnartorow_nextBatch_0$(Unknown Source)\n",
       "\tat org.apache.spark.sql.catalyst.expressions.GeneratedClass$GeneratedIteratorForCodegenStage1.processNext(Unknown Source)\n",
       "\tat org.apache.spark.sql.execution.BufferedRowIterator.hasNext(BufferedRowIterator.java:43)\n",
       "\tat org.apache.spark.sql.execution.WholeStageCodegenExec$$anon$1.hasNext(WholeStageCodegenExec.scala:761)\n",
       "\tat org.apache.spark.sql.execution.collect.UnsafeRowBatchUtils$.encodeUnsafeRows(UnsafeRowBatchUtils.scala:80)\n",
       "\tat org.apache.spark.sql.execution.collect.Collector.$anonfun$processFunc$1(Collector.scala:186)\n",
       "\tat org.apache.spark.scheduler.ResultTask.$anonfun$runTask$3(ResultTask.scala:75)\n",
       "\tat com.databricks.spark.util.ExecutorFrameProfiler$.record(ExecutorFrameProfiler.scala:110)\n",
       "\tat org.apache.spark.scheduler.ResultTask.$anonfun$runTask$1(ResultTask.scala:75)\n",
       "\tat com.databricks.spark.util.ExecutorFrameProfiler$.record(ExecutorFrameProfiler.scala:110)\n",
       "\tat org.apache.spark.scheduler.ResultTask.runTask(ResultTask.scala:55)\n",
       "\tat org.apache.spark.scheduler.Task.doRunTask(Task.scala:174)\n",
       "\tat org.apache.spark.scheduler.Task.$anonfun$run$4(Task.scala:137)\n",
       "\tat com.databricks.unity.UCSEphemeralState$Handle.runWith(UCSEphemeralState.scala:41)\n",
       "\tat com.databricks.unity.HandleImpl.runWith(UCSHandle.scala:99)\n",
       "\tat com.databricks.unity.HandleImpl.$anonfun$runWithAndClose$1(UCSHandle.scala:104)\n",
       "\tat scala.util.Using$.resource(Using.scala:269)\n",
       "\tat com.databricks.unity.HandleImpl.runWithAndClose(UCSHandle.scala:103)\n",
       "\tat org.apache.spark.scheduler.Task.$anonfun$run$1(Task.scala:137)\n",
       "\tat com.databricks.spark.util.ExecutorFrameProfiler$.record(ExecutorFrameProfiler.scala:110)\n",
       "\tat org.apache.spark.scheduler.Task.run(Task.scala:96)\n",
       "\tat org.apache.spark.executor.Executor$TaskRunner.$anonfun$run$13(Executor.scala:902)\n",
       "\tat org.apache.spark.util.Utils$.tryWithSafeFinally(Utils.scala:1697)\n",
       "\tat org.apache.spark.executor.Executor$TaskRunner.$anonfun$run$4(Executor.scala:905)\n",
       "\tat scala.runtime.java8.JFunction0$mcV$sp.apply(JFunction0$mcV$sp.java:23)\n",
       "\tat com.databricks.spark.util.ExecutorFrameProfiler$.record(ExecutorFrameProfiler.scala:110)\n",
       "\tat org.apache.spark.executor.Executor$TaskRunner.run(Executor.scala:760)\n",
       "\tat java.util.concurrent.ThreadPoolExecutor.runWorker(ThreadPoolExecutor.java:1149)\n",
       "\tat java.util.concurrent.ThreadPoolExecutor$Worker.run(ThreadPoolExecutor.java:624)\n",
       "\t... 1 more\n",
       "Caused by: java.io.IOException: java.io.FileNotFoundException: Operation failed: \"The specified path does not exist.\", 404, GET, https://formula1dl612.dfs.core.windows.net/demo/drivers_merge/part-00000-d1b6711b-5896-451d-b4a2-339255b51e44-c000.snappy.parquet?timeout=90, PathNotFound, \"The specified path does not exist. RequestId:e7e619c5-001f-000c-075b-78d31e000000 Time:2024-03-17T11:08:30.3348626Z\"\n",
       "\tat shaded.databricks.azurebfs.org.apache.hadoop.fs.azurebfs.services.ReadBufferWorker.run(ReadBufferWorker.java:78)\n",
       "\t... 1 more\n",
       "Caused by: java.io.FileNotFoundException: Operation failed: \"The specified path does not exist.\", 404, GET, https://formula1dl612.dfs.core.windows.net/demo/drivers_merge/part-00000-d1b6711b-5896-451d-b4a2-339255b51e44-c000.snappy.parquet?timeout=90, PathNotFound, \"The specified path does not exist. RequestId:e7e619c5-001f-000c-075b-78d31e000000 Time:2024-03-17T11:08:30.3348626Z\"\n",
       "\tat shaded.databricks.azurebfs.org.apache.hadoop.fs.azurebfs.services.AbfsInputStream.readRemote(AbfsInputStream.java:617)\n",
       "\tat shaded.databricks.azurebfs.org.apache.hadoop.fs.azurebfs.services.ReadBufferWorker.lambda$run$0(ReadBufferWorker.java:66)\n",
       "\tat com.databricks.common.SparkTaskIOMetrics.withTaskIOMetrics(SparkTaskIOMetrics.scala:43)\n",
       "\tat shaded.databricks.azurebfs.org.apache.hadoop.fs.azurebfs.services.ReadBufferWorker.run(ReadBufferWorker.java:65)\n",
       "\t... 1 more"
      ]
     },
     "metadata": {
      "application/vnd.databricks.v1+output": {
       "arguments": {},
       "data": "org.apache.spark.SparkException: Job aborted due to stage failure: Task 0 in stage 157.0 failed 4 times, most recent failure: Lost task 0.3 in stage 157.0 (TID 2123) (10.139.64.4 executor driver): com.databricks.sql.io.FileReadException: Error while reading file dbfs:/mnt/formula1dl612/demo/drivers_merge/part-00000-d1b6711b-5896-451d-b4a2-339255b51e44-c000.snappy.parquet.\n\tat org.apache.spark.sql.execution.datasources.FileScanRDD$$anon$1$$anon$2.logFileNameAndThrow(FileScanRDD.scala:654)\n\tat org.apache.spark.sql.execution.datasources.FileScanRDD$$anon$1$$anon$2.getNext(FileScanRDD.scala:623)\n\tat org.apache.spark.util.NextIterator.hasNext(NextIterator.scala:73)\n\tat org.apache.spark.sql.execution.datasources.FileScanRDD$$anon$1.nextIterator(FileScanRDD.scala:747)\n\tat org.apache.spark.sql.execution.datasources.FileScanRDD$$anon$1.$anonfun$hasNext$1(FileScanRDD.scala:456)\n\tat scala.runtime.java8.JFunction0$mcZ$sp.apply(JFunction0$mcZ$sp.java:23)\n\tat com.databricks.spark.util.ExecutorFrameProfiler$.record(ExecutorFrameProfiler.scala:110)\n\tat org.apache.spark.sql.execution.datasources.FileScanRDD$$anon$1.hasNext(FileScanRDD.scala:451)\n\tat org.apache.spark.sql.execution.FileSourceScanExec$$anon$1.hasNext(DataSourceScanExec.scala:1983)\n\tat org.apache.spark.sql.catalyst.expressions.GeneratedClass$GeneratedIteratorForCodegenStage1.columnartorow_nextBatch_0$(Unknown Source)\n\tat org.apache.spark.sql.catalyst.expressions.GeneratedClass$GeneratedIteratorForCodegenStage1.processNext(Unknown Source)\n\tat org.apache.spark.sql.execution.BufferedRowIterator.hasNext(BufferedRowIterator.java:43)\n\tat org.apache.spark.sql.execution.WholeStageCodegenExec$$anon$1.hasNext(WholeStageCodegenExec.scala:761)\n\tat org.apache.spark.sql.execution.collect.UnsafeRowBatchUtils$.encodeUnsafeRows(UnsafeRowBatchUtils.scala:80)\n\tat org.apache.spark.sql.execution.collect.Collector.$anonfun$processFunc$1(Collector.scala:186)\n\tat org.apache.spark.scheduler.ResultTask.$anonfun$runTask$3(ResultTask.scala:75)\n\tat com.databricks.spark.util.ExecutorFrameProfiler$.record(ExecutorFrameProfiler.scala:110)\n\tat org.apache.spark.scheduler.ResultTask.$anonfun$runTask$1(ResultTask.scala:75)\n\tat com.databricks.spark.util.ExecutorFrameProfiler$.record(ExecutorFrameProfiler.scala:110)\n\tat org.apache.spark.scheduler.ResultTask.runTask(ResultTask.scala:55)\n\tat org.apache.spark.scheduler.Task.doRunTask(Task.scala:174)\n\tat org.apache.spark.scheduler.Task.$anonfun$run$4(Task.scala:137)\n\tat com.databricks.unity.UCSEphemeralState$Handle.runWith(UCSEphemeralState.scala:41)\n\tat com.databricks.unity.HandleImpl.runWith(UCSHandle.scala:99)\n\tat com.databricks.unity.HandleImpl.$anonfun$runWithAndClose$1(UCSHandle.scala:104)\n\tat scala.util.Using$.resource(Using.scala:269)\n\tat com.databricks.unity.HandleImpl.runWithAndClose(UCSHandle.scala:103)\n\tat org.apache.spark.scheduler.Task.$anonfun$run$1(Task.scala:137)\n\tat com.databricks.spark.util.ExecutorFrameProfiler$.record(ExecutorFrameProfiler.scala:110)\n\tat org.apache.spark.scheduler.Task.run(Task.scala:96)\n\tat org.apache.spark.executor.Executor$TaskRunner.$anonfun$run$13(Executor.scala:902)\n\tat org.apache.spark.util.Utils$.tryWithSafeFinally(Utils.scala:1697)\n\tat org.apache.spark.executor.Executor$TaskRunner.$anonfun$run$4(Executor.scala:905)\n\tat scala.runtime.java8.JFunction0$mcV$sp.apply(JFunction0$mcV$sp.java:23)\n\tat com.databricks.spark.util.ExecutorFrameProfiler$.record(ExecutorFrameProfiler.scala:110)\n\tat org.apache.spark.executor.Executor$TaskRunner.run(Executor.scala:760)\n\tat java.util.concurrent.ThreadPoolExecutor.runWorker(ThreadPoolExecutor.java:1149)\n\tat java.util.concurrent.ThreadPoolExecutor$Worker.run(ThreadPoolExecutor.java:624)\n\tat java.lang.Thread.run(Thread.java:750)\nCaused by: java.io.IOException: java.io.FileNotFoundException: Operation failed: \"The specified path does not exist.\", 404, GET, https://formula1dl612.dfs.core.windows.net/demo/drivers_merge/part-00000-d1b6711b-5896-451d-b4a2-339255b51e44-c000.snappy.parquet?timeout=90, PathNotFound, \"The specified path does not exist. RequestId:e7e619c5-001f-000c-075b-78d31e000000 Time:2024-03-17T11:08:30.3348626Z\"\n\tat shaded.databricks.azurebfs.org.apache.hadoop.fs.azurebfs.services.ReadBufferWorker.run(ReadBufferWorker.java:78)\n\t... 1 more\nCaused by: java.io.FileNotFoundException: Operation failed: \"The specified path does not exist.\", 404, GET, https://formula1dl612.dfs.core.windows.net/demo/drivers_merge/part-00000-d1b6711b-5896-451d-b4a2-339255b51e44-c000.snappy.parquet?timeout=90, PathNotFound, \"The specified path does not exist. RequestId:e7e619c5-001f-000c-075b-78d31e000000 Time:2024-03-17T11:08:30.3348626Z\"\n\tat shaded.databricks.azurebfs.org.apache.hadoop.fs.azurebfs.services.AbfsInputStream.readRemote(AbfsInputStream.java:617)\n\tat shaded.databricks.azurebfs.org.apache.hadoop.fs.azurebfs.services.ReadBufferWorker.lambda$run$0(ReadBufferWorker.java:66)\n\tat com.databricks.common.SparkTaskIOMetrics.withTaskIOMetrics(SparkTaskIOMetrics.scala:43)\n\tat shaded.databricks.azurebfs.org.apache.hadoop.fs.azurebfs.services.ReadBufferWorker.run(ReadBufferWorker.java:65)\n\t... 1 more\n\nDriver stacktrace:\n\tat org.apache.spark.scheduler.DAGScheduler.failJobAndIndependentStages(DAGScheduler.scala:3386)\n\tat org.apache.spark.scheduler.DAGScheduler.$anonfun$abortStage$2(DAGScheduler.scala:3318)\n\tat org.apache.spark.scheduler.DAGScheduler.$anonfun$abortStage$2$adapted(DAGScheduler.scala:3309)\n\tat scala.collection.mutable.ResizableArray.foreach(ResizableArray.scala:62)\n\tat scala.collection.mutable.ResizableArray.foreach$(ResizableArray.scala:55)\n\tat scala.collection.mutable.ArrayBuffer.foreach(ArrayBuffer.scala:49)\n\tat org.apache.spark.scheduler.DAGScheduler.abortStage(DAGScheduler.scala:3309)\n\tat org.apache.spark.scheduler.DAGScheduler.$anonfun$handleTaskSetFailed$1(DAGScheduler.scala:1433)\n\tat org.apache.spark.scheduler.DAGScheduler.$anonfun$handleTaskSetFailed$1$adapted(DAGScheduler.scala:1433)\n\tat scala.Option.foreach(Option.scala:407)\n\tat org.apache.spark.scheduler.DAGScheduler.handleTaskSetFailed(DAGScheduler.scala:1433)\n\tat org.apache.spark.scheduler.DAGSchedulerEventProcessLoop.doOnReceive(DAGScheduler.scala:3598)\n\tat org.apache.spark.scheduler.DAGSchedulerEventProcessLoop.onReceive(DAGScheduler.scala:3536)\n\tat org.apache.spark.scheduler.DAGSchedulerEventProcessLoop.onReceive(DAGScheduler.scala:3524)\n\tat org.apache.spark.util.EventLoop$$anon$1.run(EventLoop.scala:51)\n\tat org.apache.spark.scheduler.DAGScheduler.$anonfun$runJob$1(DAGScheduler.scala:1182)\n\tat scala.runtime.java8.JFunction0$mcV$sp.apply(JFunction0$mcV$sp.java:23)\n\tat com.databricks.spark.util.FrameProfiler$.record(FrameProfiler.scala:80)\n\tat org.apache.spark.scheduler.DAGScheduler.runJob(DAGScheduler.scala:1170)\n\tat org.apache.spark.SparkContext.runJobInternal(SparkContext.scala:2746)\n\tat org.apache.spark.sql.execution.collect.Collector.$anonfun$runSparkJobs$1(Collector.scala:312)\n\tat scala.runtime.java8.JFunction0$mcV$sp.apply(JFunction0$mcV$sp.java:23)\n\tat com.databricks.spark.util.FrameProfiler$.record(FrameProfiler.scala:80)\n\tat org.apache.spark.sql.execution.collect.Collector.runSparkJobs(Collector.scala:271)\n\tat org.apache.spark.sql.execution.collect.Collector.collect(Collector.scala:322)\n\tat org.apache.spark.sql.execution.collect.Collector$.collect(Collector.scala:105)\n\tat org.apache.spark.sql.execution.collect.Collector$.collect(Collector.scala:112)\n\tat org.apache.spark.sql.execution.qrc.InternalRowFormat$.collect(cachedSparkResults.scala:115)\n\tat org.apache.spark.sql.execution.qrc.InternalRowFormat$.collect(cachedSparkResults.scala:104)\n\tat org.apache.spark.sql.execution.qrc.InternalRowFormat$.collect(cachedSparkResults.scala:88)\n\tat org.apache.spark.sql.execution.qrc.ResultCacheManager.$anonfun$computeResult$1(ResultCacheManager.scala:527)\n\tat com.databricks.spark.util.FrameProfiler$.record(FrameProfiler.scala:80)\n\tat org.apache.spark.sql.execution.qrc.ResultCacheManager.collectResult$1(ResultCacheManager.scala:519)\n\tat org.apache.spark.sql.execution.qrc.ResultCacheManager.computeResult(ResultCacheManager.scala:539)\n\tat org.apache.spark.sql.execution.qrc.ResultCacheManager.$anonfun$getOrComputeResultInternal$1(ResultCacheManager.scala:396)\n\tat scala.Option.getOrElse(Option.scala:189)\n\tat org.apache.spark.sql.execution.qrc.ResultCacheManager.getOrComputeResultInternal(ResultCacheManager.scala:390)\n\tat org.apache.spark.sql.execution.qrc.ResultCacheManager.getOrComputeResult(ResultCacheManager.scala:292)\n\tat org.apache.spark.sql.execution.SparkPlan.$anonfun$executeCollectResult$1(SparkPlan.scala:433)\n\tat com.databricks.spark.util.FrameProfiler$.record(FrameProfiler.scala:80)\n\tat org.apache.spark.sql.execution.SparkPlan.executeCollectResult(SparkPlan.scala:430)\n\tat org.apache.spark.sql.Dataset.collectResult(Dataset.scala:3431)\n\tat org.apache.spark.sql.Dataset.$anonfun$collectResult$1(Dataset.scala:3422)\n\tat org.apache.spark.sql.Dataset.$anonfun$withAction$3(Dataset.scala:4297)\n\tat org.apache.spark.sql.execution.QueryExecution$.withInternalError(QueryExecution.scala:795)\n\tat org.apache.spark.sql.Dataset.$anonfun$withAction$2(Dataset.scala:4295)\n\tat org.apache.spark.sql.execution.SQLExecution$.$anonfun$withCustomExecutionEnv$8(SQLExecution.scala:250)\n\tat org.apache.spark.sql.execution.SQLExecution$.withSQLConfPropagated(SQLExecution.scala:400)\n\tat org.apache.spark.sql.execution.SQLExecution$.$anonfun$withCustomExecutionEnv$1(SQLExecution.scala:195)\n\tat org.apache.spark.sql.SparkSession.withActive(SparkSession.scala:985)\n\tat org.apache.spark.sql.execution.SQLExecution$.withCustomExecutionEnv(SQLExecution.scala:149)\n\tat org.apache.spark.sql.execution.SQLExecution$.withNewExecutionId(SQLExecution.scala:350)\n\tat org.apache.spark.sql.Dataset.withAction(Dataset.scala:4295)\n\tat org.apache.spark.sql.Dataset.collectResult(Dataset.scala:3421)\n\tat com.databricks.backend.daemon.driver.OutputAggregator$.withOutputAggregation0(OutputAggregator.scala:267)\n\tat com.databricks.backend.daemon.driver.OutputAggregator$.withOutputAggregation(OutputAggregator.scala:101)\n\tat com.databricks.backend.daemon.driver.PythonDriverLocalBase.generateTableResult(PythonDriverLocalBase.scala:723)\n\tat com.databricks.backend.daemon.driver.JupyterDriverLocal.computeListResultsItem(JupyterDriverLocal.scala:1424)\n\tat com.databricks.backend.daemon.driver.JupyterDriverLocal$JupyterEntryPoint.addCustomDisplayData(JupyterDriverLocal.scala:505)\n\tat sun.reflect.NativeMethodAccessorImpl.invoke0(Native Method)\n\tat sun.reflect.NativeMethodAccessorImpl.invoke(NativeMethodAccessorImpl.java:62)\n\tat sun.reflect.DelegatingMethodAccessorImpl.invoke(DelegatingMethodAccessorImpl.java:43)\n\tat java.lang.reflect.Method.invoke(Method.java:498)\n\tat py4j.reflection.MethodInvoker.invoke(MethodInvoker.java:244)\n\tat py4j.reflection.ReflectionEngine.invoke(ReflectionEngine.java:380)\n\tat py4j.Gateway.invoke(Gateway.java:306)\n\tat py4j.commands.AbstractCommand.invokeMethod(AbstractCommand.java:132)\n\tat py4j.commands.CallCommand.execute(CallCommand.java:79)\n\tat py4j.ClientServerConnection.waitForCommands(ClientServerConnection.java:195)\n\tat py4j.ClientServerConnection.run(ClientServerConnection.java:115)\n\tat java.lang.Thread.run(Thread.java:750)\nCaused by: com.databricks.sql.io.FileReadException: Error while reading file dbfs:/mnt/formula1dl612/demo/drivers_merge/part-00000-d1b6711b-5896-451d-b4a2-339255b51e44-c000.snappy.parquet.\n\tat org.apache.spark.sql.execution.datasources.FileScanRDD$$anon$1$$anon$2.logFileNameAndThrow(FileScanRDD.scala:654)\n\tat org.apache.spark.sql.execution.datasources.FileScanRDD$$anon$1$$anon$2.getNext(FileScanRDD.scala:623)\n\tat org.apache.spark.util.NextIterator.hasNext(NextIterator.scala:73)\n\tat org.apache.spark.sql.execution.datasources.FileScanRDD$$anon$1.nextIterator(FileScanRDD.scala:747)\n\tat org.apache.spark.sql.execution.datasources.FileScanRDD$$anon$1.$anonfun$hasNext$1(FileScanRDD.scala:456)\n\tat scala.runtime.java8.JFunction0$mcZ$sp.apply(JFunction0$mcZ$sp.java:23)\n\tat com.databricks.spark.util.ExecutorFrameProfiler$.record(ExecutorFrameProfiler.scala:110)\n\tat org.apache.spark.sql.execution.datasources.FileScanRDD$$anon$1.hasNext(FileScanRDD.scala:451)\n\tat org.apache.spark.sql.execution.FileSourceScanExec$$anon$1.hasNext(DataSourceScanExec.scala:1983)\n\tat org.apache.spark.sql.catalyst.expressions.GeneratedClass$GeneratedIteratorForCodegenStage1.columnartorow_nextBatch_0$(Unknown Source)\n\tat org.apache.spark.sql.catalyst.expressions.GeneratedClass$GeneratedIteratorForCodegenStage1.processNext(Unknown Source)\n\tat org.apache.spark.sql.execution.BufferedRowIterator.hasNext(BufferedRowIterator.java:43)\n\tat org.apache.spark.sql.execution.WholeStageCodegenExec$$anon$1.hasNext(WholeStageCodegenExec.scala:761)\n\tat org.apache.spark.sql.execution.collect.UnsafeRowBatchUtils$.encodeUnsafeRows(UnsafeRowBatchUtils.scala:80)\n\tat org.apache.spark.sql.execution.collect.Collector.$anonfun$processFunc$1(Collector.scala:186)\n\tat org.apache.spark.scheduler.ResultTask.$anonfun$runTask$3(ResultTask.scala:75)\n\tat com.databricks.spark.util.ExecutorFrameProfiler$.record(ExecutorFrameProfiler.scala:110)\n\tat org.apache.spark.scheduler.ResultTask.$anonfun$runTask$1(ResultTask.scala:75)\n\tat com.databricks.spark.util.ExecutorFrameProfiler$.record(ExecutorFrameProfiler.scala:110)\n\tat org.apache.spark.scheduler.ResultTask.runTask(ResultTask.scala:55)\n\tat org.apache.spark.scheduler.Task.doRunTask(Task.scala:174)\n\tat org.apache.spark.scheduler.Task.$anonfun$run$4(Task.scala:137)\n\tat com.databricks.unity.UCSEphemeralState$Handle.runWith(UCSEphemeralState.scala:41)\n\tat com.databricks.unity.HandleImpl.runWith(UCSHandle.scala:99)\n\tat com.databricks.unity.HandleImpl.$anonfun$runWithAndClose$1(UCSHandle.scala:104)\n\tat scala.util.Using$.resource(Using.scala:269)\n\tat com.databricks.unity.HandleImpl.runWithAndClose(UCSHandle.scala:103)\n\tat org.apache.spark.scheduler.Task.$anonfun$run$1(Task.scala:137)\n\tat com.databricks.spark.util.ExecutorFrameProfiler$.record(ExecutorFrameProfiler.scala:110)\n\tat org.apache.spark.scheduler.Task.run(Task.scala:96)\n\tat org.apache.spark.executor.Executor$TaskRunner.$anonfun$run$13(Executor.scala:902)\n\tat org.apache.spark.util.Utils$.tryWithSafeFinally(Utils.scala:1697)\n\tat org.apache.spark.executor.Executor$TaskRunner.$anonfun$run$4(Executor.scala:905)\n\tat scala.runtime.java8.JFunction0$mcV$sp.apply(JFunction0$mcV$sp.java:23)\n\tat com.databricks.spark.util.ExecutorFrameProfiler$.record(ExecutorFrameProfiler.scala:110)\n\tat org.apache.spark.executor.Executor$TaskRunner.run(Executor.scala:760)\n\tat java.util.concurrent.ThreadPoolExecutor.runWorker(ThreadPoolExecutor.java:1149)\n\tat java.util.concurrent.ThreadPoolExecutor$Worker.run(ThreadPoolExecutor.java:624)\n\t... 1 more\nCaused by: java.io.IOException: java.io.FileNotFoundException: Operation failed: \"The specified path does not exist.\", 404, GET, https://formula1dl612.dfs.core.windows.net/demo/drivers_merge/part-00000-d1b6711b-5896-451d-b4a2-339255b51e44-c000.snappy.parquet?timeout=90, PathNotFound, \"The specified path does not exist. RequestId:e7e619c5-001f-000c-075b-78d31e000000 Time:2024-03-17T11:08:30.3348626Z\"\n\tat shaded.databricks.azurebfs.org.apache.hadoop.fs.azurebfs.services.ReadBufferWorker.run(ReadBufferWorker.java:78)\n\t... 1 more\nCaused by: java.io.FileNotFoundException: Operation failed: \"The specified path does not exist.\", 404, GET, https://formula1dl612.dfs.core.windows.net/demo/drivers_merge/part-00000-d1b6711b-5896-451d-b4a2-339255b51e44-c000.snappy.parquet?timeout=90, PathNotFound, \"The specified path does not exist. RequestId:e7e619c5-001f-000c-075b-78d31e000000 Time:2024-03-17T11:08:30.3348626Z\"\n\tat shaded.databricks.azurebfs.org.apache.hadoop.fs.azurebfs.services.AbfsInputStream.readRemote(AbfsInputStream.java:617)\n\tat shaded.databricks.azurebfs.org.apache.hadoop.fs.azurebfs.services.ReadBufferWorker.lambda$run$0(ReadBufferWorker.java:66)\n\tat com.databricks.common.SparkTaskIOMetrics.withTaskIOMetrics(SparkTaskIOMetrics.scala:43)\n\tat shaded.databricks.azurebfs.org.apache.hadoop.fs.azurebfs.services.ReadBufferWorker.run(ReadBufferWorker.java:65)\n\t... 1 more\n",
       "errorSummary": "FileReadException: Error while reading file dbfs:/mnt/formula1dl612/demo/drivers_merge/part-00000-d1b6711b-5896-451d-b4a2-339255b51e44-c000.snappy.parquet.\nCaused by: IOException: java.io.FileNotFoundException: Operation failed: \"The specified path does not exist.\", 404, GET, https://formula1dl612.dfs.core.windows.net/demo/drivers_merge/part-00000-d1b6711b-5896-451d-b4a2-339255b51e44-c000.snappy.parquet?timeout=90, PathNotFound, \"The specified path does not exist. RequestId:e7e619c5-001f-000c-075b-78d31e000000 Time:2024-03-17T11:08:30.3348626Z\"\nCaused by: FileNotFoundException: Operation failed: \"The specified path does not exist.\", 404, GET, https://formula1dl612.dfs.core.windows.net/demo/drivers_merge/part-00000-d1b6711b-5896-451d-b4a2-339255b51e44-c000.snappy.parquet?timeout=90, PathNotFound, \"The specified path does not exist. RequestId:e7e619c5-001f-000c-075b-78d31e000000 Time:2024-03-17T11:08:30.3348626Z\"",
       "errorTraceType": "html",
       "metadata": {},
       "type": "ipynbError"
      }
     },
     "output_type": "display_data"
    }
   ],
   "source": [
    "%sql\n",
    "SELECT * from f1_demo.drivers_merge TIMESTAMP AS OF '2024-03-16T23:27:41.000+0000';"
   ]
  },
  {
   "cell_type": "code",
   "execution_count": 0,
   "metadata": {
    "application/vnd.databricks.v1+cell": {
     "cellMetadata": {
      "byteLimit": 2048000,
      "implicitDf": true,
      "rowLimit": 10000
     },
     "inputWidgets": {},
     "nuid": "62b950da-fc15-42e0-b47b-a83e0ceaba2d",
     "showTitle": false,
     "title": ""
    }
   },
   "outputs": [
    {
     "output_type": "display_data",
     "data": {
      "text/html": [
       "<style scoped>\n",
       "  .table-result-container {\n",
       "    max-height: 300px;\n",
       "    overflow: auto;\n",
       "  }\n",
       "  table, th, td {\n",
       "    border: 1px solid black;\n",
       "    border-collapse: collapse;\n",
       "  }\n",
       "  th, td {\n",
       "    padding: 5px;\n",
       "  }\n",
       "  th {\n",
       "    text-align: left;\n",
       "  }\n",
       "</style><div class='table-result-container'><table class='table-result'><thead style='background-color: white'><tr><th>driverID</th><th>dob</th><th>forename</th><th>surname</th><th>createdDate</th><th>updatedDate</th></tr></thead><tbody><tr><td>6</td><td>1985-01-11</td><td>KAZUKI</td><td>NAKAJIMA</td><td>2024-03-16</td><td>2024-03-16</td></tr><tr><td>7</td><td>1979-02-28</td><td>SÉBASTIEN</td><td>BOURDAIS</td><td>2024-03-16</td><td>2024-03-16</td></tr><tr><td>8</td><td>1979-10-17</td><td>KIMI</td><td>RÄIKKÖNEN</td><td>2024-03-16</td><td>2024-03-16</td></tr><tr><td>9</td><td>1984-12-07</td><td>ROBERT</td><td>KUBICA</td><td>2024-03-16</td><td>2024-03-16</td></tr><tr><td>10</td><td>1982-03-18</td><td>TIMO</td><td>GLOCK</td><td>2024-03-16</td><td>2024-03-16</td></tr><tr><td>11</td><td>1977-01-28</td><td>TAKUMA</td><td>SATO</td><td>2024-03-16</td><td>null</td></tr><tr><td>12</td><td>1985-07-25</td><td>NELSON</td><td>PIQUET JR.</td><td>2024-03-16</td><td>null</td></tr><tr><td>13</td><td>1981-04-25</td><td>FELIPE</td><td>MASSA</td><td>2024-03-16</td><td>null</td></tr><tr><td>14</td><td>1971-03-27</td><td>DAVID</td><td>COULTHARD</td><td>2024-03-16</td><td>null</td></tr><tr><td>15</td><td>1974-07-13</td><td>JARNO</td><td>TRULLI</td><td>2024-03-16</td><td>null</td></tr><tr><td>1</td><td>1985-01-07</td><td>LEWIS</td><td>HAMILTON</td><td>2024-03-16</td><td>2024-03-16</td></tr><tr><td>2</td><td>1977-05-10</td><td>NICK</td><td>HEIDFELD</td><td>2024-03-16</td><td>2024-03-16</td></tr><tr><td>3</td><td>1985-06-27</td><td>NICO</td><td>ROSBERG</td><td>2024-03-16</td><td>2024-03-16</td></tr><tr><td>4</td><td>1981-07-29</td><td>FERNANDO</td><td>ALONSO</td><td>2024-03-16</td><td>2024-03-16</td></tr><tr><td>5</td><td>1981-10-19</td><td>HEIKKI</td><td>KOVALAINEN</td><td>2024-03-16</td><td>2024-03-16</td></tr><tr><td>16</td><td>1983-01-11</td><td>ADRIAN</td><td>SUTIL</td><td>2024-03-16</td><td>null</td></tr><tr><td>17</td><td>1976-08-27</td><td>MARK</td><td>WEBBER</td><td>2024-03-16</td><td>null</td></tr><tr><td>18</td><td>1980-01-19</td><td>JENSON</td><td>BUTTON</td><td>2024-03-16</td><td>null</td></tr><tr><td>19</td><td>1979-04-18</td><td>ANTHONY</td><td>DAVIDSON</td><td>2024-03-16</td><td>null</td></tr><tr><td>20</td><td>1987-07-03</td><td>SEBASTIAN</td><td>VETTEL</td><td>2024-03-16</td><td>null</td></tr></tbody></table></div>"
      ]
     },
     "metadata": {
      "application/vnd.databricks.v1+output": {
       "addedWidgets": {},
       "aggData": [],
       "aggError": "",
       "aggOverflow": false,
       "aggSchema": [],
       "aggSeriesLimitReached": false,
       "aggType": "",
       "arguments": {},
       "columnCustomDisplayInfos": {},
       "data": [
        [
         6,
         "1985-01-11",
         "KAZUKI",
         "NAKAJIMA",
         "2024-03-16",
         "2024-03-16"
        ],
        [
         7,
         "1979-02-28",
         "SÉBASTIEN",
         "BOURDAIS",
         "2024-03-16",
         "2024-03-16"
        ],
        [
         8,
         "1979-10-17",
         "KIMI",
         "RÄIKKÖNEN",
         "2024-03-16",
         "2024-03-16"
        ],
        [
         9,
         "1984-12-07",
         "ROBERT",
         "KUBICA",
         "2024-03-16",
         "2024-03-16"
        ],
        [
         10,
         "1982-03-18",
         "TIMO",
         "GLOCK",
         "2024-03-16",
         "2024-03-16"
        ],
        [
         11,
         "1977-01-28",
         "TAKUMA",
         "SATO",
         "2024-03-16",
         null
        ],
        [
         12,
         "1985-07-25",
         "NELSON",
         "PIQUET JR.",
         "2024-03-16",
         null
        ],
        [
         13,
         "1981-04-25",
         "FELIPE",
         "MASSA",
         "2024-03-16",
         null
        ],
        [
         14,
         "1971-03-27",
         "DAVID",
         "COULTHARD",
         "2024-03-16",
         null
        ],
        [
         15,
         "1974-07-13",
         "JARNO",
         "TRULLI",
         "2024-03-16",
         null
        ],
        [
         1,
         "1985-01-07",
         "LEWIS",
         "HAMILTON",
         "2024-03-16",
         "2024-03-16"
        ],
        [
         2,
         "1977-05-10",
         "NICK",
         "HEIDFELD",
         "2024-03-16",
         "2024-03-16"
        ],
        [
         3,
         "1985-06-27",
         "NICO",
         "ROSBERG",
         "2024-03-16",
         "2024-03-16"
        ],
        [
         4,
         "1981-07-29",
         "FERNANDO",
         "ALONSO",
         "2024-03-16",
         "2024-03-16"
        ],
        [
         5,
         "1981-10-19",
         "HEIKKI",
         "KOVALAINEN",
         "2024-03-16",
         "2024-03-16"
        ],
        [
         16,
         "1983-01-11",
         "ADRIAN",
         "SUTIL",
         "2024-03-16",
         null
        ],
        [
         17,
         "1976-08-27",
         "MARK",
         "WEBBER",
         "2024-03-16",
         null
        ],
        [
         18,
         "1980-01-19",
         "JENSON",
         "BUTTON",
         "2024-03-16",
         null
        ],
        [
         19,
         "1979-04-18",
         "ANTHONY",
         "DAVIDSON",
         "2024-03-16",
         null
        ],
        [
         20,
         "1987-07-03",
         "SEBASTIAN",
         "VETTEL",
         "2024-03-16",
         null
        ]
       ],
       "datasetInfos": [],
       "dbfsResultPath": null,
       "isJsonSchema": true,
       "metadata": {},
       "overflow": false,
       "plotOptions": {
        "customPlotOptions": {},
        "displayType": "table",
        "pivotAggregation": null,
        "pivotColumns": null,
        "xColumns": null,
        "yColumns": null
       },
       "removedWidgets": [],
       "schema": [
        {
         "metadata": "{}",
         "name": "driverID",
         "type": "\"integer\""
        },
        {
         "metadata": "{}",
         "name": "dob",
         "type": "\"date\""
        },
        {
         "metadata": "{}",
         "name": "forename",
         "type": "\"string\""
        },
        {
         "metadata": "{}",
         "name": "surname",
         "type": "\"string\""
        },
        {
         "metadata": "{}",
         "name": "createdDate",
         "type": "\"date\""
        },
        {
         "metadata": "{}",
         "name": "updatedDate",
         "type": "\"date\""
        }
       ],
       "type": "table"
      }
     },
     "output_type": "display_data"
    }
   ],
   "source": [
    "%sql\n",
    "SELECT * from f1_demo.drivers_merge"
   ]
  },
  {
   "cell_type": "code",
   "execution_count": 0,
   "metadata": {
    "application/vnd.databricks.v1+cell": {
     "cellMetadata": {
      "byteLimit": 2048000,
      "implicitDf": true,
      "rowLimit": 10000
     },
     "inputWidgets": {},
     "nuid": "2319cfa0-914c-44ff-b0d2-dd866ba978c8",
     "showTitle": false,
     "title": ""
    }
   },
   "outputs": [
    {
     "output_type": "display_data",
     "data": {
      "text/html": [
       "<style scoped>\n",
       "  .table-result-container {\n",
       "    max-height: 300px;\n",
       "    overflow: auto;\n",
       "  }\n",
       "  table, th, td {\n",
       "    border: 1px solid black;\n",
       "    border-collapse: collapse;\n",
       "  }\n",
       "  th, td {\n",
       "    padding: 5px;\n",
       "  }\n",
       "  th {\n",
       "    text-align: left;\n",
       "  }\n",
       "</style><div class='table-result-container'><table class='table-result'><thead style='background-color: white'><tr><th>version</th><th>timestamp</th><th>userId</th><th>userName</th><th>operation</th><th>operationParameters</th><th>job</th><th>notebook</th><th>clusterId</th><th>readVersion</th><th>isolationLevel</th><th>isBlindAppend</th><th>operationMetrics</th><th>userMetadata</th><th>engineInfo</th></tr></thead><tbody><tr><td>7</td><td>2024-03-17T11:08:10.000+0000</td><td>2818554889652103</td><td>gilbaram20@outlook.com</td><td>VACUUM END</td><td>Map(status -> COMPLETED)</td><td>null</td><td>List(4462865897687888)</td><td>0124-093932-co5lwa5n</td><td>6</td><td>SnapshotIsolation</td><td>true</td><td>Map(numDeletedFiles -> 2, numVacuumedDirectories -> 1)</td><td>null</td><td>Databricks-Runtime/11.3.x-scala2.12</td></tr><tr><td>6</td><td>2024-03-17T11:08:06.000+0000</td><td>2818554889652103</td><td>gilbaram20@outlook.com</td><td>VACUUM START</td><td>Map(retentionCheckEnabled -> false, specifiedRetentionMillis -> 0, defaultRetentionMillis -> 604800000)</td><td>null</td><td>List(4462865897687888)</td><td>0124-093932-co5lwa5n</td><td>5</td><td>SnapshotIsolation</td><td>true</td><td>Map(numFilesToDelete -> 2, sizeOfDataToDelete -> 3987)</td><td>null</td><td>Databricks-Runtime/11.3.x-scala2.12</td></tr><tr><td>5</td><td>2024-03-17T11:06:11.000+0000</td><td>2818554889652103</td><td>gilbaram20@outlook.com</td><td>VACUUM END</td><td>Map(status -> COMPLETED)</td><td>null</td><td>List(4462865897687888)</td><td>0124-093932-co5lwa5n</td><td>4</td><td>SnapshotIsolation</td><td>true</td><td>Map(numDeletedFiles -> 0, numVacuumedDirectories -> 1)</td><td>null</td><td>Databricks-Runtime/11.3.x-scala2.12</td></tr><tr><td>4</td><td>2024-03-17T11:06:06.000+0000</td><td>2818554889652103</td><td>gilbaram20@outlook.com</td><td>VACUUM START</td><td>Map(retentionCheckEnabled -> true, defaultRetentionMillis -> 604800000)</td><td>null</td><td>List(4462865897687888)</td><td>0124-093932-co5lwa5n</td><td>3</td><td>SnapshotIsolation</td><td>true</td><td>Map(numFilesToDelete -> 0, sizeOfDataToDelete -> 0)</td><td>null</td><td>Databricks-Runtime/11.3.x-scala2.12</td></tr><tr><td>3</td><td>2024-03-16T23:52:27.000+0000</td><td>2818554889652103</td><td>gilbaram20@outlook.com</td><td>MERGE</td><td>Map(predicate -> [\"(cast(driverId#16346 as bigint) = driverId#16299L)\"], matchedPredicates -> [{\"actionType\":\"update\"}], notMatchedPredicates -> [{\"actionType\":\"insert\"}])</td><td>null</td><td>List(4462865897687888)</td><td>0124-093932-co5lwa5n</td><td>2</td><td>WriteSerializable</td><td>false</td><td>Map(numTargetRowsCopied -> 0, numTargetRowsDeleted -> 0, numTargetFilesAdded -> 1, executionTimeMs -> 2551, numTargetRowsInserted -> 5, scanTimeMs -> 1199, numTargetRowsUpdated -> 5, numOutputRows -> 10, numTargetChangeFilesAdded -> 0, numSourceRows -> 10, numTargetFilesRemoved -> 1, rewriteTimeMs -> 1030)</td><td>null</td><td>Databricks-Runtime/11.3.x-scala2.12</td></tr><tr><td>2</td><td>2024-03-16T23:31:48.000+0000</td><td>2818554889652103</td><td>gilbaram20@outlook.com</td><td>MERGE</td><td>Map(predicate -> [\"(cast(driverId#15045 as bigint) = driverId#14971L)\"], matchedPredicates -> [{\"actionType\":\"update\"}], notMatchedPredicates -> [{\"actionType\":\"insert\"}])</td><td>null</td><td>List(4462865897687888)</td><td>0124-093932-co5lwa5n</td><td>1</td><td>WriteSerializable</td><td>false</td><td>Map(numTargetRowsCopied -> 5, numTargetRowsDeleted -> 0, numTargetFilesAdded -> 2, executionTimeMs -> 2990, numTargetRowsInserted -> 5, scanTimeMs -> 1502, numTargetRowsUpdated -> 5, numOutputRows -> 15, numTargetChangeFilesAdded -> 0, numSourceRows -> 10, numTargetFilesRemoved -> 1, rewriteTimeMs -> 972)</td><td>null</td><td>Databricks-Runtime/11.3.x-scala2.12</td></tr><tr><td>1</td><td>2024-03-16T23:27:41.000+0000</td><td>2818554889652103</td><td>gilbaram20@outlook.com</td><td>MERGE</td><td>Map(predicate -> [\"(cast(driverId#13823 as bigint) = driverId#12836L)\"], matchedPredicates -> [{\"actionType\":\"update\"}], notMatchedPredicates -> [{\"actionType\":\"insert\"}])</td><td>null</td><td>List(4462865897687888)</td><td>0124-093932-co5lwa5n</td><td>0</td><td>WriteSerializable</td><td>false</td><td>Map(numTargetRowsCopied -> 0, numTargetRowsDeleted -> 0, numTargetFilesAdded -> 1, executionTimeMs -> 2680, numTargetRowsInserted -> 10, scanTimeMs -> 1524, numTargetRowsUpdated -> 0, numOutputRows -> 10, numTargetChangeFilesAdded -> 0, numSourceRows -> 10, numTargetFilesRemoved -> 0, rewriteTimeMs -> 653)</td><td>null</td><td>Databricks-Runtime/11.3.x-scala2.12</td></tr><tr><td>0</td><td>2024-03-16T23:25:43.000+0000</td><td>2818554889652103</td><td>gilbaram20@outlook.com</td><td>CREATE TABLE</td><td>Map(isManaged -> true, description -> null, partitionBy -> [], properties -> {})</td><td>null</td><td>List(4462865897687888)</td><td>0124-093932-co5lwa5n</td><td>null</td><td>WriteSerializable</td><td>true</td><td>Map()</td><td>null</td><td>Databricks-Runtime/11.3.x-scala2.12</td></tr></tbody></table></div>"
      ]
     },
     "metadata": {
      "application/vnd.databricks.v1+output": {
       "addedWidgets": {},
       "aggData": [],
       "aggError": "",
       "aggOverflow": false,
       "aggSchema": [],
       "aggSeriesLimitReached": false,
       "aggType": "",
       "arguments": {},
       "columnCustomDisplayInfos": {},
       "data": [
        [
         7,
         "2024-03-17T11:08:10.000+0000",
         "2818554889652103",
         "gilbaram20@outlook.com",
         "VACUUM END",
         {
          "status": "COMPLETED"
         },
         null,
         [
          "4462865897687888"
         ],
         "0124-093932-co5lwa5n",
         6,
         "SnapshotIsolation",
         true,
         {
          "numDeletedFiles": "2",
          "numVacuumedDirectories": "1"
         },
         null,
         "Databricks-Runtime/11.3.x-scala2.12"
        ],
        [
         6,
         "2024-03-17T11:08:06.000+0000",
         "2818554889652103",
         "gilbaram20@outlook.com",
         "VACUUM START",
         {
          "defaultRetentionMillis": "604800000",
          "retentionCheckEnabled": "false",
          "specifiedRetentionMillis": "0"
         },
         null,
         [
          "4462865897687888"
         ],
         "0124-093932-co5lwa5n",
         5,
         "SnapshotIsolation",
         true,
         {
          "numFilesToDelete": "2",
          "sizeOfDataToDelete": "3987"
         },
         null,
         "Databricks-Runtime/11.3.x-scala2.12"
        ],
        [
         5,
         "2024-03-17T11:06:11.000+0000",
         "2818554889652103",
         "gilbaram20@outlook.com",
         "VACUUM END",
         {
          "status": "COMPLETED"
         },
         null,
         [
          "4462865897687888"
         ],
         "0124-093932-co5lwa5n",
         4,
         "SnapshotIsolation",
         true,
         {
          "numDeletedFiles": "0",
          "numVacuumedDirectories": "1"
         },
         null,
         "Databricks-Runtime/11.3.x-scala2.12"
        ],
        [
         4,
         "2024-03-17T11:06:06.000+0000",
         "2818554889652103",
         "gilbaram20@outlook.com",
         "VACUUM START",
         {
          "defaultRetentionMillis": "604800000",
          "retentionCheckEnabled": "true"
         },
         null,
         [
          "4462865897687888"
         ],
         "0124-093932-co5lwa5n",
         3,
         "SnapshotIsolation",
         true,
         {
          "numFilesToDelete": "0",
          "sizeOfDataToDelete": "0"
         },
         null,
         "Databricks-Runtime/11.3.x-scala2.12"
        ],
        [
         3,
         "2024-03-16T23:52:27.000+0000",
         "2818554889652103",
         "gilbaram20@outlook.com",
         "MERGE",
         {
          "matchedPredicates": "[{\"actionType\":\"update\"}]",
          "notMatchedPredicates": "[{\"actionType\":\"insert\"}]",
          "predicate": "[\"(cast(driverId#16346 as bigint) = driverId#16299L)\"]"
         },
         null,
         [
          "4462865897687888"
         ],
         "0124-093932-co5lwa5n",
         2,
         "WriteSerializable",
         false,
         {
          "executionTimeMs": "2551",
          "numOutputRows": "10",
          "numSourceRows": "10",
          "numTargetChangeFilesAdded": "0",
          "numTargetFilesAdded": "1",
          "numTargetFilesRemoved": "1",
          "numTargetRowsCopied": "0",
          "numTargetRowsDeleted": "0",
          "numTargetRowsInserted": "5",
          "numTargetRowsUpdated": "5",
          "rewriteTimeMs": "1030",
          "scanTimeMs": "1199"
         },
         null,
         "Databricks-Runtime/11.3.x-scala2.12"
        ],
        [
         2,
         "2024-03-16T23:31:48.000+0000",
         "2818554889652103",
         "gilbaram20@outlook.com",
         "MERGE",
         {
          "matchedPredicates": "[{\"actionType\":\"update\"}]",
          "notMatchedPredicates": "[{\"actionType\":\"insert\"}]",
          "predicate": "[\"(cast(driverId#15045 as bigint) = driverId#14971L)\"]"
         },
         null,
         [
          "4462865897687888"
         ],
         "0124-093932-co5lwa5n",
         1,
         "WriteSerializable",
         false,
         {
          "executionTimeMs": "2990",
          "numOutputRows": "15",
          "numSourceRows": "10",
          "numTargetChangeFilesAdded": "0",
          "numTargetFilesAdded": "2",
          "numTargetFilesRemoved": "1",
          "numTargetRowsCopied": "5",
          "numTargetRowsDeleted": "0",
          "numTargetRowsInserted": "5",
          "numTargetRowsUpdated": "5",
          "rewriteTimeMs": "972",
          "scanTimeMs": "1502"
         },
         null,
         "Databricks-Runtime/11.3.x-scala2.12"
        ],
        [
         1,
         "2024-03-16T23:27:41.000+0000",
         "2818554889652103",
         "gilbaram20@outlook.com",
         "MERGE",
         {
          "matchedPredicates": "[{\"actionType\":\"update\"}]",
          "notMatchedPredicates": "[{\"actionType\":\"insert\"}]",
          "predicate": "[\"(cast(driverId#13823 as bigint) = driverId#12836L)\"]"
         },
         null,
         [
          "4462865897687888"
         ],
         "0124-093932-co5lwa5n",
         0,
         "WriteSerializable",
         false,
         {
          "executionTimeMs": "2680",
          "numOutputRows": "10",
          "numSourceRows": "10",
          "numTargetChangeFilesAdded": "0",
          "numTargetFilesAdded": "1",
          "numTargetFilesRemoved": "0",
          "numTargetRowsCopied": "0",
          "numTargetRowsDeleted": "0",
          "numTargetRowsInserted": "10",
          "numTargetRowsUpdated": "0",
          "rewriteTimeMs": "653",
          "scanTimeMs": "1524"
         },
         null,
         "Databricks-Runtime/11.3.x-scala2.12"
        ],
        [
         0,
         "2024-03-16T23:25:43.000+0000",
         "2818554889652103",
         "gilbaram20@outlook.com",
         "CREATE TABLE",
         {
          "description": null,
          "isManaged": "true",
          "partitionBy": "[]",
          "properties": "{}"
         },
         null,
         [
          "4462865897687888"
         ],
         "0124-093932-co5lwa5n",
         null,
         "WriteSerializable",
         true,
         {},
         null,
         "Databricks-Runtime/11.3.x-scala2.12"
        ]
       ],
       "datasetInfos": [],
       "dbfsResultPath": null,
       "isJsonSchema": true,
       "metadata": {},
       "overflow": false,
       "plotOptions": {
        "customPlotOptions": {},
        "displayType": "table",
        "pivotAggregation": null,
        "pivotColumns": null,
        "xColumns": null,
        "yColumns": null
       },
       "removedWidgets": [],
       "schema": [
        {
         "metadata": "{}",
         "name": "version",
         "type": "\"long\""
        },
        {
         "metadata": "{}",
         "name": "timestamp",
         "type": "\"timestamp\""
        },
        {
         "metadata": "{}",
         "name": "userId",
         "type": "\"string\""
        },
        {
         "metadata": "{}",
         "name": "userName",
         "type": "\"string\""
        },
        {
         "metadata": "{}",
         "name": "operation",
         "type": "\"string\""
        },
        {
         "metadata": "{}",
         "name": "operationParameters",
         "type": "{\"type\":\"map\",\"keyType\":\"string\",\"valueType\":\"string\",\"valueContainsNull\":true}"
        },
        {
         "metadata": "{}",
         "name": "job",
         "type": "{\"type\":\"struct\",\"fields\":[{\"name\":\"jobId\",\"type\":\"string\",\"nullable\":true,\"metadata\":{}},{\"name\":\"jobName\",\"type\":\"string\",\"nullable\":true,\"metadata\":{}},{\"name\":\"runId\",\"type\":\"string\",\"nullable\":true,\"metadata\":{}},{\"name\":\"jobOwnerId\",\"type\":\"string\",\"nullable\":true,\"metadata\":{}},{\"name\":\"triggerType\",\"type\":\"string\",\"nullable\":true,\"metadata\":{}}]}"
        },
        {
         "metadata": "{}",
         "name": "notebook",
         "type": "{\"type\":\"struct\",\"fields\":[{\"name\":\"notebookId\",\"type\":\"string\",\"nullable\":true,\"metadata\":{}}]}"
        },
        {
         "metadata": "{}",
         "name": "clusterId",
         "type": "\"string\""
        },
        {
         "metadata": "{}",
         "name": "readVersion",
         "type": "\"long\""
        },
        {
         "metadata": "{}",
         "name": "isolationLevel",
         "type": "\"string\""
        },
        {
         "metadata": "{}",
         "name": "isBlindAppend",
         "type": "\"boolean\""
        },
        {
         "metadata": "{}",
         "name": "operationMetrics",
         "type": "{\"type\":\"map\",\"keyType\":\"string\",\"valueType\":\"string\",\"valueContainsNull\":true}"
        },
        {
         "metadata": "{}",
         "name": "userMetadata",
         "type": "\"string\""
        },
        {
         "metadata": "{}",
         "name": "engineInfo",
         "type": "\"string\""
        }
       ],
       "type": "table"
      }
     },
     "output_type": "display_data"
    }
   ],
   "source": [
    "%sql\n",
    "DESC HISTORY f1_demo.drivers_merge"
   ]
  },
  {
   "cell_type": "code",
   "execution_count": 0,
   "metadata": {
    "application/vnd.databricks.v1+cell": {
     "cellMetadata": {
      "byteLimit": 2048000,
      "implicitDf": true,
      "rowLimit": 10000
     },
     "inputWidgets": {},
     "nuid": "a4413c15-66eb-4371-a542-cd193bf34e6e",
     "showTitle": false,
     "title": ""
    }
   },
   "outputs": [
    {
     "output_type": "display_data",
     "data": {
      "text/html": [
       "<style scoped>\n",
       "  .table-result-container {\n",
       "    max-height: 300px;\n",
       "    overflow: auto;\n",
       "  }\n",
       "  table, th, td {\n",
       "    border: 1px solid black;\n",
       "    border-collapse: collapse;\n",
       "  }\n",
       "  th, td {\n",
       "    padding: 5px;\n",
       "  }\n",
       "  th {\n",
       "    text-align: left;\n",
       "  }\n",
       "</style><div class='table-result-container'><table class='table-result'><thead style='background-color: white'><tr><th>num_affected_rows</th></tr></thead><tbody><tr><td>1</td></tr></tbody></table></div>"
      ]
     },
     "metadata": {
      "application/vnd.databricks.v1+output": {
       "addedWidgets": {},
       "aggData": [],
       "aggError": "",
       "aggOverflow": false,
       "aggSchema": [],
       "aggSeriesLimitReached": false,
       "aggType": "",
       "arguments": {},
       "columnCustomDisplayInfos": {},
       "data": [
        [
         1
        ]
       ],
       "datasetInfos": [],
       "dbfsResultPath": null,
       "isJsonSchema": true,
       "metadata": {},
       "overflow": false,
       "plotOptions": {
        "customPlotOptions": {},
        "displayType": "table",
        "pivotAggregation": null,
        "pivotColumns": null,
        "xColumns": null,
        "yColumns": null
       },
       "removedWidgets": [],
       "schema": [
        {
         "metadata": "{}",
         "name": "num_affected_rows",
         "type": "\"long\""
        }
       ],
       "type": "table"
      }
     },
     "output_type": "display_data"
    }
   ],
   "source": [
    "%sql\n",
    "DELETE from f1_demo.drivers_merge WHERE driverID = 1;"
   ]
  },
  {
   "cell_type": "code",
   "execution_count": 0,
   "metadata": {
    "application/vnd.databricks.v1+cell": {
     "cellMetadata": {
      "byteLimit": 2048000,
      "implicitDf": true,
      "rowLimit": 10000
     },
     "inputWidgets": {},
     "nuid": "040a2507-6cc2-4ef5-a668-06b6e299cb9b",
     "showTitle": false,
     "title": ""
    }
   },
   "outputs": [
    {
     "output_type": "display_data",
     "data": {
      "text/html": [
       "<style scoped>\n",
       "  .table-result-container {\n",
       "    max-height: 300px;\n",
       "    overflow: auto;\n",
       "  }\n",
       "  table, th, td {\n",
       "    border: 1px solid black;\n",
       "    border-collapse: collapse;\n",
       "  }\n",
       "  th, td {\n",
       "    padding: 5px;\n",
       "  }\n",
       "  th {\n",
       "    text-align: left;\n",
       "  }\n",
       "</style><div class='table-result-container'><table class='table-result'><thead style='background-color: white'><tr><th>driverID</th><th>dob</th><th>forename</th><th>surname</th><th>createdDate</th><th>updatedDate</th></tr></thead><tbody><tr><td>6</td><td>1985-01-11</td><td>KAZUKI</td><td>NAKAJIMA</td><td>2024-03-16</td><td>2024-03-16</td></tr><tr><td>7</td><td>1979-02-28</td><td>SÉBASTIEN</td><td>BOURDAIS</td><td>2024-03-16</td><td>2024-03-16</td></tr><tr><td>8</td><td>1979-10-17</td><td>KIMI</td><td>RÄIKKÖNEN</td><td>2024-03-16</td><td>2024-03-16</td></tr><tr><td>9</td><td>1984-12-07</td><td>ROBERT</td><td>KUBICA</td><td>2024-03-16</td><td>2024-03-16</td></tr><tr><td>10</td><td>1982-03-18</td><td>TIMO</td><td>GLOCK</td><td>2024-03-16</td><td>2024-03-16</td></tr><tr><td>11</td><td>1977-01-28</td><td>TAKUMA</td><td>SATO</td><td>2024-03-16</td><td>null</td></tr><tr><td>12</td><td>1985-07-25</td><td>NELSON</td><td>PIQUET JR.</td><td>2024-03-16</td><td>null</td></tr><tr><td>13</td><td>1981-04-25</td><td>FELIPE</td><td>MASSA</td><td>2024-03-16</td><td>null</td></tr><tr><td>14</td><td>1971-03-27</td><td>DAVID</td><td>COULTHARD</td><td>2024-03-16</td><td>null</td></tr><tr><td>15</td><td>1974-07-13</td><td>JARNO</td><td>TRULLI</td><td>2024-03-16</td><td>null</td></tr><tr><td>1</td><td>1985-01-07</td><td>LEWIS</td><td>HAMILTON</td><td>2024-03-16</td><td>2024-03-16</td></tr><tr><td>2</td><td>1977-05-10</td><td>NICK</td><td>HEIDFELD</td><td>2024-03-16</td><td>2024-03-16</td></tr><tr><td>3</td><td>1985-06-27</td><td>NICO</td><td>ROSBERG</td><td>2024-03-16</td><td>2024-03-16</td></tr><tr><td>4</td><td>1981-07-29</td><td>FERNANDO</td><td>ALONSO</td><td>2024-03-16</td><td>2024-03-16</td></tr><tr><td>5</td><td>1981-10-19</td><td>HEIKKI</td><td>KOVALAINEN</td><td>2024-03-16</td><td>2024-03-16</td></tr><tr><td>16</td><td>1983-01-11</td><td>ADRIAN</td><td>SUTIL</td><td>2024-03-16</td><td>null</td></tr><tr><td>17</td><td>1976-08-27</td><td>MARK</td><td>WEBBER</td><td>2024-03-16</td><td>null</td></tr><tr><td>18</td><td>1980-01-19</td><td>JENSON</td><td>BUTTON</td><td>2024-03-16</td><td>null</td></tr><tr><td>19</td><td>1979-04-18</td><td>ANTHONY</td><td>DAVIDSON</td><td>2024-03-16</td><td>null</td></tr><tr><td>20</td><td>1987-07-03</td><td>SEBASTIAN</td><td>VETTEL</td><td>2024-03-16</td><td>null</td></tr></tbody></table></div>"
      ]
     },
     "metadata": {
      "application/vnd.databricks.v1+output": {
       "addedWidgets": {},
       "aggData": [],
       "aggError": "",
       "aggOverflow": false,
       "aggSchema": [],
       "aggSeriesLimitReached": false,
       "aggType": "",
       "arguments": {},
       "columnCustomDisplayInfos": {},
       "data": [
        [
         6,
         "1985-01-11",
         "KAZUKI",
         "NAKAJIMA",
         "2024-03-16",
         "2024-03-16"
        ],
        [
         7,
         "1979-02-28",
         "SÉBASTIEN",
         "BOURDAIS",
         "2024-03-16",
         "2024-03-16"
        ],
        [
         8,
         "1979-10-17",
         "KIMI",
         "RÄIKKÖNEN",
         "2024-03-16",
         "2024-03-16"
        ],
        [
         9,
         "1984-12-07",
         "ROBERT",
         "KUBICA",
         "2024-03-16",
         "2024-03-16"
        ],
        [
         10,
         "1982-03-18",
         "TIMO",
         "GLOCK",
         "2024-03-16",
         "2024-03-16"
        ],
        [
         11,
         "1977-01-28",
         "TAKUMA",
         "SATO",
         "2024-03-16",
         null
        ],
        [
         12,
         "1985-07-25",
         "NELSON",
         "PIQUET JR.",
         "2024-03-16",
         null
        ],
        [
         13,
         "1981-04-25",
         "FELIPE",
         "MASSA",
         "2024-03-16",
         null
        ],
        [
         14,
         "1971-03-27",
         "DAVID",
         "COULTHARD",
         "2024-03-16",
         null
        ],
        [
         15,
         "1974-07-13",
         "JARNO",
         "TRULLI",
         "2024-03-16",
         null
        ],
        [
         1,
         "1985-01-07",
         "LEWIS",
         "HAMILTON",
         "2024-03-16",
         "2024-03-16"
        ],
        [
         2,
         "1977-05-10",
         "NICK",
         "HEIDFELD",
         "2024-03-16",
         "2024-03-16"
        ],
        [
         3,
         "1985-06-27",
         "NICO",
         "ROSBERG",
         "2024-03-16",
         "2024-03-16"
        ],
        [
         4,
         "1981-07-29",
         "FERNANDO",
         "ALONSO",
         "2024-03-16",
         "2024-03-16"
        ],
        [
         5,
         "1981-10-19",
         "HEIKKI",
         "KOVALAINEN",
         "2024-03-16",
         "2024-03-16"
        ],
        [
         16,
         "1983-01-11",
         "ADRIAN",
         "SUTIL",
         "2024-03-16",
         null
        ],
        [
         17,
         "1976-08-27",
         "MARK",
         "WEBBER",
         "2024-03-16",
         null
        ],
        [
         18,
         "1980-01-19",
         "JENSON",
         "BUTTON",
         "2024-03-16",
         null
        ],
        [
         19,
         "1979-04-18",
         "ANTHONY",
         "DAVIDSON",
         "2024-03-16",
         null
        ],
        [
         20,
         "1987-07-03",
         "SEBASTIAN",
         "VETTEL",
         "2024-03-16",
         null
        ]
       ],
       "datasetInfos": [],
       "dbfsResultPath": null,
       "isJsonSchema": true,
       "metadata": {},
       "overflow": false,
       "plotOptions": {
        "customPlotOptions": {},
        "displayType": "table",
        "pivotAggregation": null,
        "pivotColumns": null,
        "xColumns": null,
        "yColumns": null
       },
       "removedWidgets": [],
       "schema": [
        {
         "metadata": "{}",
         "name": "driverID",
         "type": "\"integer\""
        },
        {
         "metadata": "{}",
         "name": "dob",
         "type": "\"date\""
        },
        {
         "metadata": "{}",
         "name": "forename",
         "type": "\"string\""
        },
        {
         "metadata": "{}",
         "name": "surname",
         "type": "\"string\""
        },
        {
         "metadata": "{}",
         "name": "createdDate",
         "type": "\"date\""
        },
        {
         "metadata": "{}",
         "name": "updatedDate",
         "type": "\"date\""
        }
       ],
       "type": "table"
      }
     },
     "output_type": "display_data"
    }
   ],
   "source": [
    "%sql\n",
    "select * from f1_demo.drivers_merge version as of 3;\n"
   ]
  },
  {
   "cell_type": "code",
   "execution_count": 0,
   "metadata": {
    "application/vnd.databricks.v1+cell": {
     "cellMetadata": {
      "byteLimit": 2048000,
      "implicitDf": true,
      "rowLimit": 10000
     },
     "inputWidgets": {},
     "nuid": "e9b36925-3c5e-49bc-9999-41141fc43c7e",
     "showTitle": false,
     "title": ""
    }
   },
   "outputs": [
    {
     "output_type": "display_data",
     "data": {
      "text/html": [
       "<style scoped>\n",
       "  .table-result-container {\n",
       "    max-height: 300px;\n",
       "    overflow: auto;\n",
       "  }\n",
       "  table, th, td {\n",
       "    border: 1px solid black;\n",
       "    border-collapse: collapse;\n",
       "  }\n",
       "  th, td {\n",
       "    padding: 5px;\n",
       "  }\n",
       "  th {\n",
       "    text-align: left;\n",
       "  }\n",
       "</style><div class='table-result-container'><table class='table-result'><thead style='background-color: white'><tr><th>num_affected_rows</th><th>num_updated_rows</th><th>num_deleted_rows</th><th>num_inserted_rows</th></tr></thead><tbody><tr><td>1</td><td>0</td><td>0</td><td>1</td></tr></tbody></table></div>"
      ]
     },
     "metadata": {
      "application/vnd.databricks.v1+output": {
       "addedWidgets": {},
       "aggData": [],
       "aggError": "",
       "aggOverflow": false,
       "aggSchema": [],
       "aggSeriesLimitReached": false,
       "aggType": "",
       "arguments": {},
       "columnCustomDisplayInfos": {},
       "data": [
        [
         1,
         0,
         0,
         1
        ]
       ],
       "datasetInfos": [],
       "dbfsResultPath": null,
       "isJsonSchema": true,
       "metadata": {},
       "overflow": false,
       "plotOptions": {
        "customPlotOptions": {},
        "displayType": "table",
        "pivotAggregation": null,
        "pivotColumns": null,
        "xColumns": null,
        "yColumns": null
       },
       "removedWidgets": [],
       "schema": [
        {
         "metadata": "{}",
         "name": "num_affected_rows",
         "type": "\"long\""
        },
        {
         "metadata": "{}",
         "name": "num_updated_rows",
         "type": "\"long\""
        },
        {
         "metadata": "{}",
         "name": "num_deleted_rows",
         "type": "\"long\""
        },
        {
         "metadata": "{}",
         "name": "num_inserted_rows",
         "type": "\"long\""
        }
       ],
       "type": "table"
      }
     },
     "output_type": "display_data"
    }
   ],
   "source": [
    "%sql\n",
    "MERGE into f1_demo.drivers_merge tgt\n",
    "USING f1_demo.drivers_merge VERSIOn AS Of 3 src\n",
    "  On (tgt.driverId = src.driverId)\n",
    "When not MATCHED THEN\n",
    "  INSERT *  "
   ]
  },
  {
   "cell_type": "code",
   "execution_count": 0,
   "metadata": {
    "application/vnd.databricks.v1+cell": {
     "cellMetadata": {
      "byteLimit": 2048000,
      "implicitDf": true,
      "rowLimit": 10000
     },
     "inputWidgets": {},
     "nuid": "c74db9b7-18b7-42e4-bcf0-80c0a9d88098",
     "showTitle": false,
     "title": ""
    }
   },
   "outputs": [
    {
     "output_type": "display_data",
     "data": {
      "text/html": [
       "<style scoped>\n",
       "  .table-result-container {\n",
       "    max-height: 300px;\n",
       "    overflow: auto;\n",
       "  }\n",
       "  table, th, td {\n",
       "    border: 1px solid black;\n",
       "    border-collapse: collapse;\n",
       "  }\n",
       "  th, td {\n",
       "    padding: 5px;\n",
       "  }\n",
       "  th {\n",
       "    text-align: left;\n",
       "  }\n",
       "</style><div class='table-result-container'><table class='table-result'><thead style='background-color: white'><tr><th>version</th><th>timestamp</th><th>userId</th><th>userName</th><th>operation</th><th>operationParameters</th><th>job</th><th>notebook</th><th>clusterId</th><th>readVersion</th><th>isolationLevel</th><th>isBlindAppend</th><th>operationMetrics</th><th>userMetadata</th><th>engineInfo</th></tr></thead><tbody><tr><td>9</td><td>2024-03-17T11:14:48.000+0000</td><td>2818554889652103</td><td>gilbaram20@outlook.com</td><td>MERGE</td><td>Map(predicate -> [\"(driverId#6065 = driverId#6071)\"], matchedPredicates -> [], notMatchedPredicates -> [{\"actionType\":\"insert\"}])</td><td>null</td><td>List(4462865897687888)</td><td>0124-093932-co5lwa5n</td><td>8</td><td>WriteSerializable</td><td>false</td><td>Map(numTargetRowsCopied -> 0, numTargetRowsDeleted -> 0, numTargetFilesAdded -> 1, executionTimeMs -> 1899, numTargetRowsInserted -> 1, scanTimeMs -> 0, numTargetRowsUpdated -> 0, numOutputRows -> 1, numTargetChangeFilesAdded -> 0, numSourceRows -> 24, numTargetFilesRemoved -> 0, rewriteTimeMs -> 1838)</td><td>null</td><td>Databricks-Runtime/11.3.x-scala2.12</td></tr><tr><td>8</td><td>2024-03-17T11:11:56.000+0000</td><td>2818554889652103</td><td>gilbaram20@outlook.com</td><td>DELETE</td><td>Map(predicate -> [\"(driverID#5272 = 1)\"])</td><td>null</td><td>List(4462865897687888)</td><td>0124-093932-co5lwa5n</td><td>7</td><td>WriteSerializable</td><td>false</td><td>Map(numRemovedFiles -> 1, numCopiedRows -> 9, numAddedChangeFiles -> 0, executionTimeMs -> 2216, numDeletedRows -> 1, scanTimeMs -> 705, numAddedFiles -> 1, rewriteTimeMs -> 1505)</td><td>null</td><td>Databricks-Runtime/11.3.x-scala2.12</td></tr><tr><td>7</td><td>2024-03-17T11:08:10.000+0000</td><td>2818554889652103</td><td>gilbaram20@outlook.com</td><td>VACUUM END</td><td>Map(status -> COMPLETED)</td><td>null</td><td>List(4462865897687888)</td><td>0124-093932-co5lwa5n</td><td>6</td><td>SnapshotIsolation</td><td>true</td><td>Map(numDeletedFiles -> 2, numVacuumedDirectories -> 1)</td><td>null</td><td>Databricks-Runtime/11.3.x-scala2.12</td></tr><tr><td>6</td><td>2024-03-17T11:08:06.000+0000</td><td>2818554889652103</td><td>gilbaram20@outlook.com</td><td>VACUUM START</td><td>Map(retentionCheckEnabled -> false, specifiedRetentionMillis -> 0, defaultRetentionMillis -> 604800000)</td><td>null</td><td>List(4462865897687888)</td><td>0124-093932-co5lwa5n</td><td>5</td><td>SnapshotIsolation</td><td>true</td><td>Map(numFilesToDelete -> 2, sizeOfDataToDelete -> 3987)</td><td>null</td><td>Databricks-Runtime/11.3.x-scala2.12</td></tr><tr><td>5</td><td>2024-03-17T11:06:11.000+0000</td><td>2818554889652103</td><td>gilbaram20@outlook.com</td><td>VACUUM END</td><td>Map(status -> COMPLETED)</td><td>null</td><td>List(4462865897687888)</td><td>0124-093932-co5lwa5n</td><td>4</td><td>SnapshotIsolation</td><td>true</td><td>Map(numDeletedFiles -> 0, numVacuumedDirectories -> 1)</td><td>null</td><td>Databricks-Runtime/11.3.x-scala2.12</td></tr><tr><td>4</td><td>2024-03-17T11:06:06.000+0000</td><td>2818554889652103</td><td>gilbaram20@outlook.com</td><td>VACUUM START</td><td>Map(retentionCheckEnabled -> true, defaultRetentionMillis -> 604800000)</td><td>null</td><td>List(4462865897687888)</td><td>0124-093932-co5lwa5n</td><td>3</td><td>SnapshotIsolation</td><td>true</td><td>Map(numFilesToDelete -> 0, sizeOfDataToDelete -> 0)</td><td>null</td><td>Databricks-Runtime/11.3.x-scala2.12</td></tr><tr><td>3</td><td>2024-03-16T23:52:27.000+0000</td><td>2818554889652103</td><td>gilbaram20@outlook.com</td><td>MERGE</td><td>Map(predicate -> [\"(cast(driverId#16346 as bigint) = driverId#16299L)\"], matchedPredicates -> [{\"actionType\":\"update\"}], notMatchedPredicates -> [{\"actionType\":\"insert\"}])</td><td>null</td><td>List(4462865897687888)</td><td>0124-093932-co5lwa5n</td><td>2</td><td>WriteSerializable</td><td>false</td><td>Map(numTargetRowsCopied -> 0, numTargetRowsDeleted -> 0, numTargetFilesAdded -> 1, executionTimeMs -> 2551, numTargetRowsInserted -> 5, scanTimeMs -> 1199, numTargetRowsUpdated -> 5, numOutputRows -> 10, numTargetChangeFilesAdded -> 0, numSourceRows -> 10, numTargetFilesRemoved -> 1, rewriteTimeMs -> 1030)</td><td>null</td><td>Databricks-Runtime/11.3.x-scala2.12</td></tr><tr><td>2</td><td>2024-03-16T23:31:48.000+0000</td><td>2818554889652103</td><td>gilbaram20@outlook.com</td><td>MERGE</td><td>Map(predicate -> [\"(cast(driverId#15045 as bigint) = driverId#14971L)\"], matchedPredicates -> [{\"actionType\":\"update\"}], notMatchedPredicates -> [{\"actionType\":\"insert\"}])</td><td>null</td><td>List(4462865897687888)</td><td>0124-093932-co5lwa5n</td><td>1</td><td>WriteSerializable</td><td>false</td><td>Map(numTargetRowsCopied -> 5, numTargetRowsDeleted -> 0, numTargetFilesAdded -> 2, executionTimeMs -> 2990, numTargetRowsInserted -> 5, scanTimeMs -> 1502, numTargetRowsUpdated -> 5, numOutputRows -> 15, numTargetChangeFilesAdded -> 0, numSourceRows -> 10, numTargetFilesRemoved -> 1, rewriteTimeMs -> 972)</td><td>null</td><td>Databricks-Runtime/11.3.x-scala2.12</td></tr><tr><td>1</td><td>2024-03-16T23:27:41.000+0000</td><td>2818554889652103</td><td>gilbaram20@outlook.com</td><td>MERGE</td><td>Map(predicate -> [\"(cast(driverId#13823 as bigint) = driverId#12836L)\"], matchedPredicates -> [{\"actionType\":\"update\"}], notMatchedPredicates -> [{\"actionType\":\"insert\"}])</td><td>null</td><td>List(4462865897687888)</td><td>0124-093932-co5lwa5n</td><td>0</td><td>WriteSerializable</td><td>false</td><td>Map(numTargetRowsCopied -> 0, numTargetRowsDeleted -> 0, numTargetFilesAdded -> 1, executionTimeMs -> 2680, numTargetRowsInserted -> 10, scanTimeMs -> 1524, numTargetRowsUpdated -> 0, numOutputRows -> 10, numTargetChangeFilesAdded -> 0, numSourceRows -> 10, numTargetFilesRemoved -> 0, rewriteTimeMs -> 653)</td><td>null</td><td>Databricks-Runtime/11.3.x-scala2.12</td></tr><tr><td>0</td><td>2024-03-16T23:25:43.000+0000</td><td>2818554889652103</td><td>gilbaram20@outlook.com</td><td>CREATE TABLE</td><td>Map(isManaged -> true, description -> null, partitionBy -> [], properties -> {})</td><td>null</td><td>List(4462865897687888)</td><td>0124-093932-co5lwa5n</td><td>null</td><td>WriteSerializable</td><td>true</td><td>Map()</td><td>null</td><td>Databricks-Runtime/11.3.x-scala2.12</td></tr></tbody></table></div>"
      ]
     },
     "metadata": {
      "application/vnd.databricks.v1+output": {
       "addedWidgets": {},
       "aggData": [],
       "aggError": "",
       "aggOverflow": false,
       "aggSchema": [],
       "aggSeriesLimitReached": false,
       "aggType": "",
       "arguments": {},
       "columnCustomDisplayInfos": {},
       "data": [
        [
         9,
         "2024-03-17T11:14:48.000+0000",
         "2818554889652103",
         "gilbaram20@outlook.com",
         "MERGE",
         {
          "matchedPredicates": "[]",
          "notMatchedPredicates": "[{\"actionType\":\"insert\"}]",
          "predicate": "[\"(driverId#6065 = driverId#6071)\"]"
         },
         null,
         [
          "4462865897687888"
         ],
         "0124-093932-co5lwa5n",
         8,
         "WriteSerializable",
         false,
         {
          "executionTimeMs": "1899",
          "numOutputRows": "1",
          "numSourceRows": "24",
          "numTargetChangeFilesAdded": "0",
          "numTargetFilesAdded": "1",
          "numTargetFilesRemoved": "0",
          "numTargetRowsCopied": "0",
          "numTargetRowsDeleted": "0",
          "numTargetRowsInserted": "1",
          "numTargetRowsUpdated": "0",
          "rewriteTimeMs": "1838",
          "scanTimeMs": "0"
         },
         null,
         "Databricks-Runtime/11.3.x-scala2.12"
        ],
        [
         8,
         "2024-03-17T11:11:56.000+0000",
         "2818554889652103",
         "gilbaram20@outlook.com",
         "DELETE",
         {
          "predicate": "[\"(driverID#5272 = 1)\"]"
         },
         null,
         [
          "4462865897687888"
         ],
         "0124-093932-co5lwa5n",
         7,
         "WriteSerializable",
         false,
         {
          "executionTimeMs": "2216",
          "numAddedChangeFiles": "0",
          "numAddedFiles": "1",
          "numCopiedRows": "9",
          "numDeletedRows": "1",
          "numRemovedFiles": "1",
          "rewriteTimeMs": "1505",
          "scanTimeMs": "705"
         },
         null,
         "Databricks-Runtime/11.3.x-scala2.12"
        ],
        [
         7,
         "2024-03-17T11:08:10.000+0000",
         "2818554889652103",
         "gilbaram20@outlook.com",
         "VACUUM END",
         {
          "status": "COMPLETED"
         },
         null,
         [
          "4462865897687888"
         ],
         "0124-093932-co5lwa5n",
         6,
         "SnapshotIsolation",
         true,
         {
          "numDeletedFiles": "2",
          "numVacuumedDirectories": "1"
         },
         null,
         "Databricks-Runtime/11.3.x-scala2.12"
        ],
        [
         6,
         "2024-03-17T11:08:06.000+0000",
         "2818554889652103",
         "gilbaram20@outlook.com",
         "VACUUM START",
         {
          "defaultRetentionMillis": "604800000",
          "retentionCheckEnabled": "false",
          "specifiedRetentionMillis": "0"
         },
         null,
         [
          "4462865897687888"
         ],
         "0124-093932-co5lwa5n",
         5,
         "SnapshotIsolation",
         true,
         {
          "numFilesToDelete": "2",
          "sizeOfDataToDelete": "3987"
         },
         null,
         "Databricks-Runtime/11.3.x-scala2.12"
        ],
        [
         5,
         "2024-03-17T11:06:11.000+0000",
         "2818554889652103",
         "gilbaram20@outlook.com",
         "VACUUM END",
         {
          "status": "COMPLETED"
         },
         null,
         [
          "4462865897687888"
         ],
         "0124-093932-co5lwa5n",
         4,
         "SnapshotIsolation",
         true,
         {
          "numDeletedFiles": "0",
          "numVacuumedDirectories": "1"
         },
         null,
         "Databricks-Runtime/11.3.x-scala2.12"
        ],
        [
         4,
         "2024-03-17T11:06:06.000+0000",
         "2818554889652103",
         "gilbaram20@outlook.com",
         "VACUUM START",
         {
          "defaultRetentionMillis": "604800000",
          "retentionCheckEnabled": "true"
         },
         null,
         [
          "4462865897687888"
         ],
         "0124-093932-co5lwa5n",
         3,
         "SnapshotIsolation",
         true,
         {
          "numFilesToDelete": "0",
          "sizeOfDataToDelete": "0"
         },
         null,
         "Databricks-Runtime/11.3.x-scala2.12"
        ],
        [
         3,
         "2024-03-16T23:52:27.000+0000",
         "2818554889652103",
         "gilbaram20@outlook.com",
         "MERGE",
         {
          "matchedPredicates": "[{\"actionType\":\"update\"}]",
          "notMatchedPredicates": "[{\"actionType\":\"insert\"}]",
          "predicate": "[\"(cast(driverId#16346 as bigint) = driverId#16299L)\"]"
         },
         null,
         [
          "4462865897687888"
         ],
         "0124-093932-co5lwa5n",
         2,
         "WriteSerializable",
         false,
         {
          "executionTimeMs": "2551",
          "numOutputRows": "10",
          "numSourceRows": "10",
          "numTargetChangeFilesAdded": "0",
          "numTargetFilesAdded": "1",
          "numTargetFilesRemoved": "1",
          "numTargetRowsCopied": "0",
          "numTargetRowsDeleted": "0",
          "numTargetRowsInserted": "5",
          "numTargetRowsUpdated": "5",
          "rewriteTimeMs": "1030",
          "scanTimeMs": "1199"
         },
         null,
         "Databricks-Runtime/11.3.x-scala2.12"
        ],
        [
         2,
         "2024-03-16T23:31:48.000+0000",
         "2818554889652103",
         "gilbaram20@outlook.com",
         "MERGE",
         {
          "matchedPredicates": "[{\"actionType\":\"update\"}]",
          "notMatchedPredicates": "[{\"actionType\":\"insert\"}]",
          "predicate": "[\"(cast(driverId#15045 as bigint) = driverId#14971L)\"]"
         },
         null,
         [
          "4462865897687888"
         ],
         "0124-093932-co5lwa5n",
         1,
         "WriteSerializable",
         false,
         {
          "executionTimeMs": "2990",
          "numOutputRows": "15",
          "numSourceRows": "10",
          "numTargetChangeFilesAdded": "0",
          "numTargetFilesAdded": "2",
          "numTargetFilesRemoved": "1",
          "numTargetRowsCopied": "5",
          "numTargetRowsDeleted": "0",
          "numTargetRowsInserted": "5",
          "numTargetRowsUpdated": "5",
          "rewriteTimeMs": "972",
          "scanTimeMs": "1502"
         },
         null,
         "Databricks-Runtime/11.3.x-scala2.12"
        ],
        [
         1,
         "2024-03-16T23:27:41.000+0000",
         "2818554889652103",
         "gilbaram20@outlook.com",
         "MERGE",
         {
          "matchedPredicates": "[{\"actionType\":\"update\"}]",
          "notMatchedPredicates": "[{\"actionType\":\"insert\"}]",
          "predicate": "[\"(cast(driverId#13823 as bigint) = driverId#12836L)\"]"
         },
         null,
         [
          "4462865897687888"
         ],
         "0124-093932-co5lwa5n",
         0,
         "WriteSerializable",
         false,
         {
          "executionTimeMs": "2680",
          "numOutputRows": "10",
          "numSourceRows": "10",
          "numTargetChangeFilesAdded": "0",
          "numTargetFilesAdded": "1",
          "numTargetFilesRemoved": "0",
          "numTargetRowsCopied": "0",
          "numTargetRowsDeleted": "0",
          "numTargetRowsInserted": "10",
          "numTargetRowsUpdated": "0",
          "rewriteTimeMs": "653",
          "scanTimeMs": "1524"
         },
         null,
         "Databricks-Runtime/11.3.x-scala2.12"
        ],
        [
         0,
         "2024-03-16T23:25:43.000+0000",
         "2818554889652103",
         "gilbaram20@outlook.com",
         "CREATE TABLE",
         {
          "description": null,
          "isManaged": "true",
          "partitionBy": "[]",
          "properties": "{}"
         },
         null,
         [
          "4462865897687888"
         ],
         "0124-093932-co5lwa5n",
         null,
         "WriteSerializable",
         true,
         {},
         null,
         "Databricks-Runtime/11.3.x-scala2.12"
        ]
       ],
       "datasetInfos": [],
       "dbfsResultPath": null,
       "isJsonSchema": true,
       "metadata": {},
       "overflow": false,
       "plotOptions": {
        "customPlotOptions": {},
        "displayType": "table",
        "pivotAggregation": null,
        "pivotColumns": null,
        "xColumns": null,
        "yColumns": null
       },
       "removedWidgets": [],
       "schema": [
        {
         "metadata": "{}",
         "name": "version",
         "type": "\"long\""
        },
        {
         "metadata": "{}",
         "name": "timestamp",
         "type": "\"timestamp\""
        },
        {
         "metadata": "{}",
         "name": "userId",
         "type": "\"string\""
        },
        {
         "metadata": "{}",
         "name": "userName",
         "type": "\"string\""
        },
        {
         "metadata": "{}",
         "name": "operation",
         "type": "\"string\""
        },
        {
         "metadata": "{}",
         "name": "operationParameters",
         "type": "{\"type\":\"map\",\"keyType\":\"string\",\"valueType\":\"string\",\"valueContainsNull\":true}"
        },
        {
         "metadata": "{}",
         "name": "job",
         "type": "{\"type\":\"struct\",\"fields\":[{\"name\":\"jobId\",\"type\":\"string\",\"nullable\":true,\"metadata\":{}},{\"name\":\"jobName\",\"type\":\"string\",\"nullable\":true,\"metadata\":{}},{\"name\":\"runId\",\"type\":\"string\",\"nullable\":true,\"metadata\":{}},{\"name\":\"jobOwnerId\",\"type\":\"string\",\"nullable\":true,\"metadata\":{}},{\"name\":\"triggerType\",\"type\":\"string\",\"nullable\":true,\"metadata\":{}}]}"
        },
        {
         "metadata": "{}",
         "name": "notebook",
         "type": "{\"type\":\"struct\",\"fields\":[{\"name\":\"notebookId\",\"type\":\"string\",\"nullable\":true,\"metadata\":{}}]}"
        },
        {
         "metadata": "{}",
         "name": "clusterId",
         "type": "\"string\""
        },
        {
         "metadata": "{}",
         "name": "readVersion",
         "type": "\"long\""
        },
        {
         "metadata": "{}",
         "name": "isolationLevel",
         "type": "\"string\""
        },
        {
         "metadata": "{}",
         "name": "isBlindAppend",
         "type": "\"boolean\""
        },
        {
         "metadata": "{}",
         "name": "operationMetrics",
         "type": "{\"type\":\"map\",\"keyType\":\"string\",\"valueType\":\"string\",\"valueContainsNull\":true}"
        },
        {
         "metadata": "{}",
         "name": "userMetadata",
         "type": "\"string\""
        },
        {
         "metadata": "{}",
         "name": "engineInfo",
         "type": "\"string\""
        }
       ],
       "type": "table"
      }
     },
     "output_type": "display_data"
    }
   ],
   "source": [
    "%sql\n",
    "DESC HISTORY f1_demo.drivers_merge"
   ]
  },
  {
   "cell_type": "code",
   "execution_count": 0,
   "metadata": {
    "application/vnd.databricks.v1+cell": {
     "cellMetadata": {
      "byteLimit": 2048000,
      "implicitDf": true,
      "rowLimit": 10000
     },
     "inputWidgets": {},
     "nuid": "10103b6d-1a8f-4413-91c0-abc805348870",
     "showTitle": false,
     "title": ""
    }
   },
   "outputs": [
    {
     "output_type": "display_data",
     "data": {
      "text/html": [
       "<style scoped>\n",
       "  .table-result-container {\n",
       "    max-height: 300px;\n",
       "    overflow: auto;\n",
       "  }\n",
       "  table, th, td {\n",
       "    border: 1px solid black;\n",
       "    border-collapse: collapse;\n",
       "  }\n",
       "  th, td {\n",
       "    padding: 5px;\n",
       "  }\n",
       "  th {\n",
       "    text-align: left;\n",
       "  }\n",
       "</style><div class='table-result-container'><table class='table-result'><thead style='background-color: white'><tr><th>driverID</th><th>dob</th><th>forename</th><th>surname</th><th>createdDate</th><th>updatedDate</th></tr></thead><tbody><tr><td>6</td><td>1985-01-11</td><td>KAZUKI</td><td>NAKAJIMA</td><td>2024-03-16</td><td>2024-03-16</td></tr><tr><td>7</td><td>1979-02-28</td><td>SÉBASTIEN</td><td>BOURDAIS</td><td>2024-03-16</td><td>2024-03-16</td></tr><tr><td>8</td><td>1979-10-17</td><td>KIMI</td><td>RÄIKKÖNEN</td><td>2024-03-16</td><td>2024-03-16</td></tr><tr><td>9</td><td>1984-12-07</td><td>ROBERT</td><td>KUBICA</td><td>2024-03-16</td><td>2024-03-16</td></tr><tr><td>10</td><td>1982-03-18</td><td>TIMO</td><td>GLOCK</td><td>2024-03-16</td><td>2024-03-16</td></tr><tr><td>11</td><td>1977-01-28</td><td>TAKUMA</td><td>SATO</td><td>2024-03-16</td><td>null</td></tr><tr><td>12</td><td>1985-07-25</td><td>NELSON</td><td>PIQUET JR.</td><td>2024-03-16</td><td>null</td></tr><tr><td>13</td><td>1981-04-25</td><td>FELIPE</td><td>MASSA</td><td>2024-03-16</td><td>null</td></tr><tr><td>14</td><td>1971-03-27</td><td>DAVID</td><td>COULTHARD</td><td>2024-03-16</td><td>null</td></tr><tr><td>15</td><td>1974-07-13</td><td>JARNO</td><td>TRULLI</td><td>2024-03-16</td><td>null</td></tr><tr><td>2</td><td>1977-05-10</td><td>NICK</td><td>HEIDFELD</td><td>2024-03-16</td><td>2024-03-16</td></tr><tr><td>3</td><td>1985-06-27</td><td>NICO</td><td>ROSBERG</td><td>2024-03-16</td><td>2024-03-16</td></tr><tr><td>4</td><td>1981-07-29</td><td>FERNANDO</td><td>ALONSO</td><td>2024-03-16</td><td>2024-03-16</td></tr><tr><td>5</td><td>1981-10-19</td><td>HEIKKI</td><td>KOVALAINEN</td><td>2024-03-16</td><td>2024-03-16</td></tr><tr><td>16</td><td>1983-01-11</td><td>ADRIAN</td><td>SUTIL</td><td>2024-03-16</td><td>null</td></tr><tr><td>17</td><td>1976-08-27</td><td>MARK</td><td>WEBBER</td><td>2024-03-16</td><td>null</td></tr><tr><td>18</td><td>1980-01-19</td><td>JENSON</td><td>BUTTON</td><td>2024-03-16</td><td>null</td></tr><tr><td>19</td><td>1979-04-18</td><td>ANTHONY</td><td>DAVIDSON</td><td>2024-03-16</td><td>null</td></tr><tr><td>20</td><td>1987-07-03</td><td>SEBASTIAN</td><td>VETTEL</td><td>2024-03-16</td><td>null</td></tr><tr><td>1</td><td>1985-01-07</td><td>LEWIS</td><td>HAMILTON</td><td>2024-03-16</td><td>2024-03-16</td></tr></tbody></table></div>"
      ]
     },
     "metadata": {
      "application/vnd.databricks.v1+output": {
       "addedWidgets": {},
       "aggData": [],
       "aggError": "",
       "aggOverflow": false,
       "aggSchema": [],
       "aggSeriesLimitReached": false,
       "aggType": "",
       "arguments": {},
       "columnCustomDisplayInfos": {},
       "data": [
        [
         6,
         "1985-01-11",
         "KAZUKI",
         "NAKAJIMA",
         "2024-03-16",
         "2024-03-16"
        ],
        [
         7,
         "1979-02-28",
         "SÉBASTIEN",
         "BOURDAIS",
         "2024-03-16",
         "2024-03-16"
        ],
        [
         8,
         "1979-10-17",
         "KIMI",
         "RÄIKKÖNEN",
         "2024-03-16",
         "2024-03-16"
        ],
        [
         9,
         "1984-12-07",
         "ROBERT",
         "KUBICA",
         "2024-03-16",
         "2024-03-16"
        ],
        [
         10,
         "1982-03-18",
         "TIMO",
         "GLOCK",
         "2024-03-16",
         "2024-03-16"
        ],
        [
         11,
         "1977-01-28",
         "TAKUMA",
         "SATO",
         "2024-03-16",
         null
        ],
        [
         12,
         "1985-07-25",
         "NELSON",
         "PIQUET JR.",
         "2024-03-16",
         null
        ],
        [
         13,
         "1981-04-25",
         "FELIPE",
         "MASSA",
         "2024-03-16",
         null
        ],
        [
         14,
         "1971-03-27",
         "DAVID",
         "COULTHARD",
         "2024-03-16",
         null
        ],
        [
         15,
         "1974-07-13",
         "JARNO",
         "TRULLI",
         "2024-03-16",
         null
        ],
        [
         2,
         "1977-05-10",
         "NICK",
         "HEIDFELD",
         "2024-03-16",
         "2024-03-16"
        ],
        [
         3,
         "1985-06-27",
         "NICO",
         "ROSBERG",
         "2024-03-16",
         "2024-03-16"
        ],
        [
         4,
         "1981-07-29",
         "FERNANDO",
         "ALONSO",
         "2024-03-16",
         "2024-03-16"
        ],
        [
         5,
         "1981-10-19",
         "HEIKKI",
         "KOVALAINEN",
         "2024-03-16",
         "2024-03-16"
        ],
        [
         16,
         "1983-01-11",
         "ADRIAN",
         "SUTIL",
         "2024-03-16",
         null
        ],
        [
         17,
         "1976-08-27",
         "MARK",
         "WEBBER",
         "2024-03-16",
         null
        ],
        [
         18,
         "1980-01-19",
         "JENSON",
         "BUTTON",
         "2024-03-16",
         null
        ],
        [
         19,
         "1979-04-18",
         "ANTHONY",
         "DAVIDSON",
         "2024-03-16",
         null
        ],
        [
         20,
         "1987-07-03",
         "SEBASTIAN",
         "VETTEL",
         "2024-03-16",
         null
        ],
        [
         1,
         "1985-01-07",
         "LEWIS",
         "HAMILTON",
         "2024-03-16",
         "2024-03-16"
        ]
       ],
       "datasetInfos": [],
       "dbfsResultPath": null,
       "isJsonSchema": true,
       "metadata": {},
       "overflow": false,
       "plotOptions": {
        "customPlotOptions": {},
        "displayType": "table",
        "pivotAggregation": null,
        "pivotColumns": null,
        "xColumns": null,
        "yColumns": null
       },
       "removedWidgets": [],
       "schema": [
        {
         "metadata": "{}",
         "name": "driverID",
         "type": "\"integer\""
        },
        {
         "metadata": "{}",
         "name": "dob",
         "type": "\"date\""
        },
        {
         "metadata": "{}",
         "name": "forename",
         "type": "\"string\""
        },
        {
         "metadata": "{}",
         "name": "surname",
         "type": "\"string\""
        },
        {
         "metadata": "{}",
         "name": "createdDate",
         "type": "\"date\""
        },
        {
         "metadata": "{}",
         "name": "updatedDate",
         "type": "\"date\""
        }
       ],
       "type": "table"
      }
     },
     "output_type": "display_data"
    }
   ],
   "source": [
    "%sql\n",
    "SELECT * FROM f1_demo.drivers_merge;"
   ]
  },
  {
   "cell_type": "markdown",
   "metadata": {
    "application/vnd.databricks.v1+cell": {
     "cellMetadata": {},
     "inputWidgets": {},
     "nuid": "ecf41227-217c-4600-8d96-27bd61bcf7af",
     "showTitle": false,
     "title": ""
    }
   },
   "source": [
    "Transaction Logs"
   ]
  },
  {
   "cell_type": "code",
   "execution_count": 0,
   "metadata": {
    "application/vnd.databricks.v1+cell": {
     "cellMetadata": {
      "byteLimit": 2048000,
      "implicitDf": true,
      "rowLimit": 10000
     },
     "inputWidgets": {},
     "nuid": "a8b00f2d-b3d4-41f0-9edb-96b3d5a619fe",
     "showTitle": false,
     "title": ""
    }
   },
   "outputs": [
    {
     "output_type": "display_data",
     "data": {
      "text/html": [
       "<style scoped>\n",
       "  .table-result-container {\n",
       "    max-height: 300px;\n",
       "    overflow: auto;\n",
       "  }\n",
       "  table, th, td {\n",
       "    border: 1px solid black;\n",
       "    border-collapse: collapse;\n",
       "  }\n",
       "  th, td {\n",
       "    padding: 5px;\n",
       "  }\n",
       "  th {\n",
       "    text-align: left;\n",
       "  }\n",
       "</style><div class='table-result-container'><table class='table-result'><thead style='background-color: white'><tr></tr></thead><tbody></tbody></table></div>"
      ]
     },
     "metadata": {
      "application/vnd.databricks.v1+output": {
       "addedWidgets": {},
       "aggData": [],
       "aggError": "",
       "aggOverflow": false,
       "aggSchema": [],
       "aggSeriesLimitReached": false,
       "aggType": "",
       "arguments": {},
       "columnCustomDisplayInfos": {},
       "data": [],
       "datasetInfos": [],
       "dbfsResultPath": null,
       "isJsonSchema": true,
       "metadata": {},
       "overflow": false,
       "plotOptions": {
        "customPlotOptions": {},
        "displayType": "table",
        "pivotAggregation": null,
        "pivotColumns": null,
        "xColumns": null,
        "yColumns": null
       },
       "removedWidgets": [],
       "schema": [],
       "type": "table"
      }
     },
     "output_type": "display_data"
    }
   ],
   "source": [
    "%sql\n",
    "CREATE TABLE IF NOT EXISTS f1_demo.drivers_txn (\n",
    "driverID INT,\n",
    "dob DATE,\n",
    "forename STRING,\n",
    "surname STRING,\n",
    "createdDate DATE,\n",
    "updatedDate DATE\n",
    ")\n",
    "USING DELTA"
   ]
  },
  {
   "cell_type": "code",
   "execution_count": 0,
   "metadata": {
    "application/vnd.databricks.v1+cell": {
     "cellMetadata": {
      "byteLimit": 2048000,
      "implicitDf": true,
      "rowLimit": 10000
     },
     "inputWidgets": {},
     "nuid": "4bd74694-0689-4812-9f46-792ed6dd07a7",
     "showTitle": false,
     "title": ""
    }
   },
   "outputs": [
    {
     "output_type": "display_data",
     "data": {
      "text/html": [
       "<style scoped>\n",
       "  .table-result-container {\n",
       "    max-height: 300px;\n",
       "    overflow: auto;\n",
       "  }\n",
       "  table, th, td {\n",
       "    border: 1px solid black;\n",
       "    border-collapse: collapse;\n",
       "  }\n",
       "  th, td {\n",
       "    padding: 5px;\n",
       "  }\n",
       "  th {\n",
       "    text-align: left;\n",
       "  }\n",
       "</style><div class='table-result-container'><table class='table-result'><thead style='background-color: white'><tr><th>version</th><th>timestamp</th><th>userId</th><th>userName</th><th>operation</th><th>operationParameters</th><th>job</th><th>notebook</th><th>clusterId</th><th>readVersion</th><th>isolationLevel</th><th>isBlindAppend</th><th>operationMetrics</th><th>userMetadata</th><th>engineInfo</th></tr></thead><tbody><tr><td>0</td><td>2024-03-17T11:19:08.000+0000</td><td>2818554889652103</td><td>gilbaram20@outlook.com</td><td>CREATE TABLE</td><td>Map(isManaged -> true, description -> null, partitionBy -> [], properties -> {})</td><td>null</td><td>List(4462865897687888)</td><td>0124-093932-co5lwa5n</td><td>null</td><td>WriteSerializable</td><td>true</td><td>Map()</td><td>null</td><td>Databricks-Runtime/11.3.x-scala2.12</td></tr></tbody></table></div>"
      ]
     },
     "metadata": {
      "application/vnd.databricks.v1+output": {
       "addedWidgets": {},
       "aggData": [],
       "aggError": "",
       "aggOverflow": false,
       "aggSchema": [],
       "aggSeriesLimitReached": false,
       "aggType": "",
       "arguments": {},
       "columnCustomDisplayInfos": {},
       "data": [
        [
         0,
         "2024-03-17T11:19:08.000+0000",
         "2818554889652103",
         "gilbaram20@outlook.com",
         "CREATE TABLE",
         {
          "description": null,
          "isManaged": "true",
          "partitionBy": "[]",
          "properties": "{}"
         },
         null,
         [
          "4462865897687888"
         ],
         "0124-093932-co5lwa5n",
         null,
         "WriteSerializable",
         true,
         {},
         null,
         "Databricks-Runtime/11.3.x-scala2.12"
        ]
       ],
       "datasetInfos": [],
       "dbfsResultPath": null,
       "isJsonSchema": true,
       "metadata": {},
       "overflow": false,
       "plotOptions": {
        "customPlotOptions": {},
        "displayType": "table",
        "pivotAggregation": null,
        "pivotColumns": null,
        "xColumns": null,
        "yColumns": null
       },
       "removedWidgets": [],
       "schema": [
        {
         "metadata": "{}",
         "name": "version",
         "type": "\"long\""
        },
        {
         "metadata": "{}",
         "name": "timestamp",
         "type": "\"timestamp\""
        },
        {
         "metadata": "{}",
         "name": "userId",
         "type": "\"string\""
        },
        {
         "metadata": "{}",
         "name": "userName",
         "type": "\"string\""
        },
        {
         "metadata": "{}",
         "name": "operation",
         "type": "\"string\""
        },
        {
         "metadata": "{}",
         "name": "operationParameters",
         "type": "{\"type\":\"map\",\"keyType\":\"string\",\"valueType\":\"string\",\"valueContainsNull\":true}"
        },
        {
         "metadata": "{}",
         "name": "job",
         "type": "{\"type\":\"struct\",\"fields\":[{\"name\":\"jobId\",\"type\":\"string\",\"nullable\":true,\"metadata\":{}},{\"name\":\"jobName\",\"type\":\"string\",\"nullable\":true,\"metadata\":{}},{\"name\":\"runId\",\"type\":\"string\",\"nullable\":true,\"metadata\":{}},{\"name\":\"jobOwnerId\",\"type\":\"string\",\"nullable\":true,\"metadata\":{}},{\"name\":\"triggerType\",\"type\":\"string\",\"nullable\":true,\"metadata\":{}}]}"
        },
        {
         "metadata": "{}",
         "name": "notebook",
         "type": "{\"type\":\"struct\",\"fields\":[{\"name\":\"notebookId\",\"type\":\"string\",\"nullable\":true,\"metadata\":{}}]}"
        },
        {
         "metadata": "{}",
         "name": "clusterId",
         "type": "\"string\""
        },
        {
         "metadata": "{}",
         "name": "readVersion",
         "type": "\"long\""
        },
        {
         "metadata": "{}",
         "name": "isolationLevel",
         "type": "\"string\""
        },
        {
         "metadata": "{}",
         "name": "isBlindAppend",
         "type": "\"boolean\""
        },
        {
         "metadata": "{}",
         "name": "operationMetrics",
         "type": "{\"type\":\"map\",\"keyType\":\"string\",\"valueType\":\"string\",\"valueContainsNull\":true}"
        },
        {
         "metadata": "{}",
         "name": "userMetadata",
         "type": "\"string\""
        },
        {
         "metadata": "{}",
         "name": "engineInfo",
         "type": "\"string\""
        }
       ],
       "type": "table"
      }
     },
     "output_type": "display_data"
    }
   ],
   "source": [
    "%sql\n",
    "DESC HISTORY f1_demo.drivers_txn;"
   ]
  },
  {
   "cell_type": "code",
   "execution_count": 0,
   "metadata": {
    "application/vnd.databricks.v1+cell": {
     "cellMetadata": {},
     "inputWidgets": {},
     "nuid": "f1460ac2-156b-4a6b-81b1-c357c1512cf5",
     "showTitle": false,
     "title": ""
    }
   },
   "outputs": [],
   "source": [
    "# f1_demo.drivers_txn/_delta_log\n",
    "\n",
    "# {\"commitInfo\":{\"timestamp\":1710674348661,\"userId\":\"2818554889652103\",\"userName\":\"gilbaram20@outlook.com\",\"operation\":\"CREATE TABLE\",\"operationParameters\":{\"isManaged\":\"true\",\"description\":null,\"partitionBy\":\"[]\",\"properties\":\"{}\"},\"notebook\":{\"notebookId\":\"4462865897687888\"},\"clusterId\":\"0124-093932-co5lwa5n\",\"isolationLevel\":\"WriteSerializable\",\"isBlindAppend\":true,\"operationMetrics\":{},\"engineInfo\":\"Databricks-Runtime/11.3.x-scala2.12\",\"txnId\":\"b3562a70-8dbf-47c5-a540-2338a047a2ee\"}}\n",
    "# {\"protocol\":{\"minReaderVersion\":1,\"minWriterVersion\":2}}\n",
    "# {\"metaData\":{\"id\":\"4b6e8be9-4d61-478d-8c19-1e0437c53947\",\"format\":{\"provider\":\"parquet\",\"options\":{}},\"schemaString\":\"{\\\"type\\\":\\\"struct\\\",\\\"fields\\\":[{\\\"name\\\":\\\"driverID\\\",\\\"type\\\":\\\"integer\\\",\\\"nullable\\\":true,\\\"metadata\\\":{}},{\\\"name\\\":\\\"dob\\\",\\\"type\\\":\\\"date\\\",\\\"nullable\\\":true,\\\"metadata\\\":{}},{\\\"name\\\":\\\"forename\\\",\\\"type\\\":\\\"string\\\",\\\"nullable\\\":true,\\\"metadata\\\":{}},{\\\"name\\\":\\\"surname\\\",\\\"type\\\":\\\"string\\\",\\\"nullable\\\":true,\\\"metadata\\\":{}},{\\\"name\\\":\\\"createdDate\\\",\\\"type\\\":\\\"date\\\",\\\"nullable\\\":true,\\\"metadata\\\":{}},{\\\"name\\\":\\\"updatedDate\\\",\\\"type\\\":\\\"date\\\",\\\"nullable\\\":true,\\\"metadata\\\":{}}]}\",\"partitionColumns\":[],\"configuration\":{},\"createdTime\":1710674348575}}\n"
   ]
  },
  {
   "cell_type": "code",
   "execution_count": 0,
   "metadata": {
    "application/vnd.databricks.v1+cell": {
     "cellMetadata": {
      "byteLimit": 2048000,
      "implicitDf": true,
      "rowLimit": 10000
     },
     "inputWidgets": {},
     "nuid": "369f9ce2-ac55-41c5-84b6-becfd097b142",
     "showTitle": false,
     "title": ""
    }
   },
   "outputs": [
    {
     "output_type": "display_data",
     "data": {
      "text/html": [
       "<style scoped>\n",
       "  .table-result-container {\n",
       "    max-height: 300px;\n",
       "    overflow: auto;\n",
       "  }\n",
       "  table, th, td {\n",
       "    border: 1px solid black;\n",
       "    border-collapse: collapse;\n",
       "  }\n",
       "  th, td {\n",
       "    padding: 5px;\n",
       "  }\n",
       "  th {\n",
       "    text-align: left;\n",
       "  }\n",
       "</style><div class='table-result-container'><table class='table-result'><thead style='background-color: white'><tr><th>num_affected_rows</th><th>num_inserted_rows</th></tr></thead><tbody><tr><td>1</td><td>1</td></tr></tbody></table></div>"
      ]
     },
     "metadata": {
      "application/vnd.databricks.v1+output": {
       "addedWidgets": {},
       "aggData": [],
       "aggError": "",
       "aggOverflow": false,
       "aggSchema": [],
       "aggSeriesLimitReached": false,
       "aggType": "",
       "arguments": {},
       "columnCustomDisplayInfos": {},
       "data": [
        [
         1,
         1
        ]
       ],
       "datasetInfos": [],
       "dbfsResultPath": null,
       "isJsonSchema": true,
       "metadata": {},
       "overflow": false,
       "plotOptions": {
        "customPlotOptions": {},
        "displayType": "table",
        "pivotAggregation": null,
        "pivotColumns": null,
        "xColumns": null,
        "yColumns": null
       },
       "removedWidgets": [],
       "schema": [
        {
         "metadata": "{}",
         "name": "num_affected_rows",
         "type": "\"long\""
        },
        {
         "metadata": "{}",
         "name": "num_inserted_rows",
         "type": "\"long\""
        }
       ],
       "type": "table"
      }
     },
     "output_type": "display_data"
    }
   ],
   "source": [
    "%sql\n",
    "insert into f1_demo.drivers_txn\n",
    "select * from f1_demo.drivers_merge\n",
    "Where driverId = 1;"
   ]
  },
  {
   "cell_type": "code",
   "execution_count": 0,
   "metadata": {
    "application/vnd.databricks.v1+cell": {
     "cellMetadata": {},
     "inputWidgets": {},
     "nuid": "49ec0ad7-86f5-4acb-b804-287bce035fb9",
     "showTitle": false,
     "title": ""
    }
   },
   "outputs": [],
   "source": [
    "# {\"commitInfo\":{\"timestamp\":1710674669177,\"userId\":\"2818554889652103\",\"userName\":\"gilbaram20@outlook.com\",\"operation\":\"WRITE\",\"operationParameters\":{\"mode\":\"Append\",\"partitionBy\":\"[]\"},\"notebook\":{\"notebookId\":\"4462865897687888\"},\"clusterId\":\"0124-093932-co5lwa5n\",\"readVersion\":0,\"isolationLevel\":\"WriteSerializable\",\"isBlindAppend\":true,\"operationMetrics\":{\"numFiles\":\"1\",\"numOutputRows\":\"1\",\"numOutputBytes\":\"1836\"},\"engineInfo\":\"Databricks-Runtime/11.3.x-scala2.12\",\"txnId\":\"bb65cefe-4e0b-4c56-9cd6-92e1902e5852\"}}\n",
    "# {\"add\":{\"path\":\"part-00000-4f51e96e-404c-40a6-99c2-b1dab8e5fa27-c000.snappy.parquet\",\"partitionValues\":{},\"size\":1836,\"modificationTime\":1710674669000,\"dataChange\":true,\"stats\":\"{\\\"numRecords\\\":1,\\\"minValues\\\":{\\\"driverID\\\":1,\\\"dob\\\":\\\"1985-01-07\\\",\\\"forename\\\":\\\"LEWIS\\\",\\\"surname\\\":\\\"HAMILTON\\\",\\\"createdDate\\\":\\\"2024-03-16\\\",\\\"updatedDate\\\":\\\"2024-03-16\\\"},\\\"maxValues\\\":{\\\"driverID\\\":1,\\\"dob\\\":\\\"1985-01-07\\\",\\\"forename\\\":\\\"LEWIS\\\",\\\"surname\\\":\\\"HAMILTON\\\",\\\"createdDate\\\":\\\"2024-03-16\\\",\\\"updatedDate\\\":\\\"2024-03-16\\\"},\\\"nullCount\\\":{\\\"driverID\\\":0,\\\"dob\\\":0,\\\"forename\\\":0,\\\"surname\\\":0,\\\"createdDate\\\":0,\\\"updatedDate\\\":0}}\",\"tags\":{\"INSERTION_TIME\":\"1710674669000000\",\"MIN_INSERTION_TIME\":\"1710674669000000\",\"MAX_INSERTION_TIME\":\"1710674669000000\",\"OPTIMIZE_TARGET_SIZE\":\"268435456\"}}}\n"
   ]
  },
  {
   "cell_type": "code",
   "execution_count": 0,
   "metadata": {
    "application/vnd.databricks.v1+cell": {
     "cellMetadata": {
      "byteLimit": 2048000,
      "implicitDf": true,
      "rowLimit": 10000
     },
     "inputWidgets": {},
     "nuid": "5ebe3db5-9191-416d-abde-a6cad3aee859",
     "showTitle": false,
     "title": ""
    }
   },
   "outputs": [
    {
     "output_type": "display_data",
     "data": {
      "text/html": [
       "<style scoped>\n",
       "  .table-result-container {\n",
       "    max-height: 300px;\n",
       "    overflow: auto;\n",
       "  }\n",
       "  table, th, td {\n",
       "    border: 1px solid black;\n",
       "    border-collapse: collapse;\n",
       "  }\n",
       "  th, td {\n",
       "    padding: 5px;\n",
       "  }\n",
       "  th {\n",
       "    text-align: left;\n",
       "  }\n",
       "</style><div class='table-result-container'><table class='table-result'><thead style='background-color: white'><tr><th>version</th><th>timestamp</th><th>userId</th><th>userName</th><th>operation</th><th>operationParameters</th><th>job</th><th>notebook</th><th>clusterId</th><th>readVersion</th><th>isolationLevel</th><th>isBlindAppend</th><th>operationMetrics</th><th>userMetadata</th><th>engineInfo</th></tr></thead><tbody><tr><td>1</td><td>2024-03-17T11:24:29.000+0000</td><td>2818554889652103</td><td>gilbaram20@outlook.com</td><td>WRITE</td><td>Map(mode -> Append, partitionBy -> [])</td><td>null</td><td>List(4462865897687888)</td><td>0124-093932-co5lwa5n</td><td>0</td><td>WriteSerializable</td><td>true</td><td>Map(numFiles -> 1, numOutputRows -> 1, numOutputBytes -> 1836)</td><td>null</td><td>Databricks-Runtime/11.3.x-scala2.12</td></tr><tr><td>0</td><td>2024-03-17T11:19:08.000+0000</td><td>2818554889652103</td><td>gilbaram20@outlook.com</td><td>CREATE TABLE</td><td>Map(isManaged -> true, description -> null, partitionBy -> [], properties -> {})</td><td>null</td><td>List(4462865897687888)</td><td>0124-093932-co5lwa5n</td><td>null</td><td>WriteSerializable</td><td>true</td><td>Map()</td><td>null</td><td>Databricks-Runtime/11.3.x-scala2.12</td></tr></tbody></table></div>"
      ]
     },
     "metadata": {
      "application/vnd.databricks.v1+output": {
       "addedWidgets": {},
       "aggData": [],
       "aggError": "",
       "aggOverflow": false,
       "aggSchema": [],
       "aggSeriesLimitReached": false,
       "aggType": "",
       "arguments": {},
       "columnCustomDisplayInfos": {},
       "data": [
        [
         1,
         "2024-03-17T11:24:29.000+0000",
         "2818554889652103",
         "gilbaram20@outlook.com",
         "WRITE",
         {
          "mode": "Append",
          "partitionBy": "[]"
         },
         null,
         [
          "4462865897687888"
         ],
         "0124-093932-co5lwa5n",
         0,
         "WriteSerializable",
         true,
         {
          "numFiles": "1",
          "numOutputBytes": "1836",
          "numOutputRows": "1"
         },
         null,
         "Databricks-Runtime/11.3.x-scala2.12"
        ],
        [
         0,
         "2024-03-17T11:19:08.000+0000",
         "2818554889652103",
         "gilbaram20@outlook.com",
         "CREATE TABLE",
         {
          "description": null,
          "isManaged": "true",
          "partitionBy": "[]",
          "properties": "{}"
         },
         null,
         [
          "4462865897687888"
         ],
         "0124-093932-co5lwa5n",
         null,
         "WriteSerializable",
         true,
         {},
         null,
         "Databricks-Runtime/11.3.x-scala2.12"
        ]
       ],
       "datasetInfos": [],
       "dbfsResultPath": null,
       "isJsonSchema": true,
       "metadata": {},
       "overflow": false,
       "plotOptions": {
        "customPlotOptions": {},
        "displayType": "table",
        "pivotAggregation": null,
        "pivotColumns": null,
        "xColumns": null,
        "yColumns": null
       },
       "removedWidgets": [],
       "schema": [
        {
         "metadata": "{}",
         "name": "version",
         "type": "\"long\""
        },
        {
         "metadata": "{}",
         "name": "timestamp",
         "type": "\"timestamp\""
        },
        {
         "metadata": "{}",
         "name": "userId",
         "type": "\"string\""
        },
        {
         "metadata": "{}",
         "name": "userName",
         "type": "\"string\""
        },
        {
         "metadata": "{}",
         "name": "operation",
         "type": "\"string\""
        },
        {
         "metadata": "{}",
         "name": "operationParameters",
         "type": "{\"type\":\"map\",\"keyType\":\"string\",\"valueType\":\"string\",\"valueContainsNull\":true}"
        },
        {
         "metadata": "{}",
         "name": "job",
         "type": "{\"type\":\"struct\",\"fields\":[{\"name\":\"jobId\",\"type\":\"string\",\"nullable\":true,\"metadata\":{}},{\"name\":\"jobName\",\"type\":\"string\",\"nullable\":true,\"metadata\":{}},{\"name\":\"runId\",\"type\":\"string\",\"nullable\":true,\"metadata\":{}},{\"name\":\"jobOwnerId\",\"type\":\"string\",\"nullable\":true,\"metadata\":{}},{\"name\":\"triggerType\",\"type\":\"string\",\"nullable\":true,\"metadata\":{}}]}"
        },
        {
         "metadata": "{}",
         "name": "notebook",
         "type": "{\"type\":\"struct\",\"fields\":[{\"name\":\"notebookId\",\"type\":\"string\",\"nullable\":true,\"metadata\":{}}]}"
        },
        {
         "metadata": "{}",
         "name": "clusterId",
         "type": "\"string\""
        },
        {
         "metadata": "{}",
         "name": "readVersion",
         "type": "\"long\""
        },
        {
         "metadata": "{}",
         "name": "isolationLevel",
         "type": "\"string\""
        },
        {
         "metadata": "{}",
         "name": "isBlindAppend",
         "type": "\"boolean\""
        },
        {
         "metadata": "{}",
         "name": "operationMetrics",
         "type": "{\"type\":\"map\",\"keyType\":\"string\",\"valueType\":\"string\",\"valueContainsNull\":true}"
        },
        {
         "metadata": "{}",
         "name": "userMetadata",
         "type": "\"string\""
        },
        {
         "metadata": "{}",
         "name": "engineInfo",
         "type": "\"string\""
        }
       ],
       "type": "table"
      }
     },
     "output_type": "display_data"
    }
   ],
   "source": [
    "%sql\n",
    "DESC HISTORY f1_demo.drivers_txn"
   ]
  },
  {
   "cell_type": "code",
   "execution_count": 0,
   "metadata": {
    "application/vnd.databricks.v1+cell": {
     "cellMetadata": {
      "byteLimit": 2048000,
      "implicitDf": true,
      "rowLimit": 10000
     },
     "inputWidgets": {},
     "nuid": "cfc17d11-7f0e-4ce4-8608-ba457716e2cc",
     "showTitle": false,
     "title": ""
    }
   },
   "outputs": [
    {
     "output_type": "display_data",
     "data": {
      "text/html": [
       "<style scoped>\n",
       "  .table-result-container {\n",
       "    max-height: 300px;\n",
       "    overflow: auto;\n",
       "  }\n",
       "  table, th, td {\n",
       "    border: 1px solid black;\n",
       "    border-collapse: collapse;\n",
       "  }\n",
       "  th, td {\n",
       "    padding: 5px;\n",
       "  }\n",
       "  th {\n",
       "    text-align: left;\n",
       "  }\n",
       "</style><div class='table-result-container'><table class='table-result'><thead style='background-color: white'><tr><th>num_affected_rows</th><th>num_inserted_rows</th></tr></thead><tbody><tr><td>1</td><td>1</td></tr></tbody></table></div>"
      ]
     },
     "metadata": {
      "application/vnd.databricks.v1+output": {
       "addedWidgets": {},
       "aggData": [],
       "aggError": "",
       "aggOverflow": false,
       "aggSchema": [],
       "aggSeriesLimitReached": false,
       "aggType": "",
       "arguments": {},
       "columnCustomDisplayInfos": {},
       "data": [
        [
         1,
         1
        ]
       ],
       "datasetInfos": [],
       "dbfsResultPath": null,
       "isJsonSchema": true,
       "metadata": {},
       "overflow": false,
       "plotOptions": {
        "customPlotOptions": {},
        "displayType": "table",
        "pivotAggregation": null,
        "pivotColumns": null,
        "xColumns": null,
        "yColumns": null
       },
       "removedWidgets": [],
       "schema": [
        {
         "metadata": "{}",
         "name": "num_affected_rows",
         "type": "\"long\""
        },
        {
         "metadata": "{}",
         "name": "num_inserted_rows",
         "type": "\"long\""
        }
       ],
       "type": "table"
      }
     },
     "output_type": "display_data"
    }
   ],
   "source": [
    "%sql\n",
    "insert into f1_demo.drivers_txn\n",
    "select * from f1_demo.drivers_merge\n",
    "Where driverId = 2;"
   ]
  },
  {
   "cell_type": "code",
   "execution_count": 0,
   "metadata": {
    "application/vnd.databricks.v1+cell": {
     "cellMetadata": {
      "byteLimit": 2048000,
      "implicitDf": true,
      "rowLimit": 10000
     },
     "inputWidgets": {},
     "nuid": "a419d82b-5795-45ee-b7a5-36d5d3e31449",
     "showTitle": false,
     "title": ""
    }
   },
   "outputs": [
    {
     "output_type": "display_data",
     "data": {
      "text/html": [
       "<style scoped>\n",
       "  .table-result-container {\n",
       "    max-height: 300px;\n",
       "    overflow: auto;\n",
       "  }\n",
       "  table, th, td {\n",
       "    border: 1px solid black;\n",
       "    border-collapse: collapse;\n",
       "  }\n",
       "  th, td {\n",
       "    padding: 5px;\n",
       "  }\n",
       "  th {\n",
       "    text-align: left;\n",
       "  }\n",
       "</style><div class='table-result-container'><table class='table-result'><thead style='background-color: white'><tr><th>num_affected_rows</th></tr></thead><tbody><tr><td>1</td></tr></tbody></table></div>"
      ]
     },
     "metadata": {
      "application/vnd.databricks.v1+output": {
       "addedWidgets": {},
       "aggData": [],
       "aggError": "",
       "aggOverflow": false,
       "aggSchema": [],
       "aggSeriesLimitReached": false,
       "aggType": "",
       "arguments": {},
       "columnCustomDisplayInfos": {},
       "data": [
        [
         1
        ]
       ],
       "datasetInfos": [],
       "dbfsResultPath": null,
       "isJsonSchema": true,
       "metadata": {},
       "overflow": false,
       "plotOptions": {
        "customPlotOptions": {},
        "displayType": "table",
        "pivotAggregation": null,
        "pivotColumns": null,
        "xColumns": null,
        "yColumns": null
       },
       "removedWidgets": [],
       "schema": [
        {
         "metadata": "{}",
         "name": "num_affected_rows",
         "type": "\"long\""
        }
       ],
       "type": "table"
      }
     },
     "output_type": "display_data"
    }
   ],
   "source": [
    "%sql\n",
    "DELETE FROM f1_demo.drivers_txn\n",
    "WHERE driverId = 1;"
   ]
  },
  {
   "cell_type": "code",
   "execution_count": 0,
   "metadata": {
    "application/vnd.databricks.v1+cell": {
     "cellMetadata": {
      "byteLimit": 2048000,
      "rowLimit": 10000
     },
     "inputWidgets": {},
     "nuid": "e2aec14c-7a0a-4ae8-a68b-66da5200b5db",
     "showTitle": false,
     "title": ""
    }
   },
   "outputs": [],
   "source": [
    "for driver_id in range(3,20):\n",
    "    spark.sql(f\"\"\"insert into f1_demo.drivers_txn\n",
    "                    select * from f1_demo.drivers_merge\n",
    "                    Where driverId = {driver_id}\"\"\")"
   ]
  },
  {
   "cell_type": "code",
   "execution_count": 0,
   "metadata": {
    "application/vnd.databricks.v1+cell": {
     "cellMetadata": {
      "byteLimit": 2048000,
      "implicitDf": true,
      "rowLimit": 10000
     },
     "inputWidgets": {},
     "nuid": "ef4ac22f-9553-4f20-8d09-3506400c0607",
     "showTitle": false,
     "title": ""
    }
   },
   "outputs": [
    {
     "output_type": "display_data",
     "data": {
      "text/html": [
       "<style scoped>\n",
       "  .table-result-container {\n",
       "    max-height: 300px;\n",
       "    overflow: auto;\n",
       "  }\n",
       "  table, th, td {\n",
       "    border: 1px solid black;\n",
       "    border-collapse: collapse;\n",
       "  }\n",
       "  th, td {\n",
       "    padding: 5px;\n",
       "  }\n",
       "  th {\n",
       "    text-align: left;\n",
       "  }\n",
       "</style><div class='table-result-container'><table class='table-result'><thead style='background-color: white'><tr><th>num_affected_rows</th><th>num_inserted_rows</th></tr></thead><tbody><tr><td>20</td><td>20</td></tr></tbody></table></div>"
      ]
     },
     "metadata": {
      "application/vnd.databricks.v1+output": {
       "addedWidgets": {},
       "aggData": [],
       "aggError": "",
       "aggOverflow": false,
       "aggSchema": [],
       "aggSeriesLimitReached": false,
       "aggType": "",
       "arguments": {},
       "columnCustomDisplayInfos": {},
       "data": [
        [
         20,
         20
        ]
       ],
       "datasetInfos": [],
       "dbfsResultPath": null,
       "isJsonSchema": true,
       "metadata": {},
       "overflow": false,
       "plotOptions": {
        "customPlotOptions": {},
        "displayType": "table",
        "pivotAggregation": null,
        "pivotColumns": null,
        "xColumns": null,
        "yColumns": null
       },
       "removedWidgets": [],
       "schema": [
        {
         "metadata": "{}",
         "name": "num_affected_rows",
         "type": "\"long\""
        },
        {
         "metadata": "{}",
         "name": "num_inserted_rows",
         "type": "\"long\""
        }
       ],
       "type": "table"
      }
     },
     "output_type": "display_data"
    }
   ],
   "source": [
    "%sql\n",
    "INSERT Into f1_demo.drivers_txn\n",
    "SELECT * From f1_demo.drivers_merge;"
   ]
  },
  {
   "cell_type": "markdown",
   "metadata": {
    "application/vnd.databricks.v1+cell": {
     "cellMetadata": {},
     "inputWidgets": {},
     "nuid": "9d5b4812-2f4c-4d9b-8233-38d7cc57ce3e",
     "showTitle": false,
     "title": ""
    }
   },
   "source": [
    "Convert Parquet to Delta"
   ]
  },
  {
   "cell_type": "code",
   "execution_count": 0,
   "metadata": {
    "application/vnd.databricks.v1+cell": {
     "cellMetadata": {
      "byteLimit": 2048000,
      "implicitDf": true,
      "rowLimit": 10000
     },
     "inputWidgets": {},
     "nuid": "441e2642-158e-42d4-b1d7-e110f744fea3",
     "showTitle": false,
     "title": ""
    }
   },
   "outputs": [
    {
     "output_type": "display_data",
     "data": {
      "text/html": [
       "<style scoped>\n",
       "  .table-result-container {\n",
       "    max-height: 300px;\n",
       "    overflow: auto;\n",
       "  }\n",
       "  table, th, td {\n",
       "    border: 1px solid black;\n",
       "    border-collapse: collapse;\n",
       "  }\n",
       "  th, td {\n",
       "    padding: 5px;\n",
       "  }\n",
       "  th {\n",
       "    text-align: left;\n",
       "  }\n",
       "</style><div class='table-result-container'><table class='table-result'><thead style='background-color: white'><tr></tr></thead><tbody></tbody></table></div>"
      ]
     },
     "metadata": {
      "application/vnd.databricks.v1+output": {
       "addedWidgets": {},
       "aggData": [],
       "aggError": "",
       "aggOverflow": false,
       "aggSchema": [],
       "aggSeriesLimitReached": false,
       "aggType": "",
       "arguments": {},
       "columnCustomDisplayInfos": {},
       "data": [],
       "datasetInfos": [],
       "dbfsResultPath": null,
       "isJsonSchema": true,
       "metadata": {},
       "overflow": false,
       "plotOptions": {
        "customPlotOptions": {},
        "displayType": "table",
        "pivotAggregation": null,
        "pivotColumns": null,
        "xColumns": null,
        "yColumns": null
       },
       "removedWidgets": [],
       "schema": [],
       "type": "table"
      }
     },
     "output_type": "display_data"
    }
   ],
   "source": [
    "%sql\n",
    "CREATE TABLE IF NOT EXISTS f1_demo.drivers_convert_to_delta (\n",
    "driverID INT,\n",
    "dob DATE,\n",
    "forename STRING,\n",
    "surname STRING,\n",
    "createdDate DATE,\n",
    "updatedDate DATE\n",
    ")\n",
    "USING PARQUET"
   ]
  },
  {
   "cell_type": "code",
   "execution_count": 0,
   "metadata": {
    "application/vnd.databricks.v1+cell": {
     "cellMetadata": {
      "byteLimit": 2048000,
      "implicitDf": true,
      "rowLimit": 10000
     },
     "inputWidgets": {},
     "nuid": "2fb58753-5400-417e-b764-12163dfe9b4d",
     "showTitle": false,
     "title": ""
    }
   },
   "outputs": [
    {
     "output_type": "display_data",
     "data": {
      "text/html": [
       "<style scoped>\n",
       "  .table-result-container {\n",
       "    max-height: 300px;\n",
       "    overflow: auto;\n",
       "  }\n",
       "  table, th, td {\n",
       "    border: 1px solid black;\n",
       "    border-collapse: collapse;\n",
       "  }\n",
       "  th, td {\n",
       "    padding: 5px;\n",
       "  }\n",
       "  th {\n",
       "    text-align: left;\n",
       "  }\n",
       "</style><div class='table-result-container'><table class='table-result'><thead style='background-color: white'><tr></tr></thead><tbody></tbody></table></div>"
      ]
     },
     "metadata": {
      "application/vnd.databricks.v1+output": {
       "addedWidgets": {},
       "aggData": [],
       "aggError": "",
       "aggOverflow": false,
       "aggSchema": [],
       "aggSeriesLimitReached": false,
       "aggType": "",
       "arguments": {},
       "columnCustomDisplayInfos": {},
       "data": [],
       "datasetInfos": [],
       "dbfsResultPath": null,
       "isJsonSchema": true,
       "metadata": {},
       "overflow": false,
       "plotOptions": {
        "customPlotOptions": {},
        "displayType": "table",
        "pivotAggregation": null,
        "pivotColumns": null,
        "xColumns": null,
        "yColumns": null
       },
       "removedWidgets": [],
       "schema": [],
       "type": "table"
      }
     },
     "output_type": "display_data"
    }
   ],
   "source": [
    "%sql\n",
    "insert into f1_demo.drivers_convert_to_delta\n",
    "select * from f1_demo.drivers_merge"
   ]
  },
  {
   "cell_type": "code",
   "execution_count": 0,
   "metadata": {
    "application/vnd.databricks.v1+cell": {
     "cellMetadata": {
      "byteLimit": 2048000,
      "implicitDf": true,
      "rowLimit": 10000
     },
     "inputWidgets": {},
     "nuid": "2b06c6e5-0f4b-4652-b489-2a2b89c7a8e6",
     "showTitle": false,
     "title": ""
    }
   },
   "outputs": [
    {
     "output_type": "display_data",
     "data": {
      "text/html": [
       "<style scoped>\n",
       "  .table-result-container {\n",
       "    max-height: 300px;\n",
       "    overflow: auto;\n",
       "  }\n",
       "  table, th, td {\n",
       "    border: 1px solid black;\n",
       "    border-collapse: collapse;\n",
       "  }\n",
       "  th, td {\n",
       "    padding: 5px;\n",
       "  }\n",
       "  th {\n",
       "    text-align: left;\n",
       "  }\n",
       "</style><div class='table-result-container'><table class='table-result'><thead style='background-color: white'><tr></tr></thead><tbody></tbody></table></div>"
      ]
     },
     "metadata": {
      "application/vnd.databricks.v1+output": {
       "addedWidgets": {},
       "aggData": [],
       "aggError": "",
       "aggOverflow": false,
       "aggSchema": [],
       "aggSeriesLimitReached": false,
       "aggType": "",
       "arguments": {},
       "columnCustomDisplayInfos": {},
       "data": [],
       "datasetInfos": [],
       "dbfsResultPath": null,
       "isJsonSchema": true,
       "metadata": {},
       "overflow": false,
       "plotOptions": {
        "customPlotOptions": {},
        "displayType": "table",
        "pivotAggregation": null,
        "pivotColumns": null,
        "xColumns": null,
        "yColumns": null
       },
       "removedWidgets": [],
       "schema": [],
       "type": "table"
      }
     },
     "output_type": "display_data"
    }
   ],
   "source": [
    "%sql\n",
    "convert TO Delta f1_demo.drivers_convert_to_delta"
   ]
  },
  {
   "cell_type": "code",
   "execution_count": 0,
   "metadata": {
    "application/vnd.databricks.v1+cell": {
     "cellMetadata": {
      "byteLimit": 2048000,
      "rowLimit": 10000
     },
     "inputWidgets": {},
     "nuid": "35216635-d800-4c31-92ca-fd1e1cc1e6db",
     "showTitle": false,
     "title": ""
    }
   },
   "outputs": [],
   "source": [
    "df = spark.table(\"f1_demo.drivers_convert_to_delta\")"
   ]
  },
  {
   "cell_type": "code",
   "execution_count": 0,
   "metadata": {
    "application/vnd.databricks.v1+cell": {
     "cellMetadata": {
      "byteLimit": 2048000,
      "rowLimit": 10000
     },
     "inputWidgets": {},
     "nuid": "1023e298-d3f1-4870-9dde-8df1bac5ca41",
     "showTitle": false,
     "title": ""
    }
   },
   "outputs": [],
   "source": [
    "df.write.format(\"parquet\").mode(\"overwrite\").save(\"/mnt/formula1dl612/demo/drivers_convert_to-delta_new\")"
   ]
  },
  {
   "cell_type": "code",
   "execution_count": 0,
   "metadata": {
    "application/vnd.databricks.v1+cell": {
     "cellMetadata": {
      "byteLimit": 2048000,
      "implicitDf": true,
      "rowLimit": 10000
     },
     "inputWidgets": {},
     "nuid": "fca0fd8c-0b5a-45b0-925b-fea98cde0145",
     "showTitle": false,
     "title": ""
    }
   },
   "outputs": [
    {
     "output_type": "display_data",
     "data": {
      "text/html": [
       "<style scoped>\n",
       "  .table-result-container {\n",
       "    max-height: 300px;\n",
       "    overflow: auto;\n",
       "  }\n",
       "  table, th, td {\n",
       "    border: 1px solid black;\n",
       "    border-collapse: collapse;\n",
       "  }\n",
       "  th, td {\n",
       "    padding: 5px;\n",
       "  }\n",
       "  th {\n",
       "    text-align: left;\n",
       "  }\n",
       "</style><div class='table-result-container'><table class='table-result'><thead style='background-color: white'><tr></tr></thead><tbody></tbody></table></div>"
      ]
     },
     "metadata": {
      "application/vnd.databricks.v1+output": {
       "addedWidgets": {},
       "aggData": [],
       "aggError": "",
       "aggOverflow": false,
       "aggSchema": [],
       "aggSeriesLimitReached": false,
       "aggType": "",
       "arguments": {},
       "columnCustomDisplayInfos": {},
       "data": [],
       "datasetInfos": [],
       "dbfsResultPath": null,
       "isJsonSchema": true,
       "metadata": {},
       "overflow": false,
       "plotOptions": {
        "customPlotOptions": {},
        "displayType": "table",
        "pivotAggregation": null,
        "pivotColumns": null,
        "xColumns": null,
        "yColumns": null
       },
       "removedWidgets": [],
       "schema": [],
       "type": "table"
      }
     },
     "output_type": "display_data"
    }
   ],
   "source": [
    "%sql\n",
    "CONVERT TO DELTA parquet.`/mnt/formula1dl612/demo/drivers_convert_to-delta_new`"
   ]
  },
  {
   "cell_type": "code",
   "execution_count": 0,
   "metadata": {
    "application/vnd.databricks.v1+cell": {
     "cellMetadata": {},
     "inputWidgets": {},
     "nuid": "a932a342-9dd2-42e9-a526-1a4a5376f237",
     "showTitle": false,
     "title": ""
    }
   },
   "outputs": [],
   "source": []
  }
 ],
 "metadata": {
  "application/vnd.databricks.v1+notebook": {
   "dashboards": [],
   "language": "python",
   "notebookMetadata": {
    "mostRecentlyExecutedCommandWithImplicitDF": {
     "commandId": 407640274631104,
     "dataframes": [
      "_sqldf"
     ]
    },
    "pythonIndentUnit": 4
   },
   "notebookName": "10.delta_lake_demo",
   "widgets": {}
  }
 },
 "nbformat": 4,
 "nbformat_minor": 0
}
