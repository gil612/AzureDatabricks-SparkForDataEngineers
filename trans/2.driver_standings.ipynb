{
 "cells": [
  {
   "cell_type": "markdown",
   "metadata": {
    "application/vnd.databricks.v1+cell": {
     "cellMetadata": {
      "byteLimit": 2048000,
      "rowLimit": 10000
     },
     "inputWidgets": {},
     "nuid": "a76051de-58df-4e18-9223-829ffa11e9ee",
     "showTitle": false,
     "title": ""
    }
   },
   "source": [
    "## Incremental Load\n",
    "##### 1. Amending race_results notebook\n",
    "##### 2. Add\n",
    "%run \"../includes/common_functions\"\n",
    "##### 3. Add\n",
    "dbutils.widgets.text(\"p_file_date\", \"2021-03-21\")\\\n",
    "v_file_date = dbutils.widgets.get(\"p_file_date\")\n",
    "##### 4. Find race years which the data is to be reprocessed\n",
    "##### 5. Run p_file_date 3 times (2021-03-21, 2021-03-28, 20021-04-18)"
   ]
  },
  {
   "cell_type": "markdown",
   "metadata": {
    "application/vnd.databricks.v1+cell": {
     "cellMetadata": {
      "byteLimit": 2048000,
      "rowLimit": 10000
     },
     "inputWidgets": {},
     "nuid": "8ec0e647-1419-420c-a569-456dd0b3c338",
     "showTitle": false,
     "title": ""
    }
   },
   "source": [
    "#### Produce driver standings"
   ]
  },
  {
   "cell_type": "code",
   "execution_count": 0,
   "metadata": {
    "application/vnd.databricks.v1+cell": {
     "cellMetadata": {
      "byteLimit": 2048000,
      "rowLimit": 10000
     },
     "inputWidgets": {},
     "nuid": "5bde8a94-4c74-4260-8bed-e30816b95b3c",
     "showTitle": false,
     "title": ""
    }
   },
   "outputs": [],
   "source": [
    "%run \"../includes/configuration\""
   ]
  },
  {
   "cell_type": "code",
   "execution_count": 0,
   "metadata": {
    "application/vnd.databricks.v1+cell": {
     "cellMetadata": {
      "byteLimit": 2048000,
      "rowLimit": 10000
     },
     "inputWidgets": {},
     "nuid": "94281655-2376-4c4a-8b0a-c21c19292aeb",
     "showTitle": false,
     "title": ""
    }
   },
   "outputs": [],
   "source": [
    "%run \"../includes/common_functions\""
   ]
  },
  {
   "cell_type": "code",
   "execution_count": 0,
   "metadata": {
    "application/vnd.databricks.v1+cell": {
     "cellMetadata": {
      "byteLimit": 2048000,
      "rowLimit": 10000
     },
     "inputWidgets": {},
     "nuid": "93053088-accc-46cb-97f4-121371112808",
     "showTitle": false,
     "title": ""
    }
   },
   "outputs": [],
   "source": [
    "dbutils.widgets.text(\"p_file_date\", \"2021-03-21\")\n",
    "v_file_date = dbutils.widgets.get(\"p_file_date\")\n",
    "v_file_date"
   ]
  },
  {
   "cell_type": "markdown",
   "metadata": {
    "application/vnd.databricks.v1+cell": {
     "cellMetadata": {
      "byteLimit": 2048000,
      "rowLimit": 10000
     },
     "inputWidgets": {},
     "nuid": "7d025444-21a4-4a88-9e51-30587baa86f7",
     "showTitle": false,
     "title": ""
    }
   },
   "source": [
    "### [Incremental Load] Find race years which the data is to be reprocessed"
   ]
  },
  {
   "cell_type": "code",
   "execution_count": 0,
   "metadata": {
    "application/vnd.databricks.v1+cell": {
     "cellMetadata": {
      "byteLimit": 2048000,
      "rowLimit": 10000
     },
     "inputWidgets": {},
     "nuid": "e12e8882-8a58-49af-a333-3d3834dec1f3",
     "showTitle": false,
     "title": ""
    }
   },
   "outputs": [],
   "source": [
    "# Use collect() to get a list\n",
    "race_results_list = spark.read.format(\"delta\").load(f\"{presentation_folder_path}/race_results\") \\\n",
    ".filter(f\"file_date = '{v_file_date}'\") \\\n",
    ".select('race_year') \\\n",
    ".distinct()\\\n",
    ".collect()"
   ]
  },
  {
   "cell_type": "code",
   "execution_count": 0,
   "metadata": {
    "application/vnd.databricks.v1+cell": {
     "cellMetadata": {
      "byteLimit": 2048000,
      "rowLimit": 10000
     },
     "inputWidgets": {},
     "nuid": "e4dbb12c-b076-42b5-a6b9-48fd921c1eec",
     "showTitle": false,
     "title": ""
    }
   },
   "outputs": [],
   "source": [
    "race_results_list"
   ]
  },
  {
   "cell_type": "code",
   "execution_count": 0,
   "metadata": {
    "application/vnd.databricks.v1+cell": {
     "cellMetadata": {
      "byteLimit": 2048000,
      "rowLimit": 10000
     },
     "inputWidgets": {},
     "nuid": "c473dd00-1d18-47cf-b6cd-fe026ab67594",
     "showTitle": false,
     "title": ""
    }
   },
   "outputs": [],
   "source": [
    "race_year_list = []\n",
    "for race_year in race_results_list:\n",
    "    race_year_list.append(race_year.race_year)\n",
    "    "
   ]
  },
  {
   "cell_type": "code",
   "execution_count": 0,
   "metadata": {
    "application/vnd.databricks.v1+cell": {
     "cellMetadata": {
      "byteLimit": 2048000,
      "rowLimit": 10000
     },
     "inputWidgets": {},
     "nuid": "60df38e2-299b-44f2-9597-0f0c8937485e",
     "showTitle": false,
     "title": ""
    }
   },
   "outputs": [],
   "source": [
    "from pyspark.sql.functions import col\n",
    "\n",
    "race_results_df = spark.read.format(\"delta\").load(f\"{presentation_folder_path}/race_results\") \\\n",
    ".filter(col (\"race_year\").isin(race_year_list))"
   ]
  },
  {
   "cell_type": "code",
   "execution_count": 0,
   "metadata": {
    "application/vnd.databricks.v1+cell": {
     "cellMetadata": {
      "byteLimit": 2048000,
      "rowLimit": 10000
     },
     "inputWidgets": {},
     "nuid": "02eed414-6130-45aa-bdf0-16f37e1beaa4",
     "showTitle": false,
     "title": ""
    }
   },
   "outputs": [],
   "source": [
    "display(race_results_df)"
   ]
  },
  {
   "cell_type": "code",
   "execution_count": 0,
   "metadata": {
    "application/vnd.databricks.v1+cell": {
     "cellMetadata": {
      "byteLimit": 2048000,
      "rowLimit": 10000
     },
     "inputWidgets": {},
     "nuid": "edc52beb-5ef9-45b0-84c1-ae1c56cba724",
     "showTitle": false,
     "title": ""
    }
   },
   "outputs": [],
   "source": [
    "race_results_df.printSchema()"
   ]
  },
  {
   "cell_type": "code",
   "execution_count": 0,
   "metadata": {
    "application/vnd.databricks.v1+cell": {
     "cellMetadata": {
      "byteLimit": 2048000,
      "rowLimit": 10000
     },
     "inputWidgets": {},
     "nuid": "39ac8501-d16f-485e-9c9f-85cb40ca3362",
     "showTitle": false,
     "title": ""
    }
   },
   "outputs": [],
   "source": [
    "from pyspark.sql.functions import sum, count, when, col"
   ]
  },
  {
   "cell_type": "code",
   "execution_count": 0,
   "metadata": {
    "application/vnd.databricks.v1+cell": {
     "cellMetadata": {
      "byteLimit": 2048000,
      "rowLimit": 10000
     },
     "inputWidgets": {},
     "nuid": "a1320ea7-5eef-404f-b9bf-a1d55dd2766a",
     "showTitle": false,
     "title": ""
    }
   },
   "outputs": [],
   "source": [
    "driver_standings_df = race_results_df \\\n",
    ".groupBy(\"race_year\", \"driver_name\", \"driver_nationality\") \\\n",
    ".agg(sum(\"points\").alias(\"total_points\"), count(when(col(\"position\") == 1, True)).alias(\"wins\"))"
   ]
  },
  {
   "cell_type": "code",
   "execution_count": 0,
   "metadata": {
    "application/vnd.databricks.v1+cell": {
     "cellMetadata": {
      "byteLimit": 2048000,
      "rowLimit": 10000
     },
     "inputWidgets": {},
     "nuid": "c6b3dfc6-3347-4324-87c9-76cab2984bd8",
     "showTitle": false,
     "title": ""
    }
   },
   "outputs": [],
   "source": [
    "from pyspark.sql.window import Window\n",
    "from pyspark.sql.functions import desc, rank"
   ]
  },
  {
   "cell_type": "code",
   "execution_count": 0,
   "metadata": {
    "application/vnd.databricks.v1+cell": {
     "cellMetadata": {
      "byteLimit": 2048000,
      "rowLimit": 10000
     },
     "inputWidgets": {},
     "nuid": "5d6e1164-a9b1-4f9e-9a2a-bdacca3647e8",
     "showTitle": false,
     "title": ""
    }
   },
   "outputs": [],
   "source": [
    "driver_rank_spec = Window.partitionBy(\"race_year\").orderBy(desc(\"total_points\"), desc(\"wins\"))\n",
    "final_df = driver_standings_df.withColumn(\"rank\", rank().over(driver_rank_spec))"
   ]
  },
  {
   "cell_type": "code",
   "execution_count": 0,
   "metadata": {
    "application/vnd.databricks.v1+cell": {
     "cellMetadata": {
      "byteLimit": 2048000,
      "rowLimit": 10000
     },
     "inputWidgets": {},
     "nuid": "36dc8c7b-98e4-4eeb-9a91-16f03c8daa8c",
     "showTitle": false,
     "title": ""
    }
   },
   "outputs": [],
   "source": [
    "# final_df.write.mode(\"overwrite\").parquet(f\"{presentation_folder_path}/driver_standings\")\n",
    "# final_df.write.mode(\"overwrite\").format(\"parquet\").saveAsTable(\"f1_presentation.driver_standings\")\n",
    "# overwrite_partition(final_df, 'f1_presentation', 'driver_standings', 'race_year')\n",
    "merge_condition = \"tgt.driver_name = src.driver_name AND tgt.race_year = src.race_year\"\n",
    "merge_delta_data(final_df, \"f1_presentation\", 'driver_standings', presentation_folder_path, merge_condition, 'race_year')"
   ]
  },
  {
   "cell_type": "code",
   "execution_count": 0,
   "metadata": {
    "application/vnd.databricks.v1+cell": {
     "cellMetadata": {
      "byteLimit": 2048000,
      "implicitDf": true,
      "rowLimit": 10000
     },
     "inputWidgets": {},
     "nuid": "3efc8dd1-1136-4b2a-88f9-dc4e381b70a6",
     "showTitle": false,
     "title": ""
    }
   },
   "outputs": [],
   "source": [
    "%sql\n",
    "SELECT *\n",
    "FROM f1_presentation.driver_standings WHERE race_year = 2021"
   ]
  }
 ],
 "metadata": {
  "application/vnd.databricks.v1+notebook": {
   "dashboards": [],
   "language": "python",
   "notebookMetadata": {
    "mostRecentlyExecutedCommandWithImplicitDF": {
     "commandId": 3253981945841183,
     "dataframes": [
      "_sqldf"
     ]
    },
    "pythonIndentUnit": 4
   },
   "notebookName": "2.driver_standings",
   "widgets": {
    "p_file_date": {
     "currentValue": "2021-04-18",
     "nuid": "523050a0-4342-40b0-9483-c3a11d7ef604",
     "widgetInfo": {
      "widgetType": "text",
      "defaultValue": "2021-03-21",
      "label": null,
      "name": "p_file_date",
      "options": {
       "widgetType": "text",
       "autoCreated": null,
       "validationRegex": null
      }
     }
    }
   }
  }
 },
 "nbformat": 4,
 "nbformat_minor": 0
}
