{
 "cells": [
  {
   "cell_type": "markdown",
   "metadata": {
    "application/vnd.databricks.v1+cell": {
     "cellMetadata": {
      "byteLimit": 2048000,
      "rowLimit": 10000
     },
     "inputWidgets": {},
     "nuid": "8ec0e647-1419-420c-a569-456dd0b3c338",
     "showTitle": false,
     "title": ""
    }
   },
   "source": [
    "#### Produce constructor standings"
   ]
  },
  {
   "cell_type": "code",
   "execution_count": 0,
   "metadata": {
    "application/vnd.databricks.v1+cell": {
     "cellMetadata": {
      "byteLimit": 2048000,
      "rowLimit": 10000
     },
     "inputWidgets": {},
     "nuid": "5bde8a94-4c74-4260-8bed-e30816b95b3c",
     "showTitle": false,
     "title": ""
    }
   },
   "outputs": [],
   "source": [
    "%run \"../includes/configuration\""
   ]
  },
  {
   "cell_type": "code",
   "execution_count": 0,
   "metadata": {
    "application/vnd.databricks.v1+cell": {
     "cellMetadata": {
      "byteLimit": 2048000,
      "rowLimit": 10000
     },
     "inputWidgets": {},
     "nuid": "76fffe82-50d6-4792-8127-b220f1d88c57",
     "showTitle": false,
     "title": ""
    }
   },
   "outputs": [],
   "source": [
    "%run \"../includes/common_functions\""
   ]
  },
  {
   "cell_type": "code",
   "execution_count": 0,
   "metadata": {
    "application/vnd.databricks.v1+cell": {
     "cellMetadata": {
      "byteLimit": 2048000,
      "rowLimit": 10000
     },
     "inputWidgets": {},
     "nuid": "ddfcb274-ac1b-4999-891c-521b5e5abbf7",
     "showTitle": false,
     "title": ""
    }
   },
   "outputs": [
    {
     "output_type": "stream",
     "name": "stdout",
     "output_type": "stream",
     "text": [
      "Out[68]: '2021-03-28'"
     ]
    }
   ],
   "source": [
    "dbutils.widgets.text(\"p_file_date\", \"2021-03-21\")\n",
    "v_file_date = dbutils.widgets.get(\"p_file_date\")\n",
    "v_file_date"
   ]
  },
  {
   "cell_type": "code",
   "execution_count": 0,
   "metadata": {
    "application/vnd.databricks.v1+cell": {
     "cellMetadata": {
      "byteLimit": 2048000,
      "rowLimit": 10000
     },
     "inputWidgets": {},
     "nuid": "65607b98-bf74-4127-af6c-702d6e2f6177",
     "showTitle": false,
     "title": ""
    }
   },
   "outputs": [
    {
     "output_type": "display_data",
     "data": {
      "text/html": [
       "<style scoped>\n",
       "  .table-result-container {\n",
       "    max-height: 300px;\n",
       "    overflow: auto;\n",
       "  }\n",
       "  table, th, td {\n",
       "    border: 1px solid black;\n",
       "    border-collapse: collapse;\n",
       "  }\n",
       "  th, td {\n",
       "    padding: 5px;\n",
       "  }\n",
       "  th {\n",
       "    text-align: left;\n",
       "  }\n",
       "</style><div class='table-result-container'><table class='table-result'><thead style='background-color: white'><tr><th>race_id</th><th>race_year</th><th>race_name</th><th>race_date</th><th>circuit_location</th><th>driver_name</th><th>driver_number</th><th>driver_nationality</th><th>team</th><th>grid</th><th>fastest_lap</th><th>race_time</th><th>points</th><th>position</th><th>file_date</th><th>created_date</th></tr></thead><tbody><tr><td>1053</td><td>2021</td><td>Emilia Romagna Grand Prix</td><td>2021-04-18T13:00:00.000+0000</td><td>Imola</td><td>Mick Schumacher</td><td>null</td><td>German</td><td>Haas F1 Team</td><td>18</td><td>58</td><td>\\N</td><td>0.0</td><td>16</td><td>2021-04-18</td><td>2024-03-17T23:03:26.540+0000</td></tr><tr><td>1053</td><td>2021</td><td>Emilia Romagna Grand Prix</td><td>2021-04-18T13:00:00.000+0000</td><td>Imola</td><td>Nikita Mazepin</td><td>null</td><td>Russian</td><td>Haas F1 Team</td><td>19</td><td>55</td><td>\\N</td><td>0.0</td><td>17</td><td>2021-04-18</td><td>2024-03-17T23:03:26.540+0000</td></tr><tr><td>1053</td><td>2021</td><td>Emilia Romagna Grand Prix</td><td>2021-04-18T13:00:00.000+0000</td><td>Imola</td><td>Yuki Tsunoda</td><td>null</td><td>Japanese</td><td>AlphaTauri</td><td>20</td><td>49</td><td>+73.184</td><td>0.0</td><td>12</td><td>2021-04-18</td><td>2024-03-17T23:03:26.540+0000</td></tr><tr><td>1053</td><td>2021</td><td>Emilia Romagna Grand Prix</td><td>2021-04-18T13:00:00.000+0000</td><td>Imola</td><td>Nicholas Latifi</td><td>6</td><td>Canadian</td><td>Williams</td><td>14</td><td>null</td><td>\\N</td><td>0.0</td><td>null</td><td>2021-04-18</td><td>2024-03-17T23:03:26.540+0000</td></tr><tr><td>1053</td><td>2021</td><td>Emilia Romagna Grand Prix</td><td>2021-04-18T13:00:00.000+0000</td><td>Imola</td><td>George Russell</td><td>63</td><td>British</td><td>Williams</td><td>12</td><td>28</td><td>\\N</td><td>0.0</td><td>null</td><td>2021-04-18</td><td>2024-03-17T23:03:26.540+0000</td></tr><tr><td>1053</td><td>2021</td><td>Emilia Romagna Grand Prix</td><td>2021-04-18T13:00:00.000+0000</td><td>Imola</td><td>Lando Norris</td><td>4</td><td>British</td><td>McLaren</td><td>7</td><td>63</td><td>+23.702</td><td>15.0</td><td>3</td><td>2021-04-18</td><td>2024-03-17T23:03:26.540+0000</td></tr><tr><td>1053</td><td>2021</td><td>Emilia Romagna Grand Prix</td><td>2021-04-18T13:00:00.000+0000</td><td>Imola</td><td>Charles Leclerc</td><td>16</td><td>Monegasque</td><td>Ferrari</td><td>4</td><td>60</td><td>+25.579</td><td>12.0</td><td>4</td><td>2021-04-18</td><td>2024-03-17T23:03:26.540+0000</td></tr><tr><td>1053</td><td>2021</td><td>Emilia Romagna Grand Prix</td><td>2021-04-18T13:00:00.000+0000</td><td>Imola</td><td>Pierre Gasly</td><td>10</td><td>French</td><td>AlphaTauri</td><td>5</td><td>52</td><td>+52.818</td><td>6.0</td><td>7</td><td>2021-04-18</td><td>2024-03-17T23:03:26.540+0000</td></tr><tr><td>1053</td><td>2021</td><td>Emilia Romagna Grand Prix</td><td>2021-04-18T13:00:00.000+0000</td><td>Imola</td><td>Antonio Giovinazzi</td><td>99</td><td>Italian</td><td>Alfa Romeo</td><td>17</td><td>57</td><td>\\N</td><td>0.0</td><td>14</td><td>2021-04-18</td><td>2024-03-17T23:03:26.540+0000</td></tr><tr><td>1053</td><td>2021</td><td>Emilia Romagna Grand Prix</td><td>2021-04-18T13:00:00.000+0000</td><td>Imola</td><td>Lance Stroll</td><td>18</td><td>Canadian</td><td>Aston Martin</td><td>10</td><td>59</td><td>+56.909</td><td>4.0</td><td>8</td><td>2021-04-18</td><td>2024-03-17T23:03:26.540+0000</td></tr><tr><td>1053</td><td>2021</td><td>Emilia Romagna Grand Prix</td><td>2021-04-18T13:00:00.000+0000</td><td>Imola</td><td>Esteban Ocon</td><td>31</td><td>French</td><td>Alpine F1 Team</td><td>9</td><td>62</td><td>+65.704</td><td>2.0</td><td>9</td><td>2021-04-18</td><td>2024-03-17T23:03:26.540+0000</td></tr><tr><td>1053</td><td>2021</td><td>Emilia Romagna Grand Prix</td><td>2021-04-18T13:00:00.000+0000</td><td>Imola</td><td>Carlos Sainz</td><td>55</td><td>Spanish</td><td>Ferrari</td><td>11</td><td>60</td><td>+27.036</td><td>10.0</td><td>5</td><td>2021-04-18</td><td>2024-03-17T23:03:26.540+0000</td></tr><tr><td>1053</td><td>2021</td><td>Emilia Romagna Grand Prix</td><td>2021-04-18T13:00:00.000+0000</td><td>Imola</td><td>Max Verstappen</td><td>33</td><td>Dutch</td><td>Red Bull</td><td>3</td><td>60</td><td>2:02:34.598</td><td>25.0</td><td>1</td><td>2021-04-18</td><td>2024-03-17T23:03:26.540+0000</td></tr><tr><td>1053</td><td>2021</td><td>Emilia Romagna Grand Prix</td><td>2021-04-18T13:00:00.000+0000</td><td>Imola</td><td>Valtteri Bottas</td><td>77</td><td>Finnish</td><td>Mercedes</td><td>8</td><td>30</td><td>\\N</td><td>0.0</td><td>null</td><td>2021-04-18</td><td>2024-03-17T23:03:26.540+0000</td></tr><tr><td>1053</td><td>2021</td><td>Emilia Romagna Grand Prix</td><td>2021-04-18T13:00:00.000+0000</td><td>Imola</td><td>Daniel Ricciardo</td><td>3</td><td>Australian</td><td>McLaren</td><td>6</td><td>54</td><td>+51.220</td><td>8.0</td><td>6</td><td>2021-04-18</td><td>2024-03-17T23:03:26.540+0000</td></tr><tr><td>1053</td><td>2021</td><td>Emilia Romagna Grand Prix</td><td>2021-04-18T13:00:00.000+0000</td><td>Imola</td><td>Sergio Pérez</td><td>11</td><td>Mexican</td><td>Red Bull</td><td>2</td><td>62</td><td>+67.151</td><td>0.0</td><td>11</td><td>2021-04-18</td><td>2024-03-17T23:03:26.540+0000</td></tr><tr><td>1053</td><td>2021</td><td>Emilia Romagna Grand Prix</td><td>2021-04-18T13:00:00.000+0000</td><td>Imola</td><td>Sebastian Vettel</td><td>5</td><td>German</td><td>Aston Martin</td><td>0</td><td>59</td><td>\\N</td><td>0.0</td><td>15</td><td>2021-04-18</td><td>2024-03-17T23:03:26.540+0000</td></tr><tr><td>1053</td><td>2021</td><td>Emilia Romagna Grand Prix</td><td>2021-04-18T13:00:00.000+0000</td><td>Imola</td><td>Kimi Räikkönen</td><td>7</td><td>Finnish</td><td>Alfa Romeo</td><td>16</td><td>62</td><td>+94.773</td><td>0.0</td><td>13</td><td>2021-04-18</td><td>2024-03-17T23:03:26.540+0000</td></tr><tr><td>1053</td><td>2021</td><td>Emilia Romagna Grand Prix</td><td>2021-04-18T13:00:00.000+0000</td><td>Imola</td><td>Fernando Alonso</td><td>14</td><td>Spanish</td><td>Alpine F1 Team</td><td>15</td><td>62</td><td>+66.561</td><td>1.0</td><td>10</td><td>2021-04-18</td><td>2024-03-17T23:03:26.540+0000</td></tr><tr><td>1053</td><td>2021</td><td>Emilia Romagna Grand Prix</td><td>2021-04-18T13:00:00.000+0000</td><td>Imola</td><td>Lewis Hamilton</td><td>44</td><td>British</td><td>Mercedes</td><td>1</td><td>60</td><td>+22.000</td><td>19.0</td><td>2</td><td>2021-04-18</td><td>2024-03-17T23:03:26.540+0000</td></tr><tr><td>1052</td><td>2021</td><td>Bahrain Grand Prix</td><td>2021-03-28T15:00:00.000+0000</td><td>Sakhir</td><td>Mick Schumacher</td><td>null</td><td>German</td><td>Haas F1 Team</td><td>18</td><td>38</td><td>\\N</td><td>0.0</td><td>16</td><td>2021-03-28</td><td>2024-03-17T23:01:40.829+0000</td></tr><tr><td>1052</td><td>2021</td><td>Bahrain Grand Prix</td><td>2021-03-28T15:00:00.000+0000</td><td>Sakhir</td><td>Nikita Mazepin</td><td>null</td><td>Russian</td><td>Haas F1 Team</td><td>19</td><td>null</td><td>\\N</td><td>0.0</td><td>null</td><td>2021-03-28</td><td>2024-03-17T23:01:40.829+0000</td></tr><tr><td>1052</td><td>2021</td><td>Bahrain Grand Prix</td><td>2021-03-28T15:00:00.000+0000</td><td>Sakhir</td><td>Yuki Tsunoda</td><td>null</td><td>Japanese</td><td>AlphaTauri</td><td>13</td><td>38</td><td>+85.692</td><td>2.0</td><td>9</td><td>2021-03-28</td><td>2024-03-17T23:01:40.829+0000</td></tr><tr><td>1052</td><td>2021</td><td>Bahrain Grand Prix</td><td>2021-03-28T15:00:00.000+0000</td><td>Sakhir</td><td>Nicholas Latifi</td><td>6</td><td>Canadian</td><td>Williams</td><td>17</td><td>16</td><td>\\N</td><td>0.0</td><td>18</td><td>2021-03-28</td><td>2024-03-17T23:01:40.829+0000</td></tr><tr><td>1052</td><td>2021</td><td>Bahrain Grand Prix</td><td>2021-03-28T15:00:00.000+0000</td><td>Sakhir</td><td>George Russell</td><td>63</td><td>British</td><td>Williams</td><td>15</td><td>40</td><td>\\N</td><td>0.0</td><td>14</td><td>2021-03-28</td><td>2024-03-17T23:01:40.829+0000</td></tr><tr><td>1052</td><td>2021</td><td>Bahrain Grand Prix</td><td>2021-03-28T15:00:00.000+0000</td><td>Sakhir</td><td>Lando Norris</td><td>4</td><td>British</td><td>McLaren</td><td>7</td><td>38</td><td>+46.466</td><td>12.0</td><td>4</td><td>2021-03-28</td><td>2024-03-17T23:01:40.829+0000</td></tr><tr><td>1052</td><td>2021</td><td>Bahrain Grand Prix</td><td>2021-03-28T15:00:00.000+0000</td><td>Sakhir</td><td>Charles Leclerc</td><td>16</td><td>Monegasque</td><td>Ferrari</td><td>4</td><td>39</td><td>+59.090</td><td>8.0</td><td>6</td><td>2021-03-28</td><td>2024-03-17T23:01:40.829+0000</td></tr><tr><td>1052</td><td>2021</td><td>Bahrain Grand Prix</td><td>2021-03-28T15:00:00.000+0000</td><td>Sakhir</td><td>Pierre Gasly</td><td>10</td><td>French</td><td>AlphaTauri</td><td>5</td><td>48</td><td>\\N</td><td>0.0</td><td>17</td><td>2021-03-28</td><td>2024-03-17T23:01:40.829+0000</td></tr><tr><td>1052</td><td>2021</td><td>Bahrain Grand Prix</td><td>2021-03-28T15:00:00.000+0000</td><td>Sakhir</td><td>Antonio Giovinazzi</td><td>99</td><td>Italian</td><td>Alfa Romeo</td><td>12</td><td>32</td><td>\\N</td><td>0.0</td><td>12</td><td>2021-03-28</td><td>2024-03-17T23:01:40.829+0000</td></tr><tr><td>1052</td><td>2021</td><td>Bahrain Grand Prix</td><td>2021-03-28T15:00:00.000+0000</td><td>Sakhir</td><td>Lance Stroll</td><td>18</td><td>Canadian</td><td>Aston Martin</td><td>10</td><td>31</td><td>+86.713</td><td>1.0</td><td>10</td><td>2021-03-28</td><td>2024-03-17T23:01:40.829+0000</td></tr><tr><td>1052</td><td>2021</td><td>Bahrain Grand Prix</td><td>2021-03-28T15:00:00.000+0000</td><td>Sakhir</td><td>Esteban Ocon</td><td>31</td><td>French</td><td>Alpine F1 Team</td><td>16</td><td>33</td><td>\\N</td><td>0.0</td><td>13</td><td>2021-03-28</td><td>2024-03-17T23:01:40.829+0000</td></tr><tr><td>1052</td><td>2021</td><td>Bahrain Grand Prix</td><td>2021-03-28T15:00:00.000+0000</td><td>Sakhir</td><td>Carlos Sainz</td><td>55</td><td>Spanish</td><td>Ferrari</td><td>8</td><td>48</td><td>+67.100</td><td>4.0</td><td>8</td><td>2021-03-28</td><td>2024-03-17T23:01:40.829+0000</td></tr><tr><td>1052</td><td>2021</td><td>Bahrain Grand Prix</td><td>2021-03-28T15:00:00.000+0000</td><td>Sakhir</td><td>Max Verstappen</td><td>33</td><td>Dutch</td><td>Red Bull</td><td>1</td><td>41</td><td>+0.745</td><td>18.0</td><td>2</td><td>2021-03-28</td><td>2024-03-17T23:01:40.829+0000</td></tr><tr><td>1052</td><td>2021</td><td>Bahrain Grand Prix</td><td>2021-03-28T15:00:00.000+0000</td><td>Sakhir</td><td>Valtteri Bottas</td><td>77</td><td>Finnish</td><td>Mercedes</td><td>3</td><td>56</td><td>+37.383</td><td>16.0</td><td>3</td><td>2021-03-28</td><td>2024-03-17T23:01:40.829+0000</td></tr><tr><td>1052</td><td>2021</td><td>Bahrain Grand Prix</td><td>2021-03-28T15:00:00.000+0000</td><td>Sakhir</td><td>Daniel Ricciardo</td><td>3</td><td>Australian</td><td>McLaren</td><td>6</td><td>36</td><td>+66.004</td><td>6.0</td><td>7</td><td>2021-03-28</td><td>2024-03-17T23:01:40.829+0000</td></tr><tr><td>1052</td><td>2021</td><td>Bahrain Grand Prix</td><td>2021-03-28T15:00:00.000+0000</td><td>Sakhir</td><td>Sergio Pérez</td><td>11</td><td>Mexican</td><td>Red Bull</td><td>0</td><td>44</td><td>+52.047</td><td>10.0</td><td>5</td><td>2021-03-28</td><td>2024-03-17T23:01:40.829+0000</td></tr><tr><td>1052</td><td>2021</td><td>Bahrain Grand Prix</td><td>2021-03-28T15:00:00.000+0000</td><td>Sakhir</td><td>Sebastian Vettel</td><td>5</td><td>German</td><td>Aston Martin</td><td>20</td><td>26</td><td>\\N</td><td>0.0</td><td>15</td><td>2021-03-28</td><td>2024-03-17T23:01:40.829+0000</td></tr><tr><td>1052</td><td>2021</td><td>Bahrain Grand Prix</td><td>2021-03-28T15:00:00.000+0000</td><td>Sakhir</td><td>Kimi Räikkönen</td><td>7</td><td>Finnish</td><td>Alfa Romeo</td><td>14</td><td>45</td><td>+88.864</td><td>0.0</td><td>11</td><td>2021-03-28</td><td>2024-03-17T23:01:40.829+0000</td></tr><tr><td>1052</td><td>2021</td><td>Bahrain Grand Prix</td><td>2021-03-28T15:00:00.000+0000</td><td>Sakhir</td><td>Fernando Alonso</td><td>14</td><td>Spanish</td><td>Alpine F1 Team</td><td>9</td><td>31</td><td>\\N</td><td>0.0</td><td>null</td><td>2021-03-28</td><td>2024-03-17T23:01:40.829+0000</td></tr><tr><td>1052</td><td>2021</td><td>Bahrain Grand Prix</td><td>2021-03-28T15:00:00.000+0000</td><td>Sakhir</td><td>Lewis Hamilton</td><td>44</td><td>British</td><td>Mercedes</td><td>2</td><td>44</td><td>1:32:03.897</td><td>25.0</td><td>1</td><td>2021-03-28</td><td>2024-03-17T23:01:40.829+0000</td></tr></tbody></table></div>"
      ]
     },
     "metadata": {
      "application/vnd.databricks.v1+output": {
       "addedWidgets": {},
       "aggData": [],
       "aggError": "",
       "aggOverflow": false,
       "aggSchema": [],
       "aggSeriesLimitReached": false,
       "aggType": "",
       "arguments": {},
       "columnCustomDisplayInfos": {},
       "data": [
        [
         1053,
         2021,
         "Emilia Romagna Grand Prix",
         "2021-04-18T13:00:00.000+0000",
         "Imola",
         "Mick Schumacher",
         null,
         "German",
         "Haas F1 Team",
         18,
         58,
         "\\N",
         0.0,
         16,
         "2021-04-18",
         "2024-03-17T23:03:26.540+0000"
        ],
        [
         1053,
         2021,
         "Emilia Romagna Grand Prix",
         "2021-04-18T13:00:00.000+0000",
         "Imola",
         "Nikita Mazepin",
         null,
         "Russian",
         "Haas F1 Team",
         19,
         55,
         "\\N",
         0.0,
         17,
         "2021-04-18",
         "2024-03-17T23:03:26.540+0000"
        ],
        [
         1053,
         2021,
         "Emilia Romagna Grand Prix",
         "2021-04-18T13:00:00.000+0000",
         "Imola",
         "Yuki Tsunoda",
         null,
         "Japanese",
         "AlphaTauri",
         20,
         49,
         "+73.184",
         0.0,
         12,
         "2021-04-18",
         "2024-03-17T23:03:26.540+0000"
        ],
        [
         1053,
         2021,
         "Emilia Romagna Grand Prix",
         "2021-04-18T13:00:00.000+0000",
         "Imola",
         "Nicholas Latifi",
         6,
         "Canadian",
         "Williams",
         14,
         null,
         "\\N",
         0.0,
         null,
         "2021-04-18",
         "2024-03-17T23:03:26.540+0000"
        ],
        [
         1053,
         2021,
         "Emilia Romagna Grand Prix",
         "2021-04-18T13:00:00.000+0000",
         "Imola",
         "George Russell",
         63,
         "British",
         "Williams",
         12,
         28,
         "\\N",
         0.0,
         null,
         "2021-04-18",
         "2024-03-17T23:03:26.540+0000"
        ],
        [
         1053,
         2021,
         "Emilia Romagna Grand Prix",
         "2021-04-18T13:00:00.000+0000",
         "Imola",
         "Lando Norris",
         4,
         "British",
         "McLaren",
         7,
         63,
         "+23.702",
         15.0,
         3,
         "2021-04-18",
         "2024-03-17T23:03:26.540+0000"
        ],
        [
         1053,
         2021,
         "Emilia Romagna Grand Prix",
         "2021-04-18T13:00:00.000+0000",
         "Imola",
         "Charles Leclerc",
         16,
         "Monegasque",
         "Ferrari",
         4,
         60,
         "+25.579",
         12.0,
         4,
         "2021-04-18",
         "2024-03-17T23:03:26.540+0000"
        ],
        [
         1053,
         2021,
         "Emilia Romagna Grand Prix",
         "2021-04-18T13:00:00.000+0000",
         "Imola",
         "Pierre Gasly",
         10,
         "French",
         "AlphaTauri",
         5,
         52,
         "+52.818",
         6.0,
         7,
         "2021-04-18",
         "2024-03-17T23:03:26.540+0000"
        ],
        [
         1053,
         2021,
         "Emilia Romagna Grand Prix",
         "2021-04-18T13:00:00.000+0000",
         "Imola",
         "Antonio Giovinazzi",
         99,
         "Italian",
         "Alfa Romeo",
         17,
         57,
         "\\N",
         0.0,
         14,
         "2021-04-18",
         "2024-03-17T23:03:26.540+0000"
        ],
        [
         1053,
         2021,
         "Emilia Romagna Grand Prix",
         "2021-04-18T13:00:00.000+0000",
         "Imola",
         "Lance Stroll",
         18,
         "Canadian",
         "Aston Martin",
         10,
         59,
         "+56.909",
         4.0,
         8,
         "2021-04-18",
         "2024-03-17T23:03:26.540+0000"
        ],
        [
         1053,
         2021,
         "Emilia Romagna Grand Prix",
         "2021-04-18T13:00:00.000+0000",
         "Imola",
         "Esteban Ocon",
         31,
         "French",
         "Alpine F1 Team",
         9,
         62,
         "+65.704",
         2.0,
         9,
         "2021-04-18",
         "2024-03-17T23:03:26.540+0000"
        ],
        [
         1053,
         2021,
         "Emilia Romagna Grand Prix",
         "2021-04-18T13:00:00.000+0000",
         "Imola",
         "Carlos Sainz",
         55,
         "Spanish",
         "Ferrari",
         11,
         60,
         "+27.036",
         10.0,
         5,
         "2021-04-18",
         "2024-03-17T23:03:26.540+0000"
        ],
        [
         1053,
         2021,
         "Emilia Romagna Grand Prix",
         "2021-04-18T13:00:00.000+0000",
         "Imola",
         "Max Verstappen",
         33,
         "Dutch",
         "Red Bull",
         3,
         60,
         "2:02:34.598",
         25.0,
         1,
         "2021-04-18",
         "2024-03-17T23:03:26.540+0000"
        ],
        [
         1053,
         2021,
         "Emilia Romagna Grand Prix",
         "2021-04-18T13:00:00.000+0000",
         "Imola",
         "Valtteri Bottas",
         77,
         "Finnish",
         "Mercedes",
         8,
         30,
         "\\N",
         0.0,
         null,
         "2021-04-18",
         "2024-03-17T23:03:26.540+0000"
        ],
        [
         1053,
         2021,
         "Emilia Romagna Grand Prix",
         "2021-04-18T13:00:00.000+0000",
         "Imola",
         "Daniel Ricciardo",
         3,
         "Australian",
         "McLaren",
         6,
         54,
         "+51.220",
         8.0,
         6,
         "2021-04-18",
         "2024-03-17T23:03:26.540+0000"
        ],
        [
         1053,
         2021,
         "Emilia Romagna Grand Prix",
         "2021-04-18T13:00:00.000+0000",
         "Imola",
         "Sergio Pérez",
         11,
         "Mexican",
         "Red Bull",
         2,
         62,
         "+67.151",
         0.0,
         11,
         "2021-04-18",
         "2024-03-17T23:03:26.540+0000"
        ],
        [
         1053,
         2021,
         "Emilia Romagna Grand Prix",
         "2021-04-18T13:00:00.000+0000",
         "Imola",
         "Sebastian Vettel",
         5,
         "German",
         "Aston Martin",
         0,
         59,
         "\\N",
         0.0,
         15,
         "2021-04-18",
         "2024-03-17T23:03:26.540+0000"
        ],
        [
         1053,
         2021,
         "Emilia Romagna Grand Prix",
         "2021-04-18T13:00:00.000+0000",
         "Imola",
         "Kimi Räikkönen",
         7,
         "Finnish",
         "Alfa Romeo",
         16,
         62,
         "+94.773",
         0.0,
         13,
         "2021-04-18",
         "2024-03-17T23:03:26.540+0000"
        ],
        [
         1053,
         2021,
         "Emilia Romagna Grand Prix",
         "2021-04-18T13:00:00.000+0000",
         "Imola",
         "Fernando Alonso",
         14,
         "Spanish",
         "Alpine F1 Team",
         15,
         62,
         "+66.561",
         1.0,
         10,
         "2021-04-18",
         "2024-03-17T23:03:26.540+0000"
        ],
        [
         1053,
         2021,
         "Emilia Romagna Grand Prix",
         "2021-04-18T13:00:00.000+0000",
         "Imola",
         "Lewis Hamilton",
         44,
         "British",
         "Mercedes",
         1,
         60,
         "+22.000",
         19.0,
         2,
         "2021-04-18",
         "2024-03-17T23:03:26.540+0000"
        ],
        [
         1052,
         2021,
         "Bahrain Grand Prix",
         "2021-03-28T15:00:00.000+0000",
         "Sakhir",
         "Mick Schumacher",
         null,
         "German",
         "Haas F1 Team",
         18,
         38,
         "\\N",
         0.0,
         16,
         "2021-03-28",
         "2024-03-17T23:01:40.829+0000"
        ],
        [
         1052,
         2021,
         "Bahrain Grand Prix",
         "2021-03-28T15:00:00.000+0000",
         "Sakhir",
         "Nikita Mazepin",
         null,
         "Russian",
         "Haas F1 Team",
         19,
         null,
         "\\N",
         0.0,
         null,
         "2021-03-28",
         "2024-03-17T23:01:40.829+0000"
        ],
        [
         1052,
         2021,
         "Bahrain Grand Prix",
         "2021-03-28T15:00:00.000+0000",
         "Sakhir",
         "Yuki Tsunoda",
         null,
         "Japanese",
         "AlphaTauri",
         13,
         38,
         "+85.692",
         2.0,
         9,
         "2021-03-28",
         "2024-03-17T23:01:40.829+0000"
        ],
        [
         1052,
         2021,
         "Bahrain Grand Prix",
         "2021-03-28T15:00:00.000+0000",
         "Sakhir",
         "Nicholas Latifi",
         6,
         "Canadian",
         "Williams",
         17,
         16,
         "\\N",
         0.0,
         18,
         "2021-03-28",
         "2024-03-17T23:01:40.829+0000"
        ],
        [
         1052,
         2021,
         "Bahrain Grand Prix",
         "2021-03-28T15:00:00.000+0000",
         "Sakhir",
         "George Russell",
         63,
         "British",
         "Williams",
         15,
         40,
         "\\N",
         0.0,
         14,
         "2021-03-28",
         "2024-03-17T23:01:40.829+0000"
        ],
        [
         1052,
         2021,
         "Bahrain Grand Prix",
         "2021-03-28T15:00:00.000+0000",
         "Sakhir",
         "Lando Norris",
         4,
         "British",
         "McLaren",
         7,
         38,
         "+46.466",
         12.0,
         4,
         "2021-03-28",
         "2024-03-17T23:01:40.829+0000"
        ],
        [
         1052,
         2021,
         "Bahrain Grand Prix",
         "2021-03-28T15:00:00.000+0000",
         "Sakhir",
         "Charles Leclerc",
         16,
         "Monegasque",
         "Ferrari",
         4,
         39,
         "+59.090",
         8.0,
         6,
         "2021-03-28",
         "2024-03-17T23:01:40.829+0000"
        ],
        [
         1052,
         2021,
         "Bahrain Grand Prix",
         "2021-03-28T15:00:00.000+0000",
         "Sakhir",
         "Pierre Gasly",
         10,
         "French",
         "AlphaTauri",
         5,
         48,
         "\\N",
         0.0,
         17,
         "2021-03-28",
         "2024-03-17T23:01:40.829+0000"
        ],
        [
         1052,
         2021,
         "Bahrain Grand Prix",
         "2021-03-28T15:00:00.000+0000",
         "Sakhir",
         "Antonio Giovinazzi",
         99,
         "Italian",
         "Alfa Romeo",
         12,
         32,
         "\\N",
         0.0,
         12,
         "2021-03-28",
         "2024-03-17T23:01:40.829+0000"
        ],
        [
         1052,
         2021,
         "Bahrain Grand Prix",
         "2021-03-28T15:00:00.000+0000",
         "Sakhir",
         "Lance Stroll",
         18,
         "Canadian",
         "Aston Martin",
         10,
         31,
         "+86.713",
         1.0,
         10,
         "2021-03-28",
         "2024-03-17T23:01:40.829+0000"
        ],
        [
         1052,
         2021,
         "Bahrain Grand Prix",
         "2021-03-28T15:00:00.000+0000",
         "Sakhir",
         "Esteban Ocon",
         31,
         "French",
         "Alpine F1 Team",
         16,
         33,
         "\\N",
         0.0,
         13,
         "2021-03-28",
         "2024-03-17T23:01:40.829+0000"
        ],
        [
         1052,
         2021,
         "Bahrain Grand Prix",
         "2021-03-28T15:00:00.000+0000",
         "Sakhir",
         "Carlos Sainz",
         55,
         "Spanish",
         "Ferrari",
         8,
         48,
         "+67.100",
         4.0,
         8,
         "2021-03-28",
         "2024-03-17T23:01:40.829+0000"
        ],
        [
         1052,
         2021,
         "Bahrain Grand Prix",
         "2021-03-28T15:00:00.000+0000",
         "Sakhir",
         "Max Verstappen",
         33,
         "Dutch",
         "Red Bull",
         1,
         41,
         "+0.745",
         18.0,
         2,
         "2021-03-28",
         "2024-03-17T23:01:40.829+0000"
        ],
        [
         1052,
         2021,
         "Bahrain Grand Prix",
         "2021-03-28T15:00:00.000+0000",
         "Sakhir",
         "Valtteri Bottas",
         77,
         "Finnish",
         "Mercedes",
         3,
         56,
         "+37.383",
         16.0,
         3,
         "2021-03-28",
         "2024-03-17T23:01:40.829+0000"
        ],
        [
         1052,
         2021,
         "Bahrain Grand Prix",
         "2021-03-28T15:00:00.000+0000",
         "Sakhir",
         "Daniel Ricciardo",
         3,
         "Australian",
         "McLaren",
         6,
         36,
         "+66.004",
         6.0,
         7,
         "2021-03-28",
         "2024-03-17T23:01:40.829+0000"
        ],
        [
         1052,
         2021,
         "Bahrain Grand Prix",
         "2021-03-28T15:00:00.000+0000",
         "Sakhir",
         "Sergio Pérez",
         11,
         "Mexican",
         "Red Bull",
         0,
         44,
         "+52.047",
         10.0,
         5,
         "2021-03-28",
         "2024-03-17T23:01:40.829+0000"
        ],
        [
         1052,
         2021,
         "Bahrain Grand Prix",
         "2021-03-28T15:00:00.000+0000",
         "Sakhir",
         "Sebastian Vettel",
         5,
         "German",
         "Aston Martin",
         20,
         26,
         "\\N",
         0.0,
         15,
         "2021-03-28",
         "2024-03-17T23:01:40.829+0000"
        ],
        [
         1052,
         2021,
         "Bahrain Grand Prix",
         "2021-03-28T15:00:00.000+0000",
         "Sakhir",
         "Kimi Räikkönen",
         7,
         "Finnish",
         "Alfa Romeo",
         14,
         45,
         "+88.864",
         0.0,
         11,
         "2021-03-28",
         "2024-03-17T23:01:40.829+0000"
        ],
        [
         1052,
         2021,
         "Bahrain Grand Prix",
         "2021-03-28T15:00:00.000+0000",
         "Sakhir",
         "Fernando Alonso",
         14,
         "Spanish",
         "Alpine F1 Team",
         9,
         31,
         "\\N",
         0.0,
         null,
         "2021-03-28",
         "2024-03-17T23:01:40.829+0000"
        ],
        [
         1052,
         2021,
         "Bahrain Grand Prix",
         "2021-03-28T15:00:00.000+0000",
         "Sakhir",
         "Lewis Hamilton",
         44,
         "British",
         "Mercedes",
         2,
         44,
         "1:32:03.897",
         25.0,
         1,
         "2021-03-28",
         "2024-03-17T23:01:40.829+0000"
        ]
       ],
       "datasetInfos": [],
       "dbfsResultPath": null,
       "isJsonSchema": true,
       "metadata": {},
       "overflow": false,
       "plotOptions": {
        "customPlotOptions": {},
        "displayType": "table",
        "pivotAggregation": null,
        "pivotColumns": null,
        "xColumns": null,
        "yColumns": null
       },
       "removedWidgets": [],
       "schema": [
        {
         "metadata": "{}",
         "name": "race_id",
         "type": "\"integer\""
        },
        {
         "metadata": "{}",
         "name": "race_year",
         "type": "\"integer\""
        },
        {
         "metadata": "{}",
         "name": "race_name",
         "type": "\"string\""
        },
        {
         "metadata": "{}",
         "name": "race_date",
         "type": "\"timestamp\""
        },
        {
         "metadata": "{}",
         "name": "circuit_location",
         "type": "\"string\""
        },
        {
         "metadata": "{}",
         "name": "driver_name",
         "type": "\"string\""
        },
        {
         "metadata": "{}",
         "name": "driver_number",
         "type": "\"integer\""
        },
        {
         "metadata": "{}",
         "name": "driver_nationality",
         "type": "\"string\""
        },
        {
         "metadata": "{}",
         "name": "team",
         "type": "\"string\""
        },
        {
         "metadata": "{}",
         "name": "grid",
         "type": "\"integer\""
        },
        {
         "metadata": "{}",
         "name": "fastest_lap",
         "type": "\"integer\""
        },
        {
         "metadata": "{}",
         "name": "race_time",
         "type": "\"string\""
        },
        {
         "metadata": "{}",
         "name": "points",
         "type": "\"float\""
        },
        {
         "metadata": "{}",
         "name": "position",
         "type": "\"integer\""
        },
        {
         "metadata": "{}",
         "name": "file_date",
         "type": "\"string\""
        },
        {
         "metadata": "{}",
         "name": "created_date",
         "type": "\"timestamp\""
        }
       ],
       "type": "table"
      }
     },
     "output_type": "display_data"
    }
   ],
   "source": [
    "path = f\"{presentation_folder_path}/race_results\"\n",
    "race_results_df = column_to_list(path, 'race_year',v_file_date)\n",
    "display(race_results_df)"
   ]
  },
  {
   "cell_type": "code",
   "execution_count": 0,
   "metadata": {
    "application/vnd.databricks.v1+cell": {
     "cellMetadata": {
      "byteLimit": 2048000,
      "rowLimit": 10000
     },
     "inputWidgets": {},
     "nuid": "39ac8501-d16f-485e-9c9f-85cb40ca3362",
     "showTitle": false,
     "title": ""
    }
   },
   "outputs": [],
   "source": [
    "from pyspark.sql.functions import sum, count, when, col"
   ]
  },
  {
   "cell_type": "code",
   "execution_count": 0,
   "metadata": {
    "application/vnd.databricks.v1+cell": {
     "cellMetadata": {
      "byteLimit": 2048000,
      "rowLimit": 10000
     },
     "inputWidgets": {},
     "nuid": "a1320ea7-5eef-404f-b9bf-a1d55dd2766a",
     "showTitle": false,
     "title": ""
    }
   },
   "outputs": [
    {
     "output_type": "display_data",
     "data": {
      "text/html": [
       "<style scoped>\n",
       "  .table-result-container {\n",
       "    max-height: 300px;\n",
       "    overflow: auto;\n",
       "  }\n",
       "  table, th, td {\n",
       "    border: 1px solid black;\n",
       "    border-collapse: collapse;\n",
       "  }\n",
       "  th, td {\n",
       "    padding: 5px;\n",
       "  }\n",
       "  th {\n",
       "    text-align: left;\n",
       "  }\n",
       "</style><div class='table-result-container'><table class='table-result'><thead style='background-color: white'><tr><th>race_year</th><th>team</th><th>total_points</th><th>wins</th></tr></thead><tbody></tbody></table></div>"
      ]
     },
     "metadata": {
      "application/vnd.databricks.v1+output": {
       "addedWidgets": {},
       "aggData": [],
       "aggError": "",
       "aggOverflow": false,
       "aggSchema": [],
       "aggSeriesLimitReached": false,
       "aggType": "",
       "arguments": {},
       "columnCustomDisplayInfos": {},
       "data": [],
       "datasetInfos": [],
       "dbfsResultPath": null,
       "isJsonSchema": true,
       "metadata": {},
       "overflow": false,
       "plotOptions": {
        "customPlotOptions": {},
        "displayType": "table",
        "pivotAggregation": null,
        "pivotColumns": null,
        "xColumns": null,
        "yColumns": null
       },
       "removedWidgets": [],
       "schema": [
        {
         "metadata": "{}",
         "name": "race_year",
         "type": "\"integer\""
        },
        {
         "metadata": "{}",
         "name": "team",
         "type": "\"string\""
        },
        {
         "metadata": "{}",
         "name": "total_points",
         "type": "\"double\""
        },
        {
         "metadata": "{}",
         "name": "wins",
         "type": "\"long\""
        }
       ],
       "type": "table"
      }
     },
     "output_type": "display_data"
    }
   ],
   "source": [
    "constructor_standings_df = race_results_df \\\n",
    ".groupBy(\"race_year\", \"team\") \\\n",
    ".agg(sum(\"points\").alias(\"total_points\"), count(when(col(\"position\") == 1, True)).alias(\"wins\"))\n",
    "display(constructor_standings_df.filter(\"race_year = 2020\"))"
   ]
  },
  {
   "cell_type": "code",
   "execution_count": 0,
   "metadata": {
    "application/vnd.databricks.v1+cell": {
     "cellMetadata": {
      "byteLimit": 2048000,
      "rowLimit": 10000
     },
     "inputWidgets": {},
     "nuid": "c6b3dfc6-3347-4324-87c9-76cab2984bd8",
     "showTitle": false,
     "title": ""
    }
   },
   "outputs": [],
   "source": [
    "from pyspark.sql.window import Window\n",
    "from pyspark.sql.functions import desc, rank"
   ]
  },
  {
   "cell_type": "code",
   "execution_count": 0,
   "metadata": {
    "application/vnd.databricks.v1+cell": {
     "cellMetadata": {
      "byteLimit": 2048000,
      "rowLimit": 10000
     },
     "inputWidgets": {},
     "nuid": "5d6e1164-a9b1-4f9e-9a2a-bdacca3647e8",
     "showTitle": false,
     "title": ""
    }
   },
   "outputs": [],
   "source": [
    "constructor_rank_spec = Window.partitionBy(\"race_year\").orderBy(desc(\"total_points\"), desc(\"wins\"))\n",
    "final_df = constructor_standings_df.withColumn(\"rank\", rank().over(constructor_rank_spec))"
   ]
  },
  {
   "cell_type": "code",
   "execution_count": 0,
   "metadata": {
    "application/vnd.databricks.v1+cell": {
     "cellMetadata": {
      "byteLimit": 2048000,
      "rowLimit": 10000
     },
     "inputWidgets": {},
     "nuid": "d2afcb36-b433-48b7-ae88-b1746f2f97e7",
     "showTitle": false,
     "title": ""
    }
   },
   "outputs": [],
   "source": [
    "# final_df.write.mode(\"overwrite\").parquet(f\"{presentation_folder_path}/constructor_standings\")\n",
    "# final_df.write.mode(\"overwrite\").format(\"parquet\").saveAsTable(\"f1_presentation.constructor_standings\")\n",
    "# overwrite_partition(final_df, 'f1_presentation', 'constructor_standings', 'race_year')\n",
    "\n",
    "merge_condition = \"tgt.team = src.team AND tgt.race_year = src.race_year\"\n",
    "merge_delta_data(final_df, \"f1_presentation\", 'constructor_standings', presentation_folder_path, merge_condition, 'race_year')"
   ]
  },
  {
   "cell_type": "code",
   "execution_count": 0,
   "metadata": {
    "application/vnd.databricks.v1+cell": {
     "cellMetadata": {
      "byteLimit": 2048000,
      "implicitDf": true,
      "rowLimit": 10000
     },
     "inputWidgets": {},
     "nuid": "bbeb6026-d01a-465d-886f-3b5cf0d48132",
     "showTitle": false,
     "title": ""
    }
   },
   "outputs": [
    {
     "output_type": "display_data",
     "data": {
      "text/html": [
       "<style scoped>\n",
       "  .table-result-container {\n",
       "    max-height: 300px;\n",
       "    overflow: auto;\n",
       "  }\n",
       "  table, th, td {\n",
       "    border: 1px solid black;\n",
       "    border-collapse: collapse;\n",
       "  }\n",
       "  th, td {\n",
       "    padding: 5px;\n",
       "  }\n",
       "  th {\n",
       "    text-align: left;\n",
       "  }\n",
       "</style><div class='table-result-container'><table class='table-result'><thead style='background-color: white'><tr><th>race_year</th><th>driver_name</th><th>driver_nationality</th><th>total_points</th><th>wins</th><th>rank</th></tr></thead><tbody><tr><td>2021</td><td>Lewis Hamilton</td><td>British</td><td>44.0</td><td>1</td><td>1</td></tr><tr><td>2021</td><td>Max Verstappen</td><td>Dutch</td><td>43.0</td><td>1</td><td>2</td></tr><tr><td>2021</td><td>Lando Norris</td><td>British</td><td>27.0</td><td>0</td><td>3</td></tr><tr><td>2021</td><td>Charles Leclerc</td><td>Monegasque</td><td>20.0</td><td>0</td><td>4</td></tr><tr><td>2021</td><td>Valtteri Bottas</td><td>Finnish</td><td>16.0</td><td>0</td><td>5</td></tr><tr><td>2021</td><td>Daniel Ricciardo</td><td>Australian</td><td>14.0</td><td>0</td><td>6</td></tr><tr><td>2021</td><td>Carlos Sainz</td><td>Spanish</td><td>14.0</td><td>0</td><td>6</td></tr><tr><td>2021</td><td>Sergio Pérez</td><td>Mexican</td><td>10.0</td><td>0</td><td>8</td></tr><tr><td>2021</td><td>Pierre Gasly</td><td>French</td><td>6.0</td><td>0</td><td>9</td></tr><tr><td>2021</td><td>Lance Stroll</td><td>Canadian</td><td>5.0</td><td>0</td><td>10</td></tr><tr><td>2021</td><td>Esteban Ocon</td><td>French</td><td>2.0</td><td>0</td><td>11</td></tr><tr><td>2021</td><td>Yuki Tsunoda</td><td>Japanese</td><td>2.0</td><td>0</td><td>11</td></tr><tr><td>2021</td><td>Fernando Alonso</td><td>Spanish</td><td>1.0</td><td>0</td><td>13</td></tr><tr><td>2021</td><td>George Russell</td><td>British</td><td>0.0</td><td>0</td><td>14</td></tr><tr><td>2021</td><td>Antonio Giovinazzi</td><td>Italian</td><td>0.0</td><td>0</td><td>14</td></tr><tr><td>2021</td><td>Sebastian Vettel</td><td>German</td><td>0.0</td><td>0</td><td>14</td></tr><tr><td>2021</td><td>Nicholas Latifi</td><td>Canadian</td><td>0.0</td><td>0</td><td>14</td></tr><tr><td>2021</td><td>Nikita Mazepin</td><td>Russian</td><td>0.0</td><td>0</td><td>14</td></tr><tr><td>2021</td><td>Mick Schumacher</td><td>German</td><td>0.0</td><td>0</td><td>14</td></tr><tr><td>2021</td><td>Kimi Räikkönen</td><td>Finnish</td><td>0.0</td><td>0</td><td>14</td></tr></tbody></table></div>"
      ]
     },
     "metadata": {
      "application/vnd.databricks.v1+output": {
       "addedWidgets": {},
       "aggData": [],
       "aggError": "",
       "aggOverflow": false,
       "aggSchema": [],
       "aggSeriesLimitReached": false,
       "aggType": "",
       "arguments": {},
       "columnCustomDisplayInfos": {},
       "data": [
        [
         2021,
         "Lewis Hamilton",
         "British",
         44.0,
         1,
         1
        ],
        [
         2021,
         "Max Verstappen",
         "Dutch",
         43.0,
         1,
         2
        ],
        [
         2021,
         "Lando Norris",
         "British",
         27.0,
         0,
         3
        ],
        [
         2021,
         "Charles Leclerc",
         "Monegasque",
         20.0,
         0,
         4
        ],
        [
         2021,
         "Valtteri Bottas",
         "Finnish",
         16.0,
         0,
         5
        ],
        [
         2021,
         "Daniel Ricciardo",
         "Australian",
         14.0,
         0,
         6
        ],
        [
         2021,
         "Carlos Sainz",
         "Spanish",
         14.0,
         0,
         6
        ],
        [
         2021,
         "Sergio Pérez",
         "Mexican",
         10.0,
         0,
         8
        ],
        [
         2021,
         "Pierre Gasly",
         "French",
         6.0,
         0,
         9
        ],
        [
         2021,
         "Lance Stroll",
         "Canadian",
         5.0,
         0,
         10
        ],
        [
         2021,
         "Esteban Ocon",
         "French",
         2.0,
         0,
         11
        ],
        [
         2021,
         "Yuki Tsunoda",
         "Japanese",
         2.0,
         0,
         11
        ],
        [
         2021,
         "Fernando Alonso",
         "Spanish",
         1.0,
         0,
         13
        ],
        [
         2021,
         "George Russell",
         "British",
         0.0,
         0,
         14
        ],
        [
         2021,
         "Antonio Giovinazzi",
         "Italian",
         0.0,
         0,
         14
        ],
        [
         2021,
         "Sebastian Vettel",
         "German",
         0.0,
         0,
         14
        ],
        [
         2021,
         "Nicholas Latifi",
         "Canadian",
         0.0,
         0,
         14
        ],
        [
         2021,
         "Nikita Mazepin",
         "Russian",
         0.0,
         0,
         14
        ],
        [
         2021,
         "Mick Schumacher",
         "German",
         0.0,
         0,
         14
        ],
        [
         2021,
         "Kimi Räikkönen",
         "Finnish",
         0.0,
         0,
         14
        ]
       ],
       "datasetInfos": [],
       "dbfsResultPath": null,
       "isJsonSchema": true,
       "metadata": {},
       "overflow": false,
       "plotOptions": {
        "customPlotOptions": {},
        "displayType": "table",
        "pivotAggregation": null,
        "pivotColumns": null,
        "xColumns": null,
        "yColumns": null
       },
       "removedWidgets": [],
       "schema": [
        {
         "metadata": "{}",
         "name": "race_year",
         "type": "\"integer\""
        },
        {
         "metadata": "{}",
         "name": "driver_name",
         "type": "\"string\""
        },
        {
         "metadata": "{}",
         "name": "driver_nationality",
         "type": "\"string\""
        },
        {
         "metadata": "{}",
         "name": "total_points",
         "type": "\"double\""
        },
        {
         "metadata": "{}",
         "name": "wins",
         "type": "\"long\""
        },
        {
         "metadata": "{}",
         "name": "rank",
         "type": "\"integer\""
        }
       ],
       "type": "table"
      }
     },
     "output_type": "display_data"
    }
   ],
   "source": [
    "%sql\n",
    "SELECT *\n",
    "FROM f1_presentation.driver_standings WHERE race_year = 2021"
   ]
  },
  {
   "cell_type": "code",
   "execution_count": 0,
   "metadata": {
    "application/vnd.databricks.v1+cell": {
     "cellMetadata": {
      "byteLimit": 2048000,
      "rowLimit": 10000
     },
     "inputWidgets": {},
     "nuid": "5331490d-a50e-48db-8843-ef6e160e01aa",
     "showTitle": false,
     "title": ""
    }
   },
   "outputs": [],
   "source": []
  }
 ],
 "metadata": {
  "application/vnd.databricks.v1+notebook": {
   "dashboards": [],
   "language": "python",
   "notebookMetadata": {
    "mostRecentlyExecutedCommandWithImplicitDF": {
     "commandId": 1732633075061269,
     "dataframes": [
      "_sqldf"
     ]
    },
    "pythonIndentUnit": 4
   },
   "notebookName": "3.constructor_standings",
   "widgets": {
    "p_file_date": {
     "currentValue": "2021-03-28",
     "nuid": "cc957ccd-87f8-4090-852c-962ee18b958b",
     "widgetInfo": {
      "widgetType": "text",
      "defaultValue": "2021-03-21",
      "label": null,
      "name": "p_file_date",
      "options": {
       "widgetType": "text",
       "autoCreated": null,
       "validationRegex": null
      }
     }
    }
   }
  }
 },
 "nbformat": 4,
 "nbformat_minor": 0
}
