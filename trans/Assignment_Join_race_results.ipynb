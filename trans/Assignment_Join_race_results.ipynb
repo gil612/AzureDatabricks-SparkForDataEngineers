{
 "cells": [
  {
   "cell_type": "markdown",
   "metadata": {
    "application/vnd.databricks.v1+cell": {
     "cellMetadata": {
      "byteLimit": 2048000,
      "rowLimit": 10000
     },
     "inputWidgets": {},
     "nuid": "6649483f-084c-47cf-9c10-6629666e649d",
     "showTitle": false,
     "title": ""
    }
   },
   "source": [
    "##### 1. Read dataframes : Constructors, Circuits, Races, Results, Drivers\n",
    "##### 2. race_circuits_df: Join on (race_df, circuit_df) circuit_id: race_circuits_df\n",
    "##### 3. race_results_df: Joins on (race_circuits_df, results_df): Race_id (race_circuits), driver_id (drivers_df), constructor_id (contructors_df) "
   ]
  },
  {
   "cell_type": "markdown",
   "metadata": {
    "application/vnd.databricks.v1+cell": {
     "cellMetadata": {
      "byteLimit": 2048000,
      "rowLimit": 10000
     },
     "inputWidgets": {},
     "nuid": "dbddb391-adef-495d-8e91-eb5b55e0969c",
     "showTitle": false,
     "title": ""
    }
   },
   "source": [
    "## Incremental load changes\n",
    "##### 1. Add\n",
    "%run \"../includes/common_functions\"\n",
    "##### 2. Add\n",
    "dbutils.widgets.text(\"p_file_date\", \"2021-03-21\")\\\n",
    "v_file_date = dbutils.widgets.get(\"p_file_date\")\n",
    "\n",
    "\n",
    "##### 3. results_df \n",
    "###### &nbsp;a. Add a filter of a file date\n",
    ".filter(f\"file_date = '{v_file_date}'\")\n",
    "###### &nbsp;b. change column name 'race_id' to 'result_race_id'\n",
    ".withColumnRenamed(\"race_id\", \"result_race_id\")\n",
    "\n",
    "##### 4. race_results_df\n",
    "###### change results_df.race_id to results_df.result_race_id\n",
    "\n",
    "##### 5. final_df\n",
    "###### add 'race_id' column to the selected columns\n",
    "\n",
    "##### 6. Overwrite:\n",
    "overwrite_partition(final_df, 'f1_presentation', 'race_results', 'race_id')\n",
    "\n",
    "##### 7. Run p_file_date 3 times (2021-03-21, 2021-03-28, 20021-04-18)\n"
   ]
  },
  {
   "cell_type": "markdown",
   "metadata": {
    "application/vnd.databricks.v1+cell": {
     "cellMetadata": {
      "byteLimit": 2048000,
      "rowLimit": 10000
     },
     "inputWidgets": {},
     "nuid": "c061a9c5-24f3-48a6-b4d8-7aa4d3f3dcc9",
     "showTitle": false,
     "title": ""
    }
   },
   "source": [
    "\n",
    "## Amendments for Incremental load of driver standings\n",
    "##### 1. DROP TABLE f1_presentation.race_results;\n",
    "##### 2. results_df: Rename \"file_date\" to \"result_file_date\"\n",
    ".withColumnRenamed(\"file_date\", \"result_file_date\")\n",
    "##### 3. final_df\n",
    "###### &nbsp;a. Add 'result_file_date' to the selected columns<ul>\n",
    "###### &nbsp;b. change column name 'result_file_date' to 'file_date'\n",
    ".withColumnRenamed(\"result_file_date\", \"file_date\")\n",
    "##### 4. Run p_file_date 3 times (2021-03-21, 2021-03-28, 20021-04-18)\n",
    "\n",
    "\n"
   ]
  },
  {
   "cell_type": "code",
   "execution_count": 0,
   "metadata": {
    "application/vnd.databricks.v1+cell": {
     "cellMetadata": {
      "byteLimit": 2048000,
      "rowLimit": 10000
     },
     "inputWidgets": {},
     "nuid": "df0c195b-efb0-45e1-b16a-0122b7910bca",
     "showTitle": false,
     "title": ""
    }
   },
   "outputs": [],
   "source": [
    "%run \"../includes/configuration\""
   ]
  },
  {
   "cell_type": "code",
   "execution_count": 0,
   "metadata": {
    "application/vnd.databricks.v1+cell": {
     "cellMetadata": {
      "byteLimit": 2048000,
      "rowLimit": 10000
     },
     "inputWidgets": {},
     "nuid": "cd57c386-a21f-4fc3-9559-0d5a171b9ac8",
     "showTitle": false,
     "title": ""
    }
   },
   "outputs": [],
   "source": [
    "%run \"../includes/common_functions\""
   ]
  },
  {
   "cell_type": "code",
   "execution_count": 0,
   "metadata": {
    "application/vnd.databricks.v1+cell": {
     "cellMetadata": {
      "byteLimit": 2048000,
      "rowLimit": 10000
     },
     "inputWidgets": {},
     "nuid": "1193bf18-623f-4eb1-bd15-1f69f0677575",
     "showTitle": false,
     "title": ""
    }
   },
   "outputs": [],
   "source": [
    "dbutils.widgets.text(\"p_file_date\", \"2021-03-21\")\n",
    "v_file_date = dbutils.widgets.get(\"p_file_date\")"
   ]
  },
  {
   "cell_type": "code",
   "execution_count": 0,
   "metadata": {
    "application/vnd.databricks.v1+cell": {
     "cellMetadata": {
      "byteLimit": 2048000,
      "rowLimit": 10000
     },
     "inputWidgets": {},
     "nuid": "e8ea1a16-f066-44f0-a4d1-58381aa8080a",
     "showTitle": false,
     "title": ""
    }
   },
   "outputs": [],
   "source": [
    "v_file_date"
   ]
  },
  {
   "cell_type": "markdown",
   "metadata": {
    "application/vnd.databricks.v1+cell": {
     "cellMetadata": {
      "byteLimit": 2048000,
      "rowLimit": 10000
     },
     "inputWidgets": {},
     "nuid": "ca7293a3-032a-49e5-a831-ebbb2ca55b93",
     "showTitle": false,
     "title": ""
    }
   },
   "source": [
    "#### Constructors"
   ]
  },
  {
   "cell_type": "code",
   "execution_count": 0,
   "metadata": {
    "application/vnd.databricks.v1+cell": {
     "cellMetadata": {
      "byteLimit": 2048000,
      "rowLimit": 10000
     },
     "inputWidgets": {},
     "nuid": "16a26423-42eb-4b56-b7da-5dbe14931417",
     "showTitle": false,
     "title": ""
    }
   },
   "outputs": [],
   "source": [
    "constructors_df = spark.read.parquet(f\"{processed_folder_path}/constructors\") \\\n",
    ".withColumnRenamed(\"name\", \"team\")\n",
    "display(constructors_df)"
   ]
  },
  {
   "cell_type": "markdown",
   "metadata": {
    "application/vnd.databricks.v1+cell": {
     "cellMetadata": {
      "byteLimit": 2048000,
      "rowLimit": 10000
     },
     "inputWidgets": {},
     "nuid": "3f95508d-9ab4-482c-8160-bc62b520a9c4",
     "showTitle": false,
     "title": ""
    }
   },
   "source": [
    "#### Circuits"
   ]
  },
  {
   "cell_type": "code",
   "execution_count": 0,
   "metadata": {
    "application/vnd.databricks.v1+cell": {
     "cellMetadata": {
      "byteLimit": 2048000,
      "rowLimit": 10000
     },
     "inputWidgets": {},
     "nuid": "f2a5a871-f24e-4ac3-ae88-71df69be7b17",
     "showTitle": false,
     "title": ""
    }
   },
   "outputs": [],
   "source": [
    "circuits_df = spark.read.parquet(f\"{processed_folder_path}/circuits\") \\\n",
    ".withColumnRenamed(\"location\", \"circuit_location\") \n",
    "display(circuits_df)"
   ]
  },
  {
   "cell_type": "markdown",
   "metadata": {
    "application/vnd.databricks.v1+cell": {
     "cellMetadata": {
      "byteLimit": 2048000,
      "rowLimit": 10000
     },
     "inputWidgets": {},
     "nuid": "ebbc7828-3e78-4cd9-b862-f5bf7ed43046",
     "showTitle": false,
     "title": ""
    }
   },
   "source": [
    "#### Races"
   ]
  },
  {
   "cell_type": "code",
   "execution_count": 0,
   "metadata": {
    "application/vnd.databricks.v1+cell": {
     "cellMetadata": {
      "byteLimit": 2048000,
      "rowLimit": 10000
     },
     "inputWidgets": {},
     "nuid": "31b0b98f-794b-4ed9-87f6-2e44e8619ac9",
     "showTitle": false,
     "title": ""
    }
   },
   "outputs": [],
   "source": [
    "races_df = spark.read.parquet(f\"{processed_folder_path}/races\")\\\n",
    ".withColumnRenamed(\"name\",\"race_name\")\\\n",
    ".withColumnRenamed(\"race_timestamp\", \"race_date\")\n",
    "display(races_df)"
   ]
  },
  {
   "cell_type": "markdown",
   "metadata": {
    "application/vnd.databricks.v1+cell": {
     "cellMetadata": {
      "byteLimit": 2048000,
      "rowLimit": 10000
     },
     "inputWidgets": {},
     "nuid": "5850b722-02af-4098-a068-b67b05f605c1",
     "showTitle": false,
     "title": ""
    }
   },
   "source": [
    "#### Results"
   ]
  },
  {
   "cell_type": "code",
   "execution_count": 0,
   "metadata": {
    "application/vnd.databricks.v1+cell": {
     "cellMetadata": {
      "byteLimit": 2048000,
      "rowLimit": 10000
     },
     "inputWidgets": {},
     "nuid": "5d040849-bba5-4c52-9424-35d7a670fbb9",
     "showTitle": false,
     "title": ""
    }
   },
   "outputs": [],
   "source": [
    "results_df = spark.read.parquet(f\"{processed_folder_path}/results\") \\\n",
    ".filter(f\"file_date = '{v_file_date}'\") \\\n",
    ".withColumnRenamed(\"time\", \"race_time\") \\\n",
    ".withColumnRenamed(\"race_id\", \"result_race_id\") \\\n",
    ".withColumnRenamed(\"file_date\", \"result_file_date\")\n",
    "display(results_df)"
   ]
  },
  {
   "cell_type": "markdown",
   "metadata": {
    "application/vnd.databricks.v1+cell": {
     "cellMetadata": {
      "byteLimit": 2048000,
      "rowLimit": 10000
     },
     "inputWidgets": {},
     "nuid": "56dd0f58-c368-4961-889c-07f138b4d6e4",
     "showTitle": false,
     "title": ""
    }
   },
   "source": [
    "#### Drivers"
   ]
  },
  {
   "cell_type": "code",
   "execution_count": 0,
   "metadata": {
    "application/vnd.databricks.v1+cell": {
     "cellMetadata": {
      "byteLimit": 2048000,
      "rowLimit": 10000
     },
     "inputWidgets": {},
     "nuid": "7b90f050-0462-4346-93c1-c5b17358d274",
     "showTitle": false,
     "title": ""
    }
   },
   "outputs": [],
   "source": [
    "drivers_df = spark.read.parquet(f\"{processed_folder_path}/drivers\") \\\n",
    ".withColumnRenamed(\"number\", \"driver_number\") \\\n",
    ".withColumnRenamed(\"name\", \"driver_name\") \\\n",
    ".withColumnRenamed(\"nationality\", \"driver_nationality\") \n",
    "display(drivers_df)"
   ]
  },
  {
   "cell_type": "code",
   "execution_count": 0,
   "metadata": {
    "application/vnd.databricks.v1+cell": {
     "cellMetadata": {
      "byteLimit": 2048000,
      "rowLimit": 10000
     },
     "inputWidgets": {},
     "nuid": "c20c5df1-ec73-45be-80a3-5d28a9b1de75",
     "showTitle": false,
     "title": ""
    }
   },
   "outputs": [],
   "source": [
    "race_circuits_df = races_df.join(circuits_df, races_df.circuit_id == circuits_df.circuit_id, \"inner\")\\\n",
    ".select(races_df.race_id, races_df.race_year, races_df.race_name, races_df.race_date, circuits_df.circuit_location)    \n",
    "display(race_circuits_df)"
   ]
  },
  {
   "cell_type": "code",
   "execution_count": 0,
   "metadata": {
    "application/vnd.databricks.v1+cell": {
     "cellMetadata": {
      "byteLimit": 2048000,
      "rowLimit": 10000
     },
     "inputWidgets": {},
     "nuid": "726ddedf-44c1-457f-bbc9-5b5b45d99cee",
     "showTitle": false,
     "title": ""
    }
   },
   "outputs": [],
   "source": [
    "race_results_df = results_df.join(race_circuits_df, results_df.result_race_id == race_circuits_df.race_id) \\\n",
    "                            .join(drivers_df, results_df.driver_id == drivers_df.driver_id) \\\n",
    "                            .join(constructors_df, results_df.constructor_id == constructors_df.constructor_id)\n",
    "display(race_results_df)                            "
   ]
  },
  {
   "cell_type": "code",
   "execution_count": 0,
   "metadata": {
    "application/vnd.databricks.v1+cell": {
     "cellMetadata": {
      "byteLimit": 2048000,
      "rowLimit": 10000
     },
     "inputWidgets": {},
     "nuid": "57f2b577-0fa3-4eea-9ab9-9873e1795937",
     "showTitle": false,
     "title": ""
    }
   },
   "outputs": [],
   "source": [
    "from pyspark.sql.functions import current_timestamp"
   ]
  },
  {
   "cell_type": "code",
   "execution_count": 0,
   "metadata": {
    "application/vnd.databricks.v1+cell": {
     "cellMetadata": {
      "byteLimit": 2048000,
      "rowLimit": 10000
     },
     "inputWidgets": {},
     "nuid": "d5692be8-a433-4d52-8a50-df82c0788233",
     "showTitle": false,
     "title": ""
    }
   },
   "outputs": [],
   "source": [
    "final_df = race_results_df.select(\"race_id\", \"race_year\", \"race_name\", \"race_date\", \"circuit_location\", \"driver_name\", \"driver_number\", \"driver_nationality\", \"team\", \"grid\", \"fastest_lap\", \"race_time\", \"points\", \"position\", \"result_file_date\") \\\n",
    ".withColumn(\"created_date\", current_timestamp()) \\\n",
    ".withColumnRenamed(\"result_file_date\", \"file_date\")\n",
    "display(final_df)"
   ]
  },
  {
   "cell_type": "code",
   "execution_count": 0,
   "metadata": {
    "application/vnd.databricks.v1+cell": {
     "cellMetadata": {
      "byteLimit": 2048000,
      "rowLimit": 10000
     },
     "inputWidgets": {},
     "nuid": "2fbd007b-c3d8-4475-b30a-50f27069fa9b",
     "showTitle": false,
     "title": ""
    }
   },
   "outputs": [],
   "source": [
    "overwrite_partition(final_df, 'f1_presentation', 'race_results', 'race_year')"
   ]
  },
  {
   "cell_type": "code",
   "execution_count": 0,
   "metadata": {
    "application/vnd.databricks.v1+cell": {
     "cellMetadata": {
      "byteLimit": 2048000,
      "implicitDf": true,
      "rowLimit": 10000
     },
     "inputWidgets": {},
     "nuid": "466e7c91-11ea-4c5b-89c6-2024b22d20b9",
     "showTitle": false,
     "title": ""
    }
   },
   "outputs": [],
   "source": [
    "# %sql\n",
    "# SELECT  * FROM f1_presentation.race_results;"
   ]
  },
  {
   "cell_type": "code",
   "execution_count": 0,
   "metadata": {
    "application/vnd.databricks.v1+cell": {
     "cellMetadata": {
      "byteLimit": 2048000,
      "implicitDf": true,
      "rowLimit": 10000
     },
     "inputWidgets": {},
     "nuid": "3f609577-c9e8-4e0e-80d8-3322f7ff2f9b",
     "showTitle": false,
     "title": ""
    }
   },
   "outputs": [],
   "source": [
    "# %sql\n",
    "# DROP TABLE f1_presentation.race_results;"
   ]
  }
 ],
 "metadata": {
  "application/vnd.databricks.v1+notebook": {
   "dashboards": [],
   "language": "python",
   "notebookMetadata": {
    "mostRecentlyExecutedCommandWithImplicitDF": {
     "commandId": -1,
     "dataframes": [
      "_sqldf"
     ]
    },
    "pythonIndentUnit": 4
   },
   "notebookName": "Assignment_Join_race_results",
   "widgets": {
    "p_file_date": {
     "currentValue": "2021-04-18",
     "nuid": "7aa048d3-a5d1-4187-8da3-2d20eafa851e",
     "widgetInfo": {
      "widgetType": "text",
      "defaultValue": "2021-03-21",
      "label": null,
      "name": "p_file_date",
      "options": {
       "widgetType": "text",
       "autoCreated": null,
       "validationRegex": null
      }
     }
    }
   }
  }
 },
 "nbformat": 4,
 "nbformat_minor": 0
}
