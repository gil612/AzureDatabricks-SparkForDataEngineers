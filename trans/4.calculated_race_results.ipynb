{
 "cells": [
  {
   "cell_type": "code",
   "execution_count": 0,
   "metadata": {
    "application/vnd.databricks.v1+cell": {
     "cellMetadata": {
      "byteLimit": 2048000,
      "rowLimit": 10000
     },
     "inputWidgets": {},
     "nuid": "ec639e1a-b8fe-4107-8340-b7224cb71638",
     "showTitle": false,
     "title": ""
    }
   },
   "outputs": [],
   "source": [
    "USE f1_processed;"
   ]
  },
  {
   "cell_type": "code",
   "execution_count": 0,
   "metadata": {
    "application/vnd.databricks.v1+cell": {
     "cellMetadata": {
      "byteLimit": 2048000,
      "rowLimit": 10000
     },
     "inputWidgets": {},
     "nuid": "2b979284-56d7-4afd-a7d0-95eab413498e",
     "showTitle": false,
     "title": ""
    }
   },
   "outputs": [],
   "source": [
    "CREATE TABLE f1_presentation.calculated_race_results\n",
    "USING parquet\n",
    "AS\n",
    "SELECT races.race_year,\n",
    "      constructors.name AS team_name,\n",
    "      drivers.name AS driver_name,\n",
    "      results.position,\n",
    "      results.points,\n",
    "      11 -results.position AS calculated_points\n",
    "  FROM results\n",
    "  JOIN drivers ON (results.driver_id = drivers.driver_id)\n",
    "  JOIN constructors ON (results.constructor_id = constructors.constructor_id)\n",
    "  JOIN races ON (results.race_id = races.race_id)\n",
    "  WHERE results.position <= 18"
   ]
  },
  {
   "cell_type": "code",
   "execution_count": 0,
   "metadata": {
    "application/vnd.databricks.v1+cell": {
     "cellMetadata": {
      "byteLimit": 2048000,
      "rowLimit": 10000
     },
     "inputWidgets": {},
     "nuid": "c37416a6-0af5-4403-9afb-477728713059",
     "showTitle": false,
     "title": ""
    }
   },
   "outputs": [],
   "source": [
    "SELECT * FROM f1_presentation.calculated_race_results"
   ]
  },
  {
   "cell_type": "code",
   "execution_count": 0,
   "metadata": {
    "application/vnd.databricks.v1+cell": {
     "cellMetadata": {},
     "inputWidgets": {},
     "nuid": "4e4ca0ca-da7b-4eef-a527-183026626149",
     "showTitle": false,
     "title": ""
    }
   },
   "outputs": [],
   "source": []
  }
 ],
 "metadata": {
  "application/vnd.databricks.v1+notebook": {
   "dashboards": [],
   "language": "sql",
   "notebookMetadata": {
    "pythonIndentUnit": 4
   },
   "notebookName": "4.calculated_race_results",
   "widgets": {}
  }
 },
 "nbformat": 4,
 "nbformat_minor": 0
}
